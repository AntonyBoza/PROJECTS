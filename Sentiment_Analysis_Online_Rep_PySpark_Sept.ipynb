{
  "cells": [
    {
      "cell_type": "markdown",
      "metadata": {
        "id": "sf_q_38-MJ52"
      },
      "source": [
        "# ANÁLISIS DE SENTIMIENTOS PARA EVALUAR REPUTACIÓN ONLINE\n",
        "\n",
        "(/content/sentimientos.jpg)\n",
        "\n",
        "El análisis de sentimientos es el proceso de determinar 'computacionalmente' si un escrito es positivo, negativo o neutral. También se conoce como minería de opiniones, derivar la opinión o actitud de un hablante.\n",
        "\n",
        "¿Por qué el análisis de sentimientos?\n",
        "\n",
        "**Negocios**: En el campo del marketing, las empresas lo utilizan para desarrollar sus estrategias, comprender los sentimientos de los clientes hacia los productos o la marca, cómo las personas responden a sus campañas o lanzamientos de productos y por qué los consumidores no compran algunos productos.\n",
        "\n",
        "**Política**: En el ámbito político, se utiliza para realizar un seguimiento de la visión política, para detectar consistencia e inconsistencia entre declaraciones y acciones a nivel de gobierno. ¡También se puede usar para predecir los resultados de las elecciones!\n",
        "\n",
        "**Acciones públicas**: El análisis de sentimientos también se utiliza para monitorear y analizar los fenómenos sociales, para detectar situaciones potencialmente peligrosas y determinar el estado de ánimo general de la blogósfera.\n",
        "![sentiment_analysis.jpeg](data:/content/sentimientos.jpg)\n"
      ]
    },
    {
      "cell_type": "code",
      "execution_count": 1,
      "metadata": {
        "colab": {
          "base_uri": "https://localhost:8080/"
        },
        "id": "t6XaDp1bMLCo",
        "outputId": "2fa54555-a486-4198-d1dc-825d33b7e921"
      },
      "outputs": [
        {
          "output_type": "stream",
          "name": "stderr",
          "text": [
            "[nltk_data] Downloading package stopwords to /root/nltk_data...\n",
            "[nltk_data]   Unzipping corpora/stopwords.zip.\n"
          ]
        }
      ],
      "source": [
        "# Importamos librerías requeridas\n",
        "import pandas as pd\n",
        "import numpy as np\n",
        "from scipy.sparse import csr_matrix\n",
        "from sklearn.neighbors import NearestNeighbors\n",
        "import matplotlib.pyplot as plt\n",
        "import seaborn as sns\n",
        "import sklearn\n",
        "%matplotlib inline\n",
        "import os\n",
        "import datetime\n",
        "import nltk\n",
        "import re\n",
        "import string\n",
        "from nltk.corpus import stopwords\n",
        "from nltk import word_tokenize\n",
        "nltk.download('stopwords')\n",
        "import warnings\n",
        "warnings.filterwarnings(\"ignore\")"
      ]
    },
    {
      "cell_type": "code",
      "execution_count": 2,
      "metadata": {
        "id": "R_Bj--6VMLTA"
      },
      "outputs": [],
      "source": [
        "# Correr para saturar RAM y aplicar para expandir a 25 GB\n",
        "#lista = []\n",
        "#while 1:\n",
        "  #lista.append('anything')"
      ]
    },
    {
      "cell_type": "code",
      "execution_count": 3,
      "metadata": {
        "colab": {
          "base_uri": "https://localhost:8080/"
        },
        "id": "hCVgYDCAMLZY",
        "outputId": "66e46429-5d3e-41aa-f9d1-c5cea51d1332"
      },
      "outputs": [
        {
          "output_type": "stream",
          "name": "stdout",
          "text": [
            "Mounted at /content/drive\n"
          ]
        }
      ],
      "source": [
        "# Cargamos el Google Drive para almacenar los archivos\n",
        "from google.colab import drive\n",
        "drive.mount('/content/drive')"
      ]
    },
    {
      "cell_type": "code",
      "execution_count": 4,
      "metadata": {
        "colab": {
          "base_uri": "https://localhost:8080/"
        },
        "id": "6Vk326e5MLfw",
        "outputId": "5dfbc9bb-2ce1-45e5-b284-b012d3545667"
      },
      "outputs": [
        {
          "output_type": "stream",
          "name": "stdout",
          "text": [
            "\u001b[33m\r0% [Working]\u001b[0m\r            \rGet:1 http://ppa.launchpad.net/c2d4u.team/c2d4u4.0+/ubuntu bionic InRelease [15.9 kB]\n",
            "\u001b[33m\r0% [Waiting for headers] [Waiting for headers] [Connected to cloud.r-project.or\u001b[0m\r                                                                               \rHit:2 http://archive.ubuntu.com/ubuntu bionic InRelease\n",
            "\u001b[33m\r0% [Waiting for headers] [Connected to cloud.r-project.org (65.9.86.28)] [Conne\u001b[0m\r                                                                               \rGet:3 http://archive.ubuntu.com/ubuntu bionic-updates InRelease [88.7 kB]\n",
            "\r                                                                               \rGet:4 http://security.ubuntu.com/ubuntu bionic-security InRelease [88.7 kB]\n",
            "\r                                                                               \rGet:5 https://cloud.r-project.org/bin/linux/ubuntu bionic-cran40/ InRelease [3,626 B]\n",
            "\r                                                                               \rHit:6 http://ppa.launchpad.net/cran/libgit2/ubuntu bionic InRelease\n",
            "\u001b[33m\r0% [3 InRelease 33.0 kB/88.7 kB 37%] [4 InRelease 54.7 kB/88.7 kB 62%] [Waiting\u001b[0m\u001b[33m\r0% [2 InRelease gpgv 242 kB] [3 InRelease 35.9 kB/88.7 kB 40%] [4 InRelease 57.\u001b[0m\u001b[33m\r0% [2 InRelease gpgv 242 kB] [3 InRelease 75.0 kB/88.7 kB 85%] [Waiting for hea\u001b[0m\u001b[33m\r0% [2 InRelease gpgv 242 kB] [Waiting for headers] [Waiting for headers] [Waiti\u001b[0m\r                                                                               \rGet:7 http://ppa.launchpad.net/deadsnakes/ppa/ubuntu bionic InRelease [15.9 kB]\n",
            "\u001b[33m\r0% [2 InRelease gpgv 242 kB] [Waiting for headers] [Waiting for headers] [7 InR\u001b[0m\r                                                                               \rGet:8 http://archive.ubuntu.com/ubuntu bionic-backports InRelease [74.6 kB]\n",
            "Hit:9 http://ppa.launchpad.net/graphics-drivers/ppa/ubuntu bionic InRelease\n",
            "Get:10 https://cloud.r-project.org/bin/linux/ubuntu bionic-cran40/ Packages [91.7 kB]\n",
            "Get:11 http://ppa.launchpad.net/c2d4u.team/c2d4u4.0+/ubuntu bionic/main Sources [2,105 kB]\n",
            "Get:12 http://ppa.launchpad.net/c2d4u.team/c2d4u4.0+/ubuntu bionic/main amd64 Packages [1,079 kB]\n",
            "Get:13 http://security.ubuntu.com/ubuntu bionic-security/restricted amd64 Packages [1,131 kB]\n",
            "Get:14 http://security.ubuntu.com/ubuntu bionic-security/universe amd64 Packages [1,540 kB]\n",
            "Get:15 http://security.ubuntu.com/ubuntu bionic-security/main amd64 Packages [2,965 kB]\n",
            "Get:16 http://archive.ubuntu.com/ubuntu bionic-updates/main amd64 Packages [3,396 kB]\n",
            "Ign:17 https://developer.download.nvidia.com/compute/machine-learning/repos/ubuntu1804/x86_64  InRelease\n",
            "Hit:18 https://developer.download.nvidia.com/compute/cuda/repos/ubuntu1804/x86_64  InRelease\n",
            "Hit:19 https://developer.download.nvidia.com/compute/machine-learning/repos/ubuntu1804/x86_64  Release\n",
            "Get:20 http://archive.ubuntu.com/ubuntu bionic-updates/restricted amd64 Packages [1,172 kB]\n",
            "Get:21 http://ppa.launchpad.net/deadsnakes/ppa/ubuntu bionic/main amd64 Packages [45.2 kB]\n",
            "Fetched 13.8 MB in 2s (9,166 kB/s)\n",
            "Reading package lists... Done\n",
            "Building dependency tree       \n",
            "Reading state information... Done\n",
            "47 packages can be upgraded. Run 'apt list --upgradable' to see them.\n"
          ]
        }
      ],
      "source": [
        "# Update linux oS\n",
        "!sudo apt update"
      ]
    },
    {
      "cell_type": "code",
      "execution_count": 5,
      "metadata": {
        "colab": {
          "base_uri": "https://localhost:8080/"
        },
        "id": "algBwWzLIrcz",
        "outputId": "ffc38a5c-ab81-422d-f060-ba8646ceb864"
      },
      "outputs": [
        {
          "output_type": "stream",
          "name": "stdout",
          "text": [
            "--2022-09-12 01:19:45--  http://setup.johnsnowlabs.com/colab.sh\n",
            "Resolving setup.johnsnowlabs.com (setup.johnsnowlabs.com)... 51.158.130.125\n",
            "Connecting to setup.johnsnowlabs.com (setup.johnsnowlabs.com)|51.158.130.125|:80... connected.\n",
            "HTTP request sent, awaiting response... 302 Found\n",
            "Location: https://setup.johnsnowlabs.com/colab.sh [following]\n",
            "--2022-09-12 01:19:45--  https://setup.johnsnowlabs.com/colab.sh\n",
            "Connecting to setup.johnsnowlabs.com (setup.johnsnowlabs.com)|51.158.130.125|:443... connected.\n",
            "HTTP request sent, awaiting response... 302 Moved Temporarily\n",
            "Location: https://raw.githubusercontent.com/JohnSnowLabs/spark-nlp/master/scripts/colab_setup.sh [following]\n",
            "--2022-09-12 01:19:45--  https://raw.githubusercontent.com/JohnSnowLabs/spark-nlp/master/scripts/colab_setup.sh\n",
            "Resolving raw.githubusercontent.com (raw.githubusercontent.com)... 185.199.111.133, 185.199.109.133, 185.199.108.133, ...\n",
            "Connecting to raw.githubusercontent.com (raw.githubusercontent.com)|185.199.111.133|:443... connected.\n",
            "HTTP request sent, awaiting response... 200 OK\n",
            "Length: 1191 (1.2K) [text/plain]\n",
            "Saving to: ‘STDOUT’\n",
            "\n",
            "\r-                     0%[                    ]       0  --.-KB/s               \r-                   100%[===================>]   1.16K  --.-KB/s    in 0s      \n",
            "\n",
            "2022-09-12 01:19:46 (66.9 MB/s) - written to stdout [1191/1191]\n",
            "\n",
            "Installing PySpark 3.2.1 and Spark NLP 4.1.0\n",
            "setup Colab for PySpark 3.2.1 and Spark NLP 4.1.0\n",
            "\u001b[K     |████████████████████████████████| 281.4 MB 22 kB/s \n",
            "\u001b[K     |████████████████████████████████| 616 kB 68.1 MB/s \n",
            "\u001b[K     |████████████████████████████████| 198 kB 57.4 MB/s \n",
            "\u001b[?25h  Building wheel for pyspark (setup.py) ... \u001b[?25l\u001b[?25hdone\n"
          ]
        }
      ],
      "source": [
        "!wget http://setup.johnsnowlabs.com/colab.sh -O - | bash"
      ]
    },
    {
      "cell_type": "markdown",
      "metadata": {
        "id": "_R81uojIPF1J"
      },
      "source": [
        "### Setting Up PySpark"
      ]
    },
    {
      "cell_type": "code",
      "execution_count": 6,
      "metadata": {
        "id": "kMMCpkzWPC1w"
      },
      "outputs": [],
      "source": [
        "# Downloading JVM\n",
        "!apt-get install openjdk-8-jdk-headless -qq > /dev/null"
      ]
    },
    {
      "cell_type": "code",
      "execution_count": 7,
      "metadata": {
        "id": "Gg0L9B4UPC5Z"
      },
      "outputs": [],
      "source": [
        "# install spark (change the version number if needed)\n",
        "!wget -q https://archive.apache.org/dist/spark/spark-3.2.1/spark-3.2.1-bin-hadoop3.2.tgz"
      ]
    },
    {
      "cell_type": "code",
      "execution_count": 8,
      "metadata": {
        "id": "Mr-LUzAtPC86"
      },
      "outputs": [],
      "source": [
        "# unzip the spark file to the current folder\n",
        "!tar xf spark-3.2.1-bin-hadoop3.2.tgz"
      ]
    },
    {
      "cell_type": "code",
      "execution_count": 9,
      "metadata": {
        "id": "hc3rKPY7PDCy"
      },
      "outputs": [],
      "source": [
        "# set your spark folder to your system path environment. \n",
        "os.environ[\"JAVA_HOME\"] = \"/usr/lib/jvm/java-8-openjdk-amd64\"\n",
        "os.environ[\"SPARK_HOME\"] = \"/content/spark-3.2.1-bin-hadoop3.2\""
      ]
    },
    {
      "cell_type": "code",
      "execution_count": 10,
      "metadata": {
        "id": "J8CCMh83PRLp"
      },
      "outputs": [],
      "source": [
        "# install findspark using pip\n",
        "!pip install -q findspark"
      ]
    },
    {
      "cell_type": "code",
      "execution_count": 11,
      "metadata": {
        "colab": {
          "base_uri": "https://localhost:8080/",
          "height": 36
        },
        "id": "J-rlETHAPQ4Q",
        "outputId": "33b81329-418a-476b-ba82-b0ea1e209c03"
      },
      "outputs": [
        {
          "output_type": "execute_result",
          "data": {
            "text/plain": [
              "'/content/spark-3.2.1-bin-hadoop3.2'"
            ],
            "application/vnd.google.colaboratory.intrinsic+json": {
              "type": "string"
            }
          },
          "metadata": {},
          "execution_count": 11
        }
      ],
      "source": [
        "import findspark\n",
        "findspark.init()\n",
        "findspark.find()"
      ]
    },
    {
      "cell_type": "code",
      "execution_count": null,
      "metadata": {
        "id": "rlnLCdaoPXbq"
      },
      "outputs": [],
      "source": [
        "#!pip install pyspark \n",
        "#!wget http://setup.johnsnowlabs.com/colab.sh -O - | bash"
      ]
    },
    {
      "cell_type": "code",
      "execution_count": 12,
      "metadata": {
        "colab": {
          "base_uri": "https://localhost:8080/"
        },
        "id": "iNZ82TVsPXTw",
        "outputId": "9adfe6a6-f401-4dc7-92be-e82983c11702"
      },
      "outputs": [
        {
          "output_type": "execute_result",
          "data": {
            "text/plain": [
              "<pyspark.conf.SparkConf at 0x7fd15d155890>"
            ]
          },
          "metadata": {},
          "execution_count": 12
        }
      ],
      "source": [
        "# entry point for spark's functionality \n",
        "import pyspark\n",
        "from pyspark.sql import SparkSession\n",
        "from pyspark.sql.types import StructType\n",
        "import pyspark\n",
        "from pyspark import SparkContext\n",
        "from pyspark import SparkConf\n",
        "from pyspark.ml.feature import StringIndexer\n",
        "from pyspark.ml import Pipeline\n",
        "from pyspark.sql.types import DoubleType\n",
        "from pyspark.sql.functions import col, concat_ws, lit, countDistinct, desc\n",
        "import pyspark.sql.functions as f\n",
        "\n",
        "conf = SparkConf()\n",
        "conf.set(\"spark.executor.memory\", \"24G\")\n",
        "conf.set(\"spark.executor.cores\", \"4\")\n",
        "conf.set(\"spark.driver.memory\", \"24G\") \n",
        "\n",
        "conf.set(\"spark.serializer\", \"org.apache.spark.serializer.KryoSerializer\")\n",
        "conf.set(\"spark.default.parallelism\", \"4\")"
      ]
    },
    {
      "cell_type": "code",
      "execution_count": 13,
      "metadata": {
        "id": "gyUpcoZnPXKX"
      },
      "outputs": [],
      "source": [
        "spark = SparkSession.builder.master('local[*]').config(\"spark.driver.memory\", \"24G\").appName('SistOnReput').getOrCreate()"
      ]
    },
    {
      "cell_type": "code",
      "execution_count": 14,
      "metadata": {
        "colab": {
          "base_uri": "https://localhost:8080/",
          "height": 219
        },
        "id": "WV48M9TePgk_",
        "outputId": "457171ac-475e-47c2-dbb7-521b112213d3"
      },
      "outputs": [
        {
          "output_type": "execute_result",
          "data": {
            "text/plain": [
              "<pyspark.sql.session.SparkSession at 0x7fd15a50a750>"
            ],
            "text/html": [
              "\n",
              "            <div>\n",
              "                <p><b>SparkSession - in-memory</b></p>\n",
              "                \n",
              "        <div>\n",
              "            <p><b>SparkContext</b></p>\n",
              "\n",
              "            <p><a href=\"http://60d66175c081:4040\">Spark UI</a></p>\n",
              "\n",
              "            <dl>\n",
              "              <dt>Version</dt>\n",
              "                <dd><code>v3.2.1</code></dd>\n",
              "              <dt>Master</dt>\n",
              "                <dd><code>local[*]</code></dd>\n",
              "              <dt>AppName</dt>\n",
              "                <dd><code>SistOnReput</code></dd>\n",
              "            </dl>\n",
              "        </div>\n",
              "        \n",
              "            </div>\n",
              "        "
            ]
          },
          "metadata": {},
          "execution_count": 14
        }
      ],
      "source": [
        "spark"
      ]
    },
    {
      "cell_type": "markdown",
      "metadata": {
        "id": "UIS058yFPsjh"
      },
      "source": [
        "### Load Dataset"
      ]
    },
    {
      "cell_type": "code",
      "execution_count": null,
      "metadata": {
        "id": "EgwTLTZk8XgC"
      },
      "outputs": [],
      "source": [
        "#tweets_sent = spark.read.csv('/content/tweets_sent_balanced', header=True, inferSchema=True)\n",
        "#tweets_sent = spark.read.csv('/content/drive/MyDrive/Colab Notebooks/SISTEMA REPUTACION ONLINE/tweets_sent_balanced', header=True, inferSchema=True )\n",
        "#tweets_sent = spark.read.csv('/content/df_tweets_prueba.csv', header=True, inferSchema=True)"
      ]
    },
    {
      "cell_type": "code",
      "source": [
        "#tweets_bnpl = pd.read_excel('/content/bnpl_excel.xlsx')"
      ],
      "metadata": {
        "id": "RTu7M6DLrZ-X"
      },
      "execution_count": 15,
      "outputs": []
    },
    {
      "cell_type": "code",
      "source": [
        "#tweets_bnpl.head()"
      ],
      "metadata": {
        "id": "h78fORsp6pup"
      },
      "execution_count": 16,
      "outputs": []
    },
    {
      "cell_type": "markdown",
      "source": [
        "# Bar chart showing the amount of tweets by Sentiment\n",
        "sns.countplot(x='SENTIMIENTO',data=tweets_bnpl)\n",
        "plt.title('Distribución de Noticias según sentimiento (Positivo - Negativo - Neutral)', loc='center', pad='20', fontsize='14')\n",
        "plt.xlabel('Tipo de Sentimiento')\n",
        "plt.ylabel('Cantidad de Noticias')\n",
        "plt.show()\n",
        "format = tweets_bnpl.SENTIMIENTO.value_counts()\n",
        "print(f\"Hay {format[0]} noticias catalogados como NEGATIVAS, {format[1]} noticias catalogados como POSITIVAS\") #{format[2]} noticias catalogados como NEUTRALES"
      ],
      "metadata": {
        "id": "WeBvqhIiSqRQ"
      }
    },
    {
      "cell_type": "markdown",
      "source": [
        "# declaring data\n",
        "data = [19, 4]\n",
        "keys = ['Neutrales', 'Positivos']\n",
        "  \n",
        "# declaring exploding pie\n",
        "explode = [0, 0.1]\n",
        "# define Seaborn color palette to use\n",
        "palette_color = sns.color_palette('bright')\n",
        "  \n",
        "# plotting data on chart\n",
        "plt.pie(data, labels=keys, colors=palette_color,\n",
        "        explode=explode, autopct='%.0f%%')\n",
        "  \n",
        "# displaying chart\n",
        "plt.show()"
      ],
      "metadata": {
        "id": "yQ5OwDV3Sx_A"
      }
    },
    {
      "cell_type": "code",
      "source": [
        "#tweets_bnpl= spark.read.csv('/content/bnpl.csv', header=True, inferSchema=True)"
      ],
      "metadata": {
        "id": "AMHhXPpBoz2S"
      },
      "execution_count": null,
      "outputs": []
    },
    {
      "cell_type": "code",
      "source": [
        "#tweets_bnpl_pd.to_excel('bnpl_excel.xlsx', index=False)"
      ],
      "metadata": {
        "id": "D_SG6UTspiCf"
      },
      "execution_count": null,
      "outputs": []
    },
    {
      "cell_type": "code",
      "source": [
        "#tweets_bnpl = tweets_bnpl.filter(\"tweet_id IS NOT NULL and tweet_text IS NOT NULL and sentiment IS NOT NULL OR tweet_text IS NOT NULL\")"
      ],
      "metadata": {
        "id": "fWs2FTUgpP6r"
      },
      "execution_count": null,
      "outputs": []
    },
    {
      "cell_type": "code",
      "execution_count": null,
      "metadata": {
        "id": "9PcByX1LFxkx"
      },
      "outputs": [],
      "source": [
        "#tweets_sent = tweets_sent.filter(\"tweet_id IS NOT NULL and tweet_text IS NOT NULL and sentiment IS NOT NULL OR tweet_text IS NOT NULL\")\n",
        "#tweets_sent = tweets_sent.filter(\"sentiment == 'POSITIVE' OR sentiment == 'NEGATIVE' OR sentiment == 'NEUTRAL'\")\n"
      ]
    },
    {
      "cell_type": "code",
      "execution_count": null,
      "metadata": {
        "id": "UI_9tc9xIY9m"
      },
      "outputs": [],
      "source": [
        "#tweets_sent_df = tweets_sent.toPandas()"
      ]
    },
    {
      "cell_type": "code",
      "execution_count": null,
      "metadata": {
        "colab": {
          "base_uri": "https://localhost:8080/"
        },
        "id": "TKL9fvCyKpT9",
        "outputId": "203a522a-408c-487d-a275-785cea5b41e1"
      },
      "outputs": [
        {
          "output_type": "execute_result",
          "data": {
            "text/plain": [
              "NEUTRAL     7806\n",
              "POSITIVE    7804\n",
              "NEGATIVE    7788\n",
              "Name: sentiment, dtype: int64"
            ]
          },
          "metadata": {},
          "execution_count": 32
        }
      ],
      "source": [
        "#tweets_sent_df.sentiment.value_counts()"
      ]
    },
    {
      "cell_type": "markdown",
      "metadata": {
        "id": "5WH8_fHrRtQM"
      },
      "source": [
        "### Balancing the Dataset"
      ]
    },
    {
      "cell_type": "code",
      "execution_count": null,
      "metadata": {
        "id": "DfcywLH2Lxse"
      },
      "outputs": [],
      "source": [
        "#tweets_sent_df = tweets_sent_df"
      ]
    },
    {
      "cell_type": "code",
      "execution_count": null,
      "metadata": {
        "id": "QyXvems1gUW6"
      },
      "outputs": [],
      "source": [
        "#count_neut, count_pos, count_neg = tweets_sent_df.sentiment.value_counts()"
      ]
    },
    {
      "cell_type": "code",
      "execution_count": null,
      "metadata": {
        "id": "ni7QeSq6gUjI"
      },
      "outputs": [],
      "source": [
        "#df_neut = tweets_sent_df[tweets_sent_df['sentiment']=='NEUTRAL']\n",
        "#df_pos = tweets_sent_df[tweets_sent_df['sentiment']=='POSITIVE']\n",
        "#df_negt = tweets_sent_df[tweets_sent_df['sentiment']=='NEGATIVE']"
      ]
    },
    {
      "cell_type": "code",
      "execution_count": null,
      "metadata": {
        "id": "rr0AeYDPhdz7"
      },
      "outputs": [],
      "source": [
        "#df_neut_under = df_neut.sample(count_neg)\n",
        "#df_pos_under = df_pos.sample(count_neg)"
      ]
    },
    {
      "cell_type": "code",
      "execution_count": null,
      "metadata": {
        "id": "IDSjYZkOiKYO"
      },
      "outputs": [],
      "source": [
        "#tweets_sent_balanced = pd.concat([df_neut_under,df_pos_under,df_negt], axis=0)\n"
      ]
    },
    {
      "cell_type": "code",
      "execution_count": null,
      "metadata": {
        "id": "eUmCH4Nxhd4Q"
      },
      "outputs": [],
      "source": [
        "#tweets_sent_balanced.sentiment.value_counts()"
      ]
    },
    {
      "cell_type": "markdown",
      "source": [
        "tweets_sent_df = tweets_sent.toPandas()\n",
        "\n",
        "sns.countplot(x='sentiment',data=tweets_sent_df)\n",
        "plt.title('Distribución de tweets según sentimiento (Positivo - Negativo - Neutral)', loc='center', pad='20', fontsize='14')\n",
        "plt.xlabel('Tipo de Sentimiento')\n",
        "plt.ylabel('Cantidad de Tweets')\n",
        "plt.show()\n",
        "format = tweets_sent_df.sentiment.value_counts()\n",
        "print(f\"Hay {format[0]} tweets catalogados como NEUTRAL, {format[1]} tweets catalogados como POSITIVE, {format[2]} tweets catalogados como NEGATIVE\")"
      ],
      "metadata": {
        "id": "pjkgot6bTR53"
      }
    },
    {
      "cell_type": "code",
      "execution_count": null,
      "metadata": {
        "id": "99sCRi1BpHyE"
      },
      "outputs": [],
      "source": [
        "#df_tweets = tweets_sent_df[['tweet_text', 'sentiment']]"
      ]
    },
    {
      "cell_type": "code",
      "execution_count": null,
      "metadata": {
        "colab": {
          "base_uri": "https://localhost:8080/",
          "height": 206
        },
        "id": "gSDPS737neWF",
        "outputId": "05b19cb7-a420-4680-bb7d-ecfcdd519b0b"
      },
      "outputs": [
        {
          "output_type": "execute_result",
          "data": {
            "text/plain": [
              "                                          tweet_text sentiment\n",
              "0  Si salimos vivos entre septiembre y octubre, e...   NEUTRAL\n",
              "1  ? Hoy es el cumplea�os de @stevemacca11, scous...   NEUTRAL\n",
              "2  En Vivo | �Final del partido! #ManchesterCity ...   NEUTRAL\n",
              "3  #ManchesterUnited derrot� por 2-1 a #Watford. ...   NEUTRAL\n",
              "4  Visto #Wolverhampton vs #Everton (2-2). Me esp...   NEUTRAL"
            ],
            "text/html": [
              "\n",
              "  <div id=\"df-c78a001d-f5c3-4d9c-a51f-92c80be9e910\">\n",
              "    <div class=\"colab-df-container\">\n",
              "      <div>\n",
              "<style scoped>\n",
              "    .dataframe tbody tr th:only-of-type {\n",
              "        vertical-align: middle;\n",
              "    }\n",
              "\n",
              "    .dataframe tbody tr th {\n",
              "        vertical-align: top;\n",
              "    }\n",
              "\n",
              "    .dataframe thead th {\n",
              "        text-align: right;\n",
              "    }\n",
              "</style>\n",
              "<table border=\"1\" class=\"dataframe\">\n",
              "  <thead>\n",
              "    <tr style=\"text-align: right;\">\n",
              "      <th></th>\n",
              "      <th>tweet_text</th>\n",
              "      <th>sentiment</th>\n",
              "    </tr>\n",
              "  </thead>\n",
              "  <tbody>\n",
              "    <tr>\n",
              "      <th>0</th>\n",
              "      <td>Si salimos vivos entre septiembre y octubre, e...</td>\n",
              "      <td>NEUTRAL</td>\n",
              "    </tr>\n",
              "    <tr>\n",
              "      <th>1</th>\n",
              "      <td>? Hoy es el cumplea�os de @stevemacca11, scous...</td>\n",
              "      <td>NEUTRAL</td>\n",
              "    </tr>\n",
              "    <tr>\n",
              "      <th>2</th>\n",
              "      <td>En Vivo | �Final del partido! #ManchesterCity ...</td>\n",
              "      <td>NEUTRAL</td>\n",
              "    </tr>\n",
              "    <tr>\n",
              "      <th>3</th>\n",
              "      <td>#ManchesterUnited derrot� por 2-1 a #Watford. ...</td>\n",
              "      <td>NEUTRAL</td>\n",
              "    </tr>\n",
              "    <tr>\n",
              "      <th>4</th>\n",
              "      <td>Visto #Wolverhampton vs #Everton (2-2). Me esp...</td>\n",
              "      <td>NEUTRAL</td>\n",
              "    </tr>\n",
              "  </tbody>\n",
              "</table>\n",
              "</div>\n",
              "      <button class=\"colab-df-convert\" onclick=\"convertToInteractive('df-c78a001d-f5c3-4d9c-a51f-92c80be9e910')\"\n",
              "              title=\"Convert this dataframe to an interactive table.\"\n",
              "              style=\"display:none;\">\n",
              "        \n",
              "  <svg xmlns=\"http://www.w3.org/2000/svg\" height=\"24px\"viewBox=\"0 0 24 24\"\n",
              "       width=\"24px\">\n",
              "    <path d=\"M0 0h24v24H0V0z\" fill=\"none\"/>\n",
              "    <path d=\"M18.56 5.44l.94 2.06.94-2.06 2.06-.94-2.06-.94-.94-2.06-.94 2.06-2.06.94zm-11 1L8.5 8.5l.94-2.06 2.06-.94-2.06-.94L8.5 2.5l-.94 2.06-2.06.94zm10 10l.94 2.06.94-2.06 2.06-.94-2.06-.94-.94-2.06-.94 2.06-2.06.94z\"/><path d=\"M17.41 7.96l-1.37-1.37c-.4-.4-.92-.59-1.43-.59-.52 0-1.04.2-1.43.59L10.3 9.45l-7.72 7.72c-.78.78-.78 2.05 0 2.83L4 21.41c.39.39.9.59 1.41.59.51 0 1.02-.2 1.41-.59l7.78-7.78 2.81-2.81c.8-.78.8-2.07 0-2.86zM5.41 20L4 18.59l7.72-7.72 1.47 1.35L5.41 20z\"/>\n",
              "  </svg>\n",
              "      </button>\n",
              "      \n",
              "  <style>\n",
              "    .colab-df-container {\n",
              "      display:flex;\n",
              "      flex-wrap:wrap;\n",
              "      gap: 12px;\n",
              "    }\n",
              "\n",
              "    .colab-df-convert {\n",
              "      background-color: #E8F0FE;\n",
              "      border: none;\n",
              "      border-radius: 50%;\n",
              "      cursor: pointer;\n",
              "      display: none;\n",
              "      fill: #1967D2;\n",
              "      height: 32px;\n",
              "      padding: 0 0 0 0;\n",
              "      width: 32px;\n",
              "    }\n",
              "\n",
              "    .colab-df-convert:hover {\n",
              "      background-color: #E2EBFA;\n",
              "      box-shadow: 0px 1px 2px rgba(60, 64, 67, 0.3), 0px 1px 3px 1px rgba(60, 64, 67, 0.15);\n",
              "      fill: #174EA6;\n",
              "    }\n",
              "\n",
              "    [theme=dark] .colab-df-convert {\n",
              "      background-color: #3B4455;\n",
              "      fill: #D2E3FC;\n",
              "    }\n",
              "\n",
              "    [theme=dark] .colab-df-convert:hover {\n",
              "      background-color: #434B5C;\n",
              "      box-shadow: 0px 1px 3px 1px rgba(0, 0, 0, 0.15);\n",
              "      filter: drop-shadow(0px 1px 2px rgba(0, 0, 0, 0.3));\n",
              "      fill: #FFFFFF;\n",
              "    }\n",
              "  </style>\n",
              "\n",
              "      <script>\n",
              "        const buttonEl =\n",
              "          document.querySelector('#df-c78a001d-f5c3-4d9c-a51f-92c80be9e910 button.colab-df-convert');\n",
              "        buttonEl.style.display =\n",
              "          google.colab.kernel.accessAllowed ? 'block' : 'none';\n",
              "\n",
              "        async function convertToInteractive(key) {\n",
              "          const element = document.querySelector('#df-c78a001d-f5c3-4d9c-a51f-92c80be9e910');\n",
              "          const dataTable =\n",
              "            await google.colab.kernel.invokeFunction('convertToInteractive',\n",
              "                                                     [key], {});\n",
              "          if (!dataTable) return;\n",
              "\n",
              "          const docLinkHtml = 'Like what you see? Visit the ' +\n",
              "            '<a target=\"_blank\" href=https://colab.research.google.com/notebooks/data_table.ipynb>data table notebook</a>'\n",
              "            + ' to learn more about interactive tables.';\n",
              "          element.innerHTML = '';\n",
              "          dataTable['output_type'] = 'display_data';\n",
              "          await google.colab.output.renderOutput(dataTable, element);\n",
              "          const docLink = document.createElement('div');\n",
              "          docLink.innerHTML = docLinkHtml;\n",
              "          element.appendChild(docLink);\n",
              "        }\n",
              "      </script>\n",
              "    </div>\n",
              "  </div>\n",
              "  "
            ]
          },
          "metadata": {},
          "execution_count": 36
        }
      ],
      "source": [
        "#df_tweets.head()"
      ]
    },
    {
      "cell_type": "code",
      "execution_count": null,
      "metadata": {
        "id": "uHUR5iUDqLAE"
      },
      "outputs": [],
      "source": [
        "#df_tweets['text'] = df_tweets['tweet_text']"
      ]
    },
    {
      "cell_type": "code",
      "execution_count": null,
      "metadata": {
        "id": "i4ZicGzEqi2z"
      },
      "outputs": [],
      "source": [
        "#df_tweets = df_tweets.drop('tweet_text', axis=1)"
      ]
    },
    {
      "cell_type": "code",
      "execution_count": null,
      "metadata": {
        "colab": {
          "base_uri": "https://localhost:8080/"
        },
        "id": "GNDIErI_qZBV",
        "outputId": "db8525c5-8823-4012-f89b-39ceccf13ca9"
      },
      "outputs": [
        {
          "output_type": "stream",
          "name": "stdout",
          "text": [
            "<class 'pandas.core.frame.DataFrame'>\n",
            "RangeIndex: 23398 entries, 0 to 23397\n",
            "Data columns (total 2 columns):\n",
            " #   Column     Non-Null Count  Dtype \n",
            "---  ------     --------------  ----- \n",
            " 0   sentiment  23398 non-null  object\n",
            " 1   text       23398 non-null  object\n",
            "dtypes: object(2)\n",
            "memory usage: 365.7+ KB\n"
          ]
        }
      ],
      "source": [
        "#df_tweets.info()"
      ]
    },
    {
      "cell_type": "code",
      "execution_count": null,
      "metadata": {
        "id": "rNvmcxJjnB-O"
      },
      "outputs": [],
      "source": [
        "#tweets_full = pd.read_csv(r'/content/tweets_sent_balanced')\n",
        "\n",
        "\n",
        "#df = pd.read_csv(\"data.txt\", sep=\"\\t\", header=None, names=[\"A\", \"B\"])"
      ]
    },
    {
      "cell_type": "code",
      "source": [
        "#tweets_full.sentiment.value_counts()"
      ],
      "metadata": {
        "colab": {
          "base_uri": "https://localhost:8080/"
        },
        "id": "550YIGu6PHus",
        "outputId": "75cc997e-bdc7-4b80-e09d-5b3f204ccc37"
      },
      "execution_count": null,
      "outputs": [
        {
          "output_type": "execute_result",
          "data": {
            "text/plain": [
              "NEUTRAL     7828\n",
              "POSITIVE    7828\n",
              "NEGATIVE    7828\n",
              "Name: sentiment, dtype: int64"
            ]
          },
          "metadata": {},
          "execution_count": 22
        }
      ]
    },
    {
      "cell_type": "code",
      "source": [
        "#tweets_full.head()"
      ],
      "metadata": {
        "colab": {
          "base_uri": "https://localhost:8080/",
          "height": 337
        },
        "id": "kidznTk7QE_R",
        "outputId": "5248e985-d2bc-416b-b2be-d75136e087b5"
      },
      "execution_count": null,
      "outputs": [
        {
          "output_type": "execute_result",
          "data": {
            "text/plain": [
              "           tweet_date_created             tweet_id  \\\n",
              "0  2018-08-30T21:13:48.162000  1035274412113756162   \n",
              "1  2018-08-20T08:30:25.584000  1031458419390275584   \n",
              "2  2018-08-05T16:04:18.969000  1026136824060755969   \n",
              "3  2018-09-15T19:37:02.888000  1041048262952869888   \n",
              "4  2018-08-12T12:05:27.008000  1028613433212715008   \n",
              "\n",
              "                                          tweet_text language sentiment  \\\n",
              "0  Si salimos vivos entre septiembre y octubre, e...       es   NEUTRAL   \n",
              "1  ? Hoy es el cumplea�os de @stevemacca11, scous...       es   NEUTRAL   \n",
              "2  En Vivo | �Final del partido! #ManchesterCity ...       es   NEUTRAL   \n",
              "3  #ManchesterUnited derrot� por 2-1 a #Watford. ...       es   NEUTRAL   \n",
              "4  Visto #Wolverhampton vs #Everton (2-2). Me esp...       es   NEUTRAL   \n",
              "\n",
              "                            sentiment_score  \n",
              "0  \"{\"\"Neutral\"\":0.698924005031585693359375  \n",
              "1      \"{\"\"Neutral\"\":0.92725276947021484375  \n",
              "2  \"{\"\"Neutral\"\":0.929748952388763427734375  \n",
              "3   \"{\"\"Neutral\"\":0.98564732074737548828125  \n",
              "4  \"{\"\"Neutral\"\":0.834743082523345947265625  "
            ],
            "text/html": [
              "\n",
              "  <div id=\"df-594726d0-fd53-4c30-b42f-ae4e14152672\">\n",
              "    <div class=\"colab-df-container\">\n",
              "      <div>\n",
              "<style scoped>\n",
              "    .dataframe tbody tr th:only-of-type {\n",
              "        vertical-align: middle;\n",
              "    }\n",
              "\n",
              "    .dataframe tbody tr th {\n",
              "        vertical-align: top;\n",
              "    }\n",
              "\n",
              "    .dataframe thead th {\n",
              "        text-align: right;\n",
              "    }\n",
              "</style>\n",
              "<table border=\"1\" class=\"dataframe\">\n",
              "  <thead>\n",
              "    <tr style=\"text-align: right;\">\n",
              "      <th></th>\n",
              "      <th>tweet_date_created</th>\n",
              "      <th>tweet_id</th>\n",
              "      <th>tweet_text</th>\n",
              "      <th>language</th>\n",
              "      <th>sentiment</th>\n",
              "      <th>sentiment_score</th>\n",
              "    </tr>\n",
              "  </thead>\n",
              "  <tbody>\n",
              "    <tr>\n",
              "      <th>0</th>\n",
              "      <td>2018-08-30T21:13:48.162000</td>\n",
              "      <td>1035274412113756162</td>\n",
              "      <td>Si salimos vivos entre septiembre y octubre, e...</td>\n",
              "      <td>es</td>\n",
              "      <td>NEUTRAL</td>\n",
              "      <td>\"{\"\"Neutral\"\":0.698924005031585693359375</td>\n",
              "    </tr>\n",
              "    <tr>\n",
              "      <th>1</th>\n",
              "      <td>2018-08-20T08:30:25.584000</td>\n",
              "      <td>1031458419390275584</td>\n",
              "      <td>? Hoy es el cumplea�os de @stevemacca11, scous...</td>\n",
              "      <td>es</td>\n",
              "      <td>NEUTRAL</td>\n",
              "      <td>\"{\"\"Neutral\"\":0.92725276947021484375</td>\n",
              "    </tr>\n",
              "    <tr>\n",
              "      <th>2</th>\n",
              "      <td>2018-08-05T16:04:18.969000</td>\n",
              "      <td>1026136824060755969</td>\n",
              "      <td>En Vivo | �Final del partido! #ManchesterCity ...</td>\n",
              "      <td>es</td>\n",
              "      <td>NEUTRAL</td>\n",
              "      <td>\"{\"\"Neutral\"\":0.929748952388763427734375</td>\n",
              "    </tr>\n",
              "    <tr>\n",
              "      <th>3</th>\n",
              "      <td>2018-09-15T19:37:02.888000</td>\n",
              "      <td>1041048262952869888</td>\n",
              "      <td>#ManchesterUnited derrot� por 2-1 a #Watford. ...</td>\n",
              "      <td>es</td>\n",
              "      <td>NEUTRAL</td>\n",
              "      <td>\"{\"\"Neutral\"\":0.98564732074737548828125</td>\n",
              "    </tr>\n",
              "    <tr>\n",
              "      <th>4</th>\n",
              "      <td>2018-08-12T12:05:27.008000</td>\n",
              "      <td>1028613433212715008</td>\n",
              "      <td>Visto #Wolverhampton vs #Everton (2-2). Me esp...</td>\n",
              "      <td>es</td>\n",
              "      <td>NEUTRAL</td>\n",
              "      <td>\"{\"\"Neutral\"\":0.834743082523345947265625</td>\n",
              "    </tr>\n",
              "  </tbody>\n",
              "</table>\n",
              "</div>\n",
              "      <button class=\"colab-df-convert\" onclick=\"convertToInteractive('df-594726d0-fd53-4c30-b42f-ae4e14152672')\"\n",
              "              title=\"Convert this dataframe to an interactive table.\"\n",
              "              style=\"display:none;\">\n",
              "        \n",
              "  <svg xmlns=\"http://www.w3.org/2000/svg\" height=\"24px\"viewBox=\"0 0 24 24\"\n",
              "       width=\"24px\">\n",
              "    <path d=\"M0 0h24v24H0V0z\" fill=\"none\"/>\n",
              "    <path d=\"M18.56 5.44l.94 2.06.94-2.06 2.06-.94-2.06-.94-.94-2.06-.94 2.06-2.06.94zm-11 1L8.5 8.5l.94-2.06 2.06-.94-2.06-.94L8.5 2.5l-.94 2.06-2.06.94zm10 10l.94 2.06.94-2.06 2.06-.94-2.06-.94-.94-2.06-.94 2.06-2.06.94z\"/><path d=\"M17.41 7.96l-1.37-1.37c-.4-.4-.92-.59-1.43-.59-.52 0-1.04.2-1.43.59L10.3 9.45l-7.72 7.72c-.78.78-.78 2.05 0 2.83L4 21.41c.39.39.9.59 1.41.59.51 0 1.02-.2 1.41-.59l7.78-7.78 2.81-2.81c.8-.78.8-2.07 0-2.86zM5.41 20L4 18.59l7.72-7.72 1.47 1.35L5.41 20z\"/>\n",
              "  </svg>\n",
              "      </button>\n",
              "      \n",
              "  <style>\n",
              "    .colab-df-container {\n",
              "      display:flex;\n",
              "      flex-wrap:wrap;\n",
              "      gap: 12px;\n",
              "    }\n",
              "\n",
              "    .colab-df-convert {\n",
              "      background-color: #E8F0FE;\n",
              "      border: none;\n",
              "      border-radius: 50%;\n",
              "      cursor: pointer;\n",
              "      display: none;\n",
              "      fill: #1967D2;\n",
              "      height: 32px;\n",
              "      padding: 0 0 0 0;\n",
              "      width: 32px;\n",
              "    }\n",
              "\n",
              "    .colab-df-convert:hover {\n",
              "      background-color: #E2EBFA;\n",
              "      box-shadow: 0px 1px 2px rgba(60, 64, 67, 0.3), 0px 1px 3px 1px rgba(60, 64, 67, 0.15);\n",
              "      fill: #174EA6;\n",
              "    }\n",
              "\n",
              "    [theme=dark] .colab-df-convert {\n",
              "      background-color: #3B4455;\n",
              "      fill: #D2E3FC;\n",
              "    }\n",
              "\n",
              "    [theme=dark] .colab-df-convert:hover {\n",
              "      background-color: #434B5C;\n",
              "      box-shadow: 0px 1px 3px 1px rgba(0, 0, 0, 0.15);\n",
              "      filter: drop-shadow(0px 1px 2px rgba(0, 0, 0, 0.3));\n",
              "      fill: #FFFFFF;\n",
              "    }\n",
              "  </style>\n",
              "\n",
              "      <script>\n",
              "        const buttonEl =\n",
              "          document.querySelector('#df-594726d0-fd53-4c30-b42f-ae4e14152672 button.colab-df-convert');\n",
              "        buttonEl.style.display =\n",
              "          google.colab.kernel.accessAllowed ? 'block' : 'none';\n",
              "\n",
              "        async function convertToInteractive(key) {\n",
              "          const element = document.querySelector('#df-594726d0-fd53-4c30-b42f-ae4e14152672');\n",
              "          const dataTable =\n",
              "            await google.colab.kernel.invokeFunction('convertToInteractive',\n",
              "                                                     [key], {});\n",
              "          if (!dataTable) return;\n",
              "\n",
              "          const docLinkHtml = 'Like what you see? Visit the ' +\n",
              "            '<a target=\"_blank\" href=https://colab.research.google.com/notebooks/data_table.ipynb>data table notebook</a>'\n",
              "            + ' to learn more about interactive tables.';\n",
              "          element.innerHTML = '';\n",
              "          dataTable['output_type'] = 'display_data';\n",
              "          await google.colab.output.renderOutput(dataTable, element);\n",
              "          const docLink = document.createElement('div');\n",
              "          docLink.innerHTML = docLinkHtml;\n",
              "          element.appendChild(docLink);\n",
              "        }\n",
              "      </script>\n",
              "    </div>\n",
              "  </div>\n",
              "  "
            ]
          },
          "metadata": {},
          "execution_count": 23
        }
      ]
    },
    {
      "cell_type": "code",
      "source": [
        "robert_pred = pd.read_csv(r'/content/predictions_roberta.csv')"
      ],
      "metadata": {
        "id": "7qs5aFLdQPOL"
      },
      "execution_count": 17,
      "outputs": []
    },
    {
      "cell_type": "code",
      "source": [
        "robert_pred.sentimiento.value_counts()"
      ],
      "metadata": {
        "colab": {
          "base_uri": "https://localhost:8080/"
        },
        "id": "MbVqg3znVTEU",
        "outputId": "fc4c80be-237d-4a43-acc2-6bed0a88ab55"
      },
      "execution_count": 18,
      "outputs": [
        {
          "output_type": "execute_result",
          "data": {
            "text/plain": [
              "Negative    8718\n",
              "Positive    8564\n",
              "Neutral     6108\n",
              "Name: sentimiento, dtype: int64"
            ]
          },
          "metadata": {},
          "execution_count": 18
        }
      ]
    },
    {
      "cell_type": "code",
      "source": [
        "robert_pred.head()"
      ],
      "metadata": {
        "colab": {
          "base_uri": "https://localhost:8080/",
          "height": 406
        },
        "id": "Ltf_ozIKYIes",
        "outputId": "f2fe63da-970d-4238-dbe8-52f1b31f4c0f"
      },
      "execution_count": 19,
      "outputs": [
        {
          "output_type": "execute_result",
          "data": {
            "text/plain": [
              "   Unnamed: 0  Unnamed: 0.1 sentiment  \\\n",
              "0           0             0   NEUTRAL   \n",
              "1           1             1   NEUTRAL   \n",
              "2           2             2   NEUTRAL   \n",
              "3           3             3   NEUTRAL   \n",
              "4           4             4   NEUTRAL   \n",
              "\n",
              "                                                text  \\\n",
              "0  Si salimos vivos entre septiembre y octubre, e...   \n",
              "1  ? Hoy es el cumplea�os de @stevemacca11, scous...   \n",
              "2  En Vivo | �Final del partido! #ManchesterCity ...   \n",
              "3  #ManchesterUnited derrot� por 2-1 a #Watford. ...   \n",
              "4  Visto #Wolverhampton vs #Everton (2-2). Me esp...   \n",
              "\n",
              "                                    tweets_transform  \\\n",
              "0  Si salimos vivos septiembre octubre  Liverpool...   \n",
              "1   Hoy cumplea  scouser marc 50 goles camiseta R...   \n",
              "2  Vivo Final partido ManchesterCity venci 20 Che...   \n",
              "3  ManchesterUnited derrot 21 Watford  Alexis S n...   \n",
              "4  Visto Wolverhampton vs Everton  22   esperaba ...   \n",
              "\n",
              "                                              text.1  resultado pred  \\\n",
              "0  Si salimos vivos entre septiembre y octubre, e...               2   \n",
              "1  ? Hoy es el cumplea�os de @stevemacca11, scous...               2   \n",
              "2  En Vivo | �Final del partido! #ManchesterCity ...               1   \n",
              "3  #ManchesterUnited derrot� por 2-1 a #Watford. ...               1   \n",
              "4  Visto #Wolverhampton vs #Everton (2-2). Me esp...               2   \n",
              "\n",
              "  sentimiento prediction  \n",
              "0    Positive   POSITIVE  \n",
              "1    Positive   POSITIVE  \n",
              "2     Neutral    NEUTRAL  \n",
              "3     Neutral    NEUTRAL  \n",
              "4    Positive   POSITIVE  "
            ],
            "text/html": [
              "\n",
              "  <div id=\"df-2b20981d-f6e5-49ed-82aa-816286133ed3\">\n",
              "    <div class=\"colab-df-container\">\n",
              "      <div>\n",
              "<style scoped>\n",
              "    .dataframe tbody tr th:only-of-type {\n",
              "        vertical-align: middle;\n",
              "    }\n",
              "\n",
              "    .dataframe tbody tr th {\n",
              "        vertical-align: top;\n",
              "    }\n",
              "\n",
              "    .dataframe thead th {\n",
              "        text-align: right;\n",
              "    }\n",
              "</style>\n",
              "<table border=\"1\" class=\"dataframe\">\n",
              "  <thead>\n",
              "    <tr style=\"text-align: right;\">\n",
              "      <th></th>\n",
              "      <th>Unnamed: 0</th>\n",
              "      <th>Unnamed: 0.1</th>\n",
              "      <th>sentiment</th>\n",
              "      <th>text</th>\n",
              "      <th>tweets_transform</th>\n",
              "      <th>text.1</th>\n",
              "      <th>resultado pred</th>\n",
              "      <th>sentimiento</th>\n",
              "      <th>prediction</th>\n",
              "    </tr>\n",
              "  </thead>\n",
              "  <tbody>\n",
              "    <tr>\n",
              "      <th>0</th>\n",
              "      <td>0</td>\n",
              "      <td>0</td>\n",
              "      <td>NEUTRAL</td>\n",
              "      <td>Si salimos vivos entre septiembre y octubre, e...</td>\n",
              "      <td>Si salimos vivos septiembre octubre  Liverpool...</td>\n",
              "      <td>Si salimos vivos entre septiembre y octubre, e...</td>\n",
              "      <td>2</td>\n",
              "      <td>Positive</td>\n",
              "      <td>POSITIVE</td>\n",
              "    </tr>\n",
              "    <tr>\n",
              "      <th>1</th>\n",
              "      <td>1</td>\n",
              "      <td>1</td>\n",
              "      <td>NEUTRAL</td>\n",
              "      <td>? Hoy es el cumplea�os de @stevemacca11, scous...</td>\n",
              "      <td>Hoy cumplea  scouser marc 50 goles camiseta R...</td>\n",
              "      <td>? Hoy es el cumplea�os de @stevemacca11, scous...</td>\n",
              "      <td>2</td>\n",
              "      <td>Positive</td>\n",
              "      <td>POSITIVE</td>\n",
              "    </tr>\n",
              "    <tr>\n",
              "      <th>2</th>\n",
              "      <td>2</td>\n",
              "      <td>2</td>\n",
              "      <td>NEUTRAL</td>\n",
              "      <td>En Vivo | �Final del partido! #ManchesterCity ...</td>\n",
              "      <td>Vivo Final partido ManchesterCity venci 20 Che...</td>\n",
              "      <td>En Vivo | �Final del partido! #ManchesterCity ...</td>\n",
              "      <td>1</td>\n",
              "      <td>Neutral</td>\n",
              "      <td>NEUTRAL</td>\n",
              "    </tr>\n",
              "    <tr>\n",
              "      <th>3</th>\n",
              "      <td>3</td>\n",
              "      <td>3</td>\n",
              "      <td>NEUTRAL</td>\n",
              "      <td>#ManchesterUnited derrot� por 2-1 a #Watford. ...</td>\n",
              "      <td>ManchesterUnited derrot 21 Watford  Alexis S n...</td>\n",
              "      <td>#ManchesterUnited derrot� por 2-1 a #Watford. ...</td>\n",
              "      <td>1</td>\n",
              "      <td>Neutral</td>\n",
              "      <td>NEUTRAL</td>\n",
              "    </tr>\n",
              "    <tr>\n",
              "      <th>4</th>\n",
              "      <td>4</td>\n",
              "      <td>4</td>\n",
              "      <td>NEUTRAL</td>\n",
              "      <td>Visto #Wolverhampton vs #Everton (2-2). Me esp...</td>\n",
              "      <td>Visto Wolverhampton vs Everton  22   esperaba ...</td>\n",
              "      <td>Visto #Wolverhampton vs #Everton (2-2). Me esp...</td>\n",
              "      <td>2</td>\n",
              "      <td>Positive</td>\n",
              "      <td>POSITIVE</td>\n",
              "    </tr>\n",
              "  </tbody>\n",
              "</table>\n",
              "</div>\n",
              "      <button class=\"colab-df-convert\" onclick=\"convertToInteractive('df-2b20981d-f6e5-49ed-82aa-816286133ed3')\"\n",
              "              title=\"Convert this dataframe to an interactive table.\"\n",
              "              style=\"display:none;\">\n",
              "        \n",
              "  <svg xmlns=\"http://www.w3.org/2000/svg\" height=\"24px\"viewBox=\"0 0 24 24\"\n",
              "       width=\"24px\">\n",
              "    <path d=\"M0 0h24v24H0V0z\" fill=\"none\"/>\n",
              "    <path d=\"M18.56 5.44l.94 2.06.94-2.06 2.06-.94-2.06-.94-.94-2.06-.94 2.06-2.06.94zm-11 1L8.5 8.5l.94-2.06 2.06-.94-2.06-.94L8.5 2.5l-.94 2.06-2.06.94zm10 10l.94 2.06.94-2.06 2.06-.94-2.06-.94-.94-2.06-.94 2.06-2.06.94z\"/><path d=\"M17.41 7.96l-1.37-1.37c-.4-.4-.92-.59-1.43-.59-.52 0-1.04.2-1.43.59L10.3 9.45l-7.72 7.72c-.78.78-.78 2.05 0 2.83L4 21.41c.39.39.9.59 1.41.59.51 0 1.02-.2 1.41-.59l7.78-7.78 2.81-2.81c.8-.78.8-2.07 0-2.86zM5.41 20L4 18.59l7.72-7.72 1.47 1.35L5.41 20z\"/>\n",
              "  </svg>\n",
              "      </button>\n",
              "      \n",
              "  <style>\n",
              "    .colab-df-container {\n",
              "      display:flex;\n",
              "      flex-wrap:wrap;\n",
              "      gap: 12px;\n",
              "    }\n",
              "\n",
              "    .colab-df-convert {\n",
              "      background-color: #E8F0FE;\n",
              "      border: none;\n",
              "      border-radius: 50%;\n",
              "      cursor: pointer;\n",
              "      display: none;\n",
              "      fill: #1967D2;\n",
              "      height: 32px;\n",
              "      padding: 0 0 0 0;\n",
              "      width: 32px;\n",
              "    }\n",
              "\n",
              "    .colab-df-convert:hover {\n",
              "      background-color: #E2EBFA;\n",
              "      box-shadow: 0px 1px 2px rgba(60, 64, 67, 0.3), 0px 1px 3px 1px rgba(60, 64, 67, 0.15);\n",
              "      fill: #174EA6;\n",
              "    }\n",
              "\n",
              "    [theme=dark] .colab-df-convert {\n",
              "      background-color: #3B4455;\n",
              "      fill: #D2E3FC;\n",
              "    }\n",
              "\n",
              "    [theme=dark] .colab-df-convert:hover {\n",
              "      background-color: #434B5C;\n",
              "      box-shadow: 0px 1px 3px 1px rgba(0, 0, 0, 0.15);\n",
              "      filter: drop-shadow(0px 1px 2px rgba(0, 0, 0, 0.3));\n",
              "      fill: #FFFFFF;\n",
              "    }\n",
              "  </style>\n",
              "\n",
              "      <script>\n",
              "        const buttonEl =\n",
              "          document.querySelector('#df-2b20981d-f6e5-49ed-82aa-816286133ed3 button.colab-df-convert');\n",
              "        buttonEl.style.display =\n",
              "          google.colab.kernel.accessAllowed ? 'block' : 'none';\n",
              "\n",
              "        async function convertToInteractive(key) {\n",
              "          const element = document.querySelector('#df-2b20981d-f6e5-49ed-82aa-816286133ed3');\n",
              "          const dataTable =\n",
              "            await google.colab.kernel.invokeFunction('convertToInteractive',\n",
              "                                                     [key], {});\n",
              "          if (!dataTable) return;\n",
              "\n",
              "          const docLinkHtml = 'Like what you see? Visit the ' +\n",
              "            '<a target=\"_blank\" href=https://colab.research.google.com/notebooks/data_table.ipynb>data table notebook</a>'\n",
              "            + ' to learn more about interactive tables.';\n",
              "          element.innerHTML = '';\n",
              "          dataTable['output_type'] = 'display_data';\n",
              "          await google.colab.output.renderOutput(dataTable, element);\n",
              "          const docLink = document.createElement('div');\n",
              "          docLink.innerHTML = docLinkHtml;\n",
              "          element.appendChild(docLink);\n",
              "        }\n",
              "      </script>\n",
              "    </div>\n",
              "  </div>\n",
              "  "
            ]
          },
          "metadata": {},
          "execution_count": 19
        }
      ]
    },
    {
      "cell_type": "code",
      "source": [
        "robert_pred.sentiment.value_counts()"
      ],
      "metadata": {
        "colab": {
          "base_uri": "https://localhost:8080/"
        },
        "id": "KH3eA1xkEde1",
        "outputId": "6046b611-0d5c-4c8d-e9f8-227c10c71bc4"
      },
      "execution_count": 20,
      "outputs": [
        {
          "output_type": "execute_result",
          "data": {
            "text/plain": [
              "NEUTRAL     7804\n",
              "POSITIVE    7804\n",
              "NEGATIVE    7782\n",
              "Name: sentiment, dtype: int64"
            ]
          },
          "metadata": {},
          "execution_count": 20
        }
      ]
    },
    {
      "cell_type": "code",
      "execution_count": 21,
      "metadata": {
        "id": "KlejbjueJbNF",
        "colab": {
          "base_uri": "https://localhost:8080/"
        },
        "outputId": "fb200565-6697-40a8-835b-2d3bd922fc61"
      },
      "outputs": [
        {
          "output_type": "stream",
          "name": "stdout",
          "text": [
            "Número de duplicados: 0\n"
          ]
        }
      ],
      "source": [
        "# Eliminamos duplicados\n",
        "robert_pred.drop_duplicates(subset='text', inplace=True)\n",
        "print('Número de duplicados:', robert_pred['text'].duplicated().sum())"
      ]
    },
    {
      "cell_type": "code",
      "execution_count": 22,
      "metadata": {
        "id": "kKhszAzQJbDN",
        "colab": {
          "base_uri": "https://localhost:8080/",
          "height": 402
        },
        "outputId": "b097220c-40bc-4f51-c44d-eb6a0f11ac9c"
      },
      "outputs": [
        {
          "output_type": "execute_result",
          "data": {
            "text/plain": [
              "Text(0.5, 1.0, 'Número de tweets por etiqueta')"
            ]
          },
          "metadata": {},
          "execution_count": 22
        },
        {
          "output_type": "display_data",
          "data": {
            "text/plain": [
              "<Figure size 360x360 with 1 Axes>"
            ],
            "image/png": "[encoded data removed]"
          },
          "metadata": {
            "needs_background": "light"
          }
        }
      ],
      "source": [
        "sns.displot(robert_pred.sentimiento);\n",
        "plt.title('Número de tweets por etiqueta')"
      ]
    },
    {
      "cell_type": "code",
      "source": [
        "df = robert_pred[robert_pred.sentiment != 'NEUTRAL']"
      ],
      "metadata": {
        "id": "VDX_aci4ZGwy"
      },
      "execution_count": 23,
      "outputs": []
    },
    {
      "cell_type": "code",
      "source": [
        "df.sentiment.value_counts()"
      ],
      "metadata": {
        "colab": {
          "base_uri": "https://localhost:8080/"
        },
        "id": "KLzasJLKaiTS",
        "outputId": "99bf3f2a-2b6f-43ed-8ac1-b44255b32441"
      },
      "execution_count": 24,
      "outputs": [
        {
          "output_type": "execute_result",
          "data": {
            "text/plain": [
              "POSITIVE    7787\n",
              "NEGATIVE    7774\n",
              "Name: sentiment, dtype: int64"
            ]
          },
          "metadata": {},
          "execution_count": 24
        }
      ]
    },
    {
      "cell_type": "code",
      "source": [
        "sns.displot(df.sentiment);\n",
        "plt.title('Número de tweets por etiqueta')"
      ],
      "metadata": {
        "colab": {
          "base_uri": "https://localhost:8080/",
          "height": 402
        },
        "id": "RgbQlWrHa5oo",
        "outputId": "33ac3485-a5f9-4758-9af4-733c678a3017"
      },
      "execution_count": 25,
      "outputs": [
        {
          "output_type": "execute_result",
          "data": {
            "text/plain": [
              "Text(0.5, 1.0, 'Número de tweets por etiqueta')"
            ]
          },
          "metadata": {},
          "execution_count": 25
        },
        {
          "output_type": "display_data",
          "data": {
            "text/plain": [
              "<Figure size 360x360 with 1 Axes>"
            ],
            "image/png": "[encoded data removed]"
          },
          "metadata": {
            "needs_background": "light"
          }
        }
      ]
    },
    {
      "cell_type": "markdown",
      "metadata": {
        "id": "ih8_54ZuSGfK"
      },
      "source": [
        "### Análisis Exploratorio y Preparación de los Datos"
      ]
    },
    {
      "cell_type": "code",
      "execution_count": 26,
      "metadata": {
        "id": "EcWp87knSER5"
      },
      "outputs": [],
      "source": [
        "# Función para stemizar\n",
        "from nltk.stem.snowball import SnowballStemmer\n",
        "\n",
        "def stem(df):\n",
        "    stemmer = SnowballStemmer('spanish')\n",
        "    return \" \".join([stemmer.stem(word) for word in df.split()])"
      ]
    },
    {
      "cell_type": "code",
      "source": [
        "!pip install pyspellchecker"
      ],
      "metadata": {
        "colab": {
          "base_uri": "https://localhost:8080/"
        },
        "id": "xMo64vX44LWF",
        "outputId": "d41f2b2c-c0c9-476d-c232-6c8454059c6d"
      },
      "execution_count": 27,
      "outputs": [
        {
          "output_type": "stream",
          "name": "stdout",
          "text": [
            "Looking in indexes: https://pypi.org/simple, https://us-python.pkg.dev/colab-wheels/public/simple/\n",
            "Collecting pyspellchecker\n",
            "  Downloading pyspellchecker-0.7.0-py3-none-any.whl (2.5 MB)\n",
            "\u001b[K     |████████████████████████████████| 2.5 MB 13.7 MB/s \n",
            "\u001b[?25hInstalling collected packages: pyspellchecker\n",
            "Successfully installed pyspellchecker-0.7.0\n"
          ]
        }
      ]
    },
    {
      "cell_type": "code",
      "source": [
        "# Función para corregir las palabras\n",
        "\n",
        "from spellchecker import SpellChecker\n",
        "\n",
        "spell = SpellChecker(language='es', distance=1)\n",
        "\n",
        "def correcting_words(df):\n",
        "    misspelled = spell.unknown(df.split())\n",
        "    return \" \".join([spell.correction(word) if word in misspelled else word for word in df.split()])"
      ],
      "metadata": {
        "id": "pfWQdFzZ31h2"
      },
      "execution_count": 28,
      "outputs": []
    },
    {
      "cell_type": "code",
      "source": [
        "!python -m spacy download es_core_news_md"
      ],
      "metadata": {
        "colab": {
          "base_uri": "https://localhost:8080/"
        },
        "id": "d4Xk-8zcHFso",
        "outputId": "474bba6b-ba9f-498a-9258-52abd683f1d3"
      },
      "execution_count": 29,
      "outputs": [
        {
          "output_type": "stream",
          "name": "stdout",
          "text": [
            "2022-09-12 01:34:26.702841: E tensorflow/stream_executor/cuda/cuda_driver.cc:271] failed call to cuInit: CUDA_ERROR_NO_DEVICE: no CUDA-capable device is detected\n",
            "Looking in indexes: https://pypi.org/simple, https://us-python.pkg.dev/colab-wheels/public/simple/\n",
            "Collecting es-core-news-md==3.4.0\n",
            "  Downloading https://github.com/explosion/spacy-models/releases/download/es_core_news_md-3.4.0/es_core_news_md-3.4.0-py3-none-any.whl (42.3 MB)\n",
            "\u001b[K     |████████████████████████████████| 42.3 MB 1.3 MB/s \n",
            "\u001b[?25hRequirement already satisfied: spacy<3.5.0,>=3.4.0 in /usr/local/lib/python3.7/dist-packages (from es-core-news-md==3.4.0) (3.4.1)\n",
            "Requirement already satisfied: pathy>=0.3.5 in /usr/local/lib/python3.7/dist-packages (from spacy<3.5.0,>=3.4.0->es-core-news-md==3.4.0) (0.6.2)\n",
            "Requirement already satisfied: pydantic!=1.8,!=1.8.1,<1.10.0,>=1.7.4 in /usr/local/lib/python3.7/dist-packages (from spacy<3.5.0,>=3.4.0->es-core-news-md==3.4.0) (1.9.2)\n",
            "Requirement already satisfied: thinc<8.2.0,>=8.1.0 in /usr/local/lib/python3.7/dist-packages (from spacy<3.5.0,>=3.4.0->es-core-news-md==3.4.0) (8.1.0)\n",
            "Requirement already satisfied: typer<0.5.0,>=0.3.0 in /usr/local/lib/python3.7/dist-packages (from spacy<3.5.0,>=3.4.0->es-core-news-md==3.4.0) (0.4.2)\n",
            "Requirement already satisfied: wasabi<1.1.0,>=0.9.1 in /usr/local/lib/python3.7/dist-packages (from spacy<3.5.0,>=3.4.0->es-core-news-md==3.4.0) (0.10.1)\n",
            "Requirement already satisfied: jinja2 in /usr/local/lib/python3.7/dist-packages (from spacy<3.5.0,>=3.4.0->es-core-news-md==3.4.0) (2.11.3)\n",
            "Requirement already satisfied: tqdm<5.0.0,>=4.38.0 in /usr/local/lib/python3.7/dist-packages (from spacy<3.5.0,>=3.4.0->es-core-news-md==3.4.0) (4.64.0)\n",
            "Requirement already satisfied: murmurhash<1.1.0,>=0.28.0 in /usr/local/lib/python3.7/dist-packages (from spacy<3.5.0,>=3.4.0->es-core-news-md==3.4.0) (1.0.8)\n",
            "Requirement already satisfied: typing-extensions<4.2.0,>=3.7.4 in /usr/local/lib/python3.7/dist-packages (from spacy<3.5.0,>=3.4.0->es-core-news-md==3.4.0) (4.1.1)\n",
            "Requirement already satisfied: srsly<3.0.0,>=2.4.3 in /usr/local/lib/python3.7/dist-packages (from spacy<3.5.0,>=3.4.0->es-core-news-md==3.4.0) (2.4.4)\n",
            "Requirement already satisfied: cymem<2.1.0,>=2.0.2 in /usr/local/lib/python3.7/dist-packages (from spacy<3.5.0,>=3.4.0->es-core-news-md==3.4.0) (2.0.6)\n",
            "Requirement already satisfied: numpy>=1.15.0 in /usr/local/lib/python3.7/dist-packages (from spacy<3.5.0,>=3.4.0->es-core-news-md==3.4.0) (1.21.6)\n",
            "Requirement already satisfied: setuptools in /usr/local/lib/python3.7/dist-packages (from spacy<3.5.0,>=3.4.0->es-core-news-md==3.4.0) (57.4.0)\n",
            "Requirement already satisfied: langcodes<4.0.0,>=3.2.0 in /usr/local/lib/python3.7/dist-packages (from spacy<3.5.0,>=3.4.0->es-core-news-md==3.4.0) (3.3.0)\n",
            "Requirement already satisfied: requests<3.0.0,>=2.13.0 in /usr/local/lib/python3.7/dist-packages (from spacy<3.5.0,>=3.4.0->es-core-news-md==3.4.0) (2.23.0)\n",
            "Requirement already satisfied: spacy-legacy<3.1.0,>=3.0.9 in /usr/local/lib/python3.7/dist-packages (from spacy<3.5.0,>=3.4.0->es-core-news-md==3.4.0) (3.0.10)\n",
            "Requirement already satisfied: preshed<3.1.0,>=3.0.2 in /usr/local/lib/python3.7/dist-packages (from spacy<3.5.0,>=3.4.0->es-core-news-md==3.4.0) (3.0.7)\n",
            "Requirement already satisfied: spacy-loggers<2.0.0,>=1.0.0 in /usr/local/lib/python3.7/dist-packages (from spacy<3.5.0,>=3.4.0->es-core-news-md==3.4.0) (1.0.3)\n",
            "Requirement already satisfied: catalogue<2.1.0,>=2.0.6 in /usr/local/lib/python3.7/dist-packages (from spacy<3.5.0,>=3.4.0->es-core-news-md==3.4.0) (2.0.8)\n",
            "Requirement already satisfied: packaging>=20.0 in /usr/local/lib/python3.7/dist-packages (from spacy<3.5.0,>=3.4.0->es-core-news-md==3.4.0) (21.3)\n",
            "Requirement already satisfied: zipp>=0.5 in /usr/local/lib/python3.7/dist-packages (from catalogue<2.1.0,>=2.0.6->spacy<3.5.0,>=3.4.0->es-core-news-md==3.4.0) (3.8.1)\n",
            "Requirement already satisfied: pyparsing!=3.0.5,>=2.0.2 in /usr/local/lib/python3.7/dist-packages (from packaging>=20.0->spacy<3.5.0,>=3.4.0->es-core-news-md==3.4.0) (3.0.9)\n",
            "Requirement already satisfied: smart-open<6.0.0,>=5.2.1 in /usr/local/lib/python3.7/dist-packages (from pathy>=0.3.5->spacy<3.5.0,>=3.4.0->es-core-news-md==3.4.0) (5.2.1)\n",
            "Requirement already satisfied: idna<3,>=2.5 in /usr/local/lib/python3.7/dist-packages (from requests<3.0.0,>=2.13.0->spacy<3.5.0,>=3.4.0->es-core-news-md==3.4.0) (2.10)\n",
            "Requirement already satisfied: chardet<4,>=3.0.2 in /usr/local/lib/python3.7/dist-packages (from requests<3.0.0,>=2.13.0->spacy<3.5.0,>=3.4.0->es-core-news-md==3.4.0) (3.0.4)\n",
            "Requirement already satisfied: urllib3!=1.25.0,!=1.25.1,<1.26,>=1.21.1 in /usr/local/lib/python3.7/dist-packages (from requests<3.0.0,>=2.13.0->spacy<3.5.0,>=3.4.0->es-core-news-md==3.4.0) (1.24.3)\n",
            "Requirement already satisfied: certifi>=2017.4.17 in /usr/local/lib/python3.7/dist-packages (from requests<3.0.0,>=2.13.0->spacy<3.5.0,>=3.4.0->es-core-news-md==3.4.0) (2022.6.15)\n",
            "Requirement already satisfied: blis<0.8.0,>=0.7.8 in /usr/local/lib/python3.7/dist-packages (from thinc<8.2.0,>=8.1.0->spacy<3.5.0,>=3.4.0->es-core-news-md==3.4.0) (0.7.8)\n",
            "Requirement already satisfied: click<9.0.0,>=7.1.1 in /usr/local/lib/python3.7/dist-packages (from typer<0.5.0,>=0.3.0->spacy<3.5.0,>=3.4.0->es-core-news-md==3.4.0) (7.1.2)\n",
            "Requirement already satisfied: MarkupSafe>=0.23 in /usr/local/lib/python3.7/dist-packages (from jinja2->spacy<3.5.0,>=3.4.0->es-core-news-md==3.4.0) (2.0.1)\n",
            "Installing collected packages: es-core-news-md\n",
            "Successfully installed es-core-news-md-3.4.0\n",
            "\u001b[38;5;2m✔ Download and installation successful\u001b[0m\n",
            "You can now load the package via spacy.load('es_core_news_md')\n"
          ]
        }
      ]
    },
    {
      "cell_type": "code",
      "source": [
        "# Función para lematizar\n",
        "\n",
        "# Creamos el objeto\n",
        "import spacy\n",
        "import es_core_news_md\n",
        "spacy.prefer_gpu() # or spacy.require_gpu()\n",
        "nlp = es_core_news_md.load()\n",
        "\n",
        "# Definimos función\n",
        "def lemmatizer(df):\n",
        "    word_list = []\n",
        "    doc = nlp(df)\n",
        "    for tok in doc:\n",
        "        if str(tok) == 'menc':\n",
        "              word_list.append('{menc}')\n",
        "        elif str(tok) == 'hash':\n",
        "              word_list.append('{hash}')\n",
        "        elif str(tok) == 'link':\n",
        "              word_list.append('{link}')\n",
        "        elif str(tok) == 'emoji_pos':\n",
        "              word_list.append('{emoji_pos}')\n",
        "        elif str(tok) == 'emoji_neu':\n",
        "              word_list.append('{emoji_neu}')\n",
        "        elif str(tok) == 'emoji_neg':\n",
        "              word_list.append('{emoji_neg}')\n",
        "        elif str(tok) == 'eur':\n",
        "              word_list.append('{eur}')\n",
        "        else:\n",
        "            word_list.append(tok.lemma_.lower())\n",
        "\n",
        "    return \" \".join([word for word in word_list if (word != '{') and (word!='}')]) "
      ],
      "metadata": {
        "id": "HA-vE9R2G6bn"
      },
      "execution_count": 30,
      "outputs": []
    },
    {
      "cell_type": "code",
      "source": [
        "# Creamos la funcion 'transform_text' que va a remover stopwords y algunos caracteres peculiares de twitter\n",
        "\n",
        "\n",
        "def transform_text(text):\n",
        "  stopWords = set(stopwords.words('spanish'))\n",
        "  text = str(text)\n",
        "  text = re.sub(r'@[A-Za-z0-9]+', ' ', text) #Remover menciones @\n",
        "  text = re.sub(r'RT[|\\s]', ' ', text) # Remover RTs\n",
        "  text = re.sub(r'#', ' ', text) #Remover # en el tweet\n",
        "  text = re.sub(r'https?:\\/\\/\\S+', ' ', text) #Remover links\n",
        "  text = text.lstrip(' ') # Remover espacios delante del texto\n",
        "  #text = correcting_words(text)\n",
        "\n",
        "  pattern = r'''(?x)                    # set flag to allow verbose regexps\n",
        "              (?:[A-Z]\\.)+            # abbreviations, e.g. U.S.A\n",
        "              | \\w+(?:-\\w+)*          # Words with optional internal hyphens\n",
        "              | \\$?\\d+(?:\\.\\d+)?%?    # Currency and precentages, e.g. $12.40 82%\n",
        "              | \\.\\.\\.                # Ellipsis\n",
        "              | [][.,;\"'?():-_`]      #These are separate tokens; includes ],[\n",
        "              '''\n",
        "  words = nltk.regexp_tokenize(text, pattern)\n",
        "  re_punc = re.compile('[%s]' % re.escape(string.punctuation)) # Remover signos de puntuacion\n",
        "  stripped = [re_punc.sub('', w) for w in words]\n",
        "  no_garbage = [w for w in stripped if  w.lower() not in stopWords] # Remover stopwords\n",
        "  result = [lemmatizer(w) for w in no_garbage]\n",
        "\n",
        "  return (\" \".join(result))"
      ],
      "metadata": {
        "id": "OsZUyKKIF_xZ"
      },
      "execution_count": 31,
      "outputs": []
    },
    {
      "cell_type": "code",
      "source": [
        "df.text = df.text.apply(transform_text)"
      ],
      "metadata": {
        "id": "m8tHEyakFrrA"
      },
      "execution_count": 32,
      "outputs": []
    },
    {
      "cell_type": "code",
      "source": [
        "df.head()"
      ],
      "metadata": {
        "colab": {
          "base_uri": "https://localhost:8080/",
          "height": 441
        },
        "id": "T7tBOeElGIqD",
        "outputId": "42e5c718-9ec8-4edd-bef3-b48d0963f484"
      },
      "execution_count": 33,
      "outputs": [
        {
          "output_type": "execute_result",
          "data": {
            "text/plain": [
              "      Unnamed: 0  Unnamed: 0.1 sentiment  \\\n",
              "7804        7806          7806  POSITIVE   \n",
              "7805        7807          7807  POSITIVE   \n",
              "7806        7808          7808  POSITIVE   \n",
              "7807        7809          7809  POSITIVE   \n",
              "7808        7810          7810  POSITIVE   \n",
              "\n",
              "                                                   text  \\\n",
              "7804  gran noticia poder respirar tranquilo premierl...   \n",
              "7805                      buen hincha chelseafc  opinar   \n",
              "7806  bien ahora seguir as contar todo confianza raf...   \n",
              "7807  retirar él cole poder ver enserio precio   cryliv   \n",
              "7808     ruguayo tas loco merecer pibe tremendo jugador   \n",
              "\n",
              "                                       tweets_transform  \\\n",
              "7804  Gran noticia puede respirar tranquilo PremierL...   \n",
              "7805                      buen hincha Chelseafc  opinas   \n",
              "7806  bien ahora seguir as cuenta toda confianza Raf...   \n",
              "7807   Retirarse cole poder ver enserio precio   CRYLIV   \n",
              "7808      ruguayo Tas loco merece pibe tremendo jugador   \n",
              "\n",
              "                                                 text.1  resultado pred  \\\n",
              "7804  �Gran noticia y el @SpursOfficial ya puede res...               2   \n",
              "7805  @DeportesKC como un buen hincha del #Chelseafc...               1   \n",
              "7806  Que bien lo de @salorondon23 ahora a seguir as...               2   \n",
              "7807  Retirarse del cole para poder ver a @LFC enser...               0   \n",
              "7808  @Buysan @LTorreira34 @Arsenal @U_ru_guayo Tas ...               2   \n",
              "\n",
              "     sentimiento prediction  \n",
              "7804    Positive   POSITIVE  \n",
              "7805     Neutral    NEUTRAL  \n",
              "7806    Positive   POSITIVE  \n",
              "7807    Negative   NEGATIVE  \n",
              "7808    Positive   POSITIVE  "
            ],
            "text/html": [
              "\n",
              "  <div id=\"df-b5754f96-3ace-4729-981a-1e5514d896fb\">\n",
              "    <div class=\"colab-df-container\">\n",
              "      <div>\n",
              "<style scoped>\n",
              "    .dataframe tbody tr th:only-of-type {\n",
              "        vertical-align: middle;\n",
              "    }\n",
              "\n",
              "    .dataframe tbody tr th {\n",
              "        vertical-align: top;\n",
              "    }\n",
              "\n",
              "    .dataframe thead th {\n",
              "        text-align: right;\n",
              "    }\n",
              "</style>\n",
              "<table border=\"1\" class=\"dataframe\">\n",
              "  <thead>\n",
              "    <tr style=\"text-align: right;\">\n",
              "      <th></th>\n",
              "      <th>Unnamed: 0</th>\n",
              "      <th>Unnamed: 0.1</th>\n",
              "      <th>sentiment</th>\n",
              "      <th>text</th>\n",
              "      <th>tweets_transform</th>\n",
              "      <th>text.1</th>\n",
              "      <th>resultado pred</th>\n",
              "      <th>sentimiento</th>\n",
              "      <th>prediction</th>\n",
              "    </tr>\n",
              "  </thead>\n",
              "  <tbody>\n",
              "    <tr>\n",
              "      <th>7804</th>\n",
              "      <td>7806</td>\n",
              "      <td>7806</td>\n",
              "      <td>POSITIVE</td>\n",
              "      <td>gran noticia poder respirar tranquilo premierl...</td>\n",
              "      <td>Gran noticia puede respirar tranquilo PremierL...</td>\n",
              "      <td>�Gran noticia y el @SpursOfficial ya puede res...</td>\n",
              "      <td>2</td>\n",
              "      <td>Positive</td>\n",
              "      <td>POSITIVE</td>\n",
              "    </tr>\n",
              "    <tr>\n",
              "      <th>7805</th>\n",
              "      <td>7807</td>\n",
              "      <td>7807</td>\n",
              "      <td>POSITIVE</td>\n",
              "      <td>buen hincha chelseafc  opinar</td>\n",
              "      <td>buen hincha Chelseafc  opinas</td>\n",
              "      <td>@DeportesKC como un buen hincha del #Chelseafc...</td>\n",
              "      <td>1</td>\n",
              "      <td>Neutral</td>\n",
              "      <td>NEUTRAL</td>\n",
              "    </tr>\n",
              "    <tr>\n",
              "      <th>7806</th>\n",
              "      <td>7808</td>\n",
              "      <td>7808</td>\n",
              "      <td>POSITIVE</td>\n",
              "      <td>bien ahora seguir as contar todo confianza raf...</td>\n",
              "      <td>bien ahora seguir as cuenta toda confianza Raf...</td>\n",
              "      <td>Que bien lo de @salorondon23 ahora a seguir as...</td>\n",
              "      <td>2</td>\n",
              "      <td>Positive</td>\n",
              "      <td>POSITIVE</td>\n",
              "    </tr>\n",
              "    <tr>\n",
              "      <th>7807</th>\n",
              "      <td>7809</td>\n",
              "      <td>7809</td>\n",
              "      <td>POSITIVE</td>\n",
              "      <td>retirar él cole poder ver enserio precio   cryliv</td>\n",
              "      <td>Retirarse cole poder ver enserio precio   CRYLIV</td>\n",
              "      <td>Retirarse del cole para poder ver a @LFC enser...</td>\n",
              "      <td>0</td>\n",
              "      <td>Negative</td>\n",
              "      <td>NEGATIVE</td>\n",
              "    </tr>\n",
              "    <tr>\n",
              "      <th>7808</th>\n",
              "      <td>7810</td>\n",
              "      <td>7810</td>\n",
              "      <td>POSITIVE</td>\n",
              "      <td>ruguayo tas loco merecer pibe tremendo jugador</td>\n",
              "      <td>ruguayo Tas loco merece pibe tremendo jugador</td>\n",
              "      <td>@Buysan @LTorreira34 @Arsenal @U_ru_guayo Tas ...</td>\n",
              "      <td>2</td>\n",
              "      <td>Positive</td>\n",
              "      <td>POSITIVE</td>\n",
              "    </tr>\n",
              "  </tbody>\n",
              "</table>\n",
              "</div>\n",
              "      <button class=\"colab-df-convert\" onclick=\"convertToInteractive('df-b5754f96-3ace-4729-981a-1e5514d896fb')\"\n",
              "              title=\"Convert this dataframe to an interactive table.\"\n",
              "              style=\"display:none;\">\n",
              "        \n",
              "  <svg xmlns=\"http://www.w3.org/2000/svg\" height=\"24px\"viewBox=\"0 0 24 24\"\n",
              "       width=\"24px\">\n",
              "    <path d=\"M0 0h24v24H0V0z\" fill=\"none\"/>\n",
              "    <path d=\"M18.56 5.44l.94 2.06.94-2.06 2.06-.94-2.06-.94-.94-2.06-.94 2.06-2.06.94zm-11 1L8.5 8.5l.94-2.06 2.06-.94-2.06-.94L8.5 2.5l-.94 2.06-2.06.94zm10 10l.94 2.06.94-2.06 2.06-.94-2.06-.94-.94-2.06-.94 2.06-2.06.94z\"/><path d=\"M17.41 7.96l-1.37-1.37c-.4-.4-.92-.59-1.43-.59-.52 0-1.04.2-1.43.59L10.3 9.45l-7.72 7.72c-.78.78-.78 2.05 0 2.83L4 21.41c.39.39.9.59 1.41.59.51 0 1.02-.2 1.41-.59l7.78-7.78 2.81-2.81c.8-.78.8-2.07 0-2.86zM5.41 20L4 18.59l7.72-7.72 1.47 1.35L5.41 20z\"/>\n",
              "  </svg>\n",
              "      </button>\n",
              "      \n",
              "  <style>\n",
              "    .colab-df-container {\n",
              "      display:flex;\n",
              "      flex-wrap:wrap;\n",
              "      gap: 12px;\n",
              "    }\n",
              "\n",
              "    .colab-df-convert {\n",
              "      background-color: #E8F0FE;\n",
              "      border: none;\n",
              "      border-radius: 50%;\n",
              "      cursor: pointer;\n",
              "      display: none;\n",
              "      fill: #1967D2;\n",
              "      height: 32px;\n",
              "      padding: 0 0 0 0;\n",
              "      width: 32px;\n",
              "    }\n",
              "\n",
              "    .colab-df-convert:hover {\n",
              "      background-color: #E2EBFA;\n",
              "      box-shadow: 0px 1px 2px rgba(60, 64, 67, 0.3), 0px 1px 3px 1px rgba(60, 64, 67, 0.15);\n",
              "      fill: #174EA6;\n",
              "    }\n",
              "\n",
              "    [theme=dark] .colab-df-convert {\n",
              "      background-color: #3B4455;\n",
              "      fill: #D2E3FC;\n",
              "    }\n",
              "\n",
              "    [theme=dark] .colab-df-convert:hover {\n",
              "      background-color: #434B5C;\n",
              "      box-shadow: 0px 1px 3px 1px rgba(0, 0, 0, 0.15);\n",
              "      filter: drop-shadow(0px 1px 2px rgba(0, 0, 0, 0.3));\n",
              "      fill: #FFFFFF;\n",
              "    }\n",
              "  </style>\n",
              "\n",
              "      <script>\n",
              "        const buttonEl =\n",
              "          document.querySelector('#df-b5754f96-3ace-4729-981a-1e5514d896fb button.colab-df-convert');\n",
              "        buttonEl.style.display =\n",
              "          google.colab.kernel.accessAllowed ? 'block' : 'none';\n",
              "\n",
              "        async function convertToInteractive(key) {\n",
              "          const element = document.querySelector('#df-b5754f96-3ace-4729-981a-1e5514d896fb');\n",
              "          const dataTable =\n",
              "            await google.colab.kernel.invokeFunction('convertToInteractive',\n",
              "                                                     [key], {});\n",
              "          if (!dataTable) return;\n",
              "\n",
              "          const docLinkHtml = 'Like what you see? Visit the ' +\n",
              "            '<a target=\"_blank\" href=https://colab.research.google.com/notebooks/data_table.ipynb>data table notebook</a>'\n",
              "            + ' to learn more about interactive tables.';\n",
              "          element.innerHTML = '';\n",
              "          dataTable['output_type'] = 'display_data';\n",
              "          await google.colab.output.renderOutput(dataTable, element);\n",
              "          const docLink = document.createElement('div');\n",
              "          docLink.innerHTML = docLinkHtml;\n",
              "          element.appendChild(docLink);\n",
              "        }\n",
              "      </script>\n",
              "    </div>\n",
              "  </div>\n",
              "  "
            ]
          },
          "metadata": {},
          "execution_count": 33
        }
      ]
    },
    {
      "cell_type": "code",
      "source": [
        "# Creamos X,y\n",
        "\n",
        "X = df['text']\n",
        "y = df.replace({'sentiment': {'NEGATIVE': 0, 'POSITIVE': 1}})['sentiment']"
      ],
      "metadata": {
        "id": "HC5xBfO6EMUj"
      },
      "execution_count": 34,
      "outputs": []
    },
    {
      "cell_type": "code",
      "source": [
        "# Creamos train/test\n",
        "from sklearn.model_selection import train_test_split\n",
        "from sklearn.model_selection import GridSearchCV\n",
        "\n",
        "X_train, X_test, y_train, y_test = train_test_split(X, y,\n",
        "                                                    random_state = 42,\n",
        "                                                    test_size = 0.2)"
      ],
      "metadata": {
        "id": "IsPCo_CLwYp_"
      },
      "execution_count": 35,
      "outputs": []
    },
    {
      "cell_type": "code",
      "source": [
        "# Vectorizamos\n",
        "from sklearn.feature_extraction.text import CountVectorizer\n",
        "\n",
        "# Creamos objeto y entrenamos\n",
        "baseline_vectorizer = CountVectorizer(binary = True,\n",
        "                                      ngram_range=(1, 3))\n",
        "baseline_vectorizer.fit(X_train)\n",
        "\n",
        "# Transformamos X en sparse vector\n",
        "X_train_baseline = baseline_vectorizer.transform(X_train)\n",
        "X_test_baseline = baseline_vectorizer.transform(X_test)"
      ],
      "metadata": {
        "id": "ORIzrY2IwYme"
      },
      "execution_count": 36,
      "outputs": []
    },
    {
      "cell_type": "code",
      "execution_count": null,
      "metadata": {
        "id": "Geec0wunSEHA"
      },
      "outputs": [],
      "source": []
    },
    {
      "cell_type": "markdown",
      "source": [
        "### Logistic Regression Modelo (Count-Vectorized)"
      ],
      "metadata": {
        "id": "97-oe-xh0qSU"
      }
    },
    {
      "cell_type": "code",
      "source": [
        "%%time\n",
        "from sklearn.linear_model import LogisticRegression\n",
        "\n",
        "# Creamos modelo\n",
        "lr_cv_params = dict(C = [0.25, 0.5, 0.75],\n",
        "                    penalty = ['l1', 'l2'],\n",
        "                    class_weight = [None, 'balanced'],\n",
        "                    solver = ['newton-cg', 'sag', 'lbfgs'])\n",
        "\n",
        "lr_cv_grid = GridSearchCV(LogisticRegression(max_iter = 300),\n",
        "                     lr_cv_params,\n",
        "                     cv = 5,\n",
        "                     n_jobs = -1,\n",
        "                     scoring = 'accuracy').fit(X_train_baseline,\n",
        "                                               y_train)\n",
        "print('Best score:', lr_cv_grid.best_score_)\n",
        "print('Best params:', lr_cv_grid.best_params_)"
      ],
      "metadata": {
        "colab": {
          "base_uri": "https://localhost:8080/"
        },
        "id": "lOIRh8gr0onS",
        "outputId": "fcdaf099-4abd-4e6b-eaef-f233db951ddb"
      },
      "execution_count": 37,
      "outputs": [
        {
          "output_type": "stream",
          "name": "stdout",
          "text": [
            "Best score: 0.8634323876462056\n",
            "Best params: {'C': 0.75, 'class_weight': None, 'penalty': 'l2', 'solver': 'sag'}\n",
            "CPU times: user 2.32 s, sys: 202 ms, total: 2.52 s\n",
            "Wall time: 35.9 s\n"
          ]
        }
      ]
    },
    {
      "cell_type": "code",
      "source": [
        "y_pred_log_reg_cv_proba = lr_cv_grid.predict_proba(X_test_baseline)\n",
        "y_pred_log_reg_cv_proba"
      ],
      "metadata": {
        "colab": {
          "base_uri": "https://localhost:8080/"
        },
        "id": "GEqX1xgOOryw",
        "outputId": "f450efc1-c8b5-4c48-fe67-0b7c348aef3e"
      },
      "execution_count": 38,
      "outputs": [
        {
          "output_type": "execute_result",
          "data": {
            "text/plain": [
              "array([[0.27815168, 0.72184832],\n",
              "       [0.99217373, 0.00782627],\n",
              "       [0.15585907, 0.84414093],\n",
              "       ...,\n",
              "       [0.74276303, 0.25723697],\n",
              "       [0.47250298, 0.52749702],\n",
              "       [0.0365099 , 0.9634901 ]])"
            ]
          },
          "metadata": {},
          "execution_count": 38
        }
      ]
    },
    {
      "cell_type": "markdown",
      "source": [
        "#### TF-IDF"
      ],
      "metadata": {
        "id": "1O13Nxd_R9Q0"
      }
    },
    {
      "cell_type": "code",
      "source": [
        "from sklearn.feature_extraction.text import TfidfVectorizer\n",
        "# Vectorizamos\n",
        "tfidf = TfidfVectorizer()\n",
        "tfidf.fit(X_train)\n",
        "X_train_tfidf = tfidf.transform(X_train)\n",
        "X_test_tfidf = tfidf.transform(X_test)"
      ],
      "metadata": {
        "id": "LzqsvHZ2RY0P"
      },
      "execution_count": 39,
      "outputs": []
    },
    {
      "cell_type": "markdown",
      "source": [
        "#### Logistic Reg 2"
      ],
      "metadata": {
        "id": "MfRCsNcaSTHR"
      }
    },
    {
      "cell_type": "code",
      "source": [
        "# Entrenamos reg. log\n",
        "from sklearn.linear_model import LogisticRegression\n",
        "\n",
        "lr_tfidf_params = dict(\n",
        "    C = [0.5, 1, 1.5, 2]\n",
        ")\n",
        "lr_tfidf = GridSearchCV(LogisticRegression(),\n",
        "                        lr_tfidf_params,\n",
        "                        cv = 5,\n",
        "                        scoring = 'accuracy',\n",
        "                        n_jobs = -1).fit(X_train_tfidf, y_train)\n",
        "\n",
        "print('Best score:', lr_tfidf.best_score_)\n",
        "print('Best params:', lr_tfidf.best_params_)"
      ],
      "metadata": {
        "colab": {
          "base_uri": "https://localhost:8080/"
        },
        "id": "N6Utpt5RSAfT",
        "outputId": "24969590-5650-4c70-e189-5ba597fb2821"
      },
      "execution_count": 40,
      "outputs": [
        {
          "output_type": "stream",
          "name": "stdout",
          "text": [
            "Best score: 0.8658425425284907\n",
            "Best params: {'C': 2}\n"
          ]
        }
      ]
    },
    {
      "cell_type": "markdown",
      "source": [
        "### Predicting with LR model"
      ],
      "metadata": {
        "id": "J88G8JDJWA_z"
      }
    },
    {
      "cell_type": "code",
      "source": [
        "# Función para establecer el threshold en 0.5\n",
        "def get_label_predict(probas):\n",
        "  if np.argmax(probas)<= 0.5:\n",
        "    return 0\n",
        "  else:\n",
        "    return 1"
      ],
      "metadata": {
        "id": "nb32w0V8SaPV"
      },
      "execution_count": 41,
      "outputs": []
    },
    {
      "cell_type": "code",
      "source": [
        "# Función para predecir\n",
        "def pred_tweet(text):\n",
        "  text = transform_text(text)\n",
        "  sentiment = ['Negativo', 'Positivo']\n",
        "  X_pred = baseline_vectorizer.transform([text])\n",
        "  #print(lr_cv_grid.predict_proba(X_pred))\n",
        "  #print('Tweet sentiment:', sentiment[get_label_predict(lr_cv_grid.predict_proba(X_pred)[0])])\n",
        "  result = sentiment[get_label_predict(lr_cv_grid.predict_proba(X_pred)[0])]\n",
        "  return result"
      ],
      "metadata": {
        "id": "WZInDpgITGP7"
      },
      "execution_count": 42,
      "outputs": []
    },
    {
      "cell_type": "code",
      "source": [
        "pred_tweet(\"\"\"Que el 90% de los mensajes que se están dando de cara \\\n",
        "a las navidades están hechos pensando en familias nucleares estándar es algo que me fascina.\n",
        "El no te juntes con nadie puede ser un poquito duro si vives solo, por ejemplo, y no es precisamente el caso de poca gente.\"\"\")"
      ],
      "metadata": {
        "colab": {
          "base_uri": "https://localhost:8080/",
          "height": 36
        },
        "id": "kMyoSANOXKNr",
        "outputId": "219b5653-ecdb-4821-9f00-d17d1507c53d"
      },
      "execution_count": 43,
      "outputs": [
        {
          "output_type": "execute_result",
          "data": {
            "text/plain": [
              "'Negativo'"
            ],
            "application/vnd.google.colaboratory.intrinsic+json": {
              "type": "string"
            }
          },
          "metadata": {},
          "execution_count": 43
        }
      ]
    },
    {
      "cell_type": "code",
      "source": [
        "pred_tweet('¡Enhorabuena! Trabajazo de @susanasolisp como \\\n",
        "negociadora del @Europarl_ES de los fondos estructurales. \\\n",
        "Explicación en el hilo.')"
      ],
      "metadata": {
        "colab": {
          "base_uri": "https://localhost:8080/",
          "height": 36
        },
        "id": "g4LdjVHoXjaU",
        "outputId": "b32d0bf3-b420-4426-e23b-71a4046599d9"
      },
      "execution_count": 44,
      "outputs": [
        {
          "output_type": "execute_result",
          "data": {
            "text/plain": [
              "'Positivo'"
            ],
            "application/vnd.google.colaboratory.intrinsic+json": {
              "type": "string"
            }
          },
          "metadata": {},
          "execution_count": 44
        }
      ]
    },
    {
      "cell_type": "code",
      "source": [
        "df.head()"
      ],
      "metadata": {
        "colab": {
          "base_uri": "https://localhost:8080/",
          "height": 441
        },
        "id": "9awYmtwVsFw1",
        "outputId": "85b4527f-5090-4549-ce86-b32371dbcc2b"
      },
      "execution_count": 45,
      "outputs": [
        {
          "output_type": "execute_result",
          "data": {
            "text/plain": [
              "      Unnamed: 0  Unnamed: 0.1 sentiment  \\\n",
              "7804        7806          7806  POSITIVE   \n",
              "7805        7807          7807  POSITIVE   \n",
              "7806        7808          7808  POSITIVE   \n",
              "7807        7809          7809  POSITIVE   \n",
              "7808        7810          7810  POSITIVE   \n",
              "\n",
              "                                                   text  \\\n",
              "7804  gran noticia poder respirar tranquilo premierl...   \n",
              "7805                      buen hincha chelseafc  opinar   \n",
              "7806  bien ahora seguir as contar todo confianza raf...   \n",
              "7807  retirar él cole poder ver enserio precio   cryliv   \n",
              "7808     ruguayo tas loco merecer pibe tremendo jugador   \n",
              "\n",
              "                                       tweets_transform  \\\n",
              "7804  Gran noticia puede respirar tranquilo PremierL...   \n",
              "7805                      buen hincha Chelseafc  opinas   \n",
              "7806  bien ahora seguir as cuenta toda confianza Raf...   \n",
              "7807   Retirarse cole poder ver enserio precio   CRYLIV   \n",
              "7808      ruguayo Tas loco merece pibe tremendo jugador   \n",
              "\n",
              "                                                 text.1  resultado pred  \\\n",
              "7804  �Gran noticia y el @SpursOfficial ya puede res...               2   \n",
              "7805  @DeportesKC como un buen hincha del #Chelseafc...               1   \n",
              "7806  Que bien lo de @salorondon23 ahora a seguir as...               2   \n",
              "7807  Retirarse del cole para poder ver a @LFC enser...               0   \n",
              "7808  @Buysan @LTorreira34 @Arsenal @U_ru_guayo Tas ...               2   \n",
              "\n",
              "     sentimiento prediction  \n",
              "7804    Positive   POSITIVE  \n",
              "7805     Neutral    NEUTRAL  \n",
              "7806    Positive   POSITIVE  \n",
              "7807    Negative   NEGATIVE  \n",
              "7808    Positive   POSITIVE  "
            ],
            "text/html": [
              "\n",
              "  <div id=\"df-6bdb47d9-fba2-43db-846b-a25ad4caf7c4\">\n",
              "    <div class=\"colab-df-container\">\n",
              "      <div>\n",
              "<style scoped>\n",
              "    .dataframe tbody tr th:only-of-type {\n",
              "        vertical-align: middle;\n",
              "    }\n",
              "\n",
              "    .dataframe tbody tr th {\n",
              "        vertical-align: top;\n",
              "    }\n",
              "\n",
              "    .dataframe thead th {\n",
              "        text-align: right;\n",
              "    }\n",
              "</style>\n",
              "<table border=\"1\" class=\"dataframe\">\n",
              "  <thead>\n",
              "    <tr style=\"text-align: right;\">\n",
              "      <th></th>\n",
              "      <th>Unnamed: 0</th>\n",
              "      <th>Unnamed: 0.1</th>\n",
              "      <th>sentiment</th>\n",
              "      <th>text</th>\n",
              "      <th>tweets_transform</th>\n",
              "      <th>text.1</th>\n",
              "      <th>resultado pred</th>\n",
              "      <th>sentimiento</th>\n",
              "      <th>prediction</th>\n",
              "    </tr>\n",
              "  </thead>\n",
              "  <tbody>\n",
              "    <tr>\n",
              "      <th>7804</th>\n",
              "      <td>7806</td>\n",
              "      <td>7806</td>\n",
              "      <td>POSITIVE</td>\n",
              "      <td>gran noticia poder respirar tranquilo premierl...</td>\n",
              "      <td>Gran noticia puede respirar tranquilo PremierL...</td>\n",
              "      <td>�Gran noticia y el @SpursOfficial ya puede res...</td>\n",
              "      <td>2</td>\n",
              "      <td>Positive</td>\n",
              "      <td>POSITIVE</td>\n",
              "    </tr>\n",
              "    <tr>\n",
              "      <th>7805</th>\n",
              "      <td>7807</td>\n",
              "      <td>7807</td>\n",
              "      <td>POSITIVE</td>\n",
              "      <td>buen hincha chelseafc  opinar</td>\n",
              "      <td>buen hincha Chelseafc  opinas</td>\n",
              "      <td>@DeportesKC como un buen hincha del #Chelseafc...</td>\n",
              "      <td>1</td>\n",
              "      <td>Neutral</td>\n",
              "      <td>NEUTRAL</td>\n",
              "    </tr>\n",
              "    <tr>\n",
              "      <th>7806</th>\n",
              "      <td>7808</td>\n",
              "      <td>7808</td>\n",
              "      <td>POSITIVE</td>\n",
              "      <td>bien ahora seguir as contar todo confianza raf...</td>\n",
              "      <td>bien ahora seguir as cuenta toda confianza Raf...</td>\n",
              "      <td>Que bien lo de @salorondon23 ahora a seguir as...</td>\n",
              "      <td>2</td>\n",
              "      <td>Positive</td>\n",
              "      <td>POSITIVE</td>\n",
              "    </tr>\n",
              "    <tr>\n",
              "      <th>7807</th>\n",
              "      <td>7809</td>\n",
              "      <td>7809</td>\n",
              "      <td>POSITIVE</td>\n",
              "      <td>retirar él cole poder ver enserio precio   cryliv</td>\n",
              "      <td>Retirarse cole poder ver enserio precio   CRYLIV</td>\n",
              "      <td>Retirarse del cole para poder ver a @LFC enser...</td>\n",
              "      <td>0</td>\n",
              "      <td>Negative</td>\n",
              "      <td>NEGATIVE</td>\n",
              "    </tr>\n",
              "    <tr>\n",
              "      <th>7808</th>\n",
              "      <td>7810</td>\n",
              "      <td>7810</td>\n",
              "      <td>POSITIVE</td>\n",
              "      <td>ruguayo tas loco merecer pibe tremendo jugador</td>\n",
              "      <td>ruguayo Tas loco merece pibe tremendo jugador</td>\n",
              "      <td>@Buysan @LTorreira34 @Arsenal @U_ru_guayo Tas ...</td>\n",
              "      <td>2</td>\n",
              "      <td>Positive</td>\n",
              "      <td>POSITIVE</td>\n",
              "    </tr>\n",
              "  </tbody>\n",
              "</table>\n",
              "</div>\n",
              "      <button class=\"colab-df-convert\" onclick=\"convertToInteractive('df-6bdb47d9-fba2-43db-846b-a25ad4caf7c4')\"\n",
              "              title=\"Convert this dataframe to an interactive table.\"\n",
              "              style=\"display:none;\">\n",
              "        \n",
              "  <svg xmlns=\"http://www.w3.org/2000/svg\" height=\"24px\"viewBox=\"0 0 24 24\"\n",
              "       width=\"24px\">\n",
              "    <path d=\"M0 0h24v24H0V0z\" fill=\"none\"/>\n",
              "    <path d=\"M18.56 5.44l.94 2.06.94-2.06 2.06-.94-2.06-.94-.94-2.06-.94 2.06-2.06.94zm-11 1L8.5 8.5l.94-2.06 2.06-.94-2.06-.94L8.5 2.5l-.94 2.06-2.06.94zm10 10l.94 2.06.94-2.06 2.06-.94-2.06-.94-.94-2.06-.94 2.06-2.06.94z\"/><path d=\"M17.41 7.96l-1.37-1.37c-.4-.4-.92-.59-1.43-.59-.52 0-1.04.2-1.43.59L10.3 9.45l-7.72 7.72c-.78.78-.78 2.05 0 2.83L4 21.41c.39.39.9.59 1.41.59.51 0 1.02-.2 1.41-.59l7.78-7.78 2.81-2.81c.8-.78.8-2.07 0-2.86zM5.41 20L4 18.59l7.72-7.72 1.47 1.35L5.41 20z\"/>\n",
              "  </svg>\n",
              "      </button>\n",
              "      \n",
              "  <style>\n",
              "    .colab-df-container {\n",
              "      display:flex;\n",
              "      flex-wrap:wrap;\n",
              "      gap: 12px;\n",
              "    }\n",
              "\n",
              "    .colab-df-convert {\n",
              "      background-color: #E8F0FE;\n",
              "      border: none;\n",
              "      border-radius: 50%;\n",
              "      cursor: pointer;\n",
              "      display: none;\n",
              "      fill: #1967D2;\n",
              "      height: 32px;\n",
              "      padding: 0 0 0 0;\n",
              "      width: 32px;\n",
              "    }\n",
              "\n",
              "    .colab-df-convert:hover {\n",
              "      background-color: #E2EBFA;\n",
              "      box-shadow: 0px 1px 2px rgba(60, 64, 67, 0.3), 0px 1px 3px 1px rgba(60, 64, 67, 0.15);\n",
              "      fill: #174EA6;\n",
              "    }\n",
              "\n",
              "    [theme=dark] .colab-df-convert {\n",
              "      background-color: #3B4455;\n",
              "      fill: #D2E3FC;\n",
              "    }\n",
              "\n",
              "    [theme=dark] .colab-df-convert:hover {\n",
              "      background-color: #434B5C;\n",
              "      box-shadow: 0px 1px 3px 1px rgba(0, 0, 0, 0.15);\n",
              "      filter: drop-shadow(0px 1px 2px rgba(0, 0, 0, 0.3));\n",
              "      fill: #FFFFFF;\n",
              "    }\n",
              "  </style>\n",
              "\n",
              "      <script>\n",
              "        const buttonEl =\n",
              "          document.querySelector('#df-6bdb47d9-fba2-43db-846b-a25ad4caf7c4 button.colab-df-convert');\n",
              "        buttonEl.style.display =\n",
              "          google.colab.kernel.accessAllowed ? 'block' : 'none';\n",
              "\n",
              "        async function convertToInteractive(key) {\n",
              "          const element = document.querySelector('#df-6bdb47d9-fba2-43db-846b-a25ad4caf7c4');\n",
              "          const dataTable =\n",
              "            await google.colab.kernel.invokeFunction('convertToInteractive',\n",
              "                                                     [key], {});\n",
              "          if (!dataTable) return;\n",
              "\n",
              "          const docLinkHtml = 'Like what you see? Visit the ' +\n",
              "            '<a target=\"_blank\" href=https://colab.research.google.com/notebooks/data_table.ipynb>data table notebook</a>'\n",
              "            + ' to learn more about interactive tables.';\n",
              "          element.innerHTML = '';\n",
              "          dataTable['output_type'] = 'display_data';\n",
              "          await google.colab.output.renderOutput(dataTable, element);\n",
              "          const docLink = document.createElement('div');\n",
              "          docLink.innerHTML = docLinkHtml;\n",
              "          element.appendChild(docLink);\n",
              "        }\n",
              "      </script>\n",
              "    </div>\n",
              "  </div>\n",
              "  "
            ]
          },
          "metadata": {},
          "execution_count": 45
        }
      ]
    },
    {
      "cell_type": "code",
      "source": [
        "lista_palabras = df['tweets_transform'].to_list()"
      ],
      "metadata": {
        "id": "DhjgSQPymy_a"
      },
      "execution_count": 46,
      "outputs": []
    },
    {
      "cell_type": "code",
      "source": [
        "from wordcloud import WordCloud, STOPWORDS, ImageColorGenerator\n",
        "from nltk.corpus import stopwords\n",
        "\n",
        "stoplist = set(stopwords.words('spanish'))\n",
        "\n",
        "def word_cloud(wd_list):\n",
        "    #stopwords = set(STOPWORDS)\n",
        "    all_words = ' '.join([text for text in wd_list])\n",
        "    wordcloud = WordCloud(\n",
        "        background_color='white',\n",
        "        stopwords=stoplist,\n",
        "        width=1600,\n",
        "        height=800,\n",
        "        random_state=1,\n",
        "        colormap='jet',\n",
        "        max_words=80,\n",
        "        max_font_size=200).generate(all_words)\n",
        "    plt.figure(figsize=(12, 10))\n",
        "    plt.axis('off')\n",
        "    plt.imshow(wordcloud, interpolation=\"bilinear\");"
      ],
      "metadata": {
        "id": "8Tuidm37mTrT"
      },
      "execution_count": 47,
      "outputs": []
    },
    {
      "cell_type": "code",
      "source": [
        " word_cloud(lista_palabras)"
      ],
      "metadata": {
        "colab": {
          "base_uri": "https://localhost:8080/",
          "height": 366
        },
        "id": "W3QpMlK9mU8l",
        "outputId": "80a7ca81-401f-4fab-8392-d035cd9c074a"
      },
      "execution_count": 48,
      "outputs": [
        {
          "output_type": "display_data",
          "data": {
            "text/plain": [
              "<Figure size 864x720 with 1 Axes>"
            ],
            "image/png": "[encoded data removed]"
          },
          "metadata": {
            "needs_background": "light"
          }
        }
      ]
    },
    {
      "cell_type": "code",
      "source": [
        "df = df[['text', 'sentiment']]"
      ],
      "metadata": {
        "id": "BMnu1a26g0u8"
      },
      "execution_count": 49,
      "outputs": []
    },
    {
      "cell_type": "code",
      "source": [
        "df['text1'] = df['text'].apply(transform_text)"
      ],
      "metadata": {
        "id": "0UCZbvu0g_Mb"
      },
      "execution_count": 50,
      "outputs": []
    },
    {
      "cell_type": "code",
      "source": [
        "df = df.drop('text', axis=1)"
      ],
      "metadata": {
        "id": "sYkYWDNvPLVd"
      },
      "execution_count": 51,
      "outputs": []
    },
    {
      "cell_type": "code",
      "source": [
        "df.rename(columns = {'text1':'text'}, inplace = True)"
      ],
      "metadata": {
        "id": "obn1cEakPYh5"
      },
      "execution_count": 52,
      "outputs": []
    },
    {
      "cell_type": "code",
      "execution_count": 53,
      "metadata": {
        "colab": {
          "base_uri": "https://localhost:8080/",
          "height": 206
        },
        "id": "Qhsy83BVjubY",
        "outputId": "d56b38fe-d6ca-492b-d155-63a39c499742"
      },
      "outputs": [
        {
          "output_type": "execute_result",
          "data": {
            "text/plain": [
              "     sentiment                                               text\n",
              "7804  POSITIVE  gran noticia poder respirar tranquilo premierl...\n",
              "7805  POSITIVE                       buen hincha chelseafc opinar\n",
              "7806  POSITIVE  bien ahora seguir as contar confianza rafa ben...\n",
              "7807  POSITIVE       retirar cole poder ver enserio precio cryliv\n",
              "7808  POSITIVE     ruguayo tos loco merecer pibe tremendo jugador"
            ],
            "text/html": [
              "\n",
              "  <div id=\"df-949c8ce7-7706-4c3b-be01-c36e52af56bc\">\n",
              "    <div class=\"colab-df-container\">\n",
              "      <div>\n",
              "<style scoped>\n",
              "    .dataframe tbody tr th:only-of-type {\n",
              "        vertical-align: middle;\n",
              "    }\n",
              "\n",
              "    .dataframe tbody tr th {\n",
              "        vertical-align: top;\n",
              "    }\n",
              "\n",
              "    .dataframe thead th {\n",
              "        text-align: right;\n",
              "    }\n",
              "</style>\n",
              "<table border=\"1\" class=\"dataframe\">\n",
              "  <thead>\n",
              "    <tr style=\"text-align: right;\">\n",
              "      <th></th>\n",
              "      <th>sentiment</th>\n",
              "      <th>text</th>\n",
              "    </tr>\n",
              "  </thead>\n",
              "  <tbody>\n",
              "    <tr>\n",
              "      <th>7804</th>\n",
              "      <td>POSITIVE</td>\n",
              "      <td>gran noticia poder respirar tranquilo premierl...</td>\n",
              "    </tr>\n",
              "    <tr>\n",
              "      <th>7805</th>\n",
              "      <td>POSITIVE</td>\n",
              "      <td>buen hincha chelseafc opinar</td>\n",
              "    </tr>\n",
              "    <tr>\n",
              "      <th>7806</th>\n",
              "      <td>POSITIVE</td>\n",
              "      <td>bien ahora seguir as contar confianza rafa ben...</td>\n",
              "    </tr>\n",
              "    <tr>\n",
              "      <th>7807</th>\n",
              "      <td>POSITIVE</td>\n",
              "      <td>retirar cole poder ver enserio precio cryliv</td>\n",
              "    </tr>\n",
              "    <tr>\n",
              "      <th>7808</th>\n",
              "      <td>POSITIVE</td>\n",
              "      <td>ruguayo tos loco merecer pibe tremendo jugador</td>\n",
              "    </tr>\n",
              "  </tbody>\n",
              "</table>\n",
              "</div>\n",
              "      <button class=\"colab-df-convert\" onclick=\"convertToInteractive('df-949c8ce7-7706-4c3b-be01-c36e52af56bc')\"\n",
              "              title=\"Convert this dataframe to an interactive table.\"\n",
              "              style=\"display:none;\">\n",
              "        \n",
              "  <svg xmlns=\"http://www.w3.org/2000/svg\" height=\"24px\"viewBox=\"0 0 24 24\"\n",
              "       width=\"24px\">\n",
              "    <path d=\"M0 0h24v24H0V0z\" fill=\"none\"/>\n",
              "    <path d=\"M18.56 5.44l.94 2.06.94-2.06 2.06-.94-2.06-.94-.94-2.06-.94 2.06-2.06.94zm-11 1L8.5 8.5l.94-2.06 2.06-.94-2.06-.94L8.5 2.5l-.94 2.06-2.06.94zm10 10l.94 2.06.94-2.06 2.06-.94-2.06-.94-.94-2.06-.94 2.06-2.06.94z\"/><path d=\"M17.41 7.96l-1.37-1.37c-.4-.4-.92-.59-1.43-.59-.52 0-1.04.2-1.43.59L10.3 9.45l-7.72 7.72c-.78.78-.78 2.05 0 2.83L4 21.41c.39.39.9.59 1.41.59.51 0 1.02-.2 1.41-.59l7.78-7.78 2.81-2.81c.8-.78.8-2.07 0-2.86zM5.41 20L4 18.59l7.72-7.72 1.47 1.35L5.41 20z\"/>\n",
              "  </svg>\n",
              "      </button>\n",
              "      \n",
              "  <style>\n",
              "    .colab-df-container {\n",
              "      display:flex;\n",
              "      flex-wrap:wrap;\n",
              "      gap: 12px;\n",
              "    }\n",
              "\n",
              "    .colab-df-convert {\n",
              "      background-color: #E8F0FE;\n",
              "      border: none;\n",
              "      border-radius: 50%;\n",
              "      cursor: pointer;\n",
              "      display: none;\n",
              "      fill: #1967D2;\n",
              "      height: 32px;\n",
              "      padding: 0 0 0 0;\n",
              "      width: 32px;\n",
              "    }\n",
              "\n",
              "    .colab-df-convert:hover {\n",
              "      background-color: #E2EBFA;\n",
              "      box-shadow: 0px 1px 2px rgba(60, 64, 67, 0.3), 0px 1px 3px 1px rgba(60, 64, 67, 0.15);\n",
              "      fill: #174EA6;\n",
              "    }\n",
              "\n",
              "    [theme=dark] .colab-df-convert {\n",
              "      background-color: #3B4455;\n",
              "      fill: #D2E3FC;\n",
              "    }\n",
              "\n",
              "    [theme=dark] .colab-df-convert:hover {\n",
              "      background-color: #434B5C;\n",
              "      box-shadow: 0px 1px 3px 1px rgba(0, 0, 0, 0.15);\n",
              "      filter: drop-shadow(0px 1px 2px rgba(0, 0, 0, 0.3));\n",
              "      fill: #FFFFFF;\n",
              "    }\n",
              "  </style>\n",
              "\n",
              "      <script>\n",
              "        const buttonEl =\n",
              "          document.querySelector('#df-949c8ce7-7706-4c3b-be01-c36e52af56bc button.colab-df-convert');\n",
              "        buttonEl.style.display =\n",
              "          google.colab.kernel.accessAllowed ? 'block' : 'none';\n",
              "\n",
              "        async function convertToInteractive(key) {\n",
              "          const element = document.querySelector('#df-949c8ce7-7706-4c3b-be01-c36e52af56bc');\n",
              "          const dataTable =\n",
              "            await google.colab.kernel.invokeFunction('convertToInteractive',\n",
              "                                                     [key], {});\n",
              "          if (!dataTable) return;\n",
              "\n",
              "          const docLinkHtml = 'Like what you see? Visit the ' +\n",
              "            '<a target=\"_blank\" href=https://colab.research.google.com/notebooks/data_table.ipynb>data table notebook</a>'\n",
              "            + ' to learn more about interactive tables.';\n",
              "          element.innerHTML = '';\n",
              "          dataTable['output_type'] = 'display_data';\n",
              "          await google.colab.output.renderOutput(dataTable, element);\n",
              "          const docLink = document.createElement('div');\n",
              "          docLink.innerHTML = docLinkHtml;\n",
              "          element.appendChild(docLink);\n",
              "        }\n",
              "      </script>\n",
              "    </div>\n",
              "  </div>\n",
              "  "
            ]
          },
          "metadata": {},
          "execution_count": 53
        }
      ],
      "source": [
        "df.head()"
      ]
    },
    {
      "cell_type": "code",
      "execution_count": null,
      "metadata": {
        "id": "CQK9-sswFjBV"
      },
      "outputs": [],
      "source": [
        "#df_tweets.to_csv('df_tweets_prueba.csv')"
      ]
    },
    {
      "cell_type": "code",
      "execution_count": 54,
      "metadata": {
        "id": "AmHEBr2hxgDl"
      },
      "outputs": [],
      "source": [
        "# df_spark = spark.createDataFrame(data)\n",
        "\n",
        "#df_tweets_sp = spark.createDataFrame(df_tweets)\n",
        "#df_tweets_sp = df_tweets_sp.drop('text')\n",
        "\n",
        "#tweets_bnpl = tweets_bnpl[['tweets_transform']]\n",
        "df_tweets_spark = spark.createDataFrame(df)"
      ]
    },
    {
      "cell_type": "code",
      "source": [
        "#df_tweets_sp = df_tweets_sp.withColumnRenamed('tweets_transform', 'text')"
      ],
      "metadata": {
        "id": "uNLStmP4ydfo"
      },
      "execution_count": 55,
      "outputs": []
    },
    {
      "cell_type": "code",
      "execution_count": 56,
      "metadata": {
        "colab": {
          "base_uri": "https://localhost:8080/"
        },
        "id": "xhIZNOdhgTTG",
        "outputId": "c5b2b4a2-d62d-4c8e-bed2-10815315b254"
      },
      "outputs": [
        {
          "output_type": "stream",
          "name": "stdout",
          "text": [
            "+---------+--------------------+\n",
            "|sentiment|                text|\n",
            "+---------+--------------------+\n",
            "| POSITIVE|gran noticia pode...|\n",
            "| POSITIVE|buen hincha chels...|\n",
            "| POSITIVE|bien ahora seguir...|\n",
            "| POSITIVE|retirar cole pode...|\n",
            "| POSITIVE|ruguayo tos loco ...|\n",
            "| POSITIVE|mou descans jugad...|\n",
            "| POSITIVE|     suerte positivo|\n",
            "| POSITIVE|fin ir tener port...|\n",
            "| POSITIVE|restrar mejor equ...|\n",
            "| POSITIVE|madre m qu hijuep...|\n",
            "| POSITIVE|delantero favorit...|\n",
            "| POSITIVE|premierleaguir so...|\n",
            "| POSITIVE|mano echalir bola...|\n",
            "| POSITIVE|ir segundo partid...|\n",
            "| POSITIVE|incre ble partido...|\n",
            "| POSITIVE|si equipo poder p...|\n",
            "| POSITIVE|superar penal ami...|\n",
            "| POSITIVE|enhorabuena aqu d...|\n",
            "| POSITIVE|definitivamente s...|\n",
            "| POSITIVE|gustado verte jug...|\n",
            "+---------+--------------------+\n",
            "only showing top 20 rows\n",
            "\n"
          ]
        }
      ],
      "source": [
        "df_tweets_spark.show()"
      ]
    },
    {
      "cell_type": "code",
      "execution_count": 58,
      "metadata": {
        "colab": {
          "base_uri": "https://localhost:8080/"
        },
        "id": "OI98DY3fkKWx",
        "outputId": "e892fc58-4c6c-4503-f35c-1cb032491909"
      },
      "outputs": [
        {
          "output_type": "stream",
          "name": "stdout",
          "text": [
            "+---------+\n",
            "|sentiment|\n",
            "+---------+\n",
            "| POSITIVE|\n",
            "| NEGATIVE|\n",
            "+---------+\n",
            "\n"
          ]
        }
      ],
      "source": [
        "a = df_tweets_spark.select('sentiment').distinct()\n",
        "a.show()"
      ]
    },
    {
      "cell_type": "code",
      "execution_count": 59,
      "metadata": {
        "id": "wpndEDdWf_BX"
      },
      "outputs": [],
      "source": [
        "#df_tweets_spark = df_tweets_sp.withColumnRenamed(\"tweets_transform\",\"text\")\n",
        "df_tweets_spark = df_tweets_spark.na.drop()"
      ]
    },
    {
      "cell_type": "code",
      "execution_count": 60,
      "metadata": {
        "colab": {
          "base_uri": "https://localhost:8080/"
        },
        "id": "IbsGfSKTx64h",
        "outputId": "a545c8c2-1c5c-4eb8-d40f-2aee4cedaa60"
      },
      "outputs": [
        {
          "output_type": "stream",
          "name": "stdout",
          "text": [
            "+---------+--------------------+\n",
            "|sentiment|                text|\n",
            "+---------+--------------------+\n",
            "| POSITIVE|gran noticia pode...|\n",
            "| POSITIVE|buen hincha chels...|\n",
            "| POSITIVE|bien ahora seguir...|\n",
            "| POSITIVE|retirar cole pode...|\n",
            "| POSITIVE|ruguayo tos loco ...|\n",
            "| POSITIVE|mou descans jugad...|\n",
            "| POSITIVE|     suerte positivo|\n",
            "| POSITIVE|fin ir tener port...|\n",
            "| POSITIVE|restrar mejor equ...|\n",
            "| POSITIVE|madre m qu hijuep...|\n",
            "| POSITIVE|delantero favorit...|\n",
            "| POSITIVE|premierleaguir so...|\n",
            "| POSITIVE|mano echalir bola...|\n",
            "| POSITIVE|ir segundo partid...|\n",
            "| POSITIVE|incre ble partido...|\n",
            "| POSITIVE|si equipo poder p...|\n",
            "| POSITIVE|superar penal ami...|\n",
            "| POSITIVE|enhorabuena aqu d...|\n",
            "| POSITIVE|definitivamente s...|\n",
            "| POSITIVE|gustado verte jug...|\n",
            "+---------+--------------------+\n",
            "only showing top 20 rows\n",
            "\n"
          ]
        }
      ],
      "source": [
        "df_tweets_spark.show()"
      ]
    },
    {
      "cell_type": "code",
      "execution_count": 61,
      "metadata": {
        "id": "8VVvzssDSDt4"
      },
      "outputs": [],
      "source": [
        "# Import the necessary functions\n",
        "from pyspark.sql.functions import regexp_replace\n",
        "from pyspark.ml.feature import Tokenizer, HashingTF, IDF\n",
        "from pyspark.ml import Pipeline\n",
        "from pyspark.ml.classification import LogisticRegression\n",
        "from pyspark.ml.evaluation import BinaryClassificationEvaluator\n",
        "from pyspark.ml.feature import CountVectorizer\n",
        "from pyspark.ml.tuning import ParamGridBuilder, TrainValidationSplit\n",
        "from pyspark.ml.feature import NGram, VectorAssembler\n",
        "from pyspark.ml.feature import ChiSqSelector\n",
        "from pyspark.ml.classification import MultilayerPerceptronClassifier\n",
        "from sparknlp.pretrained import PretrainedPipeline\n",
        "\n",
        "\n",
        "# Remove punctuation (REGEX provided) and numbers\n",
        "wrangled = df_tweets_spark.withColumn('text', regexp_replace(df_tweets_spark.text, '[_():;,.!?\\\\-]', ' '))\n",
        "wrangled = wrangled.withColumn('text', regexp_replace(wrangled.text, '[0-9]', ' '))\n",
        "\n",
        "# Merge multiple spaces\n",
        "wrangled = wrangled.withColumn('text', regexp_replace(wrangled.text, ' +', ' '))\n",
        "\n",
        "# Split the text into words\n",
        "tokenizer = Tokenizer(inputCol='text', outputCol='words') #.transform(wrangled)\n",
        "\n",
        "#wrangled.show(10, truncate=False)"
      ]
    },
    {
      "cell_type": "code",
      "execution_count": 62,
      "metadata": {
        "colab": {
          "base_uri": "https://localhost:8080/"
        },
        "id": "n85xOq04kvzH",
        "outputId": "641633d7-2417-46ac-9122-28f202b648ac"
      },
      "outputs": [
        {
          "output_type": "stream",
          "name": "stdout",
          "text": [
            "+---------+--------------------+\n",
            "|sentiment|                text|\n",
            "+---------+--------------------+\n",
            "| POSITIVE|gran noticia pode...|\n",
            "| POSITIVE|buen hincha chels...|\n",
            "| POSITIVE|bien ahora seguir...|\n",
            "| POSITIVE|retirar cole pode...|\n",
            "| POSITIVE|ruguayo tos loco ...|\n",
            "| POSITIVE|mou descans jugad...|\n",
            "| POSITIVE|     suerte positivo|\n",
            "| POSITIVE|fin ir tener port...|\n",
            "| POSITIVE|restrar mejor equ...|\n",
            "| POSITIVE|madre m qu hijuep...|\n",
            "| POSITIVE|delantero favorit...|\n",
            "| POSITIVE|premierleaguir so...|\n",
            "| POSITIVE|mano echalir bola...|\n",
            "| POSITIVE|ir segundo partid...|\n",
            "| POSITIVE|incre ble partido...|\n",
            "| POSITIVE|si equipo poder p...|\n",
            "| POSITIVE|superar penal ami...|\n",
            "| POSITIVE|enhorabuena aqu d...|\n",
            "| POSITIVE|definitivamente s...|\n",
            "| POSITIVE|gustado verte jug...|\n",
            "+---------+--------------------+\n",
            "only showing top 20 rows\n",
            "\n"
          ]
        }
      ],
      "source": [
        "wrangled.show()"
      ]
    },
    {
      "cell_type": "code",
      "execution_count": 63,
      "metadata": {
        "colab": {
          "base_uri": "https://localhost:8080/"
        },
        "id": "5z-72iLcjN5H",
        "outputId": "d9b4ed81-3139-412c-a2d6-af7c1959ff2f"
      },
      "outputs": [
        {
          "output_type": "stream",
          "name": "stdout",
          "text": [
            "+---------+\n",
            "|sentiment|\n",
            "+---------+\n",
            "| POSITIVE|\n",
            "| NEGATIVE|\n",
            "+---------+\n",
            "\n"
          ]
        }
      ],
      "source": [
        "wrangled.select('sentiment').distinct().show()"
      ]
    },
    {
      "cell_type": "code",
      "execution_count": null,
      "metadata": {
        "id": "Cq-fwFRrkv2m"
      },
      "outputs": [],
      "source": [
        "from pyspark.ml.feature import Tokenizer\n",
        "\n",
        "# Break text into tokens at non-word characters\n",
        "#tokenizer = Tokenizer(inputCol='text', outputCol='words')\n",
        "\n",
        "# Remove stop words\n",
        "#remover = StopWordsRemover(inputCol=tokenizer.getOutputCol(), outputCol='terms')\n",
        "\n",
        "# Apply the hashing trick and transform to TF-IDF\n",
        "hasher = HashingTF(inputCol=tokenizer.getOutputCol(), outputCol=\"hash\")\n",
        "idf = IDF(inputCol=hasher.getOutputCol(), outputCol=\"features\")\n",
        "label_stringIdx = StringIndexer(inputCol = \"sentimiento\", outputCol = \"label\")\n",
        "\n",
        "# Setting Up the Pipeline\n",
        "pipeline = Pipeline(stages=[tokenizer, hasher, idf, label_stringIdx])"
      ]
    },
    {
      "cell_type": "code",
      "execution_count": null,
      "metadata": {
        "colab": {
          "base_uri": "https://localhost:8080/"
        },
        "id": "HeSP59lq1K7l",
        "outputId": "ad92101d-76bb-4aec-c9b7-fe83ffe16490"
      },
      "outputs": [
        {
          "output_type": "stream",
          "name": "stdout",
          "text": [
            "13803 2\n",
            "3452 2\n",
            "+-----------+--------------------+\n",
            "|sentimiento|                text|\n",
            "+-----------+--------------------+\n",
            "|   Negative| AHORA Superliga ...|\n",
            "|   Negative| ATENCI N Barcelo...|\n",
            "|   Negative|      Amosnomejodas |\n",
            "|   Negative| Anda lloron tene...|\n",
            "|   Negative| Anda romance gol...|\n",
            "|   Negative| Arco mismo Guede...|\n",
            "|   Negative| Arsenal ManCity ...|\n",
            "|   Negative| As marca defensa...|\n",
            "|   Negative| AzulFC Madrid n ...|\n",
            "|   Negative| C mo ponen negro...|\n",
            "|   Negative| Capitano Veamos ...|\n",
            "|   Negative| Central inici de...|\n",
            "|   Negative| Chelsea Bournemo...|\n",
            "|   Negative| Claro juego jaja...|\n",
            "|   Negative| Cruzemos dedos d...|\n",
            "|   Negative| Debieron pagar c...|\n",
            "|   Negative|              Delete|\n",
            "|   Negative| Deportes Javier ...|\n",
            "|   Negative| Entonces entiend...|\n",
            "|   Negative| Espero siga valv...|\n",
            "+-----------+--------------------+\n",
            "only showing top 20 rows\n",
            "\n"
          ]
        }
      ],
      "source": [
        "# Split train test\n",
        "(train_set, test_set) = wrangled.randomSplit([0.8, 0.2], seed = 123)\n",
        "print(train_set.count(), len(train_set.columns))\n",
        "print(test_set.count(), len(test_set.columns))\n",
        "train_set.show()"
      ]
    },
    {
      "cell_type": "code",
      "source": [
        "type(test_set)"
      ],
      "metadata": {
        "colab": {
          "base_uri": "https://localhost:8080/"
        },
        "id": "XG2gA3vHq8Zt",
        "outputId": "c84de210-bb70-4190-9f84-37ec474fc56d"
      },
      "execution_count": null,
      "outputs": [
        {
          "output_type": "execute_result",
          "data": {
            "text/plain": [
              "pyspark.sql.dataframe.DataFrame"
            ]
          },
          "metadata": {},
          "execution_count": 61
        }
      ]
    },
    {
      "cell_type": "code",
      "execution_count": null,
      "metadata": {
        "colab": {
          "base_uri": "https://localhost:8080/"
        },
        "id": "jXl_zLMN3y-_",
        "outputId": "8a917490-7ba8-442e-e098-dea4cf7a1589"
      },
      "outputs": [
        {
          "output_type": "stream",
          "name": "stdout",
          "text": [
            "+-----------+--------------------+--------------------+--------------------+--------------------+-----+\n",
            "|sentimiento|                text|               words|                hash|            features|label|\n",
            "+-----------+--------------------+--------------------+--------------------+--------------------+-----+\n",
            "|   Negative| AHORA Superliga ...|[, ahora, superli...|(262144,[25662,91...|(262144,[25662,91...|  0.0|\n",
            "|   Negative| ATENCI N Barcelo...|[, atenci, n, bar...|(262144,[32967,52...|(262144,[32967,52...|  0.0|\n",
            "|   Negative|      Amosnomejodas |   [, amosnomejodas]|(262144,[35486,24...|(262144,[35486,24...|  0.0|\n",
            "|   Negative| Anda lloron tene...|[, anda, lloron, ...|(262144,[84249,92...|(262144,[84249,92...|  0.0|\n",
            "|   Negative| Anda romance gol...|[, anda, romance,...|(262144,[11022,37...|(262144,[11022,37...|  0.0|\n",
            "+-----------+--------------------+--------------------+--------------------+--------------------+-----+\n",
            "only showing top 5 rows\n",
            "\n"
          ]
        }
      ],
      "source": [
        "pipelineFit = pipeline.fit(train_set)\n",
        "train_df = pipelineFit.transform(train_set)\n",
        "test_set_1 = pipelineFit.transform(test_set)\n",
        "train_df.show(5)"
      ]
    },
    {
      "cell_type": "code",
      "execution_count": null,
      "metadata": {
        "colab": {
          "base_uri": "https://localhost:8080/"
        },
        "id": "NtPKfDaXcrnD",
        "outputId": "fdfe2c43-5ef3-457e-f06e-defb0ceddbbe"
      },
      "outputs": [
        {
          "output_type": "stream",
          "name": "stdout",
          "text": [
            "+-----------+--------------------+--------------------+--------------------+--------------------+-----+\n",
            "|sentimiento|                text|               words|                hash|            features|label|\n",
            "+-----------+--------------------+--------------------+--------------------+--------------------+-----+\n",
            "|   Negative| Ahi ten is the s...|[, ahi, ten, is, ...|(262144,[11712,20...|(262144,[11712,20...|  0.0|\n",
            "|   Negative| Antonio Conte qu...|[, antonio, conte...|(262144,[23,2494,...|(262144,[23,2494,...|  0.0|\n",
            "|   Negative| CURRYARSE CURRYA...|[, curryarse, cur...|(262144,[39365,13...|(262144,[39365,13...|  0.0|\n",
            "|   Negative| Calabuig Creo Ju...|[, calabuig, creo...|(262144,[1303,153...|(262144,[1303,153...|  0.0|\n",
            "|   Negative| CriztianDiaz tem...|[, criztiandiaz, ...|(262144,[6935,168...|(262144,[6935,168...|  0.0|\n",
            "+-----------+--------------------+--------------------+--------------------+--------------------+-----+\n",
            "only showing top 5 rows\n",
            "\n"
          ]
        }
      ],
      "source": [
        "test_set_1.show()"
      ]
    },
    {
      "cell_type": "code",
      "execution_count": null,
      "metadata": {
        "colab": {
          "base_uri": "https://localhost:8080/"
        },
        "id": "xJMnYhK9jAdd",
        "outputId": "4e4384c8-d07e-4496-9b91-c689b5f91b41"
      },
      "outputs": [
        {
          "output_type": "stream",
          "name": "stdout",
          "text": [
            "+-----------+-----+\n",
            "|sentimiento|count|\n",
            "+-----------+-----+\n",
            "|   Positive| 6819|\n",
            "|   Negative| 6984|\n",
            "+-----------+-----+\n",
            "\n"
          ]
        }
      ],
      "source": [
        "train_df.groupBy('sentimiento').count().show()"
      ]
    },
    {
      "cell_type": "code",
      "execution_count": null,
      "metadata": {
        "id": "JddIdhJbJ38b"
      },
      "outputs": [],
      "source": [
        "#train_df = train_df.drop('prediction')\n",
        "#train_df = train_df.drop('rawPrediction')\n",
        "#train_df = train_df.drop('probability')\n",
        "\n",
        "#test_set_1 = test_set_1.drop('prediction')\n",
        "#test_set_1 = test_set_1.drop('rawPrediction')\n",
        "#test_set_1 = test_set_1.drop('probability')"
      ]
    },
    {
      "cell_type": "code",
      "execution_count": null,
      "metadata": {
        "colab": {
          "base_uri": "https://localhost:8080/"
        },
        "id": "x5Gldn5fbZMu",
        "outputId": "f5f3cb89-a757-41a7-cfde-86ca250bb2db"
      },
      "outputs": [
        {
          "output_type": "execute_result",
          "data": {
            "text/plain": [
              "13803"
            ]
          },
          "metadata": {},
          "execution_count": 52
        }
      ],
      "source": [
        "train_df.count()"
      ]
    },
    {
      "cell_type": "markdown",
      "metadata": {
        "id": "OI4D2Lx06dY_"
      },
      "source": [
        "### Primer modelo de Regresión Logística"
      ]
    },
    {
      "cell_type": "code",
      "execution_count": null,
      "metadata": {
        "colab": {
          "base_uri": "https://localhost:8080/"
        },
        "id": "AkY9_L2D0fxQ",
        "outputId": "1bf72caa-3982-47a1-e27a-99d319b38784"
      },
      "outputs": [
        {
          "output_type": "stream",
          "name": "stdout",
          "text": [
            "Accuracy Score: 0.8305\n",
            "ROC-AUC: 0.8305\n"
          ]
        }
      ],
      "source": [
        "# Create a logistic regression object and add everything to a pipeline\n",
        "# Train LR model\n",
        "\n",
        "lr = LogisticRegression()\n",
        "\n",
        "paramGrid = (ParamGridBuilder() \\\n",
        "                 .addGrid(lr.regParam, [0.1, 0.01]) \\\n",
        "                 .addGrid(lr.fitIntercept, [False, True]) \\\n",
        "                 .build())\n",
        "\n",
        "# Evaluate model\n",
        "evaluator = BinaryClassificationEvaluator(rawPredictionCol='prediction', labelCol='label', metricName='areaUnderROC')\n",
        "\n",
        "tvs = TrainValidationSplit(estimator=lr,\n",
        "                           estimatorParamMaps=paramGrid,\n",
        "                           evaluator=evaluator,\n",
        "                           trainRatio=0.8)\n",
        "\n",
        "lrModel = tvs.fit(train_df)\n",
        "\n",
        "predictions = lrModel.transform(test_set_1)\n",
        "\n",
        "accuracy = predictions.filter(predictions[\"label\"] == predictions[\"prediction\"]).count() / float(predictions.count())\n",
        "auc = evaluator.evaluate(predictions, {evaluator.metricName: \"areaUnderROC\"})\n",
        "\n",
        "print(\"Accuracy Score: {0:.4f}\".format(accuracy))\n",
        "print(\"ROC-AUC: {0:.4f}\".format(auc))\n",
        "\n",
        "# Resultado obtenido el 19-08:\n",
        "# Accuracy Score: 0.7153\n",
        "# ROC-AUC: 0.8069\n",
        "# lr.regParam, [0.1, 0.01]"
      ]
    },
    {
      "cell_type": "code",
      "source": [
        "#Apply the logistic regression model\n",
        "log_reg=LogisticRegression(labelCol='label').fit(train_df)\n",
        "\n",
        "#Training Results\n",
        "train_results=log_reg.evaluate(train_df).predictions\n",
        "train_results.filter(train_results['label']==1).filter(train_results['prediction']==1).select(['label','prediction','probability']).show(10,False)"
      ],
      "metadata": {
        "colab": {
          "base_uri": "https://localhost:8080/"
        },
        "id": "PrZjejkyPXqD",
        "outputId": "da7dfedc-f304-4b15-f3fb-d1a271004a32"
      },
      "execution_count": null,
      "outputs": [
        {
          "output_type": "stream",
          "name": "stdout",
          "text": [
            "+-----+----------+----------------------------+\n",
            "|label|prediction|probability                 |\n",
            "+-----+----------+----------------------------+\n",
            "|1.0  |1.0       |[4.63421548199936E-118,1.0] |\n",
            "|1.0  |1.0       |[8.288255760877225E-72,1.0] |\n",
            "|1.0  |1.0       |[3.3562506927218986E-23,1.0]|\n",
            "|1.0  |1.0       |[1.558422012405172E-49,1.0] |\n",
            "|1.0  |1.0       |[1.364362778272281E-49,1.0] |\n",
            "|1.0  |1.0       |[5.073902858102537E-208,1.0]|\n",
            "|1.0  |1.0       |[1.0143873169347645E-79,1.0]|\n",
            "|1.0  |1.0       |[1.579103181495122E-112,1.0]|\n",
            "|1.0  |1.0       |[7.454560315009515E-85,1.0] |\n",
            "|1.0  |1.0       |[8.415598231702724E-59,1.0] |\n",
            "+-----+----------+----------------------------+\n",
            "only showing top 10 rows\n",
            "\n"
          ]
        }
      ]
    },
    {
      "cell_type": "code",
      "source": [
        "#Calculate the matchine record out of the total records \n",
        "accuracy=float((true_postives+true_negatives) /(results.count()))\n",
        "print(\"Accuracy : \" + str(accuracy))\n",
        "\n",
        "recall = float(true_postives)/(true_postives + false_negatives)\n",
        "print(\"Precision Rate : \" + str(recall))"
      ],
      "metadata": {
        "id": "V9BD9xGLQJdb"
      },
      "execution_count": null,
      "outputs": []
    },
    {
      "cell_type": "code",
      "source": [
        "from pyspark.ml.tuning import TrainValidationSplit\n",
        "from pyspark.ml.tuning import TrainValidationSplitModel\n",
        "import tempfile"
      ],
      "metadata": {
        "id": "NOopbYxlL0v3"
      },
      "execution_count": null,
      "outputs": []
    },
    {
      "cell_type": "code",
      "source": [
        "lrModel.validationMetrics"
      ],
      "metadata": {
        "colab": {
          "base_uri": "https://localhost:8080/"
        },
        "id": "fkCVnq7274BC",
        "outputId": "ca6753cc-76ba-4e56-840d-8d892ef70a57"
      },
      "execution_count": null,
      "outputs": [
        {
          "output_type": "execute_result",
          "data": {
            "text/plain": [
              "[0.8257129481005885,\n",
              " 0.8236744248261103,\n",
              " 0.8233172819689674,\n",
              " 0.8219234884965222]"
            ]
          },
          "metadata": {},
          "execution_count": 56
        }
      ]
    },
    {
      "cell_type": "code",
      "source": [
        "path = tempfile.mkdtemp()\n",
        "model_path = path + \"/model\"\n",
        "lrModel.write().save(model_path)"
      ],
      "metadata": {
        "id": "ClQtdhNFLi8K"
      },
      "execution_count": null,
      "outputs": []
    },
    {
      "cell_type": "code",
      "source": [
        "lrModelRead = TrainValidationSplitModel.read().load(model_path)\n",
        "lrModelRead.validationMetrics"
      ],
      "metadata": {
        "colab": {
          "base_uri": "https://localhost:8080/"
        },
        "id": "Pwtv7vXQMBFR",
        "outputId": "9068be6b-aa44-418b-aacc-e7de06aceb6e"
      },
      "execution_count": null,
      "outputs": [
        {
          "output_type": "execute_result",
          "data": {
            "text/plain": [
              "[0.8257129481005885,\n",
              " 0.8236744248261103,\n",
              " 0.8233172819689674,\n",
              " 0.8219234884965222]"
            ]
          },
          "metadata": {},
          "execution_count": 58
        }
      ]
    },
    {
      "cell_type": "code",
      "source": [
        "texto_p = list([\"Hola, estamos trabajando para mejorar cada espacio de la ciudad! Vamos con todo!\"])\n",
        "df_texto = spark.createDataFrame(texto_p)\n",
        "texto_prueba = pipelineFit.transform(df_texto)\n",
        "\n",
        "lrModel.transform(texto_prueba)"
      ],
      "metadata": {
        "colab": {
          "base_uri": "https://localhost:8080/",
          "height": 380
        },
        "id": "F-ldCLcV74Ma",
        "outputId": "cd5320e5-0b2a-4429-da4e-11c282b9635b"
      },
      "execution_count": null,
      "outputs": [
        {
          "output_type": "error",
          "ename": "TypeError",
          "evalue": "ignored",
          "traceback": [
            "\u001b[0;31m---------------------------------------------------------------------------\u001b[0m",
            "\u001b[0;31mTypeError\u001b[0m                                 Traceback (most recent call last)",
            "\u001b[0;32m<ipython-input-63-15e1f98927e7>\u001b[0m in \u001b[0;36m<module>\u001b[0;34m\u001b[0m\n\u001b[1;32m      1\u001b[0m \u001b[0mtexto_p\u001b[0m \u001b[0;34m=\u001b[0m \u001b[0mlist\u001b[0m\u001b[0;34m(\u001b[0m\u001b[0;34m[\u001b[0m\u001b[0;34m\"Hola, estamos trabajando para mejorar cada espacio de la ciudad! Vamos con todo!\"\u001b[0m\u001b[0;34m]\u001b[0m\u001b[0;34m)\u001b[0m\u001b[0;34m\u001b[0m\u001b[0;34m\u001b[0m\u001b[0m\n\u001b[0;32m----> 2\u001b[0;31m \u001b[0mdf_texto\u001b[0m \u001b[0;34m=\u001b[0m \u001b[0mspark\u001b[0m\u001b[0;34m.\u001b[0m\u001b[0mcreateDataFrame\u001b[0m\u001b[0;34m(\u001b[0m\u001b[0mtexto_p\u001b[0m\u001b[0;34m)\u001b[0m\u001b[0;34m\u001b[0m\u001b[0;34m\u001b[0m\u001b[0m\n\u001b[0m\u001b[1;32m      3\u001b[0m \u001b[0mtexto_prueba\u001b[0m \u001b[0;34m=\u001b[0m \u001b[0mpipelineFit\u001b[0m\u001b[0;34m.\u001b[0m\u001b[0mtransform\u001b[0m\u001b[0;34m(\u001b[0m\u001b[0mdf_texto\u001b[0m\u001b[0;34m)\u001b[0m\u001b[0;34m\u001b[0m\u001b[0;34m\u001b[0m\u001b[0m\n\u001b[1;32m      4\u001b[0m \u001b[0;34m\u001b[0m\u001b[0m\n\u001b[1;32m      5\u001b[0m \u001b[0mlrModel\u001b[0m\u001b[0;34m.\u001b[0m\u001b[0mtransform\u001b[0m\u001b[0;34m(\u001b[0m\u001b[0mtexto_prueba\u001b[0m\u001b[0;34m)\u001b[0m\u001b[0;34m\u001b[0m\u001b[0;34m\u001b[0m\u001b[0m\n",
            "\u001b[0;32m/content/spark-3.2.1-bin-hadoop3.2/python/pyspark/sql/session.py\u001b[0m in \u001b[0;36mcreateDataFrame\u001b[0;34m(self, data, schema, samplingRatio, verifySchema)\u001b[0m\n\u001b[1;32m    673\u001b[0m             return super(SparkSession, self).createDataFrame(\n\u001b[1;32m    674\u001b[0m                 data, schema, samplingRatio, verifySchema)\n\u001b[0;32m--> 675\u001b[0;31m         \u001b[0;32mreturn\u001b[0m \u001b[0mself\u001b[0m\u001b[0;34m.\u001b[0m\u001b[0m_create_dataframe\u001b[0m\u001b[0;34m(\u001b[0m\u001b[0mdata\u001b[0m\u001b[0;34m,\u001b[0m \u001b[0mschema\u001b[0m\u001b[0;34m,\u001b[0m \u001b[0msamplingRatio\u001b[0m\u001b[0;34m,\u001b[0m \u001b[0mverifySchema\u001b[0m\u001b[0;34m)\u001b[0m\u001b[0;34m\u001b[0m\u001b[0;34m\u001b[0m\u001b[0m\n\u001b[0m\u001b[1;32m    676\u001b[0m \u001b[0;34m\u001b[0m\u001b[0m\n\u001b[1;32m    677\u001b[0m     \u001b[0;32mdef\u001b[0m \u001b[0m_create_dataframe\u001b[0m\u001b[0;34m(\u001b[0m\u001b[0mself\u001b[0m\u001b[0;34m,\u001b[0m \u001b[0mdata\u001b[0m\u001b[0;34m,\u001b[0m \u001b[0mschema\u001b[0m\u001b[0;34m,\u001b[0m \u001b[0msamplingRatio\u001b[0m\u001b[0;34m,\u001b[0m \u001b[0mverifySchema\u001b[0m\u001b[0;34m)\u001b[0m\u001b[0;34m:\u001b[0m\u001b[0;34m\u001b[0m\u001b[0;34m\u001b[0m\u001b[0m\n",
            "\u001b[0;32m/content/spark-3.2.1-bin-hadoop3.2/python/pyspark/sql/session.py\u001b[0m in \u001b[0;36m_create_dataframe\u001b[0;34m(self, data, schema, samplingRatio, verifySchema)\u001b[0m\n\u001b[1;32m    698\u001b[0m             \u001b[0mrdd\u001b[0m\u001b[0;34m,\u001b[0m \u001b[0mschema\u001b[0m \u001b[0;34m=\u001b[0m \u001b[0mself\u001b[0m\u001b[0;34m.\u001b[0m\u001b[0m_createFromRDD\u001b[0m\u001b[0;34m(\u001b[0m\u001b[0mdata\u001b[0m\u001b[0;34m.\u001b[0m\u001b[0mmap\u001b[0m\u001b[0;34m(\u001b[0m\u001b[0mprepare\u001b[0m\u001b[0;34m)\u001b[0m\u001b[0;34m,\u001b[0m \u001b[0mschema\u001b[0m\u001b[0;34m,\u001b[0m \u001b[0msamplingRatio\u001b[0m\u001b[0;34m)\u001b[0m\u001b[0;34m\u001b[0m\u001b[0;34m\u001b[0m\u001b[0m\n\u001b[1;32m    699\u001b[0m         \u001b[0;32melse\u001b[0m\u001b[0;34m:\u001b[0m\u001b[0;34m\u001b[0m\u001b[0;34m\u001b[0m\u001b[0m\n\u001b[0;32m--> 700\u001b[0;31m             \u001b[0mrdd\u001b[0m\u001b[0;34m,\u001b[0m \u001b[0mschema\u001b[0m \u001b[0;34m=\u001b[0m \u001b[0mself\u001b[0m\u001b[0;34m.\u001b[0m\u001b[0m_createFromLocal\u001b[0m\u001b[0;34m(\u001b[0m\u001b[0mmap\u001b[0m\u001b[0;34m(\u001b[0m\u001b[0mprepare\u001b[0m\u001b[0;34m,\u001b[0m \u001b[0mdata\u001b[0m\u001b[0;34m)\u001b[0m\u001b[0;34m,\u001b[0m \u001b[0mschema\u001b[0m\u001b[0;34m)\u001b[0m\u001b[0;34m\u001b[0m\u001b[0;34m\u001b[0m\u001b[0m\n\u001b[0m\u001b[1;32m    701\u001b[0m         \u001b[0mjrdd\u001b[0m \u001b[0;34m=\u001b[0m \u001b[0mself\u001b[0m\u001b[0;34m.\u001b[0m\u001b[0m_jvm\u001b[0m\u001b[0;34m.\u001b[0m\u001b[0mSerDeUtil\u001b[0m\u001b[0;34m.\u001b[0m\u001b[0mtoJavaArray\u001b[0m\u001b[0;34m(\u001b[0m\u001b[0mrdd\u001b[0m\u001b[0;34m.\u001b[0m\u001b[0m_to_java_object_rdd\u001b[0m\u001b[0;34m(\u001b[0m\u001b[0;34m)\u001b[0m\u001b[0;34m)\u001b[0m\u001b[0;34m\u001b[0m\u001b[0;34m\u001b[0m\u001b[0m\n\u001b[1;32m    702\u001b[0m         \u001b[0mjdf\u001b[0m \u001b[0;34m=\u001b[0m \u001b[0mself\u001b[0m\u001b[0;34m.\u001b[0m\u001b[0m_jsparkSession\u001b[0m\u001b[0;34m.\u001b[0m\u001b[0mapplySchemaToPythonRDD\u001b[0m\u001b[0;34m(\u001b[0m\u001b[0mjrdd\u001b[0m\u001b[0;34m.\u001b[0m\u001b[0mrdd\u001b[0m\u001b[0;34m(\u001b[0m\u001b[0;34m)\u001b[0m\u001b[0;34m,\u001b[0m \u001b[0mschema\u001b[0m\u001b[0;34m.\u001b[0m\u001b[0mjson\u001b[0m\u001b[0;34m(\u001b[0m\u001b[0;34m)\u001b[0m\u001b[0;34m)\u001b[0m\u001b[0;34m\u001b[0m\u001b[0;34m\u001b[0m\u001b[0m\n",
            "\u001b[0;32m/content/spark-3.2.1-bin-hadoop3.2/python/pyspark/sql/session.py\u001b[0m in \u001b[0;36m_createFromLocal\u001b[0;34m(self, data, schema)\u001b[0m\n\u001b[1;32m    510\u001b[0m \u001b[0;34m\u001b[0m\u001b[0m\n\u001b[1;32m    511\u001b[0m         \u001b[0;32mif\u001b[0m \u001b[0mschema\u001b[0m \u001b[0;32mis\u001b[0m \u001b[0;32mNone\u001b[0m \u001b[0;32mor\u001b[0m \u001b[0misinstance\u001b[0m\u001b[0;34m(\u001b[0m\u001b[0mschema\u001b[0m\u001b[0;34m,\u001b[0m \u001b[0;34m(\u001b[0m\u001b[0mlist\u001b[0m\u001b[0;34m,\u001b[0m \u001b[0mtuple\u001b[0m\u001b[0;34m)\u001b[0m\u001b[0;34m)\u001b[0m\u001b[0;34m:\u001b[0m\u001b[0;34m\u001b[0m\u001b[0;34m\u001b[0m\u001b[0m\n\u001b[0;32m--> 512\u001b[0;31m             \u001b[0mstruct\u001b[0m \u001b[0;34m=\u001b[0m \u001b[0mself\u001b[0m\u001b[0;34m.\u001b[0m\u001b[0m_inferSchemaFromList\u001b[0m\u001b[0;34m(\u001b[0m\u001b[0mdata\u001b[0m\u001b[0;34m,\u001b[0m \u001b[0mnames\u001b[0m\u001b[0;34m=\u001b[0m\u001b[0mschema\u001b[0m\u001b[0;34m)\u001b[0m\u001b[0;34m\u001b[0m\u001b[0;34m\u001b[0m\u001b[0m\n\u001b[0m\u001b[1;32m    513\u001b[0m             \u001b[0mconverter\u001b[0m \u001b[0;34m=\u001b[0m \u001b[0m_create_converter\u001b[0m\u001b[0;34m(\u001b[0m\u001b[0mstruct\u001b[0m\u001b[0;34m)\u001b[0m\u001b[0;34m\u001b[0m\u001b[0;34m\u001b[0m\u001b[0m\n\u001b[1;32m    514\u001b[0m             \u001b[0mdata\u001b[0m \u001b[0;34m=\u001b[0m \u001b[0mmap\u001b[0m\u001b[0;34m(\u001b[0m\u001b[0mconverter\u001b[0m\u001b[0;34m,\u001b[0m \u001b[0mdata\u001b[0m\u001b[0;34m)\u001b[0m\u001b[0;34m\u001b[0m\u001b[0;34m\u001b[0m\u001b[0m\n",
            "\u001b[0;32m/content/spark-3.2.1-bin-hadoop3.2/python/pyspark/sql/session.py\u001b[0m in \u001b[0;36m_inferSchemaFromList\u001b[0;34m(self, data, names)\u001b[0m\n\u001b[1;32m    437\u001b[0m         \u001b[0;32mif\u001b[0m \u001b[0;32mnot\u001b[0m \u001b[0mdata\u001b[0m\u001b[0;34m:\u001b[0m\u001b[0;34m\u001b[0m\u001b[0;34m\u001b[0m\u001b[0m\n\u001b[1;32m    438\u001b[0m             \u001b[0;32mraise\u001b[0m \u001b[0mValueError\u001b[0m\u001b[0;34m(\u001b[0m\u001b[0;34m\"can not infer schema from empty dataset\"\u001b[0m\u001b[0;34m)\u001b[0m\u001b[0;34m\u001b[0m\u001b[0;34m\u001b[0m\u001b[0m\n\u001b[0;32m--> 439\u001b[0;31m         \u001b[0mschema\u001b[0m \u001b[0;34m=\u001b[0m \u001b[0mreduce\u001b[0m\u001b[0;34m(\u001b[0m\u001b[0m_merge_type\u001b[0m\u001b[0;34m,\u001b[0m \u001b[0;34m(\u001b[0m\u001b[0m_infer_schema\u001b[0m\u001b[0;34m(\u001b[0m\u001b[0mrow\u001b[0m\u001b[0;34m,\u001b[0m \u001b[0mnames\u001b[0m\u001b[0;34m)\u001b[0m \u001b[0;32mfor\u001b[0m \u001b[0mrow\u001b[0m \u001b[0;32min\u001b[0m \u001b[0mdata\u001b[0m\u001b[0;34m)\u001b[0m\u001b[0;34m)\u001b[0m\u001b[0;34m\u001b[0m\u001b[0;34m\u001b[0m\u001b[0m\n\u001b[0m\u001b[1;32m    440\u001b[0m         \u001b[0;32mif\u001b[0m \u001b[0m_has_nulltype\u001b[0m\u001b[0;34m(\u001b[0m\u001b[0mschema\u001b[0m\u001b[0;34m)\u001b[0m\u001b[0;34m:\u001b[0m\u001b[0;34m\u001b[0m\u001b[0;34m\u001b[0m\u001b[0m\n\u001b[1;32m    441\u001b[0m             \u001b[0;32mraise\u001b[0m \u001b[0mValueError\u001b[0m\u001b[0;34m(\u001b[0m\u001b[0;34m\"Some of types cannot be determined after inferring\"\u001b[0m\u001b[0;34m)\u001b[0m\u001b[0;34m\u001b[0m\u001b[0;34m\u001b[0m\u001b[0m\n",
            "\u001b[0;32m/content/spark-3.2.1-bin-hadoop3.2/python/pyspark/sql/session.py\u001b[0m in \u001b[0;36m<genexpr>\u001b[0;34m(.0)\u001b[0m\n\u001b[1;32m    437\u001b[0m         \u001b[0;32mif\u001b[0m \u001b[0;32mnot\u001b[0m \u001b[0mdata\u001b[0m\u001b[0;34m:\u001b[0m\u001b[0;34m\u001b[0m\u001b[0;34m\u001b[0m\u001b[0m\n\u001b[1;32m    438\u001b[0m             \u001b[0;32mraise\u001b[0m \u001b[0mValueError\u001b[0m\u001b[0;34m(\u001b[0m\u001b[0;34m\"can not infer schema from empty dataset\"\u001b[0m\u001b[0;34m)\u001b[0m\u001b[0;34m\u001b[0m\u001b[0;34m\u001b[0m\u001b[0m\n\u001b[0;32m--> 439\u001b[0;31m         \u001b[0mschema\u001b[0m \u001b[0;34m=\u001b[0m \u001b[0mreduce\u001b[0m\u001b[0;34m(\u001b[0m\u001b[0m_merge_type\u001b[0m\u001b[0;34m,\u001b[0m \u001b[0;34m(\u001b[0m\u001b[0m_infer_schema\u001b[0m\u001b[0;34m(\u001b[0m\u001b[0mrow\u001b[0m\u001b[0;34m,\u001b[0m \u001b[0mnames\u001b[0m\u001b[0;34m)\u001b[0m \u001b[0;32mfor\u001b[0m \u001b[0mrow\u001b[0m \u001b[0;32min\u001b[0m \u001b[0mdata\u001b[0m\u001b[0;34m)\u001b[0m\u001b[0;34m)\u001b[0m\u001b[0;34m\u001b[0m\u001b[0;34m\u001b[0m\u001b[0m\n\u001b[0m\u001b[1;32m    440\u001b[0m         \u001b[0;32mif\u001b[0m \u001b[0m_has_nulltype\u001b[0m\u001b[0;34m(\u001b[0m\u001b[0mschema\u001b[0m\u001b[0;34m)\u001b[0m\u001b[0;34m:\u001b[0m\u001b[0;34m\u001b[0m\u001b[0;34m\u001b[0m\u001b[0m\n\u001b[1;32m    441\u001b[0m             \u001b[0;32mraise\u001b[0m \u001b[0mValueError\u001b[0m\u001b[0;34m(\u001b[0m\u001b[0;34m\"Some of types cannot be determined after inferring\"\u001b[0m\u001b[0;34m)\u001b[0m\u001b[0;34m\u001b[0m\u001b[0;34m\u001b[0m\u001b[0m\n",
            "\u001b[0;32m/content/spark-3.2.1-bin-hadoop3.2/python/pyspark/sql/types.py\u001b[0m in \u001b[0;36m_infer_schema\u001b[0;34m(row, names)\u001b[0m\n\u001b[1;32m   1065\u001b[0m \u001b[0;34m\u001b[0m\u001b[0m\n\u001b[1;32m   1066\u001b[0m     \u001b[0;32melse\u001b[0m\u001b[0;34m:\u001b[0m\u001b[0;34m\u001b[0m\u001b[0;34m\u001b[0m\u001b[0m\n\u001b[0;32m-> 1067\u001b[0;31m         \u001b[0;32mraise\u001b[0m \u001b[0mTypeError\u001b[0m\u001b[0;34m(\u001b[0m\u001b[0;34m\"Can not infer schema for type: %s\"\u001b[0m \u001b[0;34m%\u001b[0m \u001b[0mtype\u001b[0m\u001b[0;34m(\u001b[0m\u001b[0mrow\u001b[0m\u001b[0;34m)\u001b[0m\u001b[0;34m)\u001b[0m\u001b[0;34m\u001b[0m\u001b[0;34m\u001b[0m\u001b[0m\n\u001b[0m\u001b[1;32m   1068\u001b[0m \u001b[0;34m\u001b[0m\u001b[0m\n\u001b[1;32m   1069\u001b[0m     \u001b[0mfields\u001b[0m \u001b[0;34m=\u001b[0m \u001b[0;34m[\u001b[0m\u001b[0;34m]\u001b[0m\u001b[0;34m\u001b[0m\u001b[0;34m\u001b[0m\u001b[0m\n",
            "\u001b[0;31mTypeError\u001b[0m: Can not infer schema for type: <class 'str'>"
          ]
        }
      ]
    },
    {
      "cell_type": "markdown",
      "metadata": {
        "id": "mF1xHzOV6lnW"
      },
      "source": [
        "### Segundo modelo de Regresión Logística"
      ]
    },
    {
      "cell_type": "code",
      "execution_count": null,
      "metadata": {
        "id": "pred7ZNK7WVf"
      },
      "outputs": [],
      "source": [
        "cv = CountVectorizer(vocabSize=2**16, inputCol=\"words\", outputCol='cv')\n",
        "idf = IDF(inputCol='cv', outputCol=\"features\", minDocFreq=5) #minDocFreq: remove sparse terms\n"
      ]
    },
    {
      "cell_type": "code",
      "execution_count": null,
      "metadata": {
        "colab": {
          "base_uri": "https://localhost:8080/"
        },
        "id": "1q_HtEsF6k5d",
        "outputId": "99ff18b1-9d88-49b6-cc23-9cfeb7d217c7"
      },
      "outputs": [
        {
          "output_type": "stream",
          "name": "stdout",
          "text": [
            "Accuracy Score: 0.8456\n",
            "ROC-AUC: 0.8456\n"
          ]
        }
      ],
      "source": [
        "# Train second LR model\n",
        "\n",
        "lr = LogisticRegression()\n",
        "\n",
        "paramGrid = (ParamGridBuilder() \\\n",
        "                 .addGrid(lr.regParam, [0.1, 0.01]) \\\n",
        "                 .addGrid(lr.fitIntercept, [False, True]) \\\n",
        "                 .build())\n",
        "\n",
        "tvs = TrainValidationSplit(estimator=lr,\n",
        "                           estimatorParamMaps=paramGrid,\n",
        "                           evaluator=evaluator,\n",
        "                           trainRatio=0.8)\n",
        "\n",
        "pipeline = Pipeline(stages=[tokenizer, cv, idf, label_stringIdx, tvs])\n",
        "\n",
        "pipelineFit = pipeline.fit(train_set)\n",
        "\n",
        "predictions = pipelineFit.transform(test_set)\n",
        "\n",
        "accuracy = predictions.filter(predictions[\"label\"] == predictions[\"prediction\"]).count() / float(predictions.count())\n",
        "auc = evaluator.evaluate(predictions, {evaluator.metricName: \"areaUnderROC\"})\n",
        "\n",
        "print(\"Accuracy Score: {0:.4f}\".format(accuracy))\n",
        "print(\"ROC-AUC: {0:.4f}\".format(auc))\n",
        "\n",
        "# Resultado obtenido el 19-08:\n",
        "# Accuracy Score:  0.7553\n",
        "# ROC-AUC: 0.8372"
      ]
    },
    {
      "cell_type": "code",
      "execution_count": null,
      "metadata": {
        "colab": {
          "base_uri": "https://localhost:8080/"
        },
        "id": "aeD2zJ38W5z9",
        "outputId": "3306f049-2a5b-48b3-d888-cb06d22c3434"
      },
      "outputs": [
        {
          "output_type": "stream",
          "name": "stdout",
          "text": [
            "+--------------------+-----------+\n",
            "|                text|sentimiento|\n",
            "+--------------------+-----------+\n",
            "|Si salimos vivos ...|   Positive|\n",
            "|? Hoy es el cumpl...|   Positive|\n",
            "|Visto #Wolverhamp...|   Positive|\n",
            "|Se acab� al incer...|   Negative|\n",
            "|@onozambrano ARRA...|   Positive|\n",
            "| NEGOCIO REDONDO ...|   Positive|\n",
            "|@ene85ath @Kike_M...|   Negative|\n",
            "|@LorisKarius vuel...|   Negative|\n",
            "|@fedeevalverde @I...|   Positive|\n",
            "|�Tambi�n pasa en ...|   Negative|\n",
            "|Lo cuida como un ...|   Negative|\n",
            "|@La12tuittera @Re...|   Negative|\n",
            "|@Raul_Jimenez9 @W...|   Positive|\n",
            "|@BrankoNikovski @...|   Negative|\n",
            "|Obligado a ver lo...|   Negative|\n",
            "|Si el @LevanteUD ...|   Positive|\n",
            "|@pabloserravalle ...|   Negative|\n",
            "|@DIRECTVSports Se...|   Negative|\n",
            "|\"\"\"An�lisis grupo...|   Positive|\n",
            "|@InformacionCABJ ...|   Negative|\n",
            "+--------------------+-----------+\n",
            "only showing top 20 rows\n",
            "\n"
          ]
        }
      ],
      "source": [
        "df_tweets_spark.show()"
      ]
    },
    {
      "cell_type": "code",
      "execution_count": null,
      "metadata": {
        "colab": {
          "base_uri": "https://localhost:8080/"
        },
        "id": "f0zV7oDJXoNo",
        "outputId": "fdc791f5-bd11-4abf-d434-db300c54108d"
      },
      "outputs": [
        {
          "name": "stdout",
          "output_type": "stream",
          "text": [
            "<class 'pandas.core.frame.DataFrame'>\n",
            "RangeIndex: 23398 entries, 0 to 23397\n",
            "Data columns (total 2 columns):\n",
            " #   Column     Non-Null Count  Dtype \n",
            "---  ------     --------------  ----- \n",
            " 0   sentiment  23398 non-null  object\n",
            " 1   text       23398 non-null  object\n",
            "dtypes: object(2)\n",
            "memory usage: 365.7+ KB\n"
          ]
        }
      ],
      "source": [
        "df_tweets.info()"
      ]
    },
    {
      "cell_type": "code",
      "execution_count": null,
      "metadata": {
        "id": "uaQMWdfOaKoL"
      },
      "outputs": [],
      "source": [
        "from tensorflow import keras\n",
        "from sklearn.metrics import classification_report\n",
        "from sklearn.metrics import confusion_matrix\n",
        "from keras.models import Sequential\n",
        "from keras import layers\n",
        "from keras import regularizers\n",
        "from keras import backend as K\n",
        "from keras.callbacks import ModelCheckpoint\n",
        "from sklearn.model_selection import train_test_split"
      ]
    },
    {
      "cell_type": "markdown",
      "metadata": {
        "id": "CuGSrecCKT6I"
      },
      "source": [
        "Cross-validation"
      ]
    },
    {
      "cell_type": "markdown",
      "metadata": {
        "id": "auue1OC9kkUT"
      },
      "source": [
        "%%time\n",
        "from sklearn.model_selection import GridSearchCV\n",
        "from sklearn.model_selection import train_test_split\n",
        "\n",
        "\n",
        "tokenizer = keras.preprocessing.text.Tokenizer(num_words = 35311)\n",
        "tokenizer.fit_on_texts(df_tweets.text)\n",
        "sequences = tokenizer.texts_to_sequences(df_tweets.text)\n",
        "X = keras.preprocessing.sequence.pad_sequences(\n",
        "    sequences,\n",
        "    maxlen = 200\n",
        ")\n",
        "y = pd.get_dummies(df_tweets.sentiment).values"
      ]
    },
    {
      "cell_type": "code",
      "execution_count": null,
      "metadata": {
        "id": "YiqAP8HJZ4tV"
      },
      "outputs": [],
      "source": [
        "#X_train, X_test, y_train, y_test = train_test_split(X, y,\n",
        "#                                                    random_state = 42,\n",
        "#                                                    test_size = 0.2)"
      ]
    },
    {
      "cell_type": "markdown",
      "metadata": {
        "id": "n_9ZNuAAkcvs"
      },
      "source": [
        "\n",
        "# Creamos modelo\n",
        "lr_cv_params = dict(C = [0.25, 0.5, 0.75],\n",
        "                    penalty = ['l1', 'l2'],\n",
        "                    class_weight = [None, 'balanced'],\n",
        "                    solver = ['newton-cg', 'sag', 'lbfgs'])\n",
        "\n",
        "lr_cv_grid = GridSearchCV(LogisticRegression(max_iter = 300),\n",
        "                     lr_cv_params,\n",
        "                     cv = 5,\n",
        "                     n_jobs = -1,\n",
        "                     scoring = 'accuracy').fit(X_train,\n",
        "                                               y_train)\n",
        "print('Best score:', lr_cv_grid.best_score_)\n",
        "print('Best params:', lr_cv_grid.best_params_)"
      ]
    },
    {
      "cell_type": "markdown",
      "metadata": {
        "id": "2iWS-879yDlx"
      },
      "source": [
        "### RNN - Bidirectional layers"
      ]
    },
    {
      "cell_type": "code",
      "execution_count": null,
      "metadata": {
        "colab": {
          "base_uri": "https://localhost:8080/",
          "height": 206
        },
        "id": "tyTmF-E2HwX1",
        "outputId": "8509f3c2-8863-40c9-c9dc-d4d5eec46bb2"
      },
      "outputs": [
        {
          "output_type": "execute_result",
          "data": {
            "text/plain": [
              "     sentiment                                               text\n",
              "7804  POSITIVE  gran noticia poder respirar tranquilo premierl...\n",
              "7805  POSITIVE                       buen hincha chelseafc opinar\n",
              "7806  POSITIVE  bien ahora seguir as contar confianza rafa ben...\n",
              "7807  POSITIVE       retirar cole poder ver enserio precio cryliv\n",
              "7808  POSITIVE     ruguayo tos loco merecer pibe tremendo jugador"
            ],
            "text/html": [
              "\n",
              "  <div id=\"df-a8d0266b-d0dd-4df5-8d5e-369989e160fe\">\n",
              "    <div class=\"colab-df-container\">\n",
              "      <div>\n",
              "<style scoped>\n",
              "    .dataframe tbody tr th:only-of-type {\n",
              "        vertical-align: middle;\n",
              "    }\n",
              "\n",
              "    .dataframe tbody tr th {\n",
              "        vertical-align: top;\n",
              "    }\n",
              "\n",
              "    .dataframe thead th {\n",
              "        text-align: right;\n",
              "    }\n",
              "</style>\n",
              "<table border=\"1\" class=\"dataframe\">\n",
              "  <thead>\n",
              "    <tr style=\"text-align: right;\">\n",
              "      <th></th>\n",
              "      <th>sentiment</th>\n",
              "      <th>text</th>\n",
              "    </tr>\n",
              "  </thead>\n",
              "  <tbody>\n",
              "    <tr>\n",
              "      <th>7804</th>\n",
              "      <td>POSITIVE</td>\n",
              "      <td>gran noticia poder respirar tranquilo premierl...</td>\n",
              "    </tr>\n",
              "    <tr>\n",
              "      <th>7805</th>\n",
              "      <td>POSITIVE</td>\n",
              "      <td>buen hincha chelseafc opinar</td>\n",
              "    </tr>\n",
              "    <tr>\n",
              "      <th>7806</th>\n",
              "      <td>POSITIVE</td>\n",
              "      <td>bien ahora seguir as contar confianza rafa ben...</td>\n",
              "    </tr>\n",
              "    <tr>\n",
              "      <th>7807</th>\n",
              "      <td>POSITIVE</td>\n",
              "      <td>retirar cole poder ver enserio precio cryliv</td>\n",
              "    </tr>\n",
              "    <tr>\n",
              "      <th>7808</th>\n",
              "      <td>POSITIVE</td>\n",
              "      <td>ruguayo tos loco merecer pibe tremendo jugador</td>\n",
              "    </tr>\n",
              "  </tbody>\n",
              "</table>\n",
              "</div>\n",
              "      <button class=\"colab-df-convert\" onclick=\"convertToInteractive('df-a8d0266b-d0dd-4df5-8d5e-369989e160fe')\"\n",
              "              title=\"Convert this dataframe to an interactive table.\"\n",
              "              style=\"display:none;\">\n",
              "        \n",
              "  <svg xmlns=\"http://www.w3.org/2000/svg\" height=\"24px\"viewBox=\"0 0 24 24\"\n",
              "       width=\"24px\">\n",
              "    <path d=\"M0 0h24v24H0V0z\" fill=\"none\"/>\n",
              "    <path d=\"M18.56 5.44l.94 2.06.94-2.06 2.06-.94-2.06-.94-.94-2.06-.94 2.06-2.06.94zm-11 1L8.5 8.5l.94-2.06 2.06-.94-2.06-.94L8.5 2.5l-.94 2.06-2.06.94zm10 10l.94 2.06.94-2.06 2.06-.94-2.06-.94-.94-2.06-.94 2.06-2.06.94z\"/><path d=\"M17.41 7.96l-1.37-1.37c-.4-.4-.92-.59-1.43-.59-.52 0-1.04.2-1.43.59L10.3 9.45l-7.72 7.72c-.78.78-.78 2.05 0 2.83L4 21.41c.39.39.9.59 1.41.59.51 0 1.02-.2 1.41-.59l7.78-7.78 2.81-2.81c.8-.78.8-2.07 0-2.86zM5.41 20L4 18.59l7.72-7.72 1.47 1.35L5.41 20z\"/>\n",
              "  </svg>\n",
              "      </button>\n",
              "      \n",
              "  <style>\n",
              "    .colab-df-container {\n",
              "      display:flex;\n",
              "      flex-wrap:wrap;\n",
              "      gap: 12px;\n",
              "    }\n",
              "\n",
              "    .colab-df-convert {\n",
              "      background-color: #E8F0FE;\n",
              "      border: none;\n",
              "      border-radius: 50%;\n",
              "      cursor: pointer;\n",
              "      display: none;\n",
              "      fill: #1967D2;\n",
              "      height: 32px;\n",
              "      padding: 0 0 0 0;\n",
              "      width: 32px;\n",
              "    }\n",
              "\n",
              "    .colab-df-convert:hover {\n",
              "      background-color: #E2EBFA;\n",
              "      box-shadow: 0px 1px 2px rgba(60, 64, 67, 0.3), 0px 1px 3px 1px rgba(60, 64, 67, 0.15);\n",
              "      fill: #174EA6;\n",
              "    }\n",
              "\n",
              "    [theme=dark] .colab-df-convert {\n",
              "      background-color: #3B4455;\n",
              "      fill: #D2E3FC;\n",
              "    }\n",
              "\n",
              "    [theme=dark] .colab-df-convert:hover {\n",
              "      background-color: #434B5C;\n",
              "      box-shadow: 0px 1px 3px 1px rgba(0, 0, 0, 0.15);\n",
              "      filter: drop-shadow(0px 1px 2px rgba(0, 0, 0, 0.3));\n",
              "      fill: #FFFFFF;\n",
              "    }\n",
              "  </style>\n",
              "\n",
              "      <script>\n",
              "        const buttonEl =\n",
              "          document.querySelector('#df-a8d0266b-d0dd-4df5-8d5e-369989e160fe button.colab-df-convert');\n",
              "        buttonEl.style.display =\n",
              "          google.colab.kernel.accessAllowed ? 'block' : 'none';\n",
              "\n",
              "        async function convertToInteractive(key) {\n",
              "          const element = document.querySelector('#df-a8d0266b-d0dd-4df5-8d5e-369989e160fe');\n",
              "          const dataTable =\n",
              "            await google.colab.kernel.invokeFunction('convertToInteractive',\n",
              "                                                     [key], {});\n",
              "          if (!dataTable) return;\n",
              "\n",
              "          const docLinkHtml = 'Like what you see? Visit the ' +\n",
              "            '<a target=\"_blank\" href=https://colab.research.google.com/notebooks/data_table.ipynb>data table notebook</a>'\n",
              "            + ' to learn more about interactive tables.';\n",
              "          element.innerHTML = '';\n",
              "          dataTable['output_type'] = 'display_data';\n",
              "          await google.colab.output.renderOutput(dataTable, element);\n",
              "          const docLink = document.createElement('div');\n",
              "          docLink.innerHTML = docLinkHtml;\n",
              "          element.appendChild(docLink);\n",
              "        }\n",
              "      </script>\n",
              "    </div>\n",
              "  </div>\n",
              "  "
            ]
          },
          "metadata": {},
          "execution_count": 60
        }
      ],
      "source": [
        "df.head()"
      ]
    },
    {
      "cell_type": "code",
      "source": [
        "df.sentiment.value_counts()"
      ],
      "metadata": {
        "colab": {
          "base_uri": "https://localhost:8080/"
        },
        "id": "qpugzS0EYGK1",
        "outputId": "11ec5d62-5294-42c8-e0fb-3fe0119829a4"
      },
      "execution_count": null,
      "outputs": [
        {
          "output_type": "execute_result",
          "data": {
            "text/plain": [
              "POSITIVE    7787\n",
              "NEGATIVE    7774\n",
              "Name: sentiment, dtype: int64"
            ]
          },
          "metadata": {},
          "execution_count": 101
        }
      ]
    },
    {
      "cell_type": "code",
      "execution_count": null,
      "metadata": {
        "colab": {
          "base_uri": "https://localhost:8080/"
        },
        "id": "K7WTy_0wzEmr",
        "outputId": "77c5e24d-59a7-41a6-9ad1-b88294d68545"
      },
      "outputs": [
        {
          "output_type": "stream",
          "name": "stdout",
          "text": [
            "Número total de palabras: 17182\n"
          ]
        }
      ],
      "source": [
        "# Número de palabras del modelo\n",
        "tokens = set()\n",
        "for tweet in df.text:\n",
        "    for word in tweet.split():\n",
        "        tokens.add(word)\n",
        "dim = len(tokens)        \n",
        "print('Número total de palabras:', dim)"
      ]
    },
    {
      "cell_type": "code",
      "source": [
        "df.head()"
      ],
      "metadata": {
        "colab": {
          "base_uri": "https://localhost:8080/",
          "height": 206
        },
        "id": "KwW8tORqkdlB",
        "outputId": "685465fc-84c9-4162-c6d9-1f13cc846915"
      },
      "execution_count": null,
      "outputs": [
        {
          "output_type": "execute_result",
          "data": {
            "text/plain": [
              "     sentiment                                               text\n",
              "7804  POSITIVE  gran noticia poder respirar tranquilo premierl...\n",
              "7805  POSITIVE                       buen hincha chelseafc opinar\n",
              "7806  POSITIVE  bien ahora seguir as contar confianza rafa ben...\n",
              "7807  POSITIVE       retirar cole poder ver enserio precio cryliv\n",
              "7808  POSITIVE     ruguayo tos loco merecer pibe tremendo jugador"
            ],
            "text/html": [
              "\n",
              "  <div id=\"df-c1903cbb-2029-430e-9903-3881e9ab055c\">\n",
              "    <div class=\"colab-df-container\">\n",
              "      <div>\n",
              "<style scoped>\n",
              "    .dataframe tbody tr th:only-of-type {\n",
              "        vertical-align: middle;\n",
              "    }\n",
              "\n",
              "    .dataframe tbody tr th {\n",
              "        vertical-align: top;\n",
              "    }\n",
              "\n",
              "    .dataframe thead th {\n",
              "        text-align: right;\n",
              "    }\n",
              "</style>\n",
              "<table border=\"1\" class=\"dataframe\">\n",
              "  <thead>\n",
              "    <tr style=\"text-align: right;\">\n",
              "      <th></th>\n",
              "      <th>sentiment</th>\n",
              "      <th>text</th>\n",
              "    </tr>\n",
              "  </thead>\n",
              "  <tbody>\n",
              "    <tr>\n",
              "      <th>7804</th>\n",
              "      <td>POSITIVE</td>\n",
              "      <td>gran noticia poder respirar tranquilo premierl...</td>\n",
              "    </tr>\n",
              "    <tr>\n",
              "      <th>7805</th>\n",
              "      <td>POSITIVE</td>\n",
              "      <td>buen hincha chelseafc opinar</td>\n",
              "    </tr>\n",
              "    <tr>\n",
              "      <th>7806</th>\n",
              "      <td>POSITIVE</td>\n",
              "      <td>bien ahora seguir as contar confianza rafa ben...</td>\n",
              "    </tr>\n",
              "    <tr>\n",
              "      <th>7807</th>\n",
              "      <td>POSITIVE</td>\n",
              "      <td>retirar cole poder ver enserio precio cryliv</td>\n",
              "    </tr>\n",
              "    <tr>\n",
              "      <th>7808</th>\n",
              "      <td>POSITIVE</td>\n",
              "      <td>ruguayo tos loco merecer pibe tremendo jugador</td>\n",
              "    </tr>\n",
              "  </tbody>\n",
              "</table>\n",
              "</div>\n",
              "      <button class=\"colab-df-convert\" onclick=\"convertToInteractive('df-c1903cbb-2029-430e-9903-3881e9ab055c')\"\n",
              "              title=\"Convert this dataframe to an interactive table.\"\n",
              "              style=\"display:none;\">\n",
              "        \n",
              "  <svg xmlns=\"http://www.w3.org/2000/svg\" height=\"24px\"viewBox=\"0 0 24 24\"\n",
              "       width=\"24px\">\n",
              "    <path d=\"M0 0h24v24H0V0z\" fill=\"none\"/>\n",
              "    <path d=\"M18.56 5.44l.94 2.06.94-2.06 2.06-.94-2.06-.94-.94-2.06-.94 2.06-2.06.94zm-11 1L8.5 8.5l.94-2.06 2.06-.94-2.06-.94L8.5 2.5l-.94 2.06-2.06.94zm10 10l.94 2.06.94-2.06 2.06-.94-2.06-.94-.94-2.06-.94 2.06-2.06.94z\"/><path d=\"M17.41 7.96l-1.37-1.37c-.4-.4-.92-.59-1.43-.59-.52 0-1.04.2-1.43.59L10.3 9.45l-7.72 7.72c-.78.78-.78 2.05 0 2.83L4 21.41c.39.39.9.59 1.41.59.51 0 1.02-.2 1.41-.59l7.78-7.78 2.81-2.81c.8-.78.8-2.07 0-2.86zM5.41 20L4 18.59l7.72-7.72 1.47 1.35L5.41 20z\"/>\n",
              "  </svg>\n",
              "      </button>\n",
              "      \n",
              "  <style>\n",
              "    .colab-df-container {\n",
              "      display:flex;\n",
              "      flex-wrap:wrap;\n",
              "      gap: 12px;\n",
              "    }\n",
              "\n",
              "    .colab-df-convert {\n",
              "      background-color: #E8F0FE;\n",
              "      border: none;\n",
              "      border-radius: 50%;\n",
              "      cursor: pointer;\n",
              "      display: none;\n",
              "      fill: #1967D2;\n",
              "      height: 32px;\n",
              "      padding: 0 0 0 0;\n",
              "      width: 32px;\n",
              "    }\n",
              "\n",
              "    .colab-df-convert:hover {\n",
              "      background-color: #E2EBFA;\n",
              "      box-shadow: 0px 1px 2px rgba(60, 64, 67, 0.3), 0px 1px 3px 1px rgba(60, 64, 67, 0.15);\n",
              "      fill: #174EA6;\n",
              "    }\n",
              "\n",
              "    [theme=dark] .colab-df-convert {\n",
              "      background-color: #3B4455;\n",
              "      fill: #D2E3FC;\n",
              "    }\n",
              "\n",
              "    [theme=dark] .colab-df-convert:hover {\n",
              "      background-color: #434B5C;\n",
              "      box-shadow: 0px 1px 3px 1px rgba(0, 0, 0, 0.15);\n",
              "      filter: drop-shadow(0px 1px 2px rgba(0, 0, 0, 0.3));\n",
              "      fill: #FFFFFF;\n",
              "    }\n",
              "  </style>\n",
              "\n",
              "      <script>\n",
              "        const buttonEl =\n",
              "          document.querySelector('#df-c1903cbb-2029-430e-9903-3881e9ab055c button.colab-df-convert');\n",
              "        buttonEl.style.display =\n",
              "          google.colab.kernel.accessAllowed ? 'block' : 'none';\n",
              "\n",
              "        async function convertToInteractive(key) {\n",
              "          const element = document.querySelector('#df-c1903cbb-2029-430e-9903-3881e9ab055c');\n",
              "          const dataTable =\n",
              "            await google.colab.kernel.invokeFunction('convertToInteractive',\n",
              "                                                     [key], {});\n",
              "          if (!dataTable) return;\n",
              "\n",
              "          const docLinkHtml = 'Like what you see? Visit the ' +\n",
              "            '<a target=\"_blank\" href=https://colab.research.google.com/notebooks/data_table.ipynb>data table notebook</a>'\n",
              "            + ' to learn more about interactive tables.';\n",
              "          element.innerHTML = '';\n",
              "          dataTable['output_type'] = 'display_data';\n",
              "          await google.colab.output.renderOutput(dataTable, element);\n",
              "          const docLink = document.createElement('div');\n",
              "          docLink.innerHTML = docLinkHtml;\n",
              "          element.appendChild(docLink);\n",
              "        }\n",
              "      </script>\n",
              "    </div>\n",
              "  </div>\n",
              "  "
            ]
          },
          "metadata": {},
          "execution_count": 62
        }
      ]
    },
    {
      "cell_type": "code",
      "execution_count": null,
      "metadata": {
        "id": "CAhZ5V7HzEvy"
      },
      "outputs": [],
      "source": [
        "#INPUT_LENGTH = 25\n",
        "EMBED_DIM = 128\n",
        "#MAX_WORDS = dim\n",
        "MAX_LEN = 300\n",
        "\n",
        "# Creamos tokenizador\n",
        "tokenizer = keras.preprocessing.text.Tokenizer(num_words = dim)\n",
        "tokenizer.fit_on_texts(df.text)\n",
        "sequences = tokenizer.texts_to_sequences(df.text)\n",
        "X = keras.preprocessing.sequence.pad_sequences(\n",
        "    sequences,\n",
        "    maxlen = MAX_LEN\n",
        ")\n",
        "y = pd.get_dummies(df.sentiment).values"
      ]
    },
    {
      "cell_type": "code",
      "execution_count": null,
      "metadata": {
        "colab": {
          "base_uri": "https://localhost:8080/"
        },
        "id": "4nD7z-cCzKrY",
        "outputId": "0a0c9138-f80e-42b5-922d-9043fd4f2591"
      },
      "outputs": [
        {
          "output_type": "stream",
          "name": "stdout",
          "text": [
            "Shape X: (15561, 300)\n",
            "Shape y: (15561, 2)\n"
          ]
        }
      ],
      "source": [
        "print('Shape X:', X.shape)\n",
        "print('Shape y:', y.shape)"
      ]
    },
    {
      "cell_type": "code",
      "execution_count": null,
      "metadata": {
        "id": "IOfoWUpyzeaI"
      },
      "outputs": [],
      "source": [
        "# Separamos train/test\n",
        "#from sklearn.model_selection import train_test_split\n",
        "#from sklearn.model_selection import GridSearchCV\n",
        "\n",
        "X_train, X_test, y_train, y_test = train_test_split(X, y,\n",
        "                                                    random_state = 42,\n",
        "                                                    test_size = 0.2)"
      ]
    },
    {
      "cell_type": "code",
      "execution_count": null,
      "metadata": {
        "id": "n9J9qT3Wz0rW",
        "colab": {
          "base_uri": "https://localhost:8080/"
        },
        "outputId": "bfc75e98-8c94-4405-df3a-b0a05cf5d5a1"
      },
      "outputs": [
        {
          "output_type": "execute_result",
          "data": {
            "text/plain": [
              "array([[0, 1],\n",
              "       [1, 0],\n",
              "       [0, 1],\n",
              "       ...,\n",
              "       [1, 0],\n",
              "       [0, 1],\n",
              "       [0, 1]], dtype=uint8)"
            ]
          },
          "metadata": {},
          "execution_count": 67
        }
      ],
      "source": [
        "y_test"
      ]
    },
    {
      "cell_type": "code",
      "execution_count": null,
      "metadata": {
        "id": "Ub_Okl_fHwOl"
      },
      "outputs": [],
      "source": [
        "DROPOUT_VAL = 0.6\n",
        "BATCH_SIZE = 32\n",
        "DENSE_DIM = 2\n",
        "UNITS = 700\n",
        "EPOCHS = 25\n",
        "\n",
        "layers = [\n",
        "    keras.layers.Embedding(dim, 40, input_length = MAX_LEN),\n",
        "    keras.layers.Bidirectional(keras.layers.LSTM(20, dropout = DROPOUT_VAL)),\n",
        "    keras.layers.Dense(2, activation = 'softmax')\n",
        "]\n",
        "\n",
        "model_rnn = keras.models.Sequential(layers)\n",
        "\n",
        "# Compilamos modelo\n",
        "model_rnn.compile(optimizer = 'rmsprop',\n",
        "                        loss = 'categorical_crossentropy',\n",
        "                        metrics = ['accuracy'])\n",
        "\n",
        "# Creamos faststopping\n",
        "callback = keras.callbacks.EarlyStopping(monitor = 'val_loss',\n",
        "                                         mode = 'min',\n",
        "                                         verbose = 0,\n",
        "                                         patience = 3)\n",
        "# Creamos checkpoint\n",
        "checkpoint = keras.callbacks.ModelCheckpoint('best_model_rnn.hdf5',\n",
        "                                     monitor = 'val_accuracy',\n",
        "                                     verbose = 1,\n",
        "                                     save_best_only = True,\n",
        "                                     mode = 'auto',\n",
        "                                     save_weigths_only = False)"
      ]
    },
    {
      "cell_type": "code",
      "execution_count": null,
      "metadata": {
        "colab": {
          "base_uri": "https://localhost:8080/"
        },
        "id": "ddE4i-gcyF0z",
        "outputId": "e50bee59-6d9d-4d3a-b194-b639cf086ace"
      },
      "outputs": [
        {
          "output_type": "stream",
          "name": "stdout",
          "text": [
            "Epoch 1/25\n",
            "389/389 [==============================] - ETA: 0s - loss: 0.5011 - accuracy: 0.7510\n",
            "Epoch 1: val_accuracy improved from -inf to 0.83199, saving model to best_model_rnn.hdf5\n",
            "389/389 [==============================] - 50s 119ms/step - loss: 0.5011 - accuracy: 0.7510 - val_loss: 0.3679 - val_accuracy: 0.8320\n",
            "Epoch 2/25\n",
            "389/389 [==============================] - ETA: 0s - loss: 0.3274 - accuracy: 0.8601\n",
            "Epoch 2: val_accuracy improved from 0.83199 to 0.86155, saving model to best_model_rnn.hdf5\n",
            "389/389 [==============================] - 43s 112ms/step - loss: 0.3274 - accuracy: 0.8601 - val_loss: 0.3247 - val_accuracy: 0.8615\n",
            "Epoch 3/25\n",
            "389/389 [==============================] - ETA: 0s - loss: 0.2833 - accuracy: 0.8819\n",
            "Epoch 3: val_accuracy improved from 0.86155 to 0.86540, saving model to best_model_rnn.hdf5\n",
            "389/389 [==============================] - 43s 111ms/step - loss: 0.2833 - accuracy: 0.8819 - val_loss: 0.3249 - val_accuracy: 0.8654\n",
            "Epoch 4/25\n",
            "389/389 [==============================] - ETA: 0s - loss: 0.2657 - accuracy: 0.8907\n",
            "Epoch 4: val_accuracy improved from 0.86540 to 0.86572, saving model to best_model_rnn.hdf5\n",
            "389/389 [==============================] - 44s 113ms/step - loss: 0.2657 - accuracy: 0.8907 - val_loss: 0.3230 - val_accuracy: 0.8657\n",
            "Epoch 5/25\n",
            "389/389 [==============================] - ETA: 0s - loss: 0.2492 - accuracy: 0.8964\n",
            "Epoch 5: val_accuracy improved from 0.86572 to 0.86701, saving model to best_model_rnn.hdf5\n",
            "389/389 [==============================] - 43s 112ms/step - loss: 0.2492 - accuracy: 0.8964 - val_loss: 0.3179 - val_accuracy: 0.8670\n",
            "Epoch 6/25\n",
            "389/389 [==============================] - ETA: 0s - loss: 0.2610 - accuracy: 0.8915\n",
            "Epoch 6: val_accuracy improved from 0.86701 to 0.86958, saving model to best_model_rnn.hdf5\n",
            "389/389 [==============================] - 43s 110ms/step - loss: 0.2610 - accuracy: 0.8915 - val_loss: 0.3222 - val_accuracy: 0.8696\n",
            "Epoch 7/25\n",
            "389/389 [==============================] - ETA: 0s - loss: 0.2290 - accuracy: 0.9083\n",
            "Epoch 7: val_accuracy did not improve from 0.86958\n",
            "389/389 [==============================] - 44s 113ms/step - loss: 0.2290 - accuracy: 0.9083 - val_loss: 0.3116 - val_accuracy: 0.8654\n",
            "Epoch 8/25\n",
            "389/389 [==============================] - ETA: 0s - loss: 0.2207 - accuracy: 0.9110\n",
            "Epoch 8: val_accuracy improved from 0.86958 to 0.87183, saving model to best_model_rnn.hdf5\n",
            "389/389 [==============================] - 42s 109ms/step - loss: 0.2207 - accuracy: 0.9110 - val_loss: 0.3175 - val_accuracy: 0.8718\n",
            "Epoch 9/25\n",
            "389/389 [==============================] - ETA: 0s - loss: 0.2141 - accuracy: 0.9136\n",
            "Epoch 9: val_accuracy did not improve from 0.87183\n",
            "389/389 [==============================] - 44s 112ms/step - loss: 0.2141 - accuracy: 0.9136 - val_loss: 0.3214 - val_accuracy: 0.8693\n",
            "Epoch 10/25\n",
            "389/389 [==============================] - ETA: 0s - loss: 0.2114 - accuracy: 0.9138\n",
            "Epoch 10: val_accuracy did not improve from 0.87183\n",
            "389/389 [==============================] - 42s 109ms/step - loss: 0.2114 - accuracy: 0.9138 - val_loss: 0.3416 - val_accuracy: 0.8628\n"
          ]
        }
      ],
      "source": [
        "# Entrenamos\n",
        "history = model_rnn.fit(X_train,\n",
        "                       y_train,\n",
        "                       epochs = EPOCHS,\n",
        "                       validation_data = (X_test, y_test),\n",
        "                       batch_size = BATCH_SIZE,\n",
        "                       callbacks = [callback, checkpoint])"
      ]
    },
    {
      "cell_type": "code",
      "execution_count": null,
      "metadata": {
        "colab": {
          "base_uri": "https://localhost:8080/"
        },
        "id": "7q4X2gbMyMSp",
        "outputId": "652bec7a-1958-4f1b-daa8-28533bbd16e2"
      },
      "outputs": [
        {
          "output_type": "stream",
          "name": "stdout",
          "text": [
            "98/98 [==============================] - 2s 25ms/step - loss: 0.3416 - accuracy: 0.8628\n"
          ]
        },
        {
          "output_type": "execute_result",
          "data": {
            "text/plain": [
              "[0.34160372614860535, 0.8628332614898682]"
            ]
          },
          "metadata": {},
          "execution_count": 70
        }
      ],
      "source": [
        "# Evaluamos\n",
        "accuracy_dl_bi = model_rnn.evaluate(X_test, y_test)\n",
        "accuracy_dl_bi\n",
        "\n",
        "# Resultado obtenido el 19-08:\n",
        "# Validation Accuracy: 0.761965811252594"
      ]
    },
    {
      "cell_type": "code",
      "execution_count": null,
      "metadata": {
        "colab": {
          "base_uri": "https://localhost:8080/"
        },
        "id": "4mxDT4uryXNn",
        "outputId": "fca296d4-bc83-4994-c2c3-e30a4136f940"
      },
      "outputs": [
        {
          "output_type": "stream",
          "name": "stdout",
          "text": [
            "              precision    recall  f1-score   support\n",
            "\n",
            "           0       0.89      0.82      0.86      1557\n",
            "           1       0.84      0.90      0.87      1556\n",
            "\n",
            "    accuracy                           0.86      3113\n",
            "   macro avg       0.86      0.86      0.86      3113\n",
            "weighted avg       0.86      0.86      0.86      3113\n",
            "\n"
          ]
        }
      ],
      "source": [
        "# Sacamos classification report\n",
        "y_pred = model_rnn.predict(X_test)\n",
        "print(classification_report(np.argmax(y_test, axis=1), np.argmax(y_pred, axis=1)))"
      ]
    },
    {
      "cell_type": "code",
      "source": [
        "# save model and architecture to single file\n",
        "model_rnn.save(\"model_rnn.h5\")\n",
        "print(\"Saved model to disk\")"
      ],
      "metadata": {
        "colab": {
          "base_uri": "https://localhost:8080/"
        },
        "id": "NBiTiWs3zPJY",
        "outputId": "723567a2-b4e0-458b-894e-60bc17ca1f56"
      },
      "execution_count": null,
      "outputs": [
        {
          "output_type": "stream",
          "name": "stdout",
          "text": [
            "Saved model to disk\n"
          ]
        }
      ]
    },
    {
      "cell_type": "code",
      "source": [
        "# load model\n",
        "import tensorflow as tf\n",
        "from tensorflow.keras.models import load_model\n",
        "model = load_model('model_rnn.h5')"
      ],
      "metadata": {
        "id": "307nfgAF0Mw9"
      },
      "execution_count": null,
      "outputs": []
    },
    {
      "cell_type": "code",
      "source": [
        "# summarize model.\n",
        "model.summary()"
      ],
      "metadata": {
        "colab": {
          "base_uri": "https://localhost:8080/"
        },
        "id": "FxneaB0l0dHF",
        "outputId": "fbff68df-370a-4551-e416-7a803fc42b78"
      },
      "execution_count": null,
      "outputs": [
        {
          "output_type": "stream",
          "name": "stdout",
          "text": [
            "Model: \"sequential\"\n",
            "_________________________________________________________________\n",
            " Layer (type)                Output Shape              Param #   \n",
            "=================================================================\n",
            " embedding (Embedding)       (None, 300, 40)           687280    \n",
            "                                                                 \n",
            " bidirectional (Bidirectiona  (None, 40)               9760      \n",
            " l)                                                              \n",
            "                                                                 \n",
            " dense (Dense)               (None, 2)                 82        \n",
            "                                                                 \n",
            "=================================================================\n",
            "Total params: 697,122\n",
            "Trainable params: 697,122\n",
            "Non-trainable params: 0\n",
            "_________________________________________________________________\n"
          ]
        }
      ]
    },
    {
      "cell_type": "markdown",
      "source": [
        "#### Using the model to predict"
      ],
      "metadata": {
        "id": "tsNCL9ugQXuk"
      }
    },
    {
      "cell_type": "code",
      "source": [
        "tokenizer.fit_on_texts(df.text)\n",
        "sequences = tokenizer.texts_to_sequences(df.text)\n",
        "X = keras.preprocessing.sequence.pad_sequences(\n",
        "    sequences,\n",
        "    maxlen = MAX_LEN\n",
        ")"
      ],
      "metadata": {
        "id": "b7JIu4HIMdG-"
      },
      "execution_count": null,
      "outputs": []
    },
    {
      "cell_type": "code",
      "source": [
        "def pred_rnn(text):\n",
        "  sentiment = ['Negative', 'Positive']\n",
        "  sequence = tokenizer.texts_to_sequences([text])\n",
        "  test = keras.preprocessing.sequence.pad_sequences(sequence, maxlen=MAX_LEN)\n",
        "  result = sentiment[np.around(model.predict(test), decimals=0).argmax(axis=1)[0]]\n",
        "  if result == 'Negative':\n",
        "    pred = 0\n",
        "  else:\n",
        "    pass\n",
        "  if result == 'Positive':\n",
        "    pred = 1\n",
        "  else:\n",
        "    pass\n",
        "  return result"
      ],
      "metadata": {
        "id": "fvaf4EcjVKOD"
      },
      "execution_count": null,
      "outputs": []
    },
    {
      "cell_type": "code",
      "source": [
        "sentiment = ['Positive','Negative']\n",
        "sequence = tokenizer.texts_to_sequences(['¡Enhorabuena! Trabajazo de @susanasolisp como \\\n",
        "negociadora del @Europarl_ES de los fondos estructurales. \\\n",
        "Explicación en el hilo.'])\n",
        "test = keras.preprocessing.sequence.pad_sequences(sequence, maxlen=MAX_LEN)\n",
        "sentiment[np.around(model.predict(test), decimals=0).argmax(axis=1)[0]]"
      ],
      "metadata": {
        "colab": {
          "base_uri": "https://localhost:8080/",
          "height": 36
        },
        "id": "Pa9aBzVQaIqD",
        "outputId": "33d26588-631d-4867-d41b-d7bcbeb37d70"
      },
      "execution_count": null,
      "outputs": [
        {
          "output_type": "execute_result",
          "data": {
            "text/plain": [
              "'Positive'"
            ],
            "application/vnd.google.colaboratory.intrinsic+json": {
              "type": "string"
            }
          },
          "metadata": {},
          "execution_count": 77
        }
      ]
    },
    {
      "cell_type": "code",
      "source": [
        "pred_rnn('Todo muy mal, un desastre.')"
      ],
      "metadata": {
        "colab": {
          "base_uri": "https://localhost:8080/",
          "height": 36
        },
        "id": "_n8frGnurVmK",
        "outputId": "c02a587e-4207-4f2c-9966-b77b02abafef"
      },
      "execution_count": null,
      "outputs": [
        {
          "output_type": "execute_result",
          "data": {
            "text/plain": [
              "'Negative'"
            ],
            "application/vnd.google.colaboratory.intrinsic+json": {
              "type": "string"
            }
          },
          "metadata": {},
          "execution_count": 78
        }
      ]
    },
    {
      "cell_type": "code",
      "execution_count": null,
      "metadata": {
        "id": "iFp2Vy2Q0GCj"
      },
      "outputs": [],
      "source": [
        "def display_cm(y_test, y_pred):    \n",
        "    sns.heatmap(confusion_matrix(np.argmax(y_test, axis=1), np.argmax(y_pred, axis=1), normalize = 'true'),\n",
        "                annot = True, cmap = 'Blues', fmt='g', cbar=False)\n",
        "    plt.title('Real vs pred')\n",
        "    plt.xlabel('Predicted values')\n",
        "    plt.ylabel('Real values');\n",
        "    \n",
        "    plt.show()"
      ]
    },
    {
      "cell_type": "code",
      "execution_count": null,
      "metadata": {
        "colab": {
          "base_uri": "https://localhost:8080/",
          "height": 295
        },
        "id": "khie2prT0Qg7",
        "outputId": "9163f325-2735-40a8-eb3e-e9bfd0101c4a"
      },
      "outputs": [
        {
          "output_type": "display_data",
          "data": {
            "text/plain": [
              "<Figure size 432x288 with 1 Axes>"
            ],
            "image/png": "[encoded data removed]"
          },
          "metadata": {
            "needs_background": "light"
          }
        }
      ],
      "source": [
        "# Plotting the Confusion matrix\n",
        "display_cm(y_test, y_pred)"
      ]
    },
    {
      "cell_type": "code",
      "source": [
        "df_rest = pd.read_csv(\"train.tsv\", sep=\"\\t\", header=None, names=[\"sentimiento\", \"texto\"])\n",
        "\n",
        "#display DataFrame\n",
        "print(df_rest)"
      ],
      "metadata": {
        "colab": {
          "base_uri": "https://localhost:8080/"
        },
        "id": "O3OI-4JTkayB",
        "outputId": "274d430b-2169-42d3-ae85-c74354452f3a"
      },
      "execution_count": 65,
      "outputs": [
        {
          "output_type": "stream",
          "name": "stdout",
          "text": [
            "      sentimiento                                              texto\n",
            "0               1                         nos sentimos muy a gusto .\n",
            "1               1  buen servicio , ambiente acogedor y tranquilo ...\n",
            "2               1                                   muy recomendable\n",
            "3               1  la atencion es muy buena , los camareros estan...\n",
            "4               1  y la comida espectacular , por eso lo bueno se...\n",
            "...           ...                                                ...\n",
            "1858            0  al final pedimos un entrecot y estaba seco y e...\n",
            "1859            0                                    no volveremos .\n",
            "1860            1  todo fue perfecto , tanto la atencin del perso...\n",
            "1861            1                                    lo recomiendo .\n",
            "1862            1  no puedo disfrutar ms en maur ! la calidad de ...\n",
            "\n",
            "[1863 rows x 2 columns]\n"
          ]
        }
      ]
    },
    {
      "cell_type": "code",
      "source": [
        "df_rest['sentimiento'].value_counts()"
      ],
      "metadata": {
        "colab": {
          "base_uri": "https://localhost:8080/"
        },
        "id": "6ofuQYc5o-u1",
        "outputId": "bb112df2-4681-43e6-def6-970ca97f5f83"
      },
      "execution_count": 66,
      "outputs": [
        {
          "output_type": "execute_result",
          "data": {
            "text/plain": [
              "1    1511\n",
              "0     352\n",
              "Name: sentimiento, dtype: int64"
            ]
          },
          "metadata": {},
          "execution_count": 66
        }
      ]
    },
    {
      "cell_type": "code",
      "source": [
        "df_rest['prediction'] = df_rest['texto'].apply(pred_rnn)"
      ],
      "metadata": {
        "id": "bwuGAt4AljaG"
      },
      "execution_count": null,
      "outputs": []
    },
    {
      "cell_type": "code",
      "source": [
        "df_rest.head()"
      ],
      "metadata": {
        "colab": {
          "base_uri": "https://localhost:8080/",
          "height": 206
        },
        "id": "Rj42fL03mW1w",
        "outputId": "7188648a-f46f-44df-ff99-ada899acc30d"
      },
      "execution_count": null,
      "outputs": [
        {
          "output_type": "execute_result",
          "data": {
            "text/plain": [
              "   sentimiento                                              texto prediction\n",
              "0            1                         nos sentimos muy a gusto .   Positive\n",
              "1            1  buen servicio , ambiente acogedor y tranquilo ...   Positive\n",
              "2            1                                   muy recomendable   Positive\n",
              "3            1  la atencion es muy buena , los camareros estan...   Positive\n",
              "4            1  y la comida espectacular , por eso lo bueno se...   Positive"
            ],
            "text/html": [
              "\n",
              "  <div id=\"df-7d8645e6-f942-4cd4-b650-ba8c01f9536f\">\n",
              "    <div class=\"colab-df-container\">\n",
              "      <div>\n",
              "<style scoped>\n",
              "    .dataframe tbody tr th:only-of-type {\n",
              "        vertical-align: middle;\n",
              "    }\n",
              "\n",
              "    .dataframe tbody tr th {\n",
              "        vertical-align: top;\n",
              "    }\n",
              "\n",
              "    .dataframe thead th {\n",
              "        text-align: right;\n",
              "    }\n",
              "</style>\n",
              "<table border=\"1\" class=\"dataframe\">\n",
              "  <thead>\n",
              "    <tr style=\"text-align: right;\">\n",
              "      <th></th>\n",
              "      <th>sentimiento</th>\n",
              "      <th>texto</th>\n",
              "      <th>prediction</th>\n",
              "    </tr>\n",
              "  </thead>\n",
              "  <tbody>\n",
              "    <tr>\n",
              "      <th>0</th>\n",
              "      <td>1</td>\n",
              "      <td>nos sentimos muy a gusto .</td>\n",
              "      <td>Positive</td>\n",
              "    </tr>\n",
              "    <tr>\n",
              "      <th>1</th>\n",
              "      <td>1</td>\n",
              "      <td>buen servicio , ambiente acogedor y tranquilo ...</td>\n",
              "      <td>Positive</td>\n",
              "    </tr>\n",
              "    <tr>\n",
              "      <th>2</th>\n",
              "      <td>1</td>\n",
              "      <td>muy recomendable</td>\n",
              "      <td>Positive</td>\n",
              "    </tr>\n",
              "    <tr>\n",
              "      <th>3</th>\n",
              "      <td>1</td>\n",
              "      <td>la atencion es muy buena , los camareros estan...</td>\n",
              "      <td>Positive</td>\n",
              "    </tr>\n",
              "    <tr>\n",
              "      <th>4</th>\n",
              "      <td>1</td>\n",
              "      <td>y la comida espectacular , por eso lo bueno se...</td>\n",
              "      <td>Positive</td>\n",
              "    </tr>\n",
              "  </tbody>\n",
              "</table>\n",
              "</div>\n",
              "      <button class=\"colab-df-convert\" onclick=\"convertToInteractive('df-7d8645e6-f942-4cd4-b650-ba8c01f9536f')\"\n",
              "              title=\"Convert this dataframe to an interactive table.\"\n",
              "              style=\"display:none;\">\n",
              "        \n",
              "  <svg xmlns=\"http://www.w3.org/2000/svg\" height=\"24px\"viewBox=\"0 0 24 24\"\n",
              "       width=\"24px\">\n",
              "    <path d=\"M0 0h24v24H0V0z\" fill=\"none\"/>\n",
              "    <path d=\"M18.56 5.44l.94 2.06.94-2.06 2.06-.94-2.06-.94-.94-2.06-.94 2.06-2.06.94zm-11 1L8.5 8.5l.94-2.06 2.06-.94-2.06-.94L8.5 2.5l-.94 2.06-2.06.94zm10 10l.94 2.06.94-2.06 2.06-.94-2.06-.94-.94-2.06-.94 2.06-2.06.94z\"/><path d=\"M17.41 7.96l-1.37-1.37c-.4-.4-.92-.59-1.43-.59-.52 0-1.04.2-1.43.59L10.3 9.45l-7.72 7.72c-.78.78-.78 2.05 0 2.83L4 21.41c.39.39.9.59 1.41.59.51 0 1.02-.2 1.41-.59l7.78-7.78 2.81-2.81c.8-.78.8-2.07 0-2.86zM5.41 20L4 18.59l7.72-7.72 1.47 1.35L5.41 20z\"/>\n",
              "  </svg>\n",
              "      </button>\n",
              "      \n",
              "  <style>\n",
              "    .colab-df-container {\n",
              "      display:flex;\n",
              "      flex-wrap:wrap;\n",
              "      gap: 12px;\n",
              "    }\n",
              "\n",
              "    .colab-df-convert {\n",
              "      background-color: #E8F0FE;\n",
              "      border: none;\n",
              "      border-radius: 50%;\n",
              "      cursor: pointer;\n",
              "      display: none;\n",
              "      fill: #1967D2;\n",
              "      height: 32px;\n",
              "      padding: 0 0 0 0;\n",
              "      width: 32px;\n",
              "    }\n",
              "\n",
              "    .colab-df-convert:hover {\n",
              "      background-color: #E2EBFA;\n",
              "      box-shadow: 0px 1px 2px rgba(60, 64, 67, 0.3), 0px 1px 3px 1px rgba(60, 64, 67, 0.15);\n",
              "      fill: #174EA6;\n",
              "    }\n",
              "\n",
              "    [theme=dark] .colab-df-convert {\n",
              "      background-color: #3B4455;\n",
              "      fill: #D2E3FC;\n",
              "    }\n",
              "\n",
              "    [theme=dark] .colab-df-convert:hover {\n",
              "      background-color: #434B5C;\n",
              "      box-shadow: 0px 1px 3px 1px rgba(0, 0, 0, 0.15);\n",
              "      filter: drop-shadow(0px 1px 2px rgba(0, 0, 0, 0.3));\n",
              "      fill: #FFFFFF;\n",
              "    }\n",
              "  </style>\n",
              "\n",
              "      <script>\n",
              "        const buttonEl =\n",
              "          document.querySelector('#df-7d8645e6-f942-4cd4-b650-ba8c01f9536f button.colab-df-convert');\n",
              "        buttonEl.style.display =\n",
              "          google.colab.kernel.accessAllowed ? 'block' : 'none';\n",
              "\n",
              "        async function convertToInteractive(key) {\n",
              "          const element = document.querySelector('#df-7d8645e6-f942-4cd4-b650-ba8c01f9536f');\n",
              "          const dataTable =\n",
              "            await google.colab.kernel.invokeFunction('convertToInteractive',\n",
              "                                                     [key], {});\n",
              "          if (!dataTable) return;\n",
              "\n",
              "          const docLinkHtml = 'Like what you see? Visit the ' +\n",
              "            '<a target=\"_blank\" href=https://colab.research.google.com/notebooks/data_table.ipynb>data table notebook</a>'\n",
              "            + ' to learn more about interactive tables.';\n",
              "          element.innerHTML = '';\n",
              "          dataTable['output_type'] = 'display_data';\n",
              "          await google.colab.output.renderOutput(dataTable, element);\n",
              "          const docLink = document.createElement('div');\n",
              "          docLink.innerHTML = docLinkHtml;\n",
              "          element.appendChild(docLink);\n",
              "        }\n",
              "      </script>\n",
              "    </div>\n",
              "  </div>\n",
              "  "
            ]
          },
          "metadata": {},
          "execution_count": 84
        }
      ]
    },
    {
      "cell_type": "code",
      "source": [
        "df_rest['prediction'].value_counts()"
      ],
      "metadata": {
        "colab": {
          "base_uri": "https://localhost:8080/"
        },
        "id": "afzTbpL0oegB",
        "outputId": "1672dfd6-357a-4fe5-8c4f-41ccf85889e6"
      },
      "execution_count": null,
      "outputs": [
        {
          "output_type": "execute_result",
          "data": {
            "text/plain": [
              "Positive    1105\n",
              "Negative     758\n",
              "Name: prediction, dtype: int64"
            ]
          },
          "metadata": {},
          "execution_count": 85
        }
      ]
    },
    {
      "cell_type": "code",
      "source": [
        "df_rest.head()"
      ],
      "metadata": {
        "colab": {
          "base_uri": "https://localhost:8080/",
          "height": 206
        },
        "id": "D7FqssFtySy3",
        "outputId": "c61dd54e-559b-4192-f4d9-e936b3e98ce1"
      },
      "execution_count": null,
      "outputs": [
        {
          "output_type": "execute_result",
          "data": {
            "text/plain": [
              "   sentimiento                                              texto prediction\n",
              "0            1                         nos sentimos muy a gusto .   Positive\n",
              "1            1  buen servicio , ambiente acogedor y tranquilo ...   Positive\n",
              "2            1                                   muy recomendable   Positive\n",
              "3            1  la atencion es muy buena , los camareros estan...   Positive\n",
              "4            1  y la comida espectacular , por eso lo bueno se...   Positive"
            ],
            "text/html": [
              "\n",
              "  <div id=\"df-71d2cb72-ccb3-4d1d-97e8-670cb5511ac2\">\n",
              "    <div class=\"colab-df-container\">\n",
              "      <div>\n",
              "<style scoped>\n",
              "    .dataframe tbody tr th:only-of-type {\n",
              "        vertical-align: middle;\n",
              "    }\n",
              "\n",
              "    .dataframe tbody tr th {\n",
              "        vertical-align: top;\n",
              "    }\n",
              "\n",
              "    .dataframe thead th {\n",
              "        text-align: right;\n",
              "    }\n",
              "</style>\n",
              "<table border=\"1\" class=\"dataframe\">\n",
              "  <thead>\n",
              "    <tr style=\"text-align: right;\">\n",
              "      <th></th>\n",
              "      <th>sentimiento</th>\n",
              "      <th>texto</th>\n",
              "      <th>prediction</th>\n",
              "    </tr>\n",
              "  </thead>\n",
              "  <tbody>\n",
              "    <tr>\n",
              "      <th>0</th>\n",
              "      <td>1</td>\n",
              "      <td>nos sentimos muy a gusto .</td>\n",
              "      <td>Positive</td>\n",
              "    </tr>\n",
              "    <tr>\n",
              "      <th>1</th>\n",
              "      <td>1</td>\n",
              "      <td>buen servicio , ambiente acogedor y tranquilo ...</td>\n",
              "      <td>Positive</td>\n",
              "    </tr>\n",
              "    <tr>\n",
              "      <th>2</th>\n",
              "      <td>1</td>\n",
              "      <td>muy recomendable</td>\n",
              "      <td>Positive</td>\n",
              "    </tr>\n",
              "    <tr>\n",
              "      <th>3</th>\n",
              "      <td>1</td>\n",
              "      <td>la atencion es muy buena , los camareros estan...</td>\n",
              "      <td>Positive</td>\n",
              "    </tr>\n",
              "    <tr>\n",
              "      <th>4</th>\n",
              "      <td>1</td>\n",
              "      <td>y la comida espectacular , por eso lo bueno se...</td>\n",
              "      <td>Positive</td>\n",
              "    </tr>\n",
              "  </tbody>\n",
              "</table>\n",
              "</div>\n",
              "      <button class=\"colab-df-convert\" onclick=\"convertToInteractive('df-71d2cb72-ccb3-4d1d-97e8-670cb5511ac2')\"\n",
              "              title=\"Convert this dataframe to an interactive table.\"\n",
              "              style=\"display:none;\">\n",
              "        \n",
              "  <svg xmlns=\"http://www.w3.org/2000/svg\" height=\"24px\"viewBox=\"0 0 24 24\"\n",
              "       width=\"24px\">\n",
              "    <path d=\"M0 0h24v24H0V0z\" fill=\"none\"/>\n",
              "    <path d=\"M18.56 5.44l.94 2.06.94-2.06 2.06-.94-2.06-.94-.94-2.06-.94 2.06-2.06.94zm-11 1L8.5 8.5l.94-2.06 2.06-.94-2.06-.94L8.5 2.5l-.94 2.06-2.06.94zm10 10l.94 2.06.94-2.06 2.06-.94-2.06-.94-.94-2.06-.94 2.06-2.06.94z\"/><path d=\"M17.41 7.96l-1.37-1.37c-.4-.4-.92-.59-1.43-.59-.52 0-1.04.2-1.43.59L10.3 9.45l-7.72 7.72c-.78.78-.78 2.05 0 2.83L4 21.41c.39.39.9.59 1.41.59.51 0 1.02-.2 1.41-.59l7.78-7.78 2.81-2.81c.8-.78.8-2.07 0-2.86zM5.41 20L4 18.59l7.72-7.72 1.47 1.35L5.41 20z\"/>\n",
              "  </svg>\n",
              "      </button>\n",
              "      \n",
              "  <style>\n",
              "    .colab-df-container {\n",
              "      display:flex;\n",
              "      flex-wrap:wrap;\n",
              "      gap: 12px;\n",
              "    }\n",
              "\n",
              "    .colab-df-convert {\n",
              "      background-color: #E8F0FE;\n",
              "      border: none;\n",
              "      border-radius: 50%;\n",
              "      cursor: pointer;\n",
              "      display: none;\n",
              "      fill: #1967D2;\n",
              "      height: 32px;\n",
              "      padding: 0 0 0 0;\n",
              "      width: 32px;\n",
              "    }\n",
              "\n",
              "    .colab-df-convert:hover {\n",
              "      background-color: #E2EBFA;\n",
              "      box-shadow: 0px 1px 2px rgba(60, 64, 67, 0.3), 0px 1px 3px 1px rgba(60, 64, 67, 0.15);\n",
              "      fill: #174EA6;\n",
              "    }\n",
              "\n",
              "    [theme=dark] .colab-df-convert {\n",
              "      background-color: #3B4455;\n",
              "      fill: #D2E3FC;\n",
              "    }\n",
              "\n",
              "    [theme=dark] .colab-df-convert:hover {\n",
              "      background-color: #434B5C;\n",
              "      box-shadow: 0px 1px 3px 1px rgba(0, 0, 0, 0.15);\n",
              "      filter: drop-shadow(0px 1px 2px rgba(0, 0, 0, 0.3));\n",
              "      fill: #FFFFFF;\n",
              "    }\n",
              "  </style>\n",
              "\n",
              "      <script>\n",
              "        const buttonEl =\n",
              "          document.querySelector('#df-71d2cb72-ccb3-4d1d-97e8-670cb5511ac2 button.colab-df-convert');\n",
              "        buttonEl.style.display =\n",
              "          google.colab.kernel.accessAllowed ? 'block' : 'none';\n",
              "\n",
              "        async function convertToInteractive(key) {\n",
              "          const element = document.querySelector('#df-71d2cb72-ccb3-4d1d-97e8-670cb5511ac2');\n",
              "          const dataTable =\n",
              "            await google.colab.kernel.invokeFunction('convertToInteractive',\n",
              "                                                     [key], {});\n",
              "          if (!dataTable) return;\n",
              "\n",
              "          const docLinkHtml = 'Like what you see? Visit the ' +\n",
              "            '<a target=\"_blank\" href=https://colab.research.google.com/notebooks/data_table.ipynb>data table notebook</a>'\n",
              "            + ' to learn more about interactive tables.';\n",
              "          element.innerHTML = '';\n",
              "          dataTable['output_type'] = 'display_data';\n",
              "          await google.colab.output.renderOutput(dataTable, element);\n",
              "          const docLink = document.createElement('div');\n",
              "          docLink.innerHTML = docLinkHtml;\n",
              "          element.appendChild(docLink);\n",
              "        }\n",
              "      </script>\n",
              "    </div>\n",
              "  </div>\n",
              "  "
            ]
          },
          "metadata": {},
          "execution_count": 86
        }
      ]
    },
    {
      "cell_type": "markdown",
      "source": [
        "### Predicting with LR 2"
      ],
      "metadata": {
        "id": "K-PY_yMilamj"
      }
    },
    {
      "cell_type": "code",
      "source": [
        "df_rest['pred_LR'] = df_rest['texto'].apply(pred_tweet)"
      ],
      "metadata": {
        "id": "Z1v6CjKPlZEp"
      },
      "execution_count": null,
      "outputs": []
    },
    {
      "cell_type": "code",
      "source": [
        "df_rest['pred_LR'].value_counts()"
      ],
      "metadata": {
        "colab": {
          "base_uri": "https://localhost:8080/"
        },
        "id": "ymKVg8NzlYj8",
        "outputId": "139272a9-a3b2-44e3-8542-7a7fd49efc6b"
      },
      "execution_count": null,
      "outputs": [
        {
          "output_type": "execute_result",
          "data": {
            "text/plain": [
              "Positivo    975\n",
              "Negativo    888\n",
              "Name: pred_LR, dtype: int64"
            ]
          },
          "metadata": {},
          "execution_count": 88
        }
      ]
    },
    {
      "cell_type": "code",
      "source": [
        "df_comp = df_rest.loc[[df_rest['pred_LR']=='Negativo'] and df_rest['sentimiento']==1]"
      ],
      "metadata": {
        "id": "s7m1ZLIEx6pO"
      },
      "execution_count": null,
      "outputs": []
    },
    {
      "cell_type": "code",
      "source": [
        "df_comp.sample(10)"
      ],
      "metadata": {
        "colab": {
          "base_uri": "https://localhost:8080/",
          "height": 363
        },
        "id": "4aDVRdMLyzaH",
        "outputId": "c0139f9a-63c0-4bd3-8a5a-84ab3210601c"
      },
      "execution_count": null,
      "outputs": [
        {
          "output_type": "execute_result",
          "data": {
            "text/plain": [
              "      sentimiento                                              texto  \\\n",
              "11              1  9reinas ya sido una de las mejores experiencia...   \n",
              "1031            1             jajajaja , me ro yo de los tenedores .   \n",
              "1389            1  por lo demas todo perfecto , lo recomiendo y l...   \n",
              "641             1                                      le doy un 8,5   \n",
              "732             1  cocina , platos y sobre todo el personal extra...   \n",
              "780             1                buena calidad y correcta cantidad .   \n",
              "1700            1                               buena calidad precio   \n",
              "50              1  el servicio inmejorable y la comida excepciona...   \n",
              "1781            1  la cena estaba buenisima , es un men muy , muy...   \n",
              "397             1  la pena era que fuimos a cenar y todava no era...   \n",
              "\n",
              "     prediction   pred_LR  \n",
              "11     Negative  Positivo  \n",
              "1031   Negative  Positivo  \n",
              "1389   Positive  Positivo  \n",
              "641    Negative  Negativo  \n",
              "732    Positive  Positivo  \n",
              "780    Negative  Positivo  \n",
              "1700   Positive  Positivo  \n",
              "50     Positive  Positivo  \n",
              "1781   Positive  Positivo  \n",
              "397    Negative  Negativo  "
            ],
            "text/html": [
              "\n",
              "  <div id=\"df-345ca314-b6e1-4622-bcd1-78006901115a\">\n",
              "    <div class=\"colab-df-container\">\n",
              "      <div>\n",
              "<style scoped>\n",
              "    .dataframe tbody tr th:only-of-type {\n",
              "        vertical-align: middle;\n",
              "    }\n",
              "\n",
              "    .dataframe tbody tr th {\n",
              "        vertical-align: top;\n",
              "    }\n",
              "\n",
              "    .dataframe thead th {\n",
              "        text-align: right;\n",
              "    }\n",
              "</style>\n",
              "<table border=\"1\" class=\"dataframe\">\n",
              "  <thead>\n",
              "    <tr style=\"text-align: right;\">\n",
              "      <th></th>\n",
              "      <th>sentimiento</th>\n",
              "      <th>texto</th>\n",
              "      <th>prediction</th>\n",
              "      <th>pred_LR</th>\n",
              "    </tr>\n",
              "  </thead>\n",
              "  <tbody>\n",
              "    <tr>\n",
              "      <th>11</th>\n",
              "      <td>1</td>\n",
              "      <td>9reinas ya sido una de las mejores experiencia...</td>\n",
              "      <td>Negative</td>\n",
              "      <td>Positivo</td>\n",
              "    </tr>\n",
              "    <tr>\n",
              "      <th>1031</th>\n",
              "      <td>1</td>\n",
              "      <td>jajajaja , me ro yo de los tenedores .</td>\n",
              "      <td>Negative</td>\n",
              "      <td>Positivo</td>\n",
              "    </tr>\n",
              "    <tr>\n",
              "      <th>1389</th>\n",
              "      <td>1</td>\n",
              "      <td>por lo demas todo perfecto , lo recomiendo y l...</td>\n",
              "      <td>Positive</td>\n",
              "      <td>Positivo</td>\n",
              "    </tr>\n",
              "    <tr>\n",
              "      <th>641</th>\n",
              "      <td>1</td>\n",
              "      <td>le doy un 8,5</td>\n",
              "      <td>Negative</td>\n",
              "      <td>Negativo</td>\n",
              "    </tr>\n",
              "    <tr>\n",
              "      <th>732</th>\n",
              "      <td>1</td>\n",
              "      <td>cocina , platos y sobre todo el personal extra...</td>\n",
              "      <td>Positive</td>\n",
              "      <td>Positivo</td>\n",
              "    </tr>\n",
              "    <tr>\n",
              "      <th>780</th>\n",
              "      <td>1</td>\n",
              "      <td>buena calidad y correcta cantidad .</td>\n",
              "      <td>Negative</td>\n",
              "      <td>Positivo</td>\n",
              "    </tr>\n",
              "    <tr>\n",
              "      <th>1700</th>\n",
              "      <td>1</td>\n",
              "      <td>buena calidad precio</td>\n",
              "      <td>Positive</td>\n",
              "      <td>Positivo</td>\n",
              "    </tr>\n",
              "    <tr>\n",
              "      <th>50</th>\n",
              "      <td>1</td>\n",
              "      <td>el servicio inmejorable y la comida excepciona...</td>\n",
              "      <td>Positive</td>\n",
              "      <td>Positivo</td>\n",
              "    </tr>\n",
              "    <tr>\n",
              "      <th>1781</th>\n",
              "      <td>1</td>\n",
              "      <td>la cena estaba buenisima , es un men muy , muy...</td>\n",
              "      <td>Positive</td>\n",
              "      <td>Positivo</td>\n",
              "    </tr>\n",
              "    <tr>\n",
              "      <th>397</th>\n",
              "      <td>1</td>\n",
              "      <td>la pena era que fuimos a cenar y todava no era...</td>\n",
              "      <td>Negative</td>\n",
              "      <td>Negativo</td>\n",
              "    </tr>\n",
              "  </tbody>\n",
              "</table>\n",
              "</div>\n",
              "      <button class=\"colab-df-convert\" onclick=\"convertToInteractive('df-345ca314-b6e1-4622-bcd1-78006901115a')\"\n",
              "              title=\"Convert this dataframe to an interactive table.\"\n",
              "              style=\"display:none;\">\n",
              "        \n",
              "  <svg xmlns=\"http://www.w3.org/2000/svg\" height=\"24px\"viewBox=\"0 0 24 24\"\n",
              "       width=\"24px\">\n",
              "    <path d=\"M0 0h24v24H0V0z\" fill=\"none\"/>\n",
              "    <path d=\"M18.56 5.44l.94 2.06.94-2.06 2.06-.94-2.06-.94-.94-2.06-.94 2.06-2.06.94zm-11 1L8.5 8.5l.94-2.06 2.06-.94-2.06-.94L8.5 2.5l-.94 2.06-2.06.94zm10 10l.94 2.06.94-2.06 2.06-.94-2.06-.94-.94-2.06-.94 2.06-2.06.94z\"/><path d=\"M17.41 7.96l-1.37-1.37c-.4-.4-.92-.59-1.43-.59-.52 0-1.04.2-1.43.59L10.3 9.45l-7.72 7.72c-.78.78-.78 2.05 0 2.83L4 21.41c.39.39.9.59 1.41.59.51 0 1.02-.2 1.41-.59l7.78-7.78 2.81-2.81c.8-.78.8-2.07 0-2.86zM5.41 20L4 18.59l7.72-7.72 1.47 1.35L5.41 20z\"/>\n",
              "  </svg>\n",
              "      </button>\n",
              "      \n",
              "  <style>\n",
              "    .colab-df-container {\n",
              "      display:flex;\n",
              "      flex-wrap:wrap;\n",
              "      gap: 12px;\n",
              "    }\n",
              "\n",
              "    .colab-df-convert {\n",
              "      background-color: #E8F0FE;\n",
              "      border: none;\n",
              "      border-radius: 50%;\n",
              "      cursor: pointer;\n",
              "      display: none;\n",
              "      fill: #1967D2;\n",
              "      height: 32px;\n",
              "      padding: 0 0 0 0;\n",
              "      width: 32px;\n",
              "    }\n",
              "\n",
              "    .colab-df-convert:hover {\n",
              "      background-color: #E2EBFA;\n",
              "      box-shadow: 0px 1px 2px rgba(60, 64, 67, 0.3), 0px 1px 3px 1px rgba(60, 64, 67, 0.15);\n",
              "      fill: #174EA6;\n",
              "    }\n",
              "\n",
              "    [theme=dark] .colab-df-convert {\n",
              "      background-color: #3B4455;\n",
              "      fill: #D2E3FC;\n",
              "    }\n",
              "\n",
              "    [theme=dark] .colab-df-convert:hover {\n",
              "      background-color: #434B5C;\n",
              "      box-shadow: 0px 1px 3px 1px rgba(0, 0, 0, 0.15);\n",
              "      filter: drop-shadow(0px 1px 2px rgba(0, 0, 0, 0.3));\n",
              "      fill: #FFFFFF;\n",
              "    }\n",
              "  </style>\n",
              "\n",
              "      <script>\n",
              "        const buttonEl =\n",
              "          document.querySelector('#df-345ca314-b6e1-4622-bcd1-78006901115a button.colab-df-convert');\n",
              "        buttonEl.style.display =\n",
              "          google.colab.kernel.accessAllowed ? 'block' : 'none';\n",
              "\n",
              "        async function convertToInteractive(key) {\n",
              "          const element = document.querySelector('#df-345ca314-b6e1-4622-bcd1-78006901115a');\n",
              "          const dataTable =\n",
              "            await google.colab.kernel.invokeFunction('convertToInteractive',\n",
              "                                                     [key], {});\n",
              "          if (!dataTable) return;\n",
              "\n",
              "          const docLinkHtml = 'Like what you see? Visit the ' +\n",
              "            '<a target=\"_blank\" href=https://colab.research.google.com/notebooks/data_table.ipynb>data table notebook</a>'\n",
              "            + ' to learn more about interactive tables.';\n",
              "          element.innerHTML = '';\n",
              "          dataTable['output_type'] = 'display_data';\n",
              "          await google.colab.output.renderOutput(dataTable, element);\n",
              "          const docLink = document.createElement('div');\n",
              "          docLink.innerHTML = docLinkHtml;\n",
              "          element.appendChild(docLink);\n",
              "        }\n",
              "      </script>\n",
              "    </div>\n",
              "  </div>\n",
              "  "
            ]
          },
          "metadata": {},
          "execution_count": 90
        }
      ]
    },
    {
      "cell_type": "markdown",
      "metadata": {
        "id": "fx0ErDzrSMQI"
      },
      "source": [
        "### Probamos algunos modelos Pre-entrenados"
      ]
    },
    {
      "cell_type": "code",
      "source": [
        "!pip install --upgrade pip\n",
        "!pip install sentencepiece\n",
        "!pip install transformers"
      ],
      "metadata": {
        "colab": {
          "base_uri": "https://localhost:8080/"
        },
        "id": "PXVh6bD7zbyl",
        "outputId": "dd0feb85-46ca-4699-a387-27e531b54f98"
      },
      "execution_count": 64,
      "outputs": [
        {
          "output_type": "stream",
          "name": "stdout",
          "text": [
            "Looking in indexes: https://pypi.org/simple, https://us-python.pkg.dev/colab-wheels/public/simple/\n",
            "Requirement already satisfied: pip in /usr/local/lib/python3.7/dist-packages (21.1.3)\n",
            "Collecting pip\n",
            "  Downloading pip-22.2.2-py3-none-any.whl (2.0 MB)\n",
            "\u001b[K     |████████████████████████████████| 2.0 MB 13.5 MB/s \n",
            "\u001b[?25hInstalling collected packages: pip\n",
            "  Attempting uninstall: pip\n",
            "    Found existing installation: pip 21.1.3\n",
            "    Uninstalling pip-21.1.3:\n",
            "      Successfully uninstalled pip-21.1.3\n",
            "Successfully installed pip-22.2.2\n",
            "Looking in indexes: https://pypi.org/simple, https://us-python.pkg.dev/colab-wheels/public/simple/\n",
            "Collecting sentencepiece\n",
            "  Downloading sentencepiece-0.1.97-cp37-cp37m-manylinux_2_17_x86_64.manylinux2014_x86_64.whl (1.3 MB)\n",
            "\u001b[2K     \u001b[90m━━━━━━━━━━━━━━━━━━━━━━━━━━━━━━━━━━━━━━━━\u001b[0m \u001b[32m1.3/1.3 MB\u001b[0m \u001b[31m35.1 MB/s\u001b[0m eta \u001b[36m0:00:00\u001b[0m\n",
            "\u001b[?25hInstalling collected packages: sentencepiece\n",
            "Successfully installed sentencepiece-0.1.97\n",
            "\u001b[33mWARNING: Running pip as the 'root' user can result in broken permissions and conflicting behaviour with the system package manager. It is recommended to use a virtual environment instead: https://pip.pypa.io/warnings/venv\u001b[0m\u001b[33m\n",
            "\u001b[0mLooking in indexes: https://pypi.org/simple, https://us-python.pkg.dev/colab-wheels/public/simple/\n",
            "Collecting transformers\n",
            "  Downloading transformers-4.21.3-py3-none-any.whl (4.7 MB)\n",
            "\u001b[2K     \u001b[90m━━━━━━━━━━━━━━━━━━━━━━━━━━━━━━━━━━━━━━━━\u001b[0m \u001b[32m4.7/4.7 MB\u001b[0m \u001b[31m63.6 MB/s\u001b[0m eta \u001b[36m0:00:00\u001b[0m\n",
            "\u001b[?25hRequirement already satisfied: filelock in /usr/local/lib/python3.7/dist-packages (from transformers) (3.8.0)\n",
            "Requirement already satisfied: pyyaml>=5.1 in /usr/local/lib/python3.7/dist-packages (from transformers) (6.0)\n",
            "Requirement already satisfied: importlib-metadata in /usr/local/lib/python3.7/dist-packages (from transformers) (4.12.0)\n",
            "Collecting tokenizers!=0.11.3,<0.13,>=0.11.1\n",
            "  Downloading tokenizers-0.12.1-cp37-cp37m-manylinux_2_12_x86_64.manylinux2010_x86_64.whl (6.6 MB)\n",
            "\u001b[2K     \u001b[90m━━━━━━━━━━━━━━━━━━━━━━━━━━━━━━━━━━━━━━━━\u001b[0m \u001b[32m6.6/6.6 MB\u001b[0m \u001b[31m89.2 MB/s\u001b[0m eta \u001b[36m0:00:00\u001b[0m\n",
            "\u001b[?25hRequirement already satisfied: requests in /usr/local/lib/python3.7/dist-packages (from transformers) (2.23.0)\n",
            "Requirement already satisfied: tqdm>=4.27 in /usr/local/lib/python3.7/dist-packages (from transformers) (4.64.0)\n",
            "Collecting huggingface-hub<1.0,>=0.1.0\n",
            "  Downloading huggingface_hub-0.9.1-py3-none-any.whl (120 kB)\n",
            "\u001b[2K     \u001b[90m━━━━━━━━━━━━━━━━━━━━━━━━━━━━━━━━━━━━━━\u001b[0m \u001b[32m120.7/120.7 kB\u001b[0m \u001b[31m12.8 MB/s\u001b[0m eta \u001b[36m0:00:00\u001b[0m\n",
            "\u001b[?25hRequirement already satisfied: numpy>=1.17 in /usr/local/lib/python3.7/dist-packages (from transformers) (1.21.6)\n",
            "Requirement already satisfied: packaging>=20.0 in /usr/local/lib/python3.7/dist-packages (from transformers) (21.3)\n",
            "Requirement already satisfied: regex!=2019.12.17 in /usr/local/lib/python3.7/dist-packages (from transformers) (2022.6.2)\n",
            "Requirement already satisfied: typing-extensions>=3.7.4.3 in /usr/local/lib/python3.7/dist-packages (from huggingface-hub<1.0,>=0.1.0->transformers) (4.1.1)\n",
            "Requirement already satisfied: pyparsing!=3.0.5,>=2.0.2 in /usr/local/lib/python3.7/dist-packages (from packaging>=20.0->transformers) (3.0.9)\n",
            "Requirement already satisfied: zipp>=0.5 in /usr/local/lib/python3.7/dist-packages (from importlib-metadata->transformers) (3.8.1)\n",
            "Requirement already satisfied: certifi>=2017.4.17 in /usr/local/lib/python3.7/dist-packages (from requests->transformers) (2022.6.15)\n",
            "Requirement already satisfied: urllib3!=1.25.0,!=1.25.1,<1.26,>=1.21.1 in /usr/local/lib/python3.7/dist-packages (from requests->transformers) (1.24.3)\n",
            "Requirement already satisfied: chardet<4,>=3.0.2 in /usr/local/lib/python3.7/dist-packages (from requests->transformers) (3.0.4)\n",
            "Requirement already satisfied: idna<3,>=2.5 in /usr/local/lib/python3.7/dist-packages (from requests->transformers) (2.10)\n",
            "Installing collected packages: tokenizers, huggingface-hub, transformers\n",
            "Successfully installed huggingface-hub-0.9.1 tokenizers-0.12.1 transformers-4.21.3\n",
            "\u001b[33mWARNING: Running pip as the 'root' user can result in broken permissions and conflicting behaviour with the system package manager. It is recommended to use a virtual environment instead: https://pip.pypa.io/warnings/venv\u001b[0m\u001b[33m\n",
            "\u001b[0m"
          ]
        }
      ]
    },
    {
      "cell_type": "code",
      "source": [
        "from transformers import AutoModelForSequenceClassification\n",
        "from transformers import TFAutoModelForSequenceClassification\n",
        "from transformers import AutoTokenizer, AutoConfig\n",
        "from scipy.special import softmax"
      ],
      "metadata": {
        "id": "Jr2A62KTojFq"
      },
      "execution_count": 67,
      "outputs": []
    },
    {
      "cell_type": "code",
      "source": [
        "MODEL = f\"cardiffnlp/twitter-xlm-roberta-base-sentiment\"\n",
        "\n",
        "tokenizer = AutoTokenizer.from_pretrained(MODEL)\n",
        "config = AutoConfig.from_pretrained(MODEL)\n",
        "\n",
        "# PT\n",
        "model = AutoModelForSequenceClassification.from_pretrained(MODEL)"
      ],
      "metadata": {
        "colab": {
          "base_uri": "https://localhost:8080/",
          "height": 145,
          "referenced_widgets": [
            "31f4205888194fad843382e22e9c4d3b",
            "3c158e7ebccb49adb9db8f0fc05b4714",
            "64cb457539f4430ab638dcabefce7fd0",
            "e22aa45041704415b1e098d2f60759bc",
            "df0676cea1c64221bd95215d1dac4ecf",
            "3a528d2569bc46b8a2a4ff124cfa9395",
            "f8e12e0667cb474683ab12855783f785",
            "64831190553e4923be519f5fac93f497",
            "8938d1a0eacf40759f865779fa87451a",
            "407a43369cb84e9298f555fb2c979696",
            "8d5e3ab90499420db6952b9d9539edc4",
            "a318e6972c6d477496dd8de389bc6410",
            "1b2c5d65b1d6441f93413478d5b35b40",
            "3de5ea00bbcf4a52b0e680d9253ffa7b",
            "19f8b2c3eb304bc19427953e5bf87243",
            "4756ca33ffbb45f98ca309360bc9c728",
            "e17ee40e1155448dadaa8e6a112a58bc",
            "3234abd598644f19af6ecb427cfef0ca",
            "355df32e2ea84ca2b51a7e99c9507d46",
            "bc5adb8e6436430799e5d0bfed679466",
            "2d67b8cbbcac444bb2e5ded68d4a09f8",
            "9924e8a5863b44d0bd1dd30a6d21353c",
            "e5c966b18cf5446897b5fd7acb6bdfef",
            "54f5db7d819d4350958b68ae03f1fcbc",
            "df18383901e1435d85eaa6a16baea9ea",
            "9ffe6a8d61274a9fb39481cba64654c3",
            "870a154455354ceea79421e714fc29c7",
            "d9c7273a0c0540e0b2690f5f59ec3566",
            "c4e78b5de0c14da6b87838cc6ec997e1",
            "0266a51da26d4741ab6c7ba6033a799b",
            "86f29b170f9a486d9f1b2ae249925ed6",
            "c36a50b5b7194a3590b38349fa5f2300",
            "45db2f1a4e374fcab2b3ea391cbc224b",
            "e0c8ef5400354618887e0d746d711efe",
            "77f7a2924e464684b8a3bc73d5669baf",
            "1d14e81e1ffe4d85b7f29e4a8d77a541",
            "938adeae0326437980552dd94d7d4250",
            "b1134a8b3710466688b36090c2bd0c22",
            "5cb47e14bc6140b18adbf04aa1a7a636",
            "aa538fc27f5842cdb265c19c4825b3e0",
            "38cee1b97de4404a97a50833e91effe7",
            "70a349effa534a44b72be466a4808a8e",
            "a89c441664d44da68535c696f0d31805",
            "973c4a4984544ecebf3fe637e4afef65"
          ]
        },
        "id": "uBCgTdepd3Yl",
        "outputId": "4a9511cc-46e7-45ba-a933-4b078eb889fc"
      },
      "execution_count": null,
      "outputs": [
        {
          "output_type": "display_data",
          "data": {
            "text/plain": [
              "Downloading config.json:   0%|          | 0.00/841 [00:00<?, ?B/s]"
            ],
            "application/vnd.jupyter.widget-view+json": {
              "version_major": 2,
              "version_minor": 0,
              "model_id": "31f4205888194fad843382e22e9c4d3b"
            }
          },
          "metadata": {}
        },
        {
          "output_type": "display_data",
          "data": {
            "text/plain": [
              "Downloading sentencepiece.bpe.model:   0%|          | 0.00/4.83M [00:00<?, ?B/s]"
            ],
            "application/vnd.jupyter.widget-view+json": {
              "version_major": 2,
              "version_minor": 0,
              "model_id": "a318e6972c6d477496dd8de389bc6410"
            }
          },
          "metadata": {}
        },
        {
          "output_type": "display_data",
          "data": {
            "text/plain": [
              "Downloading special_tokens_map.json:   0%|          | 0.00/150 [00:00<?, ?B/s]"
            ],
            "application/vnd.jupyter.widget-view+json": {
              "version_major": 2,
              "version_minor": 0,
              "model_id": "e5c966b18cf5446897b5fd7acb6bdfef"
            }
          },
          "metadata": {}
        },
        {
          "output_type": "display_data",
          "data": {
            "text/plain": [
              "Downloading pytorch_model.bin:   0%|          | 0.00/1.04G [00:00<?, ?B/s]"
            ],
            "application/vnd.jupyter.widget-view+json": {
              "version_major": 2,
              "version_minor": 0,
              "model_id": "e0c8ef5400354618887e0d746d711efe"
            }
          },
          "metadata": {}
        }
      ]
    },
    {
      "cell_type": "code",
      "source": [
        "# Function to predict Sentiment\n",
        "def sentiment_task(text):\n",
        "  #text = preprocess(text)\n",
        "  text = transform_text(text)\n",
        "  encoded_input = tokenizer(text, return_tensors='pt', max_length=512, truncation=True)\n",
        "  output = model(**encoded_input)\n",
        "  scores = output[0][0].detach().numpy()\n",
        "  scores = softmax(scores)\n",
        "  # Print labels and scores\n",
        "  ranking = np.argsort(scores)\n",
        "  ranking = ranking[::-1]\n",
        "  \n",
        "  for i in range(scores.shape[0]):\n",
        "    l = config.id2label[ranking[i]]\n",
        "    s = scores[ranking[i]]\n",
        "    #print(f\"{i+1}) {l} {np.round(float(s), 4)}\")\n",
        "\n",
        "  pred = config.id2label[ranking[0]]\n",
        "  intensidad = np.round(float(scores[ranking[0]]), 4)*100\n",
        "  results = [pred, intensidad]\n",
        "  return results[0]"
      ],
      "metadata": {
        "id": "ApYEsPxReJSH"
      },
      "execution_count": null,
      "outputs": []
    },
    {
      "cell_type": "code",
      "source": [
        "df_rest['pred_roberta'] = df_rest['texto'].apply(sentiment_task)"
      ],
      "metadata": {
        "id": "mflX_6G7eJGy"
      },
      "execution_count": null,
      "outputs": []
    },
    {
      "cell_type": "code",
      "source": [
        "df_rest.head()"
      ],
      "metadata": {
        "colab": {
          "base_uri": "https://localhost:8080/",
          "height": 206
        },
        "id": "v6qxLP79Uw0d",
        "outputId": "828a0bc8-3c89-4aa7-9831-a4abdf636ecd"
      },
      "execution_count": null,
      "outputs": [
        {
          "output_type": "execute_result",
          "data": {
            "text/plain": [
              "   sentimiento                                              texto prediction  \\\n",
              "0            1                         nos sentimos muy a gusto .   Positive   \n",
              "1            1  buen servicio , ambiente acogedor y tranquilo ...   Positive   \n",
              "2            1                                   muy recomendable   Positive   \n",
              "3            1  la atencion es muy buena , los camareros estan...   Positive   \n",
              "4            1  y la comida espectacular , por eso lo bueno se...   Positive   \n",
              "\n",
              "    pred_LR pred_roberta  \n",
              "0  Negativo     Positive  \n",
              "1  Positivo     Positive  \n",
              "2  Positivo     Positive  \n",
              "3  Positivo      Neutral  \n",
              "4  Positivo     Positive  "
            ],
            "text/html": [
              "\n",
              "  <div id=\"df-af24821f-3ea0-47b6-a9cb-8af1a958e2b4\">\n",
              "    <div class=\"colab-df-container\">\n",
              "      <div>\n",
              "<style scoped>\n",
              "    .dataframe tbody tr th:only-of-type {\n",
              "        vertical-align: middle;\n",
              "    }\n",
              "\n",
              "    .dataframe tbody tr th {\n",
              "        vertical-align: top;\n",
              "    }\n",
              "\n",
              "    .dataframe thead th {\n",
              "        text-align: right;\n",
              "    }\n",
              "</style>\n",
              "<table border=\"1\" class=\"dataframe\">\n",
              "  <thead>\n",
              "    <tr style=\"text-align: right;\">\n",
              "      <th></th>\n",
              "      <th>sentimiento</th>\n",
              "      <th>texto</th>\n",
              "      <th>prediction</th>\n",
              "      <th>pred_LR</th>\n",
              "      <th>pred_roberta</th>\n",
              "    </tr>\n",
              "  </thead>\n",
              "  <tbody>\n",
              "    <tr>\n",
              "      <th>0</th>\n",
              "      <td>1</td>\n",
              "      <td>nos sentimos muy a gusto .</td>\n",
              "      <td>Positive</td>\n",
              "      <td>Negativo</td>\n",
              "      <td>Positive</td>\n",
              "    </tr>\n",
              "    <tr>\n",
              "      <th>1</th>\n",
              "      <td>1</td>\n",
              "      <td>buen servicio , ambiente acogedor y tranquilo ...</td>\n",
              "      <td>Positive</td>\n",
              "      <td>Positivo</td>\n",
              "      <td>Positive</td>\n",
              "    </tr>\n",
              "    <tr>\n",
              "      <th>2</th>\n",
              "      <td>1</td>\n",
              "      <td>muy recomendable</td>\n",
              "      <td>Positive</td>\n",
              "      <td>Positivo</td>\n",
              "      <td>Positive</td>\n",
              "    </tr>\n",
              "    <tr>\n",
              "      <th>3</th>\n",
              "      <td>1</td>\n",
              "      <td>la atencion es muy buena , los camareros estan...</td>\n",
              "      <td>Positive</td>\n",
              "      <td>Positivo</td>\n",
              "      <td>Neutral</td>\n",
              "    </tr>\n",
              "    <tr>\n",
              "      <th>4</th>\n",
              "      <td>1</td>\n",
              "      <td>y la comida espectacular , por eso lo bueno se...</td>\n",
              "      <td>Positive</td>\n",
              "      <td>Positivo</td>\n",
              "      <td>Positive</td>\n",
              "    </tr>\n",
              "  </tbody>\n",
              "</table>\n",
              "</div>\n",
              "      <button class=\"colab-df-convert\" onclick=\"convertToInteractive('df-af24821f-3ea0-47b6-a9cb-8af1a958e2b4')\"\n",
              "              title=\"Convert this dataframe to an interactive table.\"\n",
              "              style=\"display:none;\">\n",
              "        \n",
              "  <svg xmlns=\"http://www.w3.org/2000/svg\" height=\"24px\"viewBox=\"0 0 24 24\"\n",
              "       width=\"24px\">\n",
              "    <path d=\"M0 0h24v24H0V0z\" fill=\"none\"/>\n",
              "    <path d=\"M18.56 5.44l.94 2.06.94-2.06 2.06-.94-2.06-.94-.94-2.06-.94 2.06-2.06.94zm-11 1L8.5 8.5l.94-2.06 2.06-.94-2.06-.94L8.5 2.5l-.94 2.06-2.06.94zm10 10l.94 2.06.94-2.06 2.06-.94-2.06-.94-.94-2.06-.94 2.06-2.06.94z\"/><path d=\"M17.41 7.96l-1.37-1.37c-.4-.4-.92-.59-1.43-.59-.52 0-1.04.2-1.43.59L10.3 9.45l-7.72 7.72c-.78.78-.78 2.05 0 2.83L4 21.41c.39.39.9.59 1.41.59.51 0 1.02-.2 1.41-.59l7.78-7.78 2.81-2.81c.8-.78.8-2.07 0-2.86zM5.41 20L4 18.59l7.72-7.72 1.47 1.35L5.41 20z\"/>\n",
              "  </svg>\n",
              "      </button>\n",
              "      \n",
              "  <style>\n",
              "    .colab-df-container {\n",
              "      display:flex;\n",
              "      flex-wrap:wrap;\n",
              "      gap: 12px;\n",
              "    }\n",
              "\n",
              "    .colab-df-convert {\n",
              "      background-color: #E8F0FE;\n",
              "      border: none;\n",
              "      border-radius: 50%;\n",
              "      cursor: pointer;\n",
              "      display: none;\n",
              "      fill: #1967D2;\n",
              "      height: 32px;\n",
              "      padding: 0 0 0 0;\n",
              "      width: 32px;\n",
              "    }\n",
              "\n",
              "    .colab-df-convert:hover {\n",
              "      background-color: #E2EBFA;\n",
              "      box-shadow: 0px 1px 2px rgba(60, 64, 67, 0.3), 0px 1px 3px 1px rgba(60, 64, 67, 0.15);\n",
              "      fill: #174EA6;\n",
              "    }\n",
              "\n",
              "    [theme=dark] .colab-df-convert {\n",
              "      background-color: #3B4455;\n",
              "      fill: #D2E3FC;\n",
              "    }\n",
              "\n",
              "    [theme=dark] .colab-df-convert:hover {\n",
              "      background-color: #434B5C;\n",
              "      box-shadow: 0px 1px 3px 1px rgba(0, 0, 0, 0.15);\n",
              "      filter: drop-shadow(0px 1px 2px rgba(0, 0, 0, 0.3));\n",
              "      fill: #FFFFFF;\n",
              "    }\n",
              "  </style>\n",
              "\n",
              "      <script>\n",
              "        const buttonEl =\n",
              "          document.querySelector('#df-af24821f-3ea0-47b6-a9cb-8af1a958e2b4 button.colab-df-convert');\n",
              "        buttonEl.style.display =\n",
              "          google.colab.kernel.accessAllowed ? 'block' : 'none';\n",
              "\n",
              "        async function convertToInteractive(key) {\n",
              "          const element = document.querySelector('#df-af24821f-3ea0-47b6-a9cb-8af1a958e2b4');\n",
              "          const dataTable =\n",
              "            await google.colab.kernel.invokeFunction('convertToInteractive',\n",
              "                                                     [key], {});\n",
              "          if (!dataTable) return;\n",
              "\n",
              "          const docLinkHtml = 'Like what you see? Visit the ' +\n",
              "            '<a target=\"_blank\" href=https://colab.research.google.com/notebooks/data_table.ipynb>data table notebook</a>'\n",
              "            + ' to learn more about interactive tables.';\n",
              "          element.innerHTML = '';\n",
              "          dataTable['output_type'] = 'display_data';\n",
              "          await google.colab.output.renderOutput(dataTable, element);\n",
              "          const docLink = document.createElement('div');\n",
              "          docLink.innerHTML = docLinkHtml;\n",
              "          element.appendChild(docLink);\n",
              "        }\n",
              "      </script>\n",
              "    </div>\n",
              "  </div>\n",
              "  "
            ]
          },
          "metadata": {},
          "execution_count": 99
        }
      ]
    },
    {
      "cell_type": "code",
      "source": [
        "df_rest.pred_roberta.value_counts()"
      ],
      "metadata": {
        "colab": {
          "base_uri": "https://localhost:8080/"
        },
        "id": "jb-JkE9DWREA",
        "outputId": "9035f3e0-6079-485a-d656-72ac180b7f47"
      },
      "execution_count": null,
      "outputs": [
        {
          "output_type": "execute_result",
          "data": {
            "text/plain": [
              "Positive    837\n",
              "Neutral     652\n",
              "Negative    374\n",
              "Name: pred_roberta, dtype: int64"
            ]
          },
          "metadata": {},
          "execution_count": 100
        }
      ]
    },
    {
      "cell_type": "code",
      "source": [
        "df_spark = spark.createDataFrame(df_rest)"
      ],
      "metadata": {
        "id": "A-cKYGUvmO9T"
      },
      "execution_count": null,
      "outputs": []
    },
    {
      "cell_type": "code",
      "source": [
        "df_spark.show()"
      ],
      "metadata": {
        "colab": {
          "base_uri": "https://localhost:8080/"
        },
        "id": "B1x4LDWhmRzT",
        "outputId": "b239ec3d-27e2-436d-c583-c98c8be1b2ed"
      },
      "execution_count": null,
      "outputs": [
        {
          "output_type": "stream",
          "name": "stdout",
          "text": [
            "+-----------+--------------------+----------+--------+------------+\n",
            "|sentimiento|               texto|prediction| pred_LR|pred_roberta|\n",
            "+-----------+--------------------+----------+--------+------------+\n",
            "|          1|nos sentimos muy ...|  Positive|Negativo|    Positive|\n",
            "|          1|buen servicio , a...|  Positive|Positivo|    Positive|\n",
            "|          1|    muy recomendable|  Positive|Positivo|    Positive|\n",
            "|          1|la atencion es mu...|  Positive|Positivo|     Neutral|\n",
            "|          1|y la comida espec...|  Positive|Positivo|    Positive|\n",
            "|          1|lo unico que vi f...|  Negative|Positivo|    Negative|\n",
            "|          1|     nada especial .|  Positive|Positivo|     Neutral|\n",
            "|          1|me haban comentad...|  Positive|Positivo|    Positive|\n",
            "|          1|las carnes bien ,...|  Positive|Positivo|    Positive|\n",
            "|          0|el precio , por l...|  Positive|Negativo|    Negative|\n",
            "|          1|la calidad del pr...|  Positive|Positivo|    Positive|\n",
            "|          1|9reinas ya sido u...|  Negative|Positivo|    Positive|\n",
            "|          1|el servicio es mu...|  Positive|Positivo|    Positive|\n",
            "|          1|los precios adecu...|  Negative|Positivo|    Positive|\n",
            "|          1|        volveremos .|  Negative|Negativo|     Neutral|\n",
            "|          1|fabuloso , muy at...|  Positive|Positivo|    Positive|\n",
            "|          1|mis amigos quedar...|  Positive|Positivo|    Positive|\n",
            "|          1|vale la pena ir y...|  Negative|Negativo|    Negative|\n",
            "|          1|el restaurante es...|  Positive|Positivo|    Positive|\n",
            "|          1|la comida est del...|  Positive|Positivo|    Positive|\n",
            "+-----------+--------------------+----------+--------+------------+\n",
            "only showing top 20 rows\n",
            "\n"
          ]
        }
      ]
    },
    {
      "cell_type": "code",
      "source": [
        "# Create a confusion matrix\n",
        "df_spark.groupBy('sentimiento', 'prediction').count().show()"
      ],
      "metadata": {
        "colab": {
          "base_uri": "https://localhost:8080/"
        },
        "id": "WOCgKfn9mo2K",
        "outputId": "46a5d446-c858-4b34-919b-81fa438452bb"
      },
      "execution_count": null,
      "outputs": [
        {
          "output_type": "stream",
          "name": "stdout",
          "text": [
            "+-----------+----------+-----+\n",
            "|sentimiento|prediction|count|\n",
            "+-----------+----------+-----+\n",
            "|          1|  Negative|  530|\n",
            "|          0|  Negative|  228|\n",
            "|          1|  Positive|  981|\n",
            "|          0|  Positive|  124|\n",
            "+-----------+----------+-----+\n",
            "\n"
          ]
        }
      ]
    },
    {
      "cell_type": "markdown",
      "source": [
        "### Pre-trained Multi-language Sentiment model"
      ],
      "metadata": {
        "id": "e3I8RV_Wmn_Z"
      }
    },
    {
      "cell_type": "code",
      "source": [
        "from transformers import pipeline"
      ],
      "metadata": {
        "id": "f-XXEOV8moUw"
      },
      "execution_count": 68,
      "outputs": []
    },
    {
      "cell_type": "code",
      "source": [
        "multilang_classifier = pipeline(\"sentiment-analysis\", \n",
        "                                model=\"nlptown/bert-base-multilingual-uncased-sentiment\")"
      ],
      "metadata": {
        "colab": {
          "base_uri": "https://localhost:8080/",
          "height": 177,
          "referenced_widgets": [
            "b2ad76bf7daa4836a4f9164cf75b90a3",
            "24ec8656add949bbb92c135e92bb52af",
            "d0e6567669924c7c9bd1d516706f6588",
            "00414f3805a84a2dadd2950ce20b76b9",
            "a6c2117fc7d945d184c5f5c53fbf7dc9",
            "4cd5fd02e42e4782999a6fed1111e818",
            "2e3c80e050264368b095aa18e5de4fd9",
            "6c777e4cc69346019f6b1836f99f1b81",
            "4c910017bbb34ff2ae7838b9a30c614a",
            "85afe5bcddc748fda03450783c9032da",
            "3051bf07f5a0453f859142e18246ea0e",
            "635f5042ccf74e92b9e361433a2435d7",
            "8bb7c6f846c34a73af8cf202030b1f38",
            "8d681a40c9da4f6cbb5d816f2afe6447",
            "db24bac8df754abc9a2d509751cc95b2",
            "726ed71b48dd4acf89ad90303652c595",
            "f8ccc019493649eeac8ea80293676315",
            "03b81dd84fd44c40a92f610dfbc9dd45",
            "c36afe9d547a43d6aa42d324aab74eaf",
            "69addb155d5a413c9ce1c43b0c685a45",
            "304152a62746478f9632fa11804b37a4",
            "2308dae078f54f9991533ebb894206eb",
            "16846841c3f54414b04eedbd187b2608",
            "a0de4aa158f2455fa8769d47aeec667b",
            "d2a6a7e4a25d41a0921629487804ccff",
            "82337e17032c4a608bdc0c695e6208e4",
            "c2e5dd0985e74aa193f69073e4ddce4c",
            "b2a55fdcf2c74df29293bafc11894001",
            "3f0049447c2d4c238229d78addbd2fa9",
            "cddacb22673040fda0765e0d3727cb55",
            "ad3e8f9267264b61a7be8e22dcb6128d",
            "0d190018a7bc4bafb899af37ee76ef20",
            "2a2f3c272368467fab457dd7e02ffe23",
            "6c5ef488c7d141ed8d20a69edea0d153",
            "ce52ad06a74148ca9fd1be1da6a8f672",
            "18b542deecb3438ba53b904f9276e4be",
            "0092817327f14044bed708a566bc20fe",
            "c5ce4e32485141e6b46799bc81d1340b",
            "69bbc9b49db4400f844c688e01a779bd",
            "c1aaf8ce9be640cd930934f9e47299a1",
            "640d9e2a12014a92af74b793acfb1466",
            "11a163be4ed74fb6b62c3e09208f84bc",
            "99ae589e65024f11812f2e3ef21a267b",
            "2e6694ccd7f749c1962d5b22438f8eba",
            "33c3c751583845f5b4cefb93ca7e3121",
            "2e8d45af705840e5b0caf174e7df90dc",
            "e4619312591042d98db0ac8adc2cae8f",
            "1269d0d1865c433583dc90b1478111f0",
            "ad0a44a1995e49d3a7e855c3b4901f8d",
            "9cc33325f43f4e0ebdf36d8753b4dd51",
            "24ded26b1dd64402a67da125cf1945a1",
            "d5120d92fb874d7d8cbbfefdfc21d8cd",
            "0ad44eb400c944d180eb42575f2a19e7",
            "bcb1cec5e79549af997622661aa1170e",
            "c34ed667175c4c158cd9258181e18922"
          ]
        },
        "id": "sh2LlPTjnjjR",
        "outputId": "297e9831-f8af-4fe7-f44d-fdaf32613c6a"
      },
      "execution_count": 69,
      "outputs": [
        {
          "output_type": "display_data",
          "data": {
            "text/plain": [
              "Downloading config.json:   0%|          | 0.00/953 [00:00<?, ?B/s]"
            ],
            "application/vnd.jupyter.widget-view+json": {
              "version_major": 2,
              "version_minor": 0,
              "model_id": "b2ad76bf7daa4836a4f9164cf75b90a3"
            }
          },
          "metadata": {}
        },
        {
          "output_type": "display_data",
          "data": {
            "text/plain": [
              "Downloading pytorch_model.bin:   0%|          | 0.00/638M [00:00<?, ?B/s]"
            ],
            "application/vnd.jupyter.widget-view+json": {
              "version_major": 2,
              "version_minor": 0,
              "model_id": "635f5042ccf74e92b9e361433a2435d7"
            }
          },
          "metadata": {}
        },
        {
          "output_type": "display_data",
          "data": {
            "text/plain": [
              "Downloading tokenizer_config.json:   0%|          | 0.00/39.0 [00:00<?, ?B/s]"
            ],
            "application/vnd.jupyter.widget-view+json": {
              "version_major": 2,
              "version_minor": 0,
              "model_id": "16846841c3f54414b04eedbd187b2608"
            }
          },
          "metadata": {}
        },
        {
          "output_type": "display_data",
          "data": {
            "text/plain": [
              "Downloading vocab.txt:   0%|          | 0.00/851k [00:00<?, ?B/s]"
            ],
            "application/vnd.jupyter.widget-view+json": {
              "version_major": 2,
              "version_minor": 0,
              "model_id": "6c5ef488c7d141ed8d20a69edea0d153"
            }
          },
          "metadata": {}
        },
        {
          "output_type": "display_data",
          "data": {
            "text/plain": [
              "Downloading special_tokens_map.json:   0%|          | 0.00/112 [00:00<?, ?B/s]"
            ],
            "application/vnd.jupyter.widget-view+json": {
              "version_major": 2,
              "version_minor": 0,
              "model_id": "33c3c751583845f5b4cefb93ca7e3121"
            }
          },
          "metadata": {}
        }
      ]
    },
    {
      "cell_type": "code",
      "source": [
        "multilang_classifier(['¡Enhorabuena! Trabajazo de @susanasolisp como negociadora del @Europarl_ES de los fondos estructurales. Explicación en el hilo.'])"
      ],
      "metadata": {
        "colab": {
          "base_uri": "https://localhost:8080/"
        },
        "id": "r4BPK_3enjKv",
        "outputId": "26dc31aa-e218-481b-968c-24b53c21e2f1"
      },
      "execution_count": 74,
      "outputs": [
        {
          "output_type": "execute_result",
          "data": {
            "text/plain": [
              "[{'label': '1 star', 'score': 0.3939984440803528}]"
            ]
          },
          "metadata": {},
          "execution_count": 74
        }
      ]
    },
    {
      "cell_type": "markdown",
      "source": [
        "### TextBlob and Vader"
      ],
      "metadata": {
        "id": "AA3OD50Aufe6"
      }
    },
    {
      "cell_type": "code",
      "source": [
        "# Install Libraries\n",
        "!pip install textblob\n",
        "!pip install langdetect"
      ],
      "metadata": {
        "colab": {
          "base_uri": "https://localhost:8080/"
        },
        "id": "qa-BBo3tu5lS",
        "outputId": "ab12abe2-c84c-41bf-bc0a-65517891ff39"
      },
      "execution_count": 71,
      "outputs": [
        {
          "output_type": "stream",
          "name": "stdout",
          "text": [
            "Looking in indexes: https://pypi.org/simple, https://us-python.pkg.dev/colab-wheels/public/simple/\n",
            "Requirement already satisfied: textblob in /usr/local/lib/python3.7/dist-packages (0.15.3)\n",
            "Requirement already satisfied: nltk>=3.1 in /usr/local/lib/python3.7/dist-packages (from textblob) (3.7)\n",
            "Requirement already satisfied: tqdm in /usr/local/lib/python3.7/dist-packages (from nltk>=3.1->textblob) (4.64.0)\n",
            "Requirement already satisfied: regex>=2021.8.3 in /usr/local/lib/python3.7/dist-packages (from nltk>=3.1->textblob) (2022.6.2)\n",
            "Requirement already satisfied: joblib in /usr/local/lib/python3.7/dist-packages (from nltk>=3.1->textblob) (1.1.0)\n",
            "Requirement already satisfied: click in /usr/local/lib/python3.7/dist-packages (from nltk>=3.1->textblob) (7.1.2)\n",
            "\u001b[33mWARNING: Running pip as the 'root' user can result in broken permissions and conflicting behaviour with the system package manager. It is recommended to use a virtual environment instead: https://pip.pypa.io/warnings/venv\u001b[0m\u001b[33m\n",
            "\u001b[0mLooking in indexes: https://pypi.org/simple, https://us-python.pkg.dev/colab-wheels/public/simple/\n",
            "Collecting langdetect\n",
            "  Downloading langdetect-1.0.9.tar.gz (981 kB)\n",
            "\u001b[2K     \u001b[90m━━━━━━━━━━━━━━━━━━━━━━━━━━━━━━━━━━━━━━\u001b[0m \u001b[32m981.5/981.5 kB\u001b[0m \u001b[31m29.8 MB/s\u001b[0m eta \u001b[36m0:00:00\u001b[0m\n",
            "\u001b[?25h  Preparing metadata (setup.py) ... \u001b[?25l\u001b[?25hdone\n",
            "Requirement already satisfied: six in /usr/local/lib/python3.7/dist-packages (from langdetect) (1.15.0)\n",
            "Building wheels for collected packages: langdetect\n",
            "  Building wheel for langdetect (setup.py) ... \u001b[?25l\u001b[?25hdone\n",
            "  Created wheel for langdetect: filename=langdetect-1.0.9-py3-none-any.whl size=993242 sha256=6feac4e7c18c61db1517d4a305c5c2ad4fedd14bdb0dbd8cb5057964cb9cced3\n",
            "  Stored in directory: /root/.cache/pip/wheels/c5/96/8a/f90c59ed25d75e50a8c10a1b1c2d4c402e4dacfa87f3aff36a\n",
            "Successfully built langdetect\n",
            "Installing collected packages: langdetect\n",
            "Successfully installed langdetect-1.0.9\n",
            "\u001b[33mWARNING: Running pip as the 'root' user can result in broken permissions and conflicting behaviour with the system package manager. It is recommended to use a virtual environment instead: https://pip.pypa.io/warnings/venv\u001b[0m\u001b[33m\n",
            "\u001b[0m"
          ]
        }
      ]
    },
    {
      "cell_type": "code",
      "source": [
        "from textblob import TextBlob\n",
        "from nltk.sentiment.vader import SentimentIntensityAnalyzer\n",
        "from langdetect import detect\n",
        "from nltk.stem import SnowballStemmer\n",
        "from nltk.sentiment.vader import SentimentIntensityAnalyzer\n",
        "from sklearn.feature_extraction.text import CountVectorizer"
      ],
      "metadata": {
        "id": "BqhARYd-ni-t"
      },
      "execution_count": 72,
      "outputs": []
    },
    {
      "cell_type": "code",
      "source": [
        "positive = 0\n",
        "negative = 0\n",
        "neutral = 0\n",
        "polarity = 0\n",
        "tweet_list = []\n",
        "neutral_list = []\n",
        "negative_list = []\n",
        "positive_list = []\n",
        "\n",
        "for tweet in tweets:\n",
        "  #print(tweet.text)\n",
        "  tweet_list.append(tweet.text)\n",
        "  analysis = TextBlob(tweet.text)\n",
        "  score = SentimentIntensityAnalyzer().polarity_scores(tweet.text)\n",
        "  neg = score[‘neg’]\n",
        "  neu = score[‘neu’]\n",
        "  pos = score[‘pos’]\n",
        "  comp = score[‘compound’]\n",
        "  polarity += analysis.sentiment.polarity\n",
        " \n",
        "  if neg > pos:\n",
        "    negative_list.append(tweet.text)\n",
        "    negative += 1\n",
        "  elif pos > neg:\n",
        "    positive_list.append(tweet.text)\n",
        "    positive += 1\n",
        " \n",
        "  elif pos == neg:\n",
        "    neutral_list.append(tweet.text)\n",
        "    neutral += 1\n",
        "\n",
        "positive = percentage(positive, noOfTweet)\n",
        "negative = percentage(negative, noOfTweet)\n",
        "neutral = percentage(neutral, noOfTweet)\n",
        "polarity = percentage(polarity, noOfTweet)\n",
        "positive = format(positive, ‘.1f’)\n",
        "negative = format(negative, ‘.1f’)\n",
        "neutral = format(neutral, ‘.1f’)"
      ],
      "metadata": {
        "id": "Ay58i-X5w5RK"
      },
      "execution_count": null,
      "outputs": []
    },
    {
      "cell_type": "code",
      "source": [
        "#Calculating Negative, Positive, Neutral and Compound values\n",
        "tw_list[[‘polarity’, ‘subjectivity’]] = tw_list[‘text’].apply(lambda Text: pd.Series(TextBlob(Text).sentiment))\n",
        "for index, row in tw_list[‘text’].iteritems():\n",
        " score = SentimentIntensityAnalyzer().polarity_scores(row)\n",
        " neg = score[‘neg’]\n",
        " neu = score[‘neu’]\n",
        " pos = score[‘pos’]\n",
        " comp = score[‘compound’]\n",
        " if neg > pos:\n",
        " tw_list.loc[index, ‘sentiment’] = “negative”\n",
        " elif pos > neg:\n",
        " tw_list.loc[index, ‘sentiment’] = “positive”\n",
        " else:\n",
        " tw_list.loc[index, ‘sentiment’] = “neutral”\n",
        " tw_list.loc[index, ‘neg’] = neg\n",
        " tw_list.loc[index, ‘neu’] = neu\n",
        " tw_list.loc[index, ‘pos’] = pos\n",
        " tw_list.loc[index, ‘compound’] = comp\n",
        "tw_list.head(10)"
      ],
      "metadata": {
        "id": "52Vw-zc-vU3p"
      },
      "execution_count": null,
      "outputs": []
    },
    {
      "cell_type": "code",
      "source": [],
      "metadata": {
        "id": "_4m4iFHPvUuU"
      },
      "execution_count": null,
      "outputs": []
    },
    {
      "cell_type": "markdown",
      "source": [
        "### Recall and Accuracy RNN model"
      ],
      "metadata": {
        "id": "W8nNGSvwpfqN"
      }
    },
    {
      "cell_type": "code",
      "source": [
        "# Calculate the elements of the confusion matrix\n",
        "TN = df_spark.filter('prediction = \"Negative\" AND sentimiento = 0').count()\n",
        "TP = df_spark.filter('prediction = \"Positive\" AND sentimiento = 1').count()\n",
        "FN = df_spark.filter('prediction = \"Negative\" AND sentimiento = 1').count()\n",
        "FP = df_spark.filter('prediction = \"Positive\" AND sentimiento = 0').count()\n",
        "\n",
        "# Accuracy measures the proportion of correct predictions\n",
        "accuracy = (TN+TP)/(TN+TP+FN+FP)\n",
        "# Calculate precision and recall\n",
        "# precision = TP/(TP+FP)\n",
        "recall = TP/(TP+FN)\n",
        "print('recall    = {:.2f}\\naccuracy    = {:.2f}'.format(recall, accuracy))\n"
      ],
      "metadata": {
        "colab": {
          "base_uri": "https://localhost:8080/"
        },
        "id": "gF2h_Y0fmolw",
        "outputId": "3afe57af-e448-4cde-a9db-92b81be566b4"
      },
      "execution_count": null,
      "outputs": [
        {
          "output_type": "stream",
          "name": "stdout",
          "text": [
            "recall    = 0.65\n",
            "accuracy    = 0.65\n"
          ]
        }
      ]
    },
    {
      "cell_type": "markdown",
      "source": [
        "### Recall and Accuracy LR-2 model"
      ],
      "metadata": {
        "id": "isaniSuHpnvP"
      }
    },
    {
      "cell_type": "code",
      "source": [
        "# Create a confusion matrix\n",
        "df_spark.groupBy('sentimiento', 'pred_LR').count().show()"
      ],
      "metadata": {
        "colab": {
          "base_uri": "https://localhost:8080/"
        },
        "id": "o9A4y5PSp2jZ",
        "outputId": "bfd0b679-8869-4624-bd21-774e3959a8d6"
      },
      "execution_count": null,
      "outputs": [
        {
          "output_type": "stream",
          "name": "stdout",
          "text": [
            "+-----------+--------+-----+\n",
            "|sentimiento| pred_LR|count|\n",
            "+-----------+--------+-----+\n",
            "|          0|Positivo|   81|\n",
            "|          1|Positivo|  894|\n",
            "|          1|Negativo|  617|\n",
            "|          0|Negativo|  271|\n",
            "+-----------+--------+-----+\n",
            "\n"
          ]
        }
      ]
    },
    {
      "cell_type": "code",
      "source": [
        "# Calculate the elements of the confusion matrix\n",
        "TN = df_spark.filter('pred_LR = \"Negativo\" AND sentimiento = 0').count()\n",
        "TP = df_spark.filter('pred_LR = \"Positivo\" AND sentimiento = 1').count()\n",
        "FN = df_spark.filter('pred_LR = \"Negativo\" AND sentimiento = 1').count()\n",
        "FP = df_spark.filter('pred_LR = \"Positivo\" AND sentimiento = 0').count()\n",
        "\n",
        "# Accuracy measures the proportion of correct predictions\n",
        "accuracy = (TN+TP)/(TN+TP+FN+FP)\n",
        "# Calculate precision and recall\n",
        "# precision = TP/(TP+FP)\n",
        "recall = TP/(TP+FN)\n",
        "print('recall    = {:.2f}\\naccuracy    = {:.2f}'.format(recall, accuracy))"
      ],
      "metadata": {
        "colab": {
          "base_uri": "https://localhost:8080/"
        },
        "id": "enSRGUfNpt_M",
        "outputId": "4bc49cb8-6a75-479f-e14b-68e2a1e46b3e"
      },
      "execution_count": null,
      "outputs": [
        {
          "output_type": "stream",
          "name": "stdout",
          "text": [
            "recall    = 0.59\n",
            "accuracy    = 0.63\n"
          ]
        }
      ]
    },
    {
      "cell_type": "markdown",
      "source": [
        "### Recall and Accuracy RoBERTa model"
      ],
      "metadata": {
        "id": "JbT8ntyVqh2G"
      }
    },
    {
      "cell_type": "code",
      "source": [
        "df_spark.groupBy('sentimiento', 'pred_roberta').count().show()"
      ],
      "metadata": {
        "colab": {
          "base_uri": "https://localhost:8080/"
        },
        "id": "5LFFwxHNqg55",
        "outputId": "5af65699-80a1-48c6-d20c-84fd195b1e9f"
      },
      "execution_count": null,
      "outputs": [
        {
          "output_type": "stream",
          "name": "stdout",
          "text": [
            "+-----------+------------+-----+\n",
            "|sentimiento|pred_roberta|count|\n",
            "+-----------+------------+-----+\n",
            "|          1|     Neutral|  504|\n",
            "|          1|    Negative|  206|\n",
            "|          0|    Negative|  168|\n",
            "|          1|    Positive|  801|\n",
            "|          0|    Positive|   36|\n",
            "|          0|     Neutral|  148|\n",
            "+-----------+------------+-----+\n",
            "\n"
          ]
        }
      ]
    },
    {
      "cell_type": "code",
      "source": [
        "# Calculate the elements of the confusion matrix\n",
        "TN = df_spark.filter('pred_roberta = \"Negative\" AND sentimiento = 0').count()\n",
        "TP = df_spark.filter('pred_roberta = \"Positive\" AND sentimiento = 1').count()\n",
        "FN = df_spark.filter('pred_roberta = \"Negative\" AND sentimiento = 1').count()\n",
        "FP = df_spark.filter('pred_roberta = \"Positive\" AND sentimiento = 0').count()\n",
        "\n",
        "# Accuracy measures the proportion of correct predictions\n",
        "accuracy = (TN+TP)/(TN+TP+FN+FP)\n",
        "# Calculate precision and recall\n",
        "# precision = TP/(TP+FP)\n",
        "recall = TP/(TP+FN)\n",
        "print('recall    = {:.2f}\\naccuracy    = {:.2f}'.format(recall, accuracy))"
      ],
      "metadata": {
        "colab": {
          "base_uri": "https://localhost:8080/"
        },
        "id": "rHvrA_6equIx",
        "outputId": "319a9f0a-8be8-4f3b-90f0-26b8e92b1984"
      },
      "execution_count": null,
      "outputs": [
        {
          "output_type": "stream",
          "name": "stdout",
          "text": [
            "recall    = 0.80\n",
            "accuracy    = 0.80\n"
          ]
        }
      ]
    },
    {
      "cell_type": "code",
      "source": [
        "#df_rest.to_csv('Prediccion_Sentimientos_RNN_LR_RoBERTa.csv')"
      ],
      "metadata": {
        "id": "4ltq3I45ad0C"
      },
      "execution_count": null,
      "outputs": []
    },
    {
      "cell_type": "markdown",
      "metadata": {
        "id": "bysbZAutEaeZ"
      },
      "source": [
        "#### 1. Modelo Pysentimiento (BERT based) - A Transformer-based library for SocialNLP classification tasks\n",
        "\n",
        "**Spanish models**\n",
        "\n",
        "Usamos pysentimiento una librería basada en transformers y en modelos BERT pre-entrenados como son:\n",
        "\n",
        "* beto-sentiment-analysis\n",
        "* beto-emotion-analysis\n",
        "\n",
        "Ref: https://github.com/pysentimiento/pysentimiento\n",
        "\n",
        "TASS Dataset license (License for Sentiment Analysis in Spanish, Emotion Analysis in Spanish & English)\n",
        "http://tass.sepln.org/tass_data/download.php"
      ]
    },
    {
      "cell_type": "code",
      "source": [],
      "metadata": {
        "id": "6FUSggEXWNuc"
      },
      "execution_count": null,
      "outputs": []
    },
    {
      "cell_type": "code",
      "execution_count": null,
      "metadata": {
        "colab": {
          "base_uri": "https://localhost:8080/"
        },
        "id": "EYz_fg4iSs9x",
        "outputId": "16462719-0756-4dad-b094-b120b36093b5"
      },
      "outputs": [
        {
          "name": "stdout",
          "output_type": "stream",
          "text": [
            "Looking in indexes: https://pypi.org/simple, https://us-python.pkg.dev/colab-wheels/public/simple/\n",
            "Collecting transformers\n",
            "  Downloading transformers-4.21.1-py3-none-any.whl (4.7 MB)\n",
            "\u001b[K     |████████████████████████████████| 4.7 MB 4.3 MB/s \n",
            "\u001b[?25hCollecting huggingface-hub<1.0,>=0.1.0\n",
            "  Downloading huggingface_hub-0.8.1-py3-none-any.whl (101 kB)\n",
            "\u001b[K     |████████████████████████████████| 101 kB 12.8 MB/s \n",
            "\u001b[?25hRequirement already satisfied: packaging>=20.0 in /usr/local/lib/python3.7/dist-packages (from transformers) (21.3)\n",
            "Requirement already satisfied: requests in /usr/local/lib/python3.7/dist-packages (from transformers) (2.23.0)\n",
            "Requirement already satisfied: filelock in /usr/local/lib/python3.7/dist-packages (from transformers) (3.8.0)\n",
            "Requirement already satisfied: importlib-metadata in /usr/local/lib/python3.7/dist-packages (from transformers) (4.12.0)\n",
            "Requirement already satisfied: numpy>=1.17 in /usr/local/lib/python3.7/dist-packages (from transformers) (1.21.6)\n",
            "Collecting tokenizers!=0.11.3,<0.13,>=0.11.1\n",
            "  Downloading tokenizers-0.12.1-cp37-cp37m-manylinux_2_12_x86_64.manylinux2010_x86_64.whl (6.6 MB)\n",
            "\u001b[K     |████████████████████████████████| 6.6 MB 61.3 MB/s \n",
            "\u001b[?25hRequirement already satisfied: tqdm>=4.27 in /usr/local/lib/python3.7/dist-packages (from transformers) (4.64.0)\n",
            "Requirement already satisfied: regex!=2019.12.17 in /usr/local/lib/python3.7/dist-packages (from transformers) (2022.6.2)\n",
            "Requirement already satisfied: pyyaml>=5.1 in /usr/local/lib/python3.7/dist-packages (from transformers) (6.0)\n",
            "Requirement already satisfied: typing-extensions>=3.7.4.3 in /usr/local/lib/python3.7/dist-packages (from huggingface-hub<1.0,>=0.1.0->transformers) (4.1.1)\n",
            "Requirement already satisfied: pyparsing!=3.0.5,>=2.0.2 in /usr/local/lib/python3.7/dist-packages (from packaging>=20.0->transformers) (3.0.9)\n",
            "Requirement already satisfied: zipp>=0.5 in /usr/local/lib/python3.7/dist-packages (from importlib-metadata->transformers) (3.8.1)\n",
            "Requirement already satisfied: chardet<4,>=3.0.2 in /usr/local/lib/python3.7/dist-packages (from requests->transformers) (3.0.4)\n",
            "Requirement already satisfied: certifi>=2017.4.17 in /usr/local/lib/python3.7/dist-packages (from requests->transformers) (2022.6.15)\n",
            "Requirement already satisfied: urllib3!=1.25.0,!=1.25.1,<1.26,>=1.21.1 in /usr/local/lib/python3.7/dist-packages (from requests->transformers) (1.24.3)\n",
            "Requirement already satisfied: idna<3,>=2.5 in /usr/local/lib/python3.7/dist-packages (from requests->transformers) (2.10)\n",
            "Installing collected packages: tokenizers, huggingface-hub, transformers\n",
            "Successfully installed huggingface-hub-0.8.1 tokenizers-0.12.1 transformers-4.21.1\n"
          ]
        }
      ],
      "source": [
        "!pip install transformers"
      ]
    },
    {
      "cell_type": "markdown",
      "metadata": {
        "id": "6On_9Q7kTaOz"
      },
      "source": [
        "### Ejemplos de Pysentimiento"
      ]
    },
    {
      "cell_type": "markdown",
      "metadata": {
        "id": "cJZpvOC-ZT1F"
      },
      "source": [
        "### 2. Sentiment-spanish (CNN based model)\n",
        "\n",
        "Trained using over 800000 reviews of users of the pages eltenedor, decathlon, tripadvisor, filmaffinity and ebay. \n",
        "\n",
        "It uses the libraries Keras and Tensorflow.\n",
        "\n",
        "Ref: https://pypi.org/project/sentiment-analysis-spanish/"
      ]
    },
    {
      "cell_type": "markdown",
      "metadata": {
        "id": "0HqoShDAatCG"
      },
      "source": [
        "The function sentiment(text) returns a number between 0 and 1. This is the probability of string variable text of being \"positive\". Low probabilities mean that the text is negative (numbers close to 0), high probabilities (numbers close to 1) mean that the text is positive. The space in between corespond to neutral texts."
      ]
    },
    {
      "cell_type": "markdown",
      "metadata": {
        "id": "1GXAC1AA-8x3"
      },
      "source": [
        "### 3. Pretrained Spark-NLP spanish model classifierdl_bert_sentiment"
      ]
    },
    {
      "cell_type": "markdown",
      "metadata": {
        "id": "smtZtjb93mVv"
      },
      "source": [
        "/content/Confusion_Matrix.jpg"
      ]
    },
    {
      "cell_type": "markdown",
      "metadata": {
        "id": "NLkomJlrbTM3"
      },
      "source": [
        "### Plotting Charts"
      ]
    },
    {
      "cell_type": "markdown",
      "metadata": {
        "id": "9E0WZebtefHM"
      },
      "source": [
        "#### Plotting Wordcloud"
      ]
    },
    {
      "cell_type": "code",
      "execution_count": null,
      "metadata": {
        "colab": {
          "base_uri": "https://localhost:8080/",
          "height": 337
        },
        "id": "QlH1uoFW-G5_",
        "outputId": "9cc39f39-0888-4789-e15f-abf0bb3b9553"
      },
      "outputs": [
        {
          "data": {
            "text/html": [
              "\n",
              "  <div id=\"df-83b68053-2a9b-40b3-91f8-a78d43e43f3c\">\n",
              "    <div class=\"colab-df-container\">\n",
              "      <div>\n",
              "<style scoped>\n",
              "    .dataframe tbody tr th:only-of-type {\n",
              "        vertical-align: middle;\n",
              "    }\n",
              "\n",
              "    .dataframe tbody tr th {\n",
              "        vertical-align: top;\n",
              "    }\n",
              "\n",
              "    .dataframe thead th {\n",
              "        text-align: right;\n",
              "    }\n",
              "</style>\n",
              "<table border=\"1\" class=\"dataframe\">\n",
              "  <thead>\n",
              "    <tr style=\"text-align: right;\">\n",
              "      <th></th>\n",
              "      <th>sentiment</th>\n",
              "      <th>text</th>\n",
              "      <th>tweets_transform</th>\n",
              "    </tr>\n",
              "  </thead>\n",
              "  <tbody>\n",
              "    <tr>\n",
              "      <th>0</th>\n",
              "      <td>NEUTRAL</td>\n",
              "      <td>Si salimos vivos entre septiembre y octubre, e...</td>\n",
              "      <td>Si salimos vivos septiembre octubre  Liverpool...</td>\n",
              "    </tr>\n",
              "    <tr>\n",
              "      <th>1</th>\n",
              "      <td>NEUTRAL</td>\n",
              "      <td>? Hoy es el cumplea�os de @stevemacca11, scous...</td>\n",
              "      <td>Hoy cumplea  scouser marc 50 goles camiseta R...</td>\n",
              "    </tr>\n",
              "    <tr>\n",
              "      <th>2</th>\n",
              "      <td>NEUTRAL</td>\n",
              "      <td>En Vivo | �Final del partido! #ManchesterCity ...</td>\n",
              "      <td>Vivo Final partido ManchesterCity venci 20 Che...</td>\n",
              "    </tr>\n",
              "    <tr>\n",
              "      <th>3</th>\n",
              "      <td>NEUTRAL</td>\n",
              "      <td>#ManchesterUnited derrot� por 2-1 a #Watford. ...</td>\n",
              "      <td>ManchesterUnited derrot 21 Watford  Alexis S n...</td>\n",
              "    </tr>\n",
              "    <tr>\n",
              "      <th>4</th>\n",
              "      <td>NEUTRAL</td>\n",
              "      <td>Visto #Wolverhampton vs #Everton (2-2). Me esp...</td>\n",
              "      <td>Visto Wolverhampton vs Everton  22   esperaba ...</td>\n",
              "    </tr>\n",
              "  </tbody>\n",
              "</table>\n",
              "</div>\n",
              "      <button class=\"colab-df-convert\" onclick=\"convertToInteractive('df-83b68053-2a9b-40b3-91f8-a78d43e43f3c')\"\n",
              "              title=\"Convert this dataframe to an interactive table.\"\n",
              "              style=\"display:none;\">\n",
              "        \n",
              "  <svg xmlns=\"http://www.w3.org/2000/svg\" height=\"24px\"viewBox=\"0 0 24 24\"\n",
              "       width=\"24px\">\n",
              "    <path d=\"M0 0h24v24H0V0z\" fill=\"none\"/>\n",
              "    <path d=\"M18.56 5.44l.94 2.06.94-2.06 2.06-.94-2.06-.94-.94-2.06-.94 2.06-2.06.94zm-11 1L8.5 8.5l.94-2.06 2.06-.94-2.06-.94L8.5 2.5l-.94 2.06-2.06.94zm10 10l.94 2.06.94-2.06 2.06-.94-2.06-.94-.94-2.06-.94 2.06-2.06.94z\"/><path d=\"M17.41 7.96l-1.37-1.37c-.4-.4-.92-.59-1.43-.59-.52 0-1.04.2-1.43.59L10.3 9.45l-7.72 7.72c-.78.78-.78 2.05 0 2.83L4 21.41c.39.39.9.59 1.41.59.51 0 1.02-.2 1.41-.59l7.78-7.78 2.81-2.81c.8-.78.8-2.07 0-2.86zM5.41 20L4 18.59l7.72-7.72 1.47 1.35L5.41 20z\"/>\n",
              "  </svg>\n",
              "      </button>\n",
              "      \n",
              "  <style>\n",
              "    .colab-df-container {\n",
              "      display:flex;\n",
              "      flex-wrap:wrap;\n",
              "      gap: 12px;\n",
              "    }\n",
              "\n",
              "    .colab-df-convert {\n",
              "      background-color: #E8F0FE;\n",
              "      border: none;\n",
              "      border-radius: 50%;\n",
              "      cursor: pointer;\n",
              "      display: none;\n",
              "      fill: #1967D2;\n",
              "      height: 32px;\n",
              "      padding: 0 0 0 0;\n",
              "      width: 32px;\n",
              "    }\n",
              "\n",
              "    .colab-df-convert:hover {\n",
              "      background-color: #E2EBFA;\n",
              "      box-shadow: 0px 1px 2px rgba(60, 64, 67, 0.3), 0px 1px 3px 1px rgba(60, 64, 67, 0.15);\n",
              "      fill: #174EA6;\n",
              "    }\n",
              "\n",
              "    [theme=dark] .colab-df-convert {\n",
              "      background-color: #3B4455;\n",
              "      fill: #D2E3FC;\n",
              "    }\n",
              "\n",
              "    [theme=dark] .colab-df-convert:hover {\n",
              "      background-color: #434B5C;\n",
              "      box-shadow: 0px 1px 3px 1px rgba(0, 0, 0, 0.15);\n",
              "      filter: drop-shadow(0px 1px 2px rgba(0, 0, 0, 0.3));\n",
              "      fill: #FFFFFF;\n",
              "    }\n",
              "  </style>\n",
              "\n",
              "      <script>\n",
              "        const buttonEl =\n",
              "          document.querySelector('#df-83b68053-2a9b-40b3-91f8-a78d43e43f3c button.colab-df-convert');\n",
              "        buttonEl.style.display =\n",
              "          google.colab.kernel.accessAllowed ? 'block' : 'none';\n",
              "\n",
              "        async function convertToInteractive(key) {\n",
              "          const element = document.querySelector('#df-83b68053-2a9b-40b3-91f8-a78d43e43f3c');\n",
              "          const dataTable =\n",
              "            await google.colab.kernel.invokeFunction('convertToInteractive',\n",
              "                                                     [key], {});\n",
              "          if (!dataTable) return;\n",
              "\n",
              "          const docLinkHtml = 'Like what you see? Visit the ' +\n",
              "            '<a target=\"_blank\" href=https://colab.research.google.com/notebooks/data_table.ipynb>data table notebook</a>'\n",
              "            + ' to learn more about interactive tables.';\n",
              "          element.innerHTML = '';\n",
              "          dataTable['output_type'] = 'display_data';\n",
              "          await google.colab.output.renderOutput(dataTable, element);\n",
              "          const docLink = document.createElement('div');\n",
              "          docLink.innerHTML = docLinkHtml;\n",
              "          element.appendChild(docLink);\n",
              "        }\n",
              "      </script>\n",
              "    </div>\n",
              "  </div>\n",
              "  "
            ],
            "text/plain": [
              "  sentiment                                               text  \\\n",
              "0   NEUTRAL  Si salimos vivos entre septiembre y octubre, e...   \n",
              "1   NEUTRAL  ? Hoy es el cumplea�os de @stevemacca11, scous...   \n",
              "2   NEUTRAL  En Vivo | �Final del partido! #ManchesterCity ...   \n",
              "3   NEUTRAL  #ManchesterUnited derrot� por 2-1 a #Watford. ...   \n",
              "4   NEUTRAL  Visto #Wolverhampton vs #Everton (2-2). Me esp...   \n",
              "\n",
              "                                    tweets_transform  \n",
              "0  Si salimos vivos septiembre octubre  Liverpool...  \n",
              "1   Hoy cumplea  scouser marc 50 goles camiseta R...  \n",
              "2  Vivo Final partido ManchesterCity venci 20 Che...  \n",
              "3  ManchesterUnited derrot 21 Watford  Alexis S n...  \n",
              "4  Visto Wolverhampton vs Everton  22   esperaba ...  "
            ]
          },
          "execution_count": 131,
          "metadata": {},
          "output_type": "execute_result"
        }
      ],
      "source": [
        "df_tweets.head()"
      ]
    },
    {
      "cell_type": "code",
      "execution_count": null,
      "metadata": {
        "id": "owojS1bcegnz"
      },
      "outputs": [],
      "source": [
        "from wordcloud import WordCloud, STOPWORDS, ImageColorGenerator\n",
        "\n",
        "def word_cloud(wd_list):\n",
        "    stopwords = set(STOPWORDS)\n",
        "    wd_list = = [w for w in stripped if  w.lower() not in stopWords] # Remover stopwords\n",
        "    all_words = ' '.join([text for text in wd_list])\n",
        "    wordcloud = WordCloud(\n",
        "        background_color='white',\n",
        "        stopwords=stopwords,\n",
        "        width=1600,\n",
        "        height=800,\n",
        "        random_state=1,\n",
        "        colormap='jet',\n",
        "        max_words=80,\n",
        "        max_font_size=200).generate(all_words)\n",
        "    plt.figure(figsize=(12, 10))\n",
        "    plt.axis('off')\n",
        "    plt.imshow(wordcloud, interpolation=\"bilinear\");\n",
        "    \n"
      ]
    },
    {
      "cell_type": "code",
      "execution_count": null,
      "metadata": {
        "colab": {
          "base_uri": "https://localhost:8080/",
          "height": 359
        },
        "id": "fj7oFXSTiM4a",
        "outputId": "3fe485f7-138b-4d2a-ad61-906f681a5b6b"
      },
      "outputs": [
        {
          "data": {
            "image/png": "[encoded data removed]",
            "text/plain": [
              "<Figure size 864x720 with 1 Axes>"
            ]
          },
          "metadata": {},
          "output_type": "display_data"
        }
      ],
      "source": [
        "word_cloud(df_tweets['tweets_transform'])"
      ]
    },
    {
      "cell_type": "markdown",
      "metadata": {
        "id": "SbJqUQzg1Y9R"
      },
      "source": [
        "### Training and evaluating Pre-trained BERT-BASED Models"
      ]
    },
    {
      "cell_type": "markdown",
      "metadata": {
        "id": "cWF3UIkO5B63"
      },
      "source": [
        "Evaluate the results of training"
      ]
    },
    {
      "cell_type": "code",
      "execution_count": null,
      "metadata": {
        "id": "XpEatw39sz8Q"
      },
      "outputs": [],
      "source": []
    },
    {
      "cell_type": "code",
      "execution_count": null,
      "metadata": {
        "id": "HQl0Veglsz8Q"
      },
      "outputs": [],
      "source": []
    },
    {
      "cell_type": "code",
      "execution_count": null,
      "metadata": {
        "id": "GeZNcVNp43eB"
      },
      "outputs": [],
      "source": []
    }
  ],
  "metadata": {
    "colab": {
      "collapsed_sections": [],
      "machine_shape": "hm",
      "provenance": []
    },
    "gpuClass": "standard",
    "kernelspec": {
      "display_name": "Python 3",
      "name": "python3"
    },
    "language_info": {
      "name": "python"
    },
    "widgets": {
      "application/vnd.jupyter.widget-state+json": {
        "31f4205888194fad843382e22e9c4d3b": {
          "model_module": "@jupyter-widgets/controls",
          "model_name": "HBoxModel",
          "model_module_version": "1.5.0",
          "state": {
            "_dom_classes": [],
            "_model_module": "@jupyter-widgets/controls",
            "_model_module_version": "1.5.0",
            "_model_name": "HBoxModel",
            "_view_count": null,
            "_view_module": "@jupyter-widgets/controls",
            "_view_module_version": "1.5.0",
            "_view_name": "HBoxView",
            "box_style": "",
            "children": [
              "IPY_MODEL_3c158e7ebccb49adb9db8f0fc05b4714",
              "IPY_MODEL_64cb457539f4430ab638dcabefce7fd0",
              "IPY_MODEL_e22aa45041704415b1e098d2f60759bc"
            ],
            "layout": "IPY_MODEL_df0676cea1c64221bd95215d1dac4ecf"
          }
        },
        "3c158e7ebccb49adb9db8f0fc05b4714": {
          "model_module": "@jupyter-widgets/controls",
          "model_name": "HTMLModel",
          "model_module_version": "1.5.0",
          "state": {
            "_dom_classes": [],
            "_model_module": "@jupyter-widgets/controls",
            "_model_module_version": "1.5.0",
            "_model_name": "HTMLModel",
            "_view_count": null,
            "_view_module": "@jupyter-widgets/controls",
            "_view_module_version": "1.5.0",
            "_view_name": "HTMLView",
            "description": "",
            "description_tooltip": null,
            "layout": "IPY_MODEL_3a528d2569bc46b8a2a4ff124cfa9395",
            "placeholder": "​",
            "style": "IPY_MODEL_f8e12e0667cb474683ab12855783f785",
            "value": "Downloading config.json: 100%"
          }
        },
        "64cb457539f4430ab638dcabefce7fd0": {
          "model_module": "@jupyter-widgets/controls",
          "model_name": "FloatProgressModel",
          "model_module_version": "1.5.0",
          "state": {
            "_dom_classes": [],
            "_model_module": "@jupyter-widgets/controls",
            "_model_module_version": "1.5.0",
            "_model_name": "FloatProgressModel",
            "_view_count": null,
            "_view_module": "@jupyter-widgets/controls",
            "_view_module_version": "1.5.0",
            "_view_name": "ProgressView",
            "bar_style": "success",
            "description": "",
            "description_tooltip": null,
            "layout": "IPY_MODEL_64831190553e4923be519f5fac93f497",
            "max": 841,
            "min": 0,
            "orientation": "horizontal",
            "style": "IPY_MODEL_8938d1a0eacf40759f865779fa87451a",
            "value": 841
          }
        },
        "e22aa45041704415b1e098d2f60759bc": {
          "model_module": "@jupyter-widgets/controls",
          "model_name": "HTMLModel",
          "model_module_version": "1.5.0",
          "state": {
            "_dom_classes": [],
            "_model_module": "@jupyter-widgets/controls",
            "_model_module_version": "1.5.0",
            "_model_name": "HTMLModel",
            "_view_count": null,
            "_view_module": "@jupyter-widgets/controls",
            "_view_module_version": "1.5.0",
            "_view_name": "HTMLView",
            "description": "",
            "description_tooltip": null,
            "layout": "IPY_MODEL_407a43369cb84e9298f555fb2c979696",
            "placeholder": "​",
            "style": "IPY_MODEL_8d5e3ab90499420db6952b9d9539edc4",
            "value": " 841/841 [00:00&lt;00:00, 26.6kB/s]"
          }
        },
        "df0676cea1c64221bd95215d1dac4ecf": {
          "model_module": "@jupyter-widgets/base",
          "model_name": "LayoutModel",
          "model_module_version": "1.2.0",
          "state": {
            "_model_module": "@jupyter-widgets/base",
            "_model_module_version": "1.2.0",
            "_model_name": "LayoutModel",
            "_view_count": null,
            "_view_module": "@jupyter-widgets/base",
            "_view_module_version": "1.2.0",
            "_view_name": "LayoutView",
            "align_content": null,
            "align_items": null,
            "align_self": null,
            "border": null,
            "bottom": null,
            "display": null,
            "flex": null,
            "flex_flow": null,
            "grid_area": null,
            "grid_auto_columns": null,
            "grid_auto_flow": null,
            "grid_auto_rows": null,
            "grid_column": null,
            "grid_gap": null,
            "grid_row": null,
            "grid_template_areas": null,
            "grid_template_columns": null,
            "grid_template_rows": null,
            "height": null,
            "justify_content": null,
            "justify_items": null,
            "left": null,
            "margin": null,
            "max_height": null,
            "max_width": null,
            "min_height": null,
            "min_width": null,
            "object_fit": null,
            "object_position": null,
            "order": null,
            "overflow": null,
            "overflow_x": null,
            "overflow_y": null,
            "padding": null,
            "right": null,
            "top": null,
            "visibility": null,
            "width": null
          }
        },
        "3a528d2569bc46b8a2a4ff124cfa9395": {
          "model_module": "@jupyter-widgets/base",
          "model_name": "LayoutModel",
          "model_module_version": "1.2.0",
          "state": {
            "_model_module": "@jupyter-widgets/base",
            "_model_module_version": "1.2.0",
            "_model_name": "LayoutModel",
            "_view_count": null,
            "_view_module": "@jupyter-widgets/base",
            "_view_module_version": "1.2.0",
            "_view_name": "LayoutView",
            "align_content": null,
            "align_items": null,
            "align_self": null,
            "border": null,
            "bottom": null,
            "display": null,
            "flex": null,
            "flex_flow": null,
            "grid_area": null,
            "grid_auto_columns": null,
            "grid_auto_flow": null,
            "grid_auto_rows": null,
            "grid_column": null,
            "grid_gap": null,
            "grid_row": null,
            "grid_template_areas": null,
            "grid_template_columns": null,
            "grid_template_rows": null,
            "height": null,
            "justify_content": null,
            "justify_items": null,
            "left": null,
            "margin": null,
            "max_height": null,
            "max_width": null,
            "min_height": null,
            "min_width": null,
            "object_fit": null,
            "object_position": null,
            "order": null,
            "overflow": null,
            "overflow_x": null,
            "overflow_y": null,
            "padding": null,
            "right": null,
            "top": null,
            "visibility": null,
            "width": null
          }
        },
        "f8e12e0667cb474683ab12855783f785": {
          "model_module": "@jupyter-widgets/controls",
          "model_name": "DescriptionStyleModel",
          "model_module_version": "1.5.0",
          "state": {
            "_model_module": "@jupyter-widgets/controls",
            "_model_module_version": "1.5.0",
            "_model_name": "DescriptionStyleModel",
            "_view_count": null,
            "_view_module": "@jupyter-widgets/base",
            "_view_module_version": "1.2.0",
            "_view_name": "StyleView",
            "description_width": ""
          }
        },
        "64831190553e4923be519f5fac93f497": {
          "model_module": "@jupyter-widgets/base",
          "model_name": "LayoutModel",
          "model_module_version": "1.2.0",
          "state": {
            "_model_module": "@jupyter-widgets/base",
            "_model_module_version": "1.2.0",
            "_model_name": "LayoutModel",
            "_view_count": null,
            "_view_module": "@jupyter-widgets/base",
            "_view_module_version": "1.2.0",
            "_view_name": "LayoutView",
            "align_content": null,
            "align_items": null,
            "align_self": null,
            "border": null,
            "bottom": null,
            "display": null,
            "flex": null,
            "flex_flow": null,
            "grid_area": null,
            "grid_auto_columns": null,
            "grid_auto_flow": null,
            "grid_auto_rows": null,
            "grid_column": null,
            "grid_gap": null,
            "grid_row": null,
            "grid_template_areas": null,
            "grid_template_columns": null,
            "grid_template_rows": null,
            "height": null,
            "justify_content": null,
            "justify_items": null,
            "left": null,
            "margin": null,
            "max_height": null,
            "max_width": null,
            "min_height": null,
            "min_width": null,
            "object_fit": null,
            "object_position": null,
            "order": null,
            "overflow": null,
            "overflow_x": null,
            "overflow_y": null,
            "padding": null,
            "right": null,
            "top": null,
            "visibility": null,
            "width": null
          }
        },
        "8938d1a0eacf40759f865779fa87451a": {
          "model_module": "@jupyter-widgets/controls",
          "model_name": "ProgressStyleModel",
          "model_module_version": "1.5.0",
          "state": {
            "_model_module": "@jupyter-widgets/controls",
            "_model_module_version": "1.5.0",
            "_model_name": "ProgressStyleModel",
            "_view_count": null,
            "_view_module": "@jupyter-widgets/base",
            "_view_module_version": "1.2.0",
            "_view_name": "StyleView",
            "bar_color": null,
            "description_width": ""
          }
        },
        "407a43369cb84e9298f555fb2c979696": {
          "model_module": "@jupyter-widgets/base",
          "model_name": "LayoutModel",
          "model_module_version": "1.2.0",
          "state": {
            "_model_module": "@jupyter-widgets/base",
            "_model_module_version": "1.2.0",
            "_model_name": "LayoutModel",
            "_view_count": null,
            "_view_module": "@jupyter-widgets/base",
            "_view_module_version": "1.2.0",
            "_view_name": "LayoutView",
            "align_content": null,
            "align_items": null,
            "align_self": null,
            "border": null,
            "bottom": null,
            "display": null,
            "flex": null,
            "flex_flow": null,
            "grid_area": null,
            "grid_auto_columns": null,
            "grid_auto_flow": null,
            "grid_auto_rows": null,
            "grid_column": null,
            "grid_gap": null,
            "grid_row": null,
            "grid_template_areas": null,
            "grid_template_columns": null,
            "grid_template_rows": null,
            "height": null,
            "justify_content": null,
            "justify_items": null,
            "left": null,
            "margin": null,
            "max_height": null,
            "max_width": null,
            "min_height": null,
            "min_width": null,
            "object_fit": null,
            "object_position": null,
            "order": null,
            "overflow": null,
            "overflow_x": null,
            "overflow_y": null,
            "padding": null,
            "right": null,
            "top": null,
            "visibility": null,
            "width": null
          }
        },
        "8d5e3ab90499420db6952b9d9539edc4": {
          "model_module": "@jupyter-widgets/controls",
          "model_name": "DescriptionStyleModel",
          "model_module_version": "1.5.0",
          "state": {
            "_model_module": "@jupyter-widgets/controls",
            "_model_module_version": "1.5.0",
            "_model_name": "DescriptionStyleModel",
            "_view_count": null,
            "_view_module": "@jupyter-widgets/base",
            "_view_module_version": "1.2.0",
            "_view_name": "StyleView",
            "description_width": ""
          }
        },
        "a318e6972c6d477496dd8de389bc6410": {
          "model_module": "@jupyter-widgets/controls",
          "model_name": "HBoxModel",
          "model_module_version": "1.5.0",
          "state": {
            "_dom_classes": [],
            "_model_module": "@jupyter-widgets/controls",
            "_model_module_version": "1.5.0",
            "_model_name": "HBoxModel",
            "_view_count": null,
            "_view_module": "@jupyter-widgets/controls",
            "_view_module_version": "1.5.0",
            "_view_name": "HBoxView",
            "box_style": "",
            "children": [
              "IPY_MODEL_1b2c5d65b1d6441f93413478d5b35b40",
              "IPY_MODEL_3de5ea00bbcf4a52b0e680d9253ffa7b",
              "IPY_MODEL_19f8b2c3eb304bc19427953e5bf87243"
            ],
            "layout": "IPY_MODEL_4756ca33ffbb45f98ca309360bc9c728"
          }
        },
        "1b2c5d65b1d6441f93413478d5b35b40": {
          "model_module": "@jupyter-widgets/controls",
          "model_name": "HTMLModel",
          "model_module_version": "1.5.0",
          "state": {
            "_dom_classes": [],
            "_model_module": "@jupyter-widgets/controls",
            "_model_module_version": "1.5.0",
            "_model_name": "HTMLModel",
            "_view_count": null,
            "_view_module": "@jupyter-widgets/controls",
            "_view_module_version": "1.5.0",
            "_view_name": "HTMLView",
            "description": "",
            "description_tooltip": null,
            "layout": "IPY_MODEL_e17ee40e1155448dadaa8e6a112a58bc",
            "placeholder": "​",
            "style": "IPY_MODEL_3234abd598644f19af6ecb427cfef0ca",
            "value": "Downloading sentencepiece.bpe.model: 100%"
          }
        },
        "3de5ea00bbcf4a52b0e680d9253ffa7b": {
          "model_module": "@jupyter-widgets/controls",
          "model_name": "FloatProgressModel",
          "model_module_version": "1.5.0",
          "state": {
            "_dom_classes": [],
            "_model_module": "@jupyter-widgets/controls",
            "_model_module_version": "1.5.0",
            "_model_name": "FloatProgressModel",
            "_view_count": null,
            "_view_module": "@jupyter-widgets/controls",
            "_view_module_version": "1.5.0",
            "_view_name": "ProgressView",
            "bar_style": "success",
            "description": "",
            "description_tooltip": null,
            "layout": "IPY_MODEL_355df32e2ea84ca2b51a7e99c9507d46",
            "max": 5069051,
            "min": 0,
            "orientation": "horizontal",
            "style": "IPY_MODEL_bc5adb8e6436430799e5d0bfed679466",
            "value": 5069051
          }
        },
        "19f8b2c3eb304bc19427953e5bf87243": {
          "model_module": "@jupyter-widgets/controls",
          "model_name": "HTMLModel",
          "model_module_version": "1.5.0",
          "state": {
            "_dom_classes": [],
            "_model_module": "@jupyter-widgets/controls",
            "_model_module_version": "1.5.0",
            "_model_name": "HTMLModel",
            "_view_count": null,
            "_view_module": "@jupyter-widgets/controls",
            "_view_module_version": "1.5.0",
            "_view_name": "HTMLView",
            "description": "",
            "description_tooltip": null,
            "layout": "IPY_MODEL_2d67b8cbbcac444bb2e5ded68d4a09f8",
            "placeholder": "​",
            "style": "IPY_MODEL_9924e8a5863b44d0bd1dd30a6d21353c",
            "value": " 4.83M/4.83M [00:01&lt;00:00, 3.48MB/s]"
          }
        },
        "4756ca33ffbb45f98ca309360bc9c728": {
          "model_module": "@jupyter-widgets/base",
          "model_name": "LayoutModel",
          "model_module_version": "1.2.0",
          "state": {
            "_model_module": "@jupyter-widgets/base",
            "_model_module_version": "1.2.0",
            "_model_name": "LayoutModel",
            "_view_count": null,
            "_view_module": "@jupyter-widgets/base",
            "_view_module_version": "1.2.0",
            "_view_name": "LayoutView",
            "align_content": null,
            "align_items": null,
            "align_self": null,
            "border": null,
            "bottom": null,
            "display": null,
            "flex": null,
            "flex_flow": null,
            "grid_area": null,
            "grid_auto_columns": null,
            "grid_auto_flow": null,
            "grid_auto_rows": null,
            "grid_column": null,
            "grid_gap": null,
            "grid_row": null,
            "grid_template_areas": null,
            "grid_template_columns": null,
            "grid_template_rows": null,
            "height": null,
            "justify_content": null,
            "justify_items": null,
            "left": null,
            "margin": null,
            "max_height": null,
            "max_width": null,
            "min_height": null,
            "min_width": null,
            "object_fit": null,
            "object_position": null,
            "order": null,
            "overflow": null,
            "overflow_x": null,
            "overflow_y": null,
            "padding": null,
            "right": null,
            "top": null,
            "visibility": null,
            "width": null
          }
        },
        "e17ee40e1155448dadaa8e6a112a58bc": {
          "model_module": "@jupyter-widgets/base",
          "model_name": "LayoutModel",
          "model_module_version": "1.2.0",
          "state": {
            "_model_module": "@jupyter-widgets/base",
            "_model_module_version": "1.2.0",
            "_model_name": "LayoutModel",
            "_view_count": null,
            "_view_module": "@jupyter-widgets/base",
            "_view_module_version": "1.2.0",
            "_view_name": "LayoutView",
            "align_content": null,
            "align_items": null,
            "align_self": null,
            "border": null,
            "bottom": null,
            "display": null,
            "flex": null,
            "flex_flow": null,
            "grid_area": null,
            "grid_auto_columns": null,
            "grid_auto_flow": null,
            "grid_auto_rows": null,
            "grid_column": null,
            "grid_gap": null,
            "grid_row": null,
            "grid_template_areas": null,
            "grid_template_columns": null,
            "grid_template_rows": null,
            "height": null,
            "justify_content": null,
            "justify_items": null,
            "left": null,
            "margin": null,
            "max_height": null,
            "max_width": null,
            "min_height": null,
            "min_width": null,
            "object_fit": null,
            "object_position": null,
            "order": null,
            "overflow": null,
            "overflow_x": null,
            "overflow_y": null,
            "padding": null,
            "right": null,
            "top": null,
            "visibility": null,
            "width": null
          }
        },
        "3234abd598644f19af6ecb427cfef0ca": {
          "model_module": "@jupyter-widgets/controls",
          "model_name": "DescriptionStyleModel",
          "model_module_version": "1.5.0",
          "state": {
            "_model_module": "@jupyter-widgets/controls",
            "_model_module_version": "1.5.0",
            "_model_name": "DescriptionStyleModel",
            "_view_count": null,
            "_view_module": "@jupyter-widgets/base",
            "_view_module_version": "1.2.0",
            "_view_name": "StyleView",
            "description_width": ""
          }
        },
        "355df32e2ea84ca2b51a7e99c9507d46": {
          "model_module": "@jupyter-widgets/base",
          "model_name": "LayoutModel",
          "model_module_version": "1.2.0",
          "state": {
            "_model_module": "@jupyter-widgets/base",
            "_model_module_version": "1.2.0",
            "_model_name": "LayoutModel",
            "_view_count": null,
            "_view_module": "@jupyter-widgets/base",
            "_view_module_version": "1.2.0",
            "_view_name": "LayoutView",
            "align_content": null,
            "align_items": null,
            "align_self": null,
            "border": null,
            "bottom": null,
            "display": null,
            "flex": null,
            "flex_flow": null,
            "grid_area": null,
            "grid_auto_columns": null,
            "grid_auto_flow": null,
            "grid_auto_rows": null,
            "grid_column": null,
            "grid_gap": null,
            "grid_row": null,
            "grid_template_areas": null,
            "grid_template_columns": null,
            "grid_template_rows": null,
            "height": null,
            "justify_content": null,
            "justify_items": null,
            "left": null,
            "margin": null,
            "max_height": null,
            "max_width": null,
            "min_height": null,
            "min_width": null,
            "object_fit": null,
            "object_position": null,
            "order": null,
            "overflow": null,
            "overflow_x": null,
            "overflow_y": null,
            "padding": null,
            "right": null,
            "top": null,
            "visibility": null,
            "width": null
          }
        },
        "bc5adb8e6436430799e5d0bfed679466": {
          "model_module": "@jupyter-widgets/controls",
          "model_name": "ProgressStyleModel",
          "model_module_version": "1.5.0",
          "state": {
            "_model_module": "@jupyter-widgets/controls",
            "_model_module_version": "1.5.0",
            "_model_name": "ProgressStyleModel",
            "_view_count": null,
            "_view_module": "@jupyter-widgets/base",
            "_view_module_version": "1.2.0",
            "_view_name": "StyleView",
            "bar_color": null,
            "description_width": ""
          }
        },
        "2d67b8cbbcac444bb2e5ded68d4a09f8": {
          "model_module": "@jupyter-widgets/base",
          "model_name": "LayoutModel",
          "model_module_version": "1.2.0",
          "state": {
            "_model_module": "@jupyter-widgets/base",
            "_model_module_version": "1.2.0",
            "_model_name": "LayoutModel",
            "_view_count": null,
            "_view_module": "@jupyter-widgets/base",
            "_view_module_version": "1.2.0",
            "_view_name": "LayoutView",
            "align_content": null,
            "align_items": null,
            "align_self": null,
            "border": null,
            "bottom": null,
            "display": null,
            "flex": null,
            "flex_flow": null,
            "grid_area": null,
            "grid_auto_columns": null,
            "grid_auto_flow": null,
            "grid_auto_rows": null,
            "grid_column": null,
            "grid_gap": null,
            "grid_row": null,
            "grid_template_areas": null,
            "grid_template_columns": null,
            "grid_template_rows": null,
            "height": null,
            "justify_content": null,
            "justify_items": null,
            "left": null,
            "margin": null,
            "max_height": null,
            "max_width": null,
            "min_height": null,
            "min_width": null,
            "object_fit": null,
            "object_position": null,
            "order": null,
            "overflow": null,
            "overflow_x": null,
            "overflow_y": null,
            "padding": null,
            "right": null,
            "top": null,
            "visibility": null,
            "width": null
          }
        },
        "9924e8a5863b44d0bd1dd30a6d21353c": {
          "model_module": "@jupyter-widgets/controls",
          "model_name": "DescriptionStyleModel",
          "model_module_version": "1.5.0",
          "state": {
            "_model_module": "@jupyter-widgets/controls",
            "_model_module_version": "1.5.0",
            "_model_name": "DescriptionStyleModel",
            "_view_count": null,
            "_view_module": "@jupyter-widgets/base",
            "_view_module_version": "1.2.0",
            "_view_name": "StyleView",
            "description_width": ""
          }
        },
        "e5c966b18cf5446897b5fd7acb6bdfef": {
          "model_module": "@jupyter-widgets/controls",
          "model_name": "HBoxModel",
          "model_module_version": "1.5.0",
          "state": {
            "_dom_classes": [],
            "_model_module": "@jupyter-widgets/controls",
            "_model_module_version": "1.5.0",
            "_model_name": "HBoxModel",
            "_view_count": null,
            "_view_module": "@jupyter-widgets/controls",
            "_view_module_version": "1.5.0",
            "_view_name": "HBoxView",
            "box_style": "",
            "children": [
              "IPY_MODEL_54f5db7d819d4350958b68ae03f1fcbc",
              "IPY_MODEL_df18383901e1435d85eaa6a16baea9ea",
              "IPY_MODEL_9ffe6a8d61274a9fb39481cba64654c3"
            ],
            "layout": "IPY_MODEL_870a154455354ceea79421e714fc29c7"
          }
        },
        "54f5db7d819d4350958b68ae03f1fcbc": {
          "model_module": "@jupyter-widgets/controls",
          "model_name": "HTMLModel",
          "model_module_version": "1.5.0",
          "state": {
            "_dom_classes": [],
            "_model_module": "@jupyter-widgets/controls",
            "_model_module_version": "1.5.0",
            "_model_name": "HTMLModel",
            "_view_count": null,
            "_view_module": "@jupyter-widgets/controls",
            "_view_module_version": "1.5.0",
            "_view_name": "HTMLView",
            "description": "",
            "description_tooltip": null,
            "layout": "IPY_MODEL_d9c7273a0c0540e0b2690f5f59ec3566",
            "placeholder": "​",
            "style": "IPY_MODEL_c4e78b5de0c14da6b87838cc6ec997e1",
            "value": "Downloading special_tokens_map.json: 100%"
          }
        },
        "df18383901e1435d85eaa6a16baea9ea": {
          "model_module": "@jupyter-widgets/controls",
          "model_name": "FloatProgressModel",
          "model_module_version": "1.5.0",
          "state": {
            "_dom_classes": [],
            "_model_module": "@jupyter-widgets/controls",
            "_model_module_version": "1.5.0",
            "_model_name": "FloatProgressModel",
            "_view_count": null,
            "_view_module": "@jupyter-widgets/controls",
            "_view_module_version": "1.5.0",
            "_view_name": "ProgressView",
            "bar_style": "success",
            "description": "",
            "description_tooltip": null,
            "layout": "IPY_MODEL_0266a51da26d4741ab6c7ba6033a799b",
            "max": 150,
            "min": 0,
            "orientation": "horizontal",
            "style": "IPY_MODEL_86f29b170f9a486d9f1b2ae249925ed6",
            "value": 150
          }
        },
        "9ffe6a8d61274a9fb39481cba64654c3": {
          "model_module": "@jupyter-widgets/controls",
          "model_name": "HTMLModel",
          "model_module_version": "1.5.0",
          "state": {
            "_dom_classes": [],
            "_model_module": "@jupyter-widgets/controls",
            "_model_module_version": "1.5.0",
            "_model_name": "HTMLModel",
            "_view_count": null,
            "_view_module": "@jupyter-widgets/controls",
            "_view_module_version": "1.5.0",
            "_view_name": "HTMLView",
            "description": "",
            "description_tooltip": null,
            "layout": "IPY_MODEL_c36a50b5b7194a3590b38349fa5f2300",
            "placeholder": "​",
            "style": "IPY_MODEL_45db2f1a4e374fcab2b3ea391cbc224b",
            "value": " 150/150 [00:00&lt;00:00, 4.87kB/s]"
          }
        },
        "870a154455354ceea79421e714fc29c7": {
          "model_module": "@jupyter-widgets/base",
          "model_name": "LayoutModel",
          "model_module_version": "1.2.0",
          "state": {
            "_model_module": "@jupyter-widgets/base",
            "_model_module_version": "1.2.0",
            "_model_name": "LayoutModel",
            "_view_count": null,
            "_view_module": "@jupyter-widgets/base",
            "_view_module_version": "1.2.0",
            "_view_name": "LayoutView",
            "align_content": null,
            "align_items": null,
            "align_self": null,
            "border": null,
            "bottom": null,
            "display": null,
            "flex": null,
            "flex_flow": null,
            "grid_area": null,
            "grid_auto_columns": null,
            "grid_auto_flow": null,
            "grid_auto_rows": null,
            "grid_column": null,
            "grid_gap": null,
            "grid_row": null,
            "grid_template_areas": null,
            "grid_template_columns": null,
            "grid_template_rows": null,
            "height": null,
            "justify_content": null,
            "justify_items": null,
            "left": null,
            "margin": null,
            "max_height": null,
            "max_width": null,
            "min_height": null,
            "min_width": null,
            "object_fit": null,
            "object_position": null,
            "order": null,
            "overflow": null,
            "overflow_x": null,
            "overflow_y": null,
            "padding": null,
            "right": null,
            "top": null,
            "visibility": null,
            "width": null
          }
        },
        "d9c7273a0c0540e0b2690f5f59ec3566": {
          "model_module": "@jupyter-widgets/base",
          "model_name": "LayoutModel",
          "model_module_version": "1.2.0",
          "state": {
            "_model_module": "@jupyter-widgets/base",
            "_model_module_version": "1.2.0",
            "_model_name": "LayoutModel",
            "_view_count": null,
            "_view_module": "@jupyter-widgets/base",
            "_view_module_version": "1.2.0",
            "_view_name": "LayoutView",
            "align_content": null,
            "align_items": null,
            "align_self": null,
            "border": null,
            "bottom": null,
            "display": null,
            "flex": null,
            "flex_flow": null,
            "grid_area": null,
            "grid_auto_columns": null,
            "grid_auto_flow": null,
            "grid_auto_rows": null,
            "grid_column": null,
            "grid_gap": null,
            "grid_row": null,
            "grid_template_areas": null,
            "grid_template_columns": null,
            "grid_template_rows": null,
            "height": null,
            "justify_content": null,
            "justify_items": null,
            "left": null,
            "margin": null,
            "max_height": null,
            "max_width": null,
            "min_height": null,
            "min_width": null,
            "object_fit": null,
            "object_position": null,
            "order": null,
            "overflow": null,
            "overflow_x": null,
            "overflow_y": null,
            "padding": null,
            "right": null,
            "top": null,
            "visibility": null,
            "width": null
          }
        },
        "c4e78b5de0c14da6b87838cc6ec997e1": {
          "model_module": "@jupyter-widgets/controls",
          "model_name": "DescriptionStyleModel",
          "model_module_version": "1.5.0",
          "state": {
            "_model_module": "@jupyter-widgets/controls",
            "_model_module_version": "1.5.0",
            "_model_name": "DescriptionStyleModel",
            "_view_count": null,
            "_view_module": "@jupyter-widgets/base",
            "_view_module_version": "1.2.0",
            "_view_name": "StyleView",
            "description_width": ""
          }
        },
        "0266a51da26d4741ab6c7ba6033a799b": {
          "model_module": "@jupyter-widgets/base",
          "model_name": "LayoutModel",
          "model_module_version": "1.2.0",
          "state": {
            "_model_module": "@jupyter-widgets/base",
            "_model_module_version": "1.2.0",
            "_model_name": "LayoutModel",
            "_view_count": null,
            "_view_module": "@jupyter-widgets/base",
            "_view_module_version": "1.2.0",
            "_view_name": "LayoutView",
            "align_content": null,
            "align_items": null,
            "align_self": null,
            "border": null,
            "bottom": null,
            "display": null,
            "flex": null,
            "flex_flow": null,
            "grid_area": null,
            "grid_auto_columns": null,
            "grid_auto_flow": null,
            "grid_auto_rows": null,
            "grid_column": null,
            "grid_gap": null,
            "grid_row": null,
            "grid_template_areas": null,
            "grid_template_columns": null,
            "grid_template_rows": null,
            "height": null,
            "justify_content": null,
            "justify_items": null,
            "left": null,
            "margin": null,
            "max_height": null,
            "max_width": null,
            "min_height": null,
            "min_width": null,
            "object_fit": null,
            "object_position": null,
            "order": null,
            "overflow": null,
            "overflow_x": null,
            "overflow_y": null,
            "padding": null,
            "right": null,
            "top": null,
            "visibility": null,
            "width": null
          }
        },
        "86f29b170f9a486d9f1b2ae249925ed6": {
          "model_module": "@jupyter-widgets/controls",
          "model_name": "ProgressStyleModel",
          "model_module_version": "1.5.0",
          "state": {
            "_model_module": "@jupyter-widgets/controls",
            "_model_module_version": "1.5.0",
            "_model_name": "ProgressStyleModel",
            "_view_count": null,
            "_view_module": "@jupyter-widgets/base",
            "_view_module_version": "1.2.0",
            "_view_name": "StyleView",
            "bar_color": null,
            "description_width": ""
          }
        },
        "c36a50b5b7194a3590b38349fa5f2300": {
          "model_module": "@jupyter-widgets/base",
          "model_name": "LayoutModel",
          "model_module_version": "1.2.0",
          "state": {
            "_model_module": "@jupyter-widgets/base",
            "_model_module_version": "1.2.0",
            "_model_name": "LayoutModel",
            "_view_count": null,
            "_view_module": "@jupyter-widgets/base",
            "_view_module_version": "1.2.0",
            "_view_name": "LayoutView",
            "align_content": null,
            "align_items": null,
            "align_self": null,
            "border": null,
            "bottom": null,
            "display": null,
            "flex": null,
            "flex_flow": null,
            "grid_area": null,
            "grid_auto_columns": null,
            "grid_auto_flow": null,
            "grid_auto_rows": null,
            "grid_column": null,
            "grid_gap": null,
            "grid_row": null,
            "grid_template_areas": null,
            "grid_template_columns": null,
            "grid_template_rows": null,
            "height": null,
            "justify_content": null,
            "justify_items": null,
            "left": null,
            "margin": null,
            "max_height": null,
            "max_width": null,
            "min_height": null,
            "min_width": null,
            "object_fit": null,
            "object_position": null,
            "order": null,
            "overflow": null,
            "overflow_x": null,
            "overflow_y": null,
            "padding": null,
            "right": null,
            "top": null,
            "visibility": null,
            "width": null
          }
        },
        "45db2f1a4e374fcab2b3ea391cbc224b": {
          "model_module": "@jupyter-widgets/controls",
          "model_name": "DescriptionStyleModel",
          "model_module_version": "1.5.0",
          "state": {
            "_model_module": "@jupyter-widgets/controls",
            "_model_module_version": "1.5.0",
            "_model_name": "DescriptionStyleModel",
            "_view_count": null,
            "_view_module": "@jupyter-widgets/base",
            "_view_module_version": "1.2.0",
            "_view_name": "StyleView",
            "description_width": ""
          }
        },
        "e0c8ef5400354618887e0d746d711efe": {
          "model_module": "@jupyter-widgets/controls",
          "model_name": "HBoxModel",
          "model_module_version": "1.5.0",
          "state": {
            "_dom_classes": [],
            "_model_module": "@jupyter-widgets/controls",
            "_model_module_version": "1.5.0",
            "_model_name": "HBoxModel",
            "_view_count": null,
            "_view_module": "@jupyter-widgets/controls",
            "_view_module_version": "1.5.0",
            "_view_name": "HBoxView",
            "box_style": "",
            "children": [
              "IPY_MODEL_77f7a2924e464684b8a3bc73d5669baf",
              "IPY_MODEL_1d14e81e1ffe4d85b7f29e4a8d77a541",
              "IPY_MODEL_938adeae0326437980552dd94d7d4250"
            ],
            "layout": "IPY_MODEL_b1134a8b3710466688b36090c2bd0c22"
          }
        },
        "77f7a2924e464684b8a3bc73d5669baf": {
          "model_module": "@jupyter-widgets/controls",
          "model_name": "HTMLModel",
          "model_module_version": "1.5.0",
          "state": {
            "_dom_classes": [],
            "_model_module": "@jupyter-widgets/controls",
            "_model_module_version": "1.5.0",
            "_model_name": "HTMLModel",
            "_view_count": null,
            "_view_module": "@jupyter-widgets/controls",
            "_view_module_version": "1.5.0",
            "_view_name": "HTMLView",
            "description": "",
            "description_tooltip": null,
            "layout": "IPY_MODEL_5cb47e14bc6140b18adbf04aa1a7a636",
            "placeholder": "​",
            "style": "IPY_MODEL_aa538fc27f5842cdb265c19c4825b3e0",
            "value": "Downloading pytorch_model.bin: 100%"
          }
        },
        "1d14e81e1ffe4d85b7f29e4a8d77a541": {
          "model_module": "@jupyter-widgets/controls",
          "model_name": "FloatProgressModel",
          "model_module_version": "1.5.0",
          "state": {
            "_dom_classes": [],
            "_model_module": "@jupyter-widgets/controls",
            "_model_module_version": "1.5.0",
            "_model_name": "FloatProgressModel",
            "_view_count": null,
            "_view_module": "@jupyter-widgets/controls",
            "_view_module_version": "1.5.0",
            "_view_name": "ProgressView",
            "bar_style": "success",
            "description": "",
            "description_tooltip": null,
            "layout": "IPY_MODEL_38cee1b97de4404a97a50833e91effe7",
            "max": 1112271561,
            "min": 0,
            "orientation": "horizontal",
            "style": "IPY_MODEL_70a349effa534a44b72be466a4808a8e",
            "value": 1112271561
          }
        },
        "938adeae0326437980552dd94d7d4250": {
          "model_module": "@jupyter-widgets/controls",
          "model_name": "HTMLModel",
          "model_module_version": "1.5.0",
          "state": {
            "_dom_classes": [],
            "_model_module": "@jupyter-widgets/controls",
            "_model_module_version": "1.5.0",
            "_model_name": "HTMLModel",
            "_view_count": null,
            "_view_module": "@jupyter-widgets/controls",
            "_view_module_version": "1.5.0",
            "_view_name": "HTMLView",
            "description": "",
            "description_tooltip": null,
            "layout": "IPY_MODEL_a89c441664d44da68535c696f0d31805",
            "placeholder": "​",
            "style": "IPY_MODEL_973c4a4984544ecebf3fe637e4afef65",
            "value": " 1.04G/1.04G [00:54&lt;00:00, 20.7MB/s]"
          }
        },
        "b1134a8b3710466688b36090c2bd0c22": {
          "model_module": "@jupyter-widgets/base",
          "model_name": "LayoutModel",
          "model_module_version": "1.2.0",
          "state": {
            "_model_module": "@jupyter-widgets/base",
            "_model_module_version": "1.2.0",
            "_model_name": "LayoutModel",
            "_view_count": null,
            "_view_module": "@jupyter-widgets/base",
            "_view_module_version": "1.2.0",
            "_view_name": "LayoutView",
            "align_content": null,
            "align_items": null,
            "align_self": null,
            "border": null,
            "bottom": null,
            "display": null,
            "flex": null,
            "flex_flow": null,
            "grid_area": null,
            "grid_auto_columns": null,
            "grid_auto_flow": null,
            "grid_auto_rows": null,
            "grid_column": null,
            "grid_gap": null,
            "grid_row": null,
            "grid_template_areas": null,
            "grid_template_columns": null,
            "grid_template_rows": null,
            "height": null,
            "justify_content": null,
            "justify_items": null,
            "left": null,
            "margin": null,
            "max_height": null,
            "max_width": null,
            "min_height": null,
            "min_width": null,
            "object_fit": null,
            "object_position": null,
            "order": null,
            "overflow": null,
            "overflow_x": null,
            "overflow_y": null,
            "padding": null,
            "right": null,
            "top": null,
            "visibility": null,
            "width": null
          }
        },
        "5cb47e14bc6140b18adbf04aa1a7a636": {
          "model_module": "@jupyter-widgets/base",
          "model_name": "LayoutModel",
          "model_module_version": "1.2.0",
          "state": {
            "_model_module": "@jupyter-widgets/base",
            "_model_module_version": "1.2.0",
            "_model_name": "LayoutModel",
            "_view_count": null,
            "_view_module": "@jupyter-widgets/base",
            "_view_module_version": "1.2.0",
            "_view_name": "LayoutView",
            "align_content": null,
            "align_items": null,
            "align_self": null,
            "border": null,
            "bottom": null,
            "display": null,
            "flex": null,
            "flex_flow": null,
            "grid_area": null,
            "grid_auto_columns": null,
            "grid_auto_flow": null,
            "grid_auto_rows": null,
            "grid_column": null,
            "grid_gap": null,
            "grid_row": null,
            "grid_template_areas": null,
            "grid_template_columns": null,
            "grid_template_rows": null,
            "height": null,
            "justify_content": null,
            "justify_items": null,
            "left": null,
            "margin": null,
            "max_height": null,
            "max_width": null,
            "min_height": null,
            "min_width": null,
            "object_fit": null,
            "object_position": null,
            "order": null,
            "overflow": null,
            "overflow_x": null,
            "overflow_y": null,
            "padding": null,
            "right": null,
            "top": null,
            "visibility": null,
            "width": null
          }
        },
        "aa538fc27f5842cdb265c19c4825b3e0": {
          "model_module": "@jupyter-widgets/controls",
          "model_name": "DescriptionStyleModel",
          "model_module_version": "1.5.0",
          "state": {
            "_model_module": "@jupyter-widgets/controls",
            "_model_module_version": "1.5.0",
            "_model_name": "DescriptionStyleModel",
            "_view_count": null,
            "_view_module": "@jupyter-widgets/base",
            "_view_module_version": "1.2.0",
            "_view_name": "StyleView",
            "description_width": ""
          }
        },
        "38cee1b97de4404a97a50833e91effe7": {
          "model_module": "@jupyter-widgets/base",
          "model_name": "LayoutModel",
          "model_module_version": "1.2.0",
          "state": {
            "_model_module": "@jupyter-widgets/base",
            "_model_module_version": "1.2.0",
            "_model_name": "LayoutModel",
            "_view_count": null,
            "_view_module": "@jupyter-widgets/base",
            "_view_module_version": "1.2.0",
            "_view_name": "LayoutView",
            "align_content": null,
            "align_items": null,
            "align_self": null,
            "border": null,
            "bottom": null,
            "display": null,
            "flex": null,
            "flex_flow": null,
            "grid_area": null,
            "grid_auto_columns": null,
            "grid_auto_flow": null,
            "grid_auto_rows": null,
            "grid_column": null,
            "grid_gap": null,
            "grid_row": null,
            "grid_template_areas": null,
            "grid_template_columns": null,
            "grid_template_rows": null,
            "height": null,
            "justify_content": null,
            "justify_items": null,
            "left": null,
            "margin": null,
            "max_height": null,
            "max_width": null,
            "min_height": null,
            "min_width": null,
            "object_fit": null,
            "object_position": null,
            "order": null,
            "overflow": null,
            "overflow_x": null,
            "overflow_y": null,
            "padding": null,
            "right": null,
            "top": null,
            "visibility": null,
            "width": null
          }
        },
        "70a349effa534a44b72be466a4808a8e": {
          "model_module": "@jupyter-widgets/controls",
          "model_name": "ProgressStyleModel",
          "model_module_version": "1.5.0",
          "state": {
            "_model_module": "@jupyter-widgets/controls",
            "_model_module_version": "1.5.0",
            "_model_name": "ProgressStyleModel",
            "_view_count": null,
            "_view_module": "@jupyter-widgets/base",
            "_view_module_version": "1.2.0",
            "_view_name": "StyleView",
            "bar_color": null,
            "description_width": ""
          }
        },
        "a89c441664d44da68535c696f0d31805": {
          "model_module": "@jupyter-widgets/base",
          "model_name": "LayoutModel",
          "model_module_version": "1.2.0",
          "state": {
            "_model_module": "@jupyter-widgets/base",
            "_model_module_version": "1.2.0",
            "_model_name": "LayoutModel",
            "_view_count": null,
            "_view_module": "@jupyter-widgets/base",
            "_view_module_version": "1.2.0",
            "_view_name": "LayoutView",
            "align_content": null,
            "align_items": null,
            "align_self": null,
            "border": null,
            "bottom": null,
            "display": null,
            "flex": null,
            "flex_flow": null,
            "grid_area": null,
            "grid_auto_columns": null,
            "grid_auto_flow": null,
            "grid_auto_rows": null,
            "grid_column": null,
            "grid_gap": null,
            "grid_row": null,
            "grid_template_areas": null,
            "grid_template_columns": null,
            "grid_template_rows": null,
            "height": null,
            "justify_content": null,
            "justify_items": null,
            "left": null,
            "margin": null,
            "max_height": null,
            "max_width": null,
            "min_height": null,
            "min_width": null,
            "object_fit": null,
            "object_position": null,
            "order": null,
            "overflow": null,
            "overflow_x": null,
            "overflow_y": null,
            "padding": null,
            "right": null,
            "top": null,
            "visibility": null,
            "width": null
          }
        },
        "973c4a4984544ecebf3fe637e4afef65": {
          "model_module": "@jupyter-widgets/controls",
          "model_name": "DescriptionStyleModel",
          "model_module_version": "1.5.0",
          "state": {
            "_model_module": "@jupyter-widgets/controls",
            "_model_module_version": "1.5.0",
            "_model_name": "DescriptionStyleModel",
            "_view_count": null,
            "_view_module": "@jupyter-widgets/base",
            "_view_module_version": "1.2.0",
            "_view_name": "StyleView",
            "description_width": ""
          }
        },
        "b2ad76bf7daa4836a4f9164cf75b90a3": {
          "model_module": "@jupyter-widgets/controls",
          "model_name": "HBoxModel",
          "model_module_version": "1.5.0",
          "state": {
            "_dom_classes": [],
            "_model_module": "@jupyter-widgets/controls",
            "_model_module_version": "1.5.0",
            "_model_name": "HBoxModel",
            "_view_count": null,
            "_view_module": "@jupyter-widgets/controls",
            "_view_module_version": "1.5.0",
            "_view_name": "HBoxView",
            "box_style": "",
            "children": [
              "IPY_MODEL_24ec8656add949bbb92c135e92bb52af",
              "IPY_MODEL_d0e6567669924c7c9bd1d516706f6588",
              "IPY_MODEL_00414f3805a84a2dadd2950ce20b76b9"
            ],
            "layout": "IPY_MODEL_a6c2117fc7d945d184c5f5c53fbf7dc9"
          }
        },
        "24ec8656add949bbb92c135e92bb52af": {
          "model_module": "@jupyter-widgets/controls",
          "model_name": "HTMLModel",
          "model_module_version": "1.5.0",
          "state": {
            "_dom_classes": [],
            "_model_module": "@jupyter-widgets/controls",
            "_model_module_version": "1.5.0",
            "_model_name": "HTMLModel",
            "_view_count": null,
            "_view_module": "@jupyter-widgets/controls",
            "_view_module_version": "1.5.0",
            "_view_name": "HTMLView",
            "description": "",
            "description_tooltip": null,
            "layout": "IPY_MODEL_4cd5fd02e42e4782999a6fed1111e818",
            "placeholder": "​",
            "style": "IPY_MODEL_2e3c80e050264368b095aa18e5de4fd9",
            "value": "Downloading config.json: 100%"
          }
        },
        "d0e6567669924c7c9bd1d516706f6588": {
          "model_module": "@jupyter-widgets/controls",
          "model_name": "FloatProgressModel",
          "model_module_version": "1.5.0",
          "state": {
            "_dom_classes": [],
            "_model_module": "@jupyter-widgets/controls",
            "_model_module_version": "1.5.0",
            "_model_name": "FloatProgressModel",
            "_view_count": null,
            "_view_module": "@jupyter-widgets/controls",
            "_view_module_version": "1.5.0",
            "_view_name": "ProgressView",
            "bar_style": "success",
            "description": "",
            "description_tooltip": null,
            "layout": "IPY_MODEL_6c777e4cc69346019f6b1836f99f1b81",
            "max": 953,
            "min": 0,
            "orientation": "horizontal",
            "style": "IPY_MODEL_4c910017bbb34ff2ae7838b9a30c614a",
            "value": 953
          }
        },
        "00414f3805a84a2dadd2950ce20b76b9": {
          "model_module": "@jupyter-widgets/controls",
          "model_name": "HTMLModel",
          "model_module_version": "1.5.0",
          "state": {
            "_dom_classes": [],
            "_model_module": "@jupyter-widgets/controls",
            "_model_module_version": "1.5.0",
            "_model_name": "HTMLModel",
            "_view_count": null,
            "_view_module": "@jupyter-widgets/controls",
            "_view_module_version": "1.5.0",
            "_view_name": "HTMLView",
            "description": "",
            "description_tooltip": null,
            "layout": "IPY_MODEL_85afe5bcddc748fda03450783c9032da",
            "placeholder": "​",
            "style": "IPY_MODEL_3051bf07f5a0453f859142e18246ea0e",
            "value": " 953/953 [00:00&lt;00:00, 21.7kB/s]"
          }
        },
        "a6c2117fc7d945d184c5f5c53fbf7dc9": {
          "model_module": "@jupyter-widgets/base",
          "model_name": "LayoutModel",
          "model_module_version": "1.2.0",
          "state": {
            "_model_module": "@jupyter-widgets/base",
            "_model_module_version": "1.2.0",
            "_model_name": "LayoutModel",
            "_view_count": null,
            "_view_module": "@jupyter-widgets/base",
            "_view_module_version": "1.2.0",
            "_view_name": "LayoutView",
            "align_content": null,
            "align_items": null,
            "align_self": null,
            "border": null,
            "bottom": null,
            "display": null,
            "flex": null,
            "flex_flow": null,
            "grid_area": null,
            "grid_auto_columns": null,
            "grid_auto_flow": null,
            "grid_auto_rows": null,
            "grid_column": null,
            "grid_gap": null,
            "grid_row": null,
            "grid_template_areas": null,
            "grid_template_columns": null,
            "grid_template_rows": null,
            "height": null,
            "justify_content": null,
            "justify_items": null,
            "left": null,
            "margin": null,
            "max_height": null,
            "max_width": null,
            "min_height": null,
            "min_width": null,
            "object_fit": null,
            "object_position": null,
            "order": null,
            "overflow": null,
            "overflow_x": null,
            "overflow_y": null,
            "padding": null,
            "right": null,
            "top": null,
            "visibility": null,
            "width": null
          }
        },
        "4cd5fd02e42e4782999a6fed1111e818": {
          "model_module": "@jupyter-widgets/base",
          "model_name": "LayoutModel",
          "model_module_version": "1.2.0",
          "state": {
            "_model_module": "@jupyter-widgets/base",
            "_model_module_version": "1.2.0",
            "_model_name": "LayoutModel",
            "_view_count": null,
            "_view_module": "@jupyter-widgets/base",
            "_view_module_version": "1.2.0",
            "_view_name": "LayoutView",
            "align_content": null,
            "align_items": null,
            "align_self": null,
            "border": null,
            "bottom": null,
            "display": null,
            "flex": null,
            "flex_flow": null,
            "grid_area": null,
            "grid_auto_columns": null,
            "grid_auto_flow": null,
            "grid_auto_rows": null,
            "grid_column": null,
            "grid_gap": null,
            "grid_row": null,
            "grid_template_areas": null,
            "grid_template_columns": null,
            "grid_template_rows": null,
            "height": null,
            "justify_content": null,
            "justify_items": null,
            "left": null,
            "margin": null,
            "max_height": null,
            "max_width": null,
            "min_height": null,
            "min_width": null,
            "object_fit": null,
            "object_position": null,
            "order": null,
            "overflow": null,
            "overflow_x": null,
            "overflow_y": null,
            "padding": null,
            "right": null,
            "top": null,
            "visibility": null,
            "width": null
          }
        },
        "2e3c80e050264368b095aa18e5de4fd9": {
          "model_module": "@jupyter-widgets/controls",
          "model_name": "DescriptionStyleModel",
          "model_module_version": "1.5.0",
          "state": {
            "_model_module": "@jupyter-widgets/controls",
            "_model_module_version": "1.5.0",
            "_model_name": "DescriptionStyleModel",
            "_view_count": null,
            "_view_module": "@jupyter-widgets/base",
            "_view_module_version": "1.2.0",
            "_view_name": "StyleView",
            "description_width": ""
          }
        },
        "6c777e4cc69346019f6b1836f99f1b81": {
          "model_module": "@jupyter-widgets/base",
          "model_name": "LayoutModel",
          "model_module_version": "1.2.0",
          "state": {
            "_model_module": "@jupyter-widgets/base",
            "_model_module_version": "1.2.0",
            "_model_name": "LayoutModel",
            "_view_count": null,
            "_view_module": "@jupyter-widgets/base",
            "_view_module_version": "1.2.0",
            "_view_name": "LayoutView",
            "align_content": null,
            "align_items": null,
            "align_self": null,
            "border": null,
            "bottom": null,
            "display": null,
            "flex": null,
            "flex_flow": null,
            "grid_area": null,
            "grid_auto_columns": null,
            "grid_auto_flow": null,
            "grid_auto_rows": null,
            "grid_column": null,
            "grid_gap": null,
            "grid_row": null,
            "grid_template_areas": null,
            "grid_template_columns": null,
            "grid_template_rows": null,
            "height": null,
            "justify_content": null,
            "justify_items": null,
            "left": null,
            "margin": null,
            "max_height": null,
            "max_width": null,
            "min_height": null,
            "min_width": null,
            "object_fit": null,
            "object_position": null,
            "order": null,
            "overflow": null,
            "overflow_x": null,
            "overflow_y": null,
            "padding": null,
            "right": null,
            "top": null,
            "visibility": null,
            "width": null
          }
        },
        "4c910017bbb34ff2ae7838b9a30c614a": {
          "model_module": "@jupyter-widgets/controls",
          "model_name": "ProgressStyleModel",
          "model_module_version": "1.5.0",
          "state": {
            "_model_module": "@jupyter-widgets/controls",
            "_model_module_version": "1.5.0",
            "_model_name": "ProgressStyleModel",
            "_view_count": null,
            "_view_module": "@jupyter-widgets/base",
            "_view_module_version": "1.2.0",
            "_view_name": "StyleView",
            "bar_color": null,
            "description_width": ""
          }
        },
        "85afe5bcddc748fda03450783c9032da": {
          "model_module": "@jupyter-widgets/base",
          "model_name": "LayoutModel",
          "model_module_version": "1.2.0",
          "state": {
            "_model_module": "@jupyter-widgets/base",
            "_model_module_version": "1.2.0",
            "_model_name": "LayoutModel",
            "_view_count": null,
            "_view_module": "@jupyter-widgets/base",
            "_view_module_version": "1.2.0",
            "_view_name": "LayoutView",
            "align_content": null,
            "align_items": null,
            "align_self": null,
            "border": null,
            "bottom": null,
            "display": null,
            "flex": null,
            "flex_flow": null,
            "grid_area": null,
            "grid_auto_columns": null,
            "grid_auto_flow": null,
            "grid_auto_rows": null,
            "grid_column": null,
            "grid_gap": null,
            "grid_row": null,
            "grid_template_areas": null,
            "grid_template_columns": null,
            "grid_template_rows": null,
            "height": null,
            "justify_content": null,
            "justify_items": null,
            "left": null,
            "margin": null,
            "max_height": null,
            "max_width": null,
            "min_height": null,
            "min_width": null,
            "object_fit": null,
            "object_position": null,
            "order": null,
            "overflow": null,
            "overflow_x": null,
            "overflow_y": null,
            "padding": null,
            "right": null,
            "top": null,
            "visibility": null,
            "width": null
          }
        },
        "3051bf07f5a0453f859142e18246ea0e": {
          "model_module": "@jupyter-widgets/controls",
          "model_name": "DescriptionStyleModel",
          "model_module_version": "1.5.0",
          "state": {
            "_model_module": "@jupyter-widgets/controls",
            "_model_module_version": "1.5.0",
            "_model_name": "DescriptionStyleModel",
            "_view_count": null,
            "_view_module": "@jupyter-widgets/base",
            "_view_module_version": "1.2.0",
            "_view_name": "StyleView",
            "description_width": ""
          }
        },
        "635f5042ccf74e92b9e361433a2435d7": {
          "model_module": "@jupyter-widgets/controls",
          "model_name": "HBoxModel",
          "model_module_version": "1.5.0",
          "state": {
            "_dom_classes": [],
            "_model_module": "@jupyter-widgets/controls",
            "_model_module_version": "1.5.0",
            "_model_name": "HBoxModel",
            "_view_count": null,
            "_view_module": "@jupyter-widgets/controls",
            "_view_module_version": "1.5.0",
            "_view_name": "HBoxView",
            "box_style": "",
            "children": [
              "IPY_MODEL_8bb7c6f846c34a73af8cf202030b1f38",
              "IPY_MODEL_8d681a40c9da4f6cbb5d816f2afe6447",
              "IPY_MODEL_db24bac8df754abc9a2d509751cc95b2"
            ],
            "layout": "IPY_MODEL_726ed71b48dd4acf89ad90303652c595"
          }
        },
        "8bb7c6f846c34a73af8cf202030b1f38": {
          "model_module": "@jupyter-widgets/controls",
          "model_name": "HTMLModel",
          "model_module_version": "1.5.0",
          "state": {
            "_dom_classes": [],
            "_model_module": "@jupyter-widgets/controls",
            "_model_module_version": "1.5.0",
            "_model_name": "HTMLModel",
            "_view_count": null,
            "_view_module": "@jupyter-widgets/controls",
            "_view_module_version": "1.5.0",
            "_view_name": "HTMLView",
            "description": "",
            "description_tooltip": null,
            "layout": "IPY_MODEL_f8ccc019493649eeac8ea80293676315",
            "placeholder": "​",
            "style": "IPY_MODEL_03b81dd84fd44c40a92f610dfbc9dd45",
            "value": "Downloading pytorch_model.bin: 100%"
          }
        },
        "8d681a40c9da4f6cbb5d816f2afe6447": {
          "model_module": "@jupyter-widgets/controls",
          "model_name": "FloatProgressModel",
          "model_module_version": "1.5.0",
          "state": {
            "_dom_classes": [],
            "_model_module": "@jupyter-widgets/controls",
            "_model_module_version": "1.5.0",
            "_model_name": "FloatProgressModel",
            "_view_count": null,
            "_view_module": "@jupyter-widgets/controls",
            "_view_module_version": "1.5.0",
            "_view_name": "ProgressView",
            "bar_style": "success",
            "description": "",
            "description_tooltip": null,
            "layout": "IPY_MODEL_c36afe9d547a43d6aa42d324aab74eaf",
            "max": 669491321,
            "min": 0,
            "orientation": "horizontal",
            "style": "IPY_MODEL_69addb155d5a413c9ce1c43b0c685a45",
            "value": 669491321
          }
        },
        "db24bac8df754abc9a2d509751cc95b2": {
          "model_module": "@jupyter-widgets/controls",
          "model_name": "HTMLModel",
          "model_module_version": "1.5.0",
          "state": {
            "_dom_classes": [],
            "_model_module": "@jupyter-widgets/controls",
            "_model_module_version": "1.5.0",
            "_model_name": "HTMLModel",
            "_view_count": null,
            "_view_module": "@jupyter-widgets/controls",
            "_view_module_version": "1.5.0",
            "_view_name": "HTMLView",
            "description": "",
            "description_tooltip": null,
            "layout": "IPY_MODEL_304152a62746478f9632fa11804b37a4",
            "placeholder": "​",
            "style": "IPY_MODEL_2308dae078f54f9991533ebb894206eb",
            "value": " 638M/638M [00:12&lt;00:00, 53.4MB/s]"
          }
        },
        "726ed71b48dd4acf89ad90303652c595": {
          "model_module": "@jupyter-widgets/base",
          "model_name": "LayoutModel",
          "model_module_version": "1.2.0",
          "state": {
            "_model_module": "@jupyter-widgets/base",
            "_model_module_version": "1.2.0",
            "_model_name": "LayoutModel",
            "_view_count": null,
            "_view_module": "@jupyter-widgets/base",
            "_view_module_version": "1.2.0",
            "_view_name": "LayoutView",
            "align_content": null,
            "align_items": null,
            "align_self": null,
            "border": null,
            "bottom": null,
            "display": null,
            "flex": null,
            "flex_flow": null,
            "grid_area": null,
            "grid_auto_columns": null,
            "grid_auto_flow": null,
            "grid_auto_rows": null,
            "grid_column": null,
            "grid_gap": null,
            "grid_row": null,
            "grid_template_areas": null,
            "grid_template_columns": null,
            "grid_template_rows": null,
            "height": null,
            "justify_content": null,
            "justify_items": null,
            "left": null,
            "margin": null,
            "max_height": null,
            "max_width": null,
            "min_height": null,
            "min_width": null,
            "object_fit": null,
            "object_position": null,
            "order": null,
            "overflow": null,
            "overflow_x": null,
            "overflow_y": null,
            "padding": null,
            "right": null,
            "top": null,
            "visibility": null,
            "width": null
          }
        },
        "f8ccc019493649eeac8ea80293676315": {
          "model_module": "@jupyter-widgets/base",
          "model_name": "LayoutModel",
          "model_module_version": "1.2.0",
          "state": {
            "_model_module": "@jupyter-widgets/base",
            "_model_module_version": "1.2.0",
            "_model_name": "LayoutModel",
            "_view_count": null,
            "_view_module": "@jupyter-widgets/base",
            "_view_module_version": "1.2.0",
            "_view_name": "LayoutView",
            "align_content": null,
            "align_items": null,
            "align_self": null,
            "border": null,
            "bottom": null,
            "display": null,
            "flex": null,
            "flex_flow": null,
            "grid_area": null,
            "grid_auto_columns": null,
            "grid_auto_flow": null,
            "grid_auto_rows": null,
            "grid_column": null,
            "grid_gap": null,
            "grid_row": null,
            "grid_template_areas": null,
            "grid_template_columns": null,
            "grid_template_rows": null,
            "height": null,
            "justify_content": null,
            "justify_items": null,
            "left": null,
            "margin": null,
            "max_height": null,
            "max_width": null,
            "min_height": null,
            "min_width": null,
            "object_fit": null,
            "object_position": null,
            "order": null,
            "overflow": null,
            "overflow_x": null,
            "overflow_y": null,
            "padding": null,
            "right": null,
            "top": null,
            "visibility": null,
            "width": null
          }
        },
        "03b81dd84fd44c40a92f610dfbc9dd45": {
          "model_module": "@jupyter-widgets/controls",
          "model_name": "DescriptionStyleModel",
          "model_module_version": "1.5.0",
          "state": {
            "_model_module": "@jupyter-widgets/controls",
            "_model_module_version": "1.5.0",
            "_model_name": "DescriptionStyleModel",
            "_view_count": null,
            "_view_module": "@jupyter-widgets/base",
            "_view_module_version": "1.2.0",
            "_view_name": "StyleView",
            "description_width": ""
          }
        },
        "c36afe9d547a43d6aa42d324aab74eaf": {
          "model_module": "@jupyter-widgets/base",
          "model_name": "LayoutModel",
          "model_module_version": "1.2.0",
          "state": {
            "_model_module": "@jupyter-widgets/base",
            "_model_module_version": "1.2.0",
            "_model_name": "LayoutModel",
            "_view_count": null,
            "_view_module": "@jupyter-widgets/base",
            "_view_module_version": "1.2.0",
            "_view_name": "LayoutView",
            "align_content": null,
            "align_items": null,
            "align_self": null,
            "border": null,
            "bottom": null,
            "display": null,
            "flex": null,
            "flex_flow": null,
            "grid_area": null,
            "grid_auto_columns": null,
            "grid_auto_flow": null,
            "grid_auto_rows": null,
            "grid_column": null,
            "grid_gap": null,
            "grid_row": null,
            "grid_template_areas": null,
            "grid_template_columns": null,
            "grid_template_rows": null,
            "height": null,
            "justify_content": null,
            "justify_items": null,
            "left": null,
            "margin": null,
            "max_height": null,
            "max_width": null,
            "min_height": null,
            "min_width": null,
            "object_fit": null,
            "object_position": null,
            "order": null,
            "overflow": null,
            "overflow_x": null,
            "overflow_y": null,
            "padding": null,
            "right": null,
            "top": null,
            "visibility": null,
            "width": null
          }
        },
        "69addb155d5a413c9ce1c43b0c685a45": {
          "model_module": "@jupyter-widgets/controls",
          "model_name": "ProgressStyleModel",
          "model_module_version": "1.5.0",
          "state": {
            "_model_module": "@jupyter-widgets/controls",
            "_model_module_version": "1.5.0",
            "_model_name": "ProgressStyleModel",
            "_view_count": null,
            "_view_module": "@jupyter-widgets/base",
            "_view_module_version": "1.2.0",
            "_view_name": "StyleView",
            "bar_color": null,
            "description_width": ""
          }
        },
        "304152a62746478f9632fa11804b37a4": {
          "model_module": "@jupyter-widgets/base",
          "model_name": "LayoutModel",
          "model_module_version": "1.2.0",
          "state": {
            "_model_module": "@jupyter-widgets/base",
            "_model_module_version": "1.2.0",
            "_model_name": "LayoutModel",
            "_view_count": null,
            "_view_module": "@jupyter-widgets/base",
            "_view_module_version": "1.2.0",
            "_view_name": "LayoutView",
            "align_content": null,
            "align_items": null,
            "align_self": null,
            "border": null,
            "bottom": null,
            "display": null,
            "flex": null,
            "flex_flow": null,
            "grid_area": null,
            "grid_auto_columns": null,
            "grid_auto_flow": null,
            "grid_auto_rows": null,
            "grid_column": null,
            "grid_gap": null,
            "grid_row": null,
            "grid_template_areas": null,
            "grid_template_columns": null,
            "grid_template_rows": null,
            "height": null,
            "justify_content": null,
            "justify_items": null,
            "left": null,
            "margin": null,
            "max_height": null,
            "max_width": null,
            "min_height": null,
            "min_width": null,
            "object_fit": null,
            "object_position": null,
            "order": null,
            "overflow": null,
            "overflow_x": null,
            "overflow_y": null,
            "padding": null,
            "right": null,
            "top": null,
            "visibility": null,
            "width": null
          }
        },
        "2308dae078f54f9991533ebb894206eb": {
          "model_module": "@jupyter-widgets/controls",
          "model_name": "DescriptionStyleModel",
          "model_module_version": "1.5.0",
          "state": {
            "_model_module": "@jupyter-widgets/controls",
            "_model_module_version": "1.5.0",
            "_model_name": "DescriptionStyleModel",
            "_view_count": null,
            "_view_module": "@jupyter-widgets/base",
            "_view_module_version": "1.2.0",
            "_view_name": "StyleView",
            "description_width": ""
          }
        },
        "16846841c3f54414b04eedbd187b2608": {
          "model_module": "@jupyter-widgets/controls",
          "model_name": "HBoxModel",
          "model_module_version": "1.5.0",
          "state": {
            "_dom_classes": [],
            "_model_module": "@jupyter-widgets/controls",
            "_model_module_version": "1.5.0",
            "_model_name": "HBoxModel",
            "_view_count": null,
            "_view_module": "@jupyter-widgets/controls",
            "_view_module_version": "1.5.0",
            "_view_name": "HBoxView",
            "box_style": "",
            "children": [
              "IPY_MODEL_a0de4aa158f2455fa8769d47aeec667b",
              "IPY_MODEL_d2a6a7e4a25d41a0921629487804ccff",
              "IPY_MODEL_82337e17032c4a608bdc0c695e6208e4"
            ],
            "layout": "IPY_MODEL_c2e5dd0985e74aa193f69073e4ddce4c"
          }
        },
        "a0de4aa158f2455fa8769d47aeec667b": {
          "model_module": "@jupyter-widgets/controls",
          "model_name": "HTMLModel",
          "model_module_version": "1.5.0",
          "state": {
            "_dom_classes": [],
            "_model_module": "@jupyter-widgets/controls",
            "_model_module_version": "1.5.0",
            "_model_name": "HTMLModel",
            "_view_count": null,
            "_view_module": "@jupyter-widgets/controls",
            "_view_module_version": "1.5.0",
            "_view_name": "HTMLView",
            "description": "",
            "description_tooltip": null,
            "layout": "IPY_MODEL_b2a55fdcf2c74df29293bafc11894001",
            "placeholder": "​",
            "style": "IPY_MODEL_3f0049447c2d4c238229d78addbd2fa9",
            "value": "Downloading tokenizer_config.json: 100%"
          }
        },
        "d2a6a7e4a25d41a0921629487804ccff": {
          "model_module": "@jupyter-widgets/controls",
          "model_name": "FloatProgressModel",
          "model_module_version": "1.5.0",
          "state": {
            "_dom_classes": [],
            "_model_module": "@jupyter-widgets/controls",
            "_model_module_version": "1.5.0",
            "_model_name": "FloatProgressModel",
            "_view_count": null,
            "_view_module": "@jupyter-widgets/controls",
            "_view_module_version": "1.5.0",
            "_view_name": "ProgressView",
            "bar_style": "success",
            "description": "",
            "description_tooltip": null,
            "layout": "IPY_MODEL_cddacb22673040fda0765e0d3727cb55",
            "max": 39,
            "min": 0,
            "orientation": "horizontal",
            "style": "IPY_MODEL_ad3e8f9267264b61a7be8e22dcb6128d",
            "value": 39
          }
        },
        "82337e17032c4a608bdc0c695e6208e4": {
          "model_module": "@jupyter-widgets/controls",
          "model_name": "HTMLModel",
          "model_module_version": "1.5.0",
          "state": {
            "_dom_classes": [],
            "_model_module": "@jupyter-widgets/controls",
            "_model_module_version": "1.5.0",
            "_model_name": "HTMLModel",
            "_view_count": null,
            "_view_module": "@jupyter-widgets/controls",
            "_view_module_version": "1.5.0",
            "_view_name": "HTMLView",
            "description": "",
            "description_tooltip": null,
            "layout": "IPY_MODEL_0d190018a7bc4bafb899af37ee76ef20",
            "placeholder": "​",
            "style": "IPY_MODEL_2a2f3c272368467fab457dd7e02ffe23",
            "value": " 39.0/39.0 [00:00&lt;00:00, 1.22kB/s]"
          }
        },
        "c2e5dd0985e74aa193f69073e4ddce4c": {
          "model_module": "@jupyter-widgets/base",
          "model_name": "LayoutModel",
          "model_module_version": "1.2.0",
          "state": {
            "_model_module": "@jupyter-widgets/base",
            "_model_module_version": "1.2.0",
            "_model_name": "LayoutModel",
            "_view_count": null,
            "_view_module": "@jupyter-widgets/base",
            "_view_module_version": "1.2.0",
            "_view_name": "LayoutView",
            "align_content": null,
            "align_items": null,
            "align_self": null,
            "border": null,
            "bottom": null,
            "display": null,
            "flex": null,
            "flex_flow": null,
            "grid_area": null,
            "grid_auto_columns": null,
            "grid_auto_flow": null,
            "grid_auto_rows": null,
            "grid_column": null,
            "grid_gap": null,
            "grid_row": null,
            "grid_template_areas": null,
            "grid_template_columns": null,
            "grid_template_rows": null,
            "height": null,
            "justify_content": null,
            "justify_items": null,
            "left": null,
            "margin": null,
            "max_height": null,
            "max_width": null,
            "min_height": null,
            "min_width": null,
            "object_fit": null,
            "object_position": null,
            "order": null,
            "overflow": null,
            "overflow_x": null,
            "overflow_y": null,
            "padding": null,
            "right": null,
            "top": null,
            "visibility": null,
            "width": null
          }
        },
        "b2a55fdcf2c74df29293bafc11894001": {
          "model_module": "@jupyter-widgets/base",
          "model_name": "LayoutModel",
          "model_module_version": "1.2.0",
          "state": {
            "_model_module": "@jupyter-widgets/base",
            "_model_module_version": "1.2.0",
            "_model_name": "LayoutModel",
            "_view_count": null,
            "_view_module": "@jupyter-widgets/base",
            "_view_module_version": "1.2.0",
            "_view_name": "LayoutView",
            "align_content": null,
            "align_items": null,
            "align_self": null,
            "border": null,
            "bottom": null,
            "display": null,
            "flex": null,
            "flex_flow": null,
            "grid_area": null,
            "grid_auto_columns": null,
            "grid_auto_flow": null,
            "grid_auto_rows": null,
            "grid_column": null,
            "grid_gap": null,
            "grid_row": null,
            "grid_template_areas": null,
            "grid_template_columns": null,
            "grid_template_rows": null,
            "height": null,
            "justify_content": null,
            "justify_items": null,
            "left": null,
            "margin": null,
            "max_height": null,
            "max_width": null,
            "min_height": null,
            "min_width": null,
            "object_fit": null,
            "object_position": null,
            "order": null,
            "overflow": null,
            "overflow_x": null,
            "overflow_y": null,
            "padding": null,
            "right": null,
            "top": null,
            "visibility": null,
            "width": null
          }
        },
        "3f0049447c2d4c238229d78addbd2fa9": {
          "model_module": "@jupyter-widgets/controls",
          "model_name": "DescriptionStyleModel",
          "model_module_version": "1.5.0",
          "state": {
            "_model_module": "@jupyter-widgets/controls",
            "_model_module_version": "1.5.0",
            "_model_name": "DescriptionStyleModel",
            "_view_count": null,
            "_view_module": "@jupyter-widgets/base",
            "_view_module_version": "1.2.0",
            "_view_name": "StyleView",
            "description_width": ""
          }
        },
        "cddacb22673040fda0765e0d3727cb55": {
          "model_module": "@jupyter-widgets/base",
          "model_name": "LayoutModel",
          "model_module_version": "1.2.0",
          "state": {
            "_model_module": "@jupyter-widgets/base",
            "_model_module_version": "1.2.0",
            "_model_name": "LayoutModel",
            "_view_count": null,
            "_view_module": "@jupyter-widgets/base",
            "_view_module_version": "1.2.0",
            "_view_name": "LayoutView",
            "align_content": null,
            "align_items": null,
            "align_self": null,
            "border": null,
            "bottom": null,
            "display": null,
            "flex": null,
            "flex_flow": null,
            "grid_area": null,
            "grid_auto_columns": null,
            "grid_auto_flow": null,
            "grid_auto_rows": null,
            "grid_column": null,
            "grid_gap": null,
            "grid_row": null,
            "grid_template_areas": null,
            "grid_template_columns": null,
            "grid_template_rows": null,
            "height": null,
            "justify_content": null,
            "justify_items": null,
            "left": null,
            "margin": null,
            "max_height": null,
            "max_width": null,
            "min_height": null,
            "min_width": null,
            "object_fit": null,
            "object_position": null,
            "order": null,
            "overflow": null,
            "overflow_x": null,
            "overflow_y": null,
            "padding": null,
            "right": null,
            "top": null,
            "visibility": null,
            "width": null
          }
        },
        "ad3e8f9267264b61a7be8e22dcb6128d": {
          "model_module": "@jupyter-widgets/controls",
          "model_name": "ProgressStyleModel",
          "model_module_version": "1.5.0",
          "state": {
            "_model_module": "@jupyter-widgets/controls",
            "_model_module_version": "1.5.0",
            "_model_name": "ProgressStyleModel",
            "_view_count": null,
            "_view_module": "@jupyter-widgets/base",
            "_view_module_version": "1.2.0",
            "_view_name": "StyleView",
            "bar_color": null,
            "description_width": ""
          }
        },
        "0d190018a7bc4bafb899af37ee76ef20": {
          "model_module": "@jupyter-widgets/base",
          "model_name": "LayoutModel",
          "model_module_version": "1.2.0",
          "state": {
            "_model_module": "@jupyter-widgets/base",
            "_model_module_version": "1.2.0",
            "_model_name": "LayoutModel",
            "_view_count": null,
            "_view_module": "@jupyter-widgets/base",
            "_view_module_version": "1.2.0",
            "_view_name": "LayoutView",
            "align_content": null,
            "align_items": null,
            "align_self": null,
            "border": null,
            "bottom": null,
            "display": null,
            "flex": null,
            "flex_flow": null,
            "grid_area": null,
            "grid_auto_columns": null,
            "grid_auto_flow": null,
            "grid_auto_rows": null,
            "grid_column": null,
            "grid_gap": null,
            "grid_row": null,
            "grid_template_areas": null,
            "grid_template_columns": null,
            "grid_template_rows": null,
            "height": null,
            "justify_content": null,
            "justify_items": null,
            "left": null,
            "margin": null,
            "max_height": null,
            "max_width": null,
            "min_height": null,
            "min_width": null,
            "object_fit": null,
            "object_position": null,
            "order": null,
            "overflow": null,
            "overflow_x": null,
            "overflow_y": null,
            "padding": null,
            "right": null,
            "top": null,
            "visibility": null,
            "width": null
          }
        },
        "2a2f3c272368467fab457dd7e02ffe23": {
          "model_module": "@jupyter-widgets/controls",
          "model_name": "DescriptionStyleModel",
          "model_module_version": "1.5.0",
          "state": {
            "_model_module": "@jupyter-widgets/controls",
            "_model_module_version": "1.5.0",
            "_model_name": "DescriptionStyleModel",
            "_view_count": null,
            "_view_module": "@jupyter-widgets/base",
            "_view_module_version": "1.2.0",
            "_view_name": "StyleView",
            "description_width": ""
          }
        },
        "6c5ef488c7d141ed8d20a69edea0d153": {
          "model_module": "@jupyter-widgets/controls",
          "model_name": "HBoxModel",
          "model_module_version": "1.5.0",
          "state": {
            "_dom_classes": [],
            "_model_module": "@jupyter-widgets/controls",
            "_model_module_version": "1.5.0",
            "_model_name": "HBoxModel",
            "_view_count": null,
            "_view_module": "@jupyter-widgets/controls",
            "_view_module_version": "1.5.0",
            "_view_name": "HBoxView",
            "box_style": "",
            "children": [
              "IPY_MODEL_ce52ad06a74148ca9fd1be1da6a8f672",
              "IPY_MODEL_18b542deecb3438ba53b904f9276e4be",
              "IPY_MODEL_0092817327f14044bed708a566bc20fe"
            ],
            "layout": "IPY_MODEL_c5ce4e32485141e6b46799bc81d1340b"
          }
        },
        "ce52ad06a74148ca9fd1be1da6a8f672": {
          "model_module": "@jupyter-widgets/controls",
          "model_name": "HTMLModel",
          "model_module_version": "1.5.0",
          "state": {
            "_dom_classes": [],
            "_model_module": "@jupyter-widgets/controls",
            "_model_module_version": "1.5.0",
            "_model_name": "HTMLModel",
            "_view_count": null,
            "_view_module": "@jupyter-widgets/controls",
            "_view_module_version": "1.5.0",
            "_view_name": "HTMLView",
            "description": "",
            "description_tooltip": null,
            "layout": "IPY_MODEL_69bbc9b49db4400f844c688e01a779bd",
            "placeholder": "​",
            "style": "IPY_MODEL_c1aaf8ce9be640cd930934f9e47299a1",
            "value": "Downloading vocab.txt: 100%"
          }
        },
        "18b542deecb3438ba53b904f9276e4be": {
          "model_module": "@jupyter-widgets/controls",
          "model_name": "FloatProgressModel",
          "model_module_version": "1.5.0",
          "state": {
            "_dom_classes": [],
            "_model_module": "@jupyter-widgets/controls",
            "_model_module_version": "1.5.0",
            "_model_name": "FloatProgressModel",
            "_view_count": null,
            "_view_module": "@jupyter-widgets/controls",
            "_view_module_version": "1.5.0",
            "_view_name": "ProgressView",
            "bar_style": "success",
            "description": "",
            "description_tooltip": null,
            "layout": "IPY_MODEL_640d9e2a12014a92af74b793acfb1466",
            "max": 871891,
            "min": 0,
            "orientation": "horizontal",
            "style": "IPY_MODEL_11a163be4ed74fb6b62c3e09208f84bc",
            "value": 871891
          }
        },
        "0092817327f14044bed708a566bc20fe": {
          "model_module": "@jupyter-widgets/controls",
          "model_name": "HTMLModel",
          "model_module_version": "1.5.0",
          "state": {
            "_dom_classes": [],
            "_model_module": "@jupyter-widgets/controls",
            "_model_module_version": "1.5.0",
            "_model_name": "HTMLModel",
            "_view_count": null,
            "_view_module": "@jupyter-widgets/controls",
            "_view_module_version": "1.5.0",
            "_view_name": "HTMLView",
            "description": "",
            "description_tooltip": null,
            "layout": "IPY_MODEL_99ae589e65024f11812f2e3ef21a267b",
            "placeholder": "​",
            "style": "IPY_MODEL_2e6694ccd7f749c1962d5b22438f8eba",
            "value": " 851k/851k [00:00&lt;00:00, 2.05MB/s]"
          }
        },
        "c5ce4e32485141e6b46799bc81d1340b": {
          "model_module": "@jupyter-widgets/base",
          "model_name": "LayoutModel",
          "model_module_version": "1.2.0",
          "state": {
            "_model_module": "@jupyter-widgets/base",
            "_model_module_version": "1.2.0",
            "_model_name": "LayoutModel",
            "_view_count": null,
            "_view_module": "@jupyter-widgets/base",
            "_view_module_version": "1.2.0",
            "_view_name": "LayoutView",
            "align_content": null,
            "align_items": null,
            "align_self": null,
            "border": null,
            "bottom": null,
            "display": null,
            "flex": null,
            "flex_flow": null,
            "grid_area": null,
            "grid_auto_columns": null,
            "grid_auto_flow": null,
            "grid_auto_rows": null,
            "grid_column": null,
            "grid_gap": null,
            "grid_row": null,
            "grid_template_areas": null,
            "grid_template_columns": null,
            "grid_template_rows": null,
            "height": null,
            "justify_content": null,
            "justify_items": null,
            "left": null,
            "margin": null,
            "max_height": null,
            "max_width": null,
            "min_height": null,
            "min_width": null,
            "object_fit": null,
            "object_position": null,
            "order": null,
            "overflow": null,
            "overflow_x": null,
            "overflow_y": null,
            "padding": null,
            "right": null,
            "top": null,
            "visibility": null,
            "width": null
          }
        },
        "69bbc9b49db4400f844c688e01a779bd": {
          "model_module": "@jupyter-widgets/base",
          "model_name": "LayoutModel",
          "model_module_version": "1.2.0",
          "state": {
            "_model_module": "@jupyter-widgets/base",
            "_model_module_version": "1.2.0",
            "_model_name": "LayoutModel",
            "_view_count": null,
            "_view_module": "@jupyter-widgets/base",
            "_view_module_version": "1.2.0",
            "_view_name": "LayoutView",
            "align_content": null,
            "align_items": null,
            "align_self": null,
            "border": null,
            "bottom": null,
            "display": null,
            "flex": null,
            "flex_flow": null,
            "grid_area": null,
            "grid_auto_columns": null,
            "grid_auto_flow": null,
            "grid_auto_rows": null,
            "grid_column": null,
            "grid_gap": null,
            "grid_row": null,
            "grid_template_areas": null,
            "grid_template_columns": null,
            "grid_template_rows": null,
            "height": null,
            "justify_content": null,
            "justify_items": null,
            "left": null,
            "margin": null,
            "max_height": null,
            "max_width": null,
            "min_height": null,
            "min_width": null,
            "object_fit": null,
            "object_position": null,
            "order": null,
            "overflow": null,
            "overflow_x": null,
            "overflow_y": null,
            "padding": null,
            "right": null,
            "top": null,
            "visibility": null,
            "width": null
          }
        },
        "c1aaf8ce9be640cd930934f9e47299a1": {
          "model_module": "@jupyter-widgets/controls",
          "model_name": "DescriptionStyleModel",
          "model_module_version": "1.5.0",
          "state": {
            "_model_module": "@jupyter-widgets/controls",
            "_model_module_version": "1.5.0",
            "_model_name": "DescriptionStyleModel",
            "_view_count": null,
            "_view_module": "@jupyter-widgets/base",
            "_view_module_version": "1.2.0",
            "_view_name": "StyleView",
            "description_width": ""
          }
        },
        "640d9e2a12014a92af74b793acfb1466": {
          "model_module": "@jupyter-widgets/base",
          "model_name": "LayoutModel",
          "model_module_version": "1.2.0",
          "state": {
            "_model_module": "@jupyter-widgets/base",
            "_model_module_version": "1.2.0",
            "_model_name": "LayoutModel",
            "_view_count": null,
            "_view_module": "@jupyter-widgets/base",
            "_view_module_version": "1.2.0",
            "_view_name": "LayoutView",
            "align_content": null,
            "align_items": null,
            "align_self": null,
            "border": null,
            "bottom": null,
            "display": null,
            "flex": null,
            "flex_flow": null,
            "grid_area": null,
            "grid_auto_columns": null,
            "grid_auto_flow": null,
            "grid_auto_rows": null,
            "grid_column": null,
            "grid_gap": null,
            "grid_row": null,
            "grid_template_areas": null,
            "grid_template_columns": null,
            "grid_template_rows": null,
            "height": null,
            "justify_content": null,
            "justify_items": null,
            "left": null,
            "margin": null,
            "max_height": null,
            "max_width": null,
            "min_height": null,
            "min_width": null,
            "object_fit": null,
            "object_position": null,
            "order": null,
            "overflow": null,
            "overflow_x": null,
            "overflow_y": null,
            "padding": null,
            "right": null,
            "top": null,
            "visibility": null,
            "width": null
          }
        },
        "11a163be4ed74fb6b62c3e09208f84bc": {
          "model_module": "@jupyter-widgets/controls",
          "model_name": "ProgressStyleModel",
          "model_module_version": "1.5.0",
          "state": {
            "_model_module": "@jupyter-widgets/controls",
            "_model_module_version": "1.5.0",
            "_model_name": "ProgressStyleModel",
            "_view_count": null,
            "_view_module": "@jupyter-widgets/base",
            "_view_module_version": "1.2.0",
            "_view_name": "StyleView",
            "bar_color": null,
            "description_width": ""
          }
        },
        "99ae589e65024f11812f2e3ef21a267b": {
          "model_module": "@jupyter-widgets/base",
          "model_name": "LayoutModel",
          "model_module_version": "1.2.0",
          "state": {
            "_model_module": "@jupyter-widgets/base",
            "_model_module_version": "1.2.0",
            "_model_name": "LayoutModel",
            "_view_count": null,
            "_view_module": "@jupyter-widgets/base",
            "_view_module_version": "1.2.0",
            "_view_name": "LayoutView",
            "align_content": null,
            "align_items": null,
            "align_self": null,
            "border": null,
            "bottom": null,
            "display": null,
            "flex": null,
            "flex_flow": null,
            "grid_area": null,
            "grid_auto_columns": null,
            "grid_auto_flow": null,
            "grid_auto_rows": null,
            "grid_column": null,
            "grid_gap": null,
            "grid_row": null,
            "grid_template_areas": null,
            "grid_template_columns": null,
            "grid_template_rows": null,
            "height": null,
            "justify_content": null,
            "justify_items": null,
            "left": null,
            "margin": null,
            "max_height": null,
            "max_width": null,
            "min_height": null,
            "min_width": null,
            "object_fit": null,
            "object_position": null,
            "order": null,
            "overflow": null,
            "overflow_x": null,
            "overflow_y": null,
            "padding": null,
            "right": null,
            "top": null,
            "visibility": null,
            "width": null
          }
        },
        "2e6694ccd7f749c1962d5b22438f8eba": {
          "model_module": "@jupyter-widgets/controls",
          "model_name": "DescriptionStyleModel",
          "model_module_version": "1.5.0",
          "state": {
            "_model_module": "@jupyter-widgets/controls",
            "_model_module_version": "1.5.0",
            "_model_name": "DescriptionStyleModel",
            "_view_count": null,
            "_view_module": "@jupyter-widgets/base",
            "_view_module_version": "1.2.0",
            "_view_name": "StyleView",
            "description_width": ""
          }
        },
        "33c3c751583845f5b4cefb93ca7e3121": {
          "model_module": "@jupyter-widgets/controls",
          "model_name": "HBoxModel",
          "model_module_version": "1.5.0",
          "state": {
            "_dom_classes": [],
            "_model_module": "@jupyter-widgets/controls",
            "_model_module_version": "1.5.0",
            "_model_name": "HBoxModel",
            "_view_count": null,
            "_view_module": "@jupyter-widgets/controls",
            "_view_module_version": "1.5.0",
            "_view_name": "HBoxView",
            "box_style": "",
            "children": [
              "IPY_MODEL_2e8d45af705840e5b0caf174e7df90dc",
              "IPY_MODEL_e4619312591042d98db0ac8adc2cae8f",
              "IPY_MODEL_1269d0d1865c433583dc90b1478111f0"
            ],
            "layout": "IPY_MODEL_ad0a44a1995e49d3a7e855c3b4901f8d"
          }
        },
        "2e8d45af705840e5b0caf174e7df90dc": {
          "model_module": "@jupyter-widgets/controls",
          "model_name": "HTMLModel",
          "model_module_version": "1.5.0",
          "state": {
            "_dom_classes": [],
            "_model_module": "@jupyter-widgets/controls",
            "_model_module_version": "1.5.0",
            "_model_name": "HTMLModel",
            "_view_count": null,
            "_view_module": "@jupyter-widgets/controls",
            "_view_module_version": "1.5.0",
            "_view_name": "HTMLView",
            "description": "",
            "description_tooltip": null,
            "layout": "IPY_MODEL_9cc33325f43f4e0ebdf36d8753b4dd51",
            "placeholder": "​",
            "style": "IPY_MODEL_24ded26b1dd64402a67da125cf1945a1",
            "value": "Downloading special_tokens_map.json: 100%"
          }
        },
        "e4619312591042d98db0ac8adc2cae8f": {
          "model_module": "@jupyter-widgets/controls",
          "model_name": "FloatProgressModel",
          "model_module_version": "1.5.0",
          "state": {
            "_dom_classes": [],
            "_model_module": "@jupyter-widgets/controls",
            "_model_module_version": "1.5.0",
            "_model_name": "FloatProgressModel",
            "_view_count": null,
            "_view_module": "@jupyter-widgets/controls",
            "_view_module_version": "1.5.0",
            "_view_name": "ProgressView",
            "bar_style": "success",
            "description": "",
            "description_tooltip": null,
            "layout": "IPY_MODEL_d5120d92fb874d7d8cbbfefdfc21d8cd",
            "max": 112,
            "min": 0,
            "orientation": "horizontal",
            "style": "IPY_MODEL_0ad44eb400c944d180eb42575f2a19e7",
            "value": 112
          }
        },
        "1269d0d1865c433583dc90b1478111f0": {
          "model_module": "@jupyter-widgets/controls",
          "model_name": "HTMLModel",
          "model_module_version": "1.5.0",
          "state": {
            "_dom_classes": [],
            "_model_module": "@jupyter-widgets/controls",
            "_model_module_version": "1.5.0",
            "_model_name": "HTMLModel",
            "_view_count": null,
            "_view_module": "@jupyter-widgets/controls",
            "_view_module_version": "1.5.0",
            "_view_name": "HTMLView",
            "description": "",
            "description_tooltip": null,
            "layout": "IPY_MODEL_bcb1cec5e79549af997622661aa1170e",
            "placeholder": "​",
            "style": "IPY_MODEL_c34ed667175c4c158cd9258181e18922",
            "value": " 112/112 [00:00&lt;00:00, 3.46kB/s]"
          }
        },
        "ad0a44a1995e49d3a7e855c3b4901f8d": {
          "model_module": "@jupyter-widgets/base",
          "model_name": "LayoutModel",
          "model_module_version": "1.2.0",
          "state": {
            "_model_module": "@jupyter-widgets/base",
            "_model_module_version": "1.2.0",
            "_model_name": "LayoutModel",
            "_view_count": null,
            "_view_module": "@jupyter-widgets/base",
            "_view_module_version": "1.2.0",
            "_view_name": "LayoutView",
            "align_content": null,
            "align_items": null,
            "align_self": null,
            "border": null,
            "bottom": null,
            "display": null,
            "flex": null,
            "flex_flow": null,
            "grid_area": null,
            "grid_auto_columns": null,
            "grid_auto_flow": null,
            "grid_auto_rows": null,
            "grid_column": null,
            "grid_gap": null,
            "grid_row": null,
            "grid_template_areas": null,
            "grid_template_columns": null,
            "grid_template_rows": null,
            "height": null,
            "justify_content": null,
            "justify_items": null,
            "left": null,
            "margin": null,
            "max_height": null,
            "max_width": null,
            "min_height": null,
            "min_width": null,
            "object_fit": null,
            "object_position": null,
            "order": null,
            "overflow": null,
            "overflow_x": null,
            "overflow_y": null,
            "padding": null,
            "right": null,
            "top": null,
            "visibility": null,
            "width": null
          }
        },
        "9cc33325f43f4e0ebdf36d8753b4dd51": {
          "model_module": "@jupyter-widgets/base",
          "model_name": "LayoutModel",
          "model_module_version": "1.2.0",
          "state": {
            "_model_module": "@jupyter-widgets/base",
            "_model_module_version": "1.2.0",
            "_model_name": "LayoutModel",
            "_view_count": null,
            "_view_module": "@jupyter-widgets/base",
            "_view_module_version": "1.2.0",
            "_view_name": "LayoutView",
            "align_content": null,
            "align_items": null,
            "align_self": null,
            "border": null,
            "bottom": null,
            "display": null,
            "flex": null,
            "flex_flow": null,
            "grid_area": null,
            "grid_auto_columns": null,
            "grid_auto_flow": null,
            "grid_auto_rows": null,
            "grid_column": null,
            "grid_gap": null,
            "grid_row": null,
            "grid_template_areas": null,
            "grid_template_columns": null,
            "grid_template_rows": null,
            "height": null,
            "justify_content": null,
            "justify_items": null,
            "left": null,
            "margin": null,
            "max_height": null,
            "max_width": null,
            "min_height": null,
            "min_width": null,
            "object_fit": null,
            "object_position": null,
            "order": null,
            "overflow": null,
            "overflow_x": null,
            "overflow_y": null,
            "padding": null,
            "right": null,
            "top": null,
            "visibility": null,
            "width": null
          }
        },
        "24ded26b1dd64402a67da125cf1945a1": {
          "model_module": "@jupyter-widgets/controls",
          "model_name": "DescriptionStyleModel",
          "model_module_version": "1.5.0",
          "state": {
            "_model_module": "@jupyter-widgets/controls",
            "_model_module_version": "1.5.0",
            "_model_name": "DescriptionStyleModel",
            "_view_count": null,
            "_view_module": "@jupyter-widgets/base",
            "_view_module_version": "1.2.0",
            "_view_name": "StyleView",
            "description_width": ""
          }
        },
        "d5120d92fb874d7d8cbbfefdfc21d8cd": {
          "model_module": "@jupyter-widgets/base",
          "model_name": "LayoutModel",
          "model_module_version": "1.2.0",
          "state": {
            "_model_module": "@jupyter-widgets/base",
            "_model_module_version": "1.2.0",
            "_model_name": "LayoutModel",
            "_view_count": null,
            "_view_module": "@jupyter-widgets/base",
            "_view_module_version": "1.2.0",
            "_view_name": "LayoutView",
            "align_content": null,
            "align_items": null,
            "align_self": null,
            "border": null,
            "bottom": null,
            "display": null,
            "flex": null,
            "flex_flow": null,
            "grid_area": null,
            "grid_auto_columns": null,
            "grid_auto_flow": null,
            "grid_auto_rows": null,
            "grid_column": null,
            "grid_gap": null,
            "grid_row": null,
            "grid_template_areas": null,
            "grid_template_columns": null,
            "grid_template_rows": null,
            "height": null,
            "justify_content": null,
            "justify_items": null,
            "left": null,
            "margin": null,
            "max_height": null,
            "max_width": null,
            "min_height": null,
            "min_width": null,
            "object_fit": null,
            "object_position": null,
            "order": null,
            "overflow": null,
            "overflow_x": null,
            "overflow_y": null,
            "padding": null,
            "right": null,
            "top": null,
            "visibility": null,
            "width": null
          }
        },
        "0ad44eb400c944d180eb42575f2a19e7": {
          "model_module": "@jupyter-widgets/controls",
          "model_name": "ProgressStyleModel",
          "model_module_version": "1.5.0",
          "state": {
            "_model_module": "@jupyter-widgets/controls",
            "_model_module_version": "1.5.0",
            "_model_name": "ProgressStyleModel",
            "_view_count": null,
            "_view_module": "@jupyter-widgets/base",
            "_view_module_version": "1.2.0",
            "_view_name": "StyleView",
            "bar_color": null,
            "description_width": ""
          }
        },
        "bcb1cec5e79549af997622661aa1170e": {
          "model_module": "@jupyter-widgets/base",
          "model_name": "LayoutModel",
          "model_module_version": "1.2.0",
          "state": {
            "_model_module": "@jupyter-widgets/base",
            "_model_module_version": "1.2.0",
            "_model_name": "LayoutModel",
            "_view_count": null,
            "_view_module": "@jupyter-widgets/base",
            "_view_module_version": "1.2.0",
            "_view_name": "LayoutView",
            "align_content": null,
            "align_items": null,
            "align_self": null,
            "border": null,
            "bottom": null,
            "display": null,
            "flex": null,
            "flex_flow": null,
            "grid_area": null,
            "grid_auto_columns": null,
            "grid_auto_flow": null,
            "grid_auto_rows": null,
            "grid_column": null,
            "grid_gap": null,
            "grid_row": null,
            "grid_template_areas": null,
            "grid_template_columns": null,
            "grid_template_rows": null,
            "height": null,
            "justify_content": null,
            "justify_items": null,
            "left": null,
            "margin": null,
            "max_height": null,
            "max_width": null,
            "min_height": null,
            "min_width": null,
            "object_fit": null,
            "object_position": null,
            "order": null,
            "overflow": null,
            "overflow_x": null,
            "overflow_y": null,
            "padding": null,
            "right": null,
            "top": null,
            "visibility": null,
            "width": null
          }
        },
        "c34ed667175c4c158cd9258181e18922": {
          "model_module": "@jupyter-widgets/controls",
          "model_name": "DescriptionStyleModel",
          "model_module_version": "1.5.0",
          "state": {
            "_model_module": "@jupyter-widgets/controls",
            "_model_module_version": "1.5.0",
            "_model_name": "DescriptionStyleModel",
            "_view_count": null,
            "_view_module": "@jupyter-widgets/base",
            "_view_module_version": "1.2.0",
            "_view_name": "StyleView",
            "description_width": ""
          }
        }
      }
    }
  },
  "nbformat": 4,
  "nbformat_minor": 0
}