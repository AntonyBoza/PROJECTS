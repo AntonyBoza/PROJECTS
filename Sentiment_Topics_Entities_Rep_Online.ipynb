{
  "nbformat": 4,
  "nbformat_minor": 0,
  "metadata": {
    "kernelspec": {
      "display_name": "Python 3",
      "language": "python",
      "name": "python3"
    },
    "language_info": {
      "codemirror_mode": {
        "name": "ipython",
        "version": 3
      },
      "file_extension": ".py",
      "mimetype": "text/x-python",
      "name": "python",
      "nbconvert_exporter": "python",
      "pygments_lexer": "ipython3",
      "version": "3.6.9"
    },
    "colab": {
      "provenance": [],
      "collapsed_sections": [],
      "machine_shape": "hm"
    },
    "accelerator": "GPU",
    "gpuClass": "standard"
  },
  "cells": [
    {
      "cell_type": "markdown",
      "source": [
        "# Twitter-XLM-roBERTa-base for Sentiment Analysis\n",
        "# Entity detection and Topic extraction\n",
        "This is a multilingual XLM-roBERTa-base model trained on ~198M tweets and finetuned for sentiment analysis. The sentiment fine-tuning was done on 8 languages (Ar, En, Fr, De, Hi, It, Sp, Pt) but it can be used for more languages (see paper for details).\n",
        "\n",
        "https://huggingface.co/cardiffnlp/twitter-xlm-roberta-base-sentiment\n",
        "\n",
        "Ref: @InProceedings{barbieri-espinosaanke-camachocollados:2022:LREC,\n",
        "  author    = {Barbieri, Francesco  and  Espinosa Anke, Luis  and  Camacho-Collados, Jose},\n",
        "  title     = {XLM-T: Multilingual Language Models in Twitter for Sentiment Analysis and Beyond},\n",
        "  booktitle      = {Proceedings of the Language Resources and Evaluation Conference},\n",
        "  month          = {June},\n",
        "  year           = {2022},\n",
        "  address        = {Marseille, France},\n",
        "  publisher      = {European Language Resources Association},\n",
        "  pages     = {258--266},\n",
        "  abstract  = {Language models are ubiquitous in current NLP, and their multilingual capacity has recently attracted considerable attention. However, current analyses have almost exclusively focused on (multilingual variants of) standard benchmarks, and have relied on clean pre-training and task-specific corpora as multilingual signals. In this paper, we introduce XLM-T, a model to train and evaluate multilingual language models in Twitter. In this paper we provide: (1) a new strong multilingual baseline consisting of an XLM-R (Conneau et al. 2020) model pre-trained on millions of tweets in over thirty languages, alongside starter code to subsequently fine-tune on a target task; and (2) a set of unified sentiment analysis Twitter datasets in eight different languages and a XLM-T model trained on this dataset.},\n",
        "  url       = {https://aclanthology.org/2022.lrec-1.27}\n",
        "}\n"
      ],
      "metadata": {
        "id": "-RBS2dEkvali"
      }
    },
    {
      "cell_type": "markdown",
      "metadata": {
        "id": "YaoDr57T74ag"
      },
      "source": [
        "## 1. Instalamos Paquetes requeridos"
      ]
    },
    {
      "cell_type": "code",
      "metadata": {
        "id": "OXC3dguV3cDb",
        "outputId": "ba0bbd9c-21fc-4351-c294-329480329847",
        "colab": {
          "base_uri": "https://localhost:8080/"
        }
      },
      "source": [
        "!pip install --upgrade pip\n",
        "!pip install sentencepiece\n",
        "!pip install transformers\n",
        "!python -m spacy download es_core_news_lg\n"
      ],
      "execution_count": null,
      "outputs": [
        {
          "output_type": "stream",
          "name": "stdout",
          "text": [
            "Looking in indexes: https://pypi.org/simple, https://us-python.pkg.dev/colab-wheels/public/simple/\n",
            "Requirement already satisfied: pip in /usr/local/lib/python3.7/dist-packages (22.2.2)\n",
            "\u001b[33mWARNING: Running pip as the 'root' user can result in broken permissions and conflicting behaviour with the system package manager. It is recommended to use a virtual environment instead: https://pip.pypa.io/warnings/venv\u001b[0m\u001b[33m\n",
            "\u001b[0mLooking in indexes: https://pypi.org/simple, https://us-python.pkg.dev/colab-wheels/public/simple/\n",
            "Requirement already satisfied: sentencepiece in /usr/local/lib/python3.7/dist-packages (0.1.97)\n",
            "\u001b[33mWARNING: Running pip as the 'root' user can result in broken permissions and conflicting behaviour with the system package manager. It is recommended to use a virtual environment instead: https://pip.pypa.io/warnings/venv\u001b[0m\u001b[33m\n",
            "\u001b[0mLooking in indexes: https://pypi.org/simple, https://us-python.pkg.dev/colab-wheels/public/simple/\n",
            "Requirement already satisfied: transformers in /usr/local/lib/python3.7/dist-packages (4.22.0)\n",
            "Requirement already satisfied: huggingface-hub<1.0,>=0.9.0 in /usr/local/lib/python3.7/dist-packages (from transformers) (0.9.1)\n",
            "Requirement already satisfied: regex!=2019.12.17 in /usr/local/lib/python3.7/dist-packages (from transformers) (2022.6.2)\n",
            "Requirement already satisfied: tokenizers!=0.11.3,<0.13,>=0.11.1 in /usr/local/lib/python3.7/dist-packages (from transformers) (0.12.1)\n",
            "Requirement already satisfied: numpy>=1.17 in /usr/local/lib/python3.7/dist-packages (from transformers) (1.21.6)\n",
            "Requirement already satisfied: pyyaml>=5.1 in /usr/local/lib/python3.7/dist-packages (from transformers) (6.0)\n",
            "Requirement already satisfied: packaging>=20.0 in /usr/local/lib/python3.7/dist-packages (from transformers) (21.3)\n",
            "Requirement already satisfied: requests in /usr/local/lib/python3.7/dist-packages (from transformers) (2.23.0)\n",
            "Requirement already satisfied: tqdm>=4.27 in /usr/local/lib/python3.7/dist-packages (from transformers) (4.64.1)\n",
            "Requirement already satisfied: filelock in /usr/local/lib/python3.7/dist-packages (from transformers) (3.8.0)\n",
            "Requirement already satisfied: importlib-metadata in /usr/local/lib/python3.7/dist-packages (from transformers) (4.12.0)\n",
            "Requirement already satisfied: typing-extensions>=3.7.4.3 in /usr/local/lib/python3.7/dist-packages (from huggingface-hub<1.0,>=0.9.0->transformers) (4.1.1)\n",
            "Requirement already satisfied: pyparsing!=3.0.5,>=2.0.2 in /usr/local/lib/python3.7/dist-packages (from packaging>=20.0->transformers) (3.0.9)\n",
            "Requirement already satisfied: zipp>=0.5 in /usr/local/lib/python3.7/dist-packages (from importlib-metadata->transformers) (3.8.1)\n",
            "Requirement already satisfied: urllib3!=1.25.0,!=1.25.1,<1.26,>=1.21.1 in /usr/local/lib/python3.7/dist-packages (from requests->transformers) (1.24.3)\n",
            "Requirement already satisfied: certifi>=2017.4.17 in /usr/local/lib/python3.7/dist-packages (from requests->transformers) (2022.6.15)\n",
            "Requirement already satisfied: idna<3,>=2.5 in /usr/local/lib/python3.7/dist-packages (from requests->transformers) (2.10)\n",
            "Requirement already satisfied: chardet<4,>=3.0.2 in /usr/local/lib/python3.7/dist-packages (from requests->transformers) (3.0.4)\n",
            "\u001b[33mWARNING: Running pip as the 'root' user can result in broken permissions and conflicting behaviour with the system package manager. It is recommended to use a virtual environment instead: https://pip.pypa.io/warnings/venv\u001b[0m\u001b[33m\n",
            "\u001b[0mLooking in indexes: https://pypi.org/simple, https://us-python.pkg.dev/colab-wheels/public/simple/\n",
            "Collecting es-core-news-lg==3.4.0\n",
            "  Downloading https://github.com/explosion/spacy-models/releases/download/es_core_news_lg-3.4.0/es_core_news_lg-3.4.0-py3-none-any.whl (568.0 MB)\n",
            "\u001b[2K     \u001b[90m━━━━━━━━━━━━━━━━━━━━━━━━━━━━━━━━━━━━━━━\u001b[0m \u001b[32m568.0/568.0 MB\u001b[0m \u001b[31m2.6 MB/s\u001b[0m eta \u001b[36m0:00:00\u001b[0m\n",
            "\u001b[?25hRequirement already satisfied: spacy<3.5.0,>=3.4.0 in /usr/local/lib/python3.7/dist-packages (from es-core-news-lg==3.4.0) (3.4.1)\n",
            "Requirement already satisfied: spacy-loggers<2.0.0,>=1.0.0 in /usr/local/lib/python3.7/dist-packages (from spacy<3.5.0,>=3.4.0->es-core-news-lg==3.4.0) (1.0.3)\n",
            "Requirement already satisfied: pydantic!=1.8,!=1.8.1,<1.10.0,>=1.7.4 in /usr/local/lib/python3.7/dist-packages (from spacy<3.5.0,>=3.4.0->es-core-news-lg==3.4.0) (1.9.2)\n",
            "Requirement already satisfied: thinc<8.2.0,>=8.1.0 in /usr/local/lib/python3.7/dist-packages (from spacy<3.5.0,>=3.4.0->es-core-news-lg==3.4.0) (8.1.0)\n",
            "Requirement already satisfied: catalogue<2.1.0,>=2.0.6 in /usr/local/lib/python3.7/dist-packages (from spacy<3.5.0,>=3.4.0->es-core-news-lg==3.4.0) (2.0.8)\n",
            "Requirement already satisfied: packaging>=20.0 in /usr/local/lib/python3.7/dist-packages (from spacy<3.5.0,>=3.4.0->es-core-news-lg==3.4.0) (21.3)\n",
            "Requirement already satisfied: preshed<3.1.0,>=3.0.2 in /usr/local/lib/python3.7/dist-packages (from spacy<3.5.0,>=3.4.0->es-core-news-lg==3.4.0) (3.0.7)\n",
            "Requirement already satisfied: langcodes<4.0.0,>=3.2.0 in /usr/local/lib/python3.7/dist-packages (from spacy<3.5.0,>=3.4.0->es-core-news-lg==3.4.0) (3.3.0)\n",
            "Requirement already satisfied: setuptools in /usr/local/lib/python3.7/dist-packages (from spacy<3.5.0,>=3.4.0->es-core-news-lg==3.4.0) (57.4.0)\n",
            "Requirement already satisfied: wasabi<1.1.0,>=0.9.1 in /usr/local/lib/python3.7/dist-packages (from spacy<3.5.0,>=3.4.0->es-core-news-lg==3.4.0) (0.10.1)\n",
            "Requirement already satisfied: tqdm<5.0.0,>=4.38.0 in /usr/local/lib/python3.7/dist-packages (from spacy<3.5.0,>=3.4.0->es-core-news-lg==3.4.0) (4.64.1)\n",
            "Requirement already satisfied: requests<3.0.0,>=2.13.0 in /usr/local/lib/python3.7/dist-packages (from spacy<3.5.0,>=3.4.0->es-core-news-lg==3.4.0) (2.23.0)\n",
            "Requirement already satisfied: jinja2 in /usr/local/lib/python3.7/dist-packages (from spacy<3.5.0,>=3.4.0->es-core-news-lg==3.4.0) (2.11.3)\n",
            "Requirement already satisfied: typer<0.5.0,>=0.3.0 in /usr/local/lib/python3.7/dist-packages (from spacy<3.5.0,>=3.4.0->es-core-news-lg==3.4.0) (0.4.2)\n",
            "Requirement already satisfied: cymem<2.1.0,>=2.0.2 in /usr/local/lib/python3.7/dist-packages (from spacy<3.5.0,>=3.4.0->es-core-news-lg==3.4.0) (2.0.6)\n",
            "Requirement already satisfied: murmurhash<1.1.0,>=0.28.0 in /usr/local/lib/python3.7/dist-packages (from spacy<3.5.0,>=3.4.0->es-core-news-lg==3.4.0) (1.0.8)\n",
            "Requirement already satisfied: numpy>=1.15.0 in /usr/local/lib/python3.7/dist-packages (from spacy<3.5.0,>=3.4.0->es-core-news-lg==3.4.0) (1.21.6)\n",
            "Requirement already satisfied: srsly<3.0.0,>=2.4.3 in /usr/local/lib/python3.7/dist-packages (from spacy<3.5.0,>=3.4.0->es-core-news-lg==3.4.0) (2.4.4)\n",
            "Requirement already satisfied: typing-extensions<4.2.0,>=3.7.4 in /usr/local/lib/python3.7/dist-packages (from spacy<3.5.0,>=3.4.0->es-core-news-lg==3.4.0) (4.1.1)\n",
            "Requirement already satisfied: spacy-legacy<3.1.0,>=3.0.9 in /usr/local/lib/python3.7/dist-packages (from spacy<3.5.0,>=3.4.0->es-core-news-lg==3.4.0) (3.0.10)\n",
            "Requirement already satisfied: pathy>=0.3.5 in /usr/local/lib/python3.7/dist-packages (from spacy<3.5.0,>=3.4.0->es-core-news-lg==3.4.0) (0.6.2)\n",
            "Requirement already satisfied: zipp>=0.5 in /usr/local/lib/python3.7/dist-packages (from catalogue<2.1.0,>=2.0.6->spacy<3.5.0,>=3.4.0->es-core-news-lg==3.4.0) (3.8.1)\n",
            "Requirement already satisfied: pyparsing!=3.0.5,>=2.0.2 in /usr/local/lib/python3.7/dist-packages (from packaging>=20.0->spacy<3.5.0,>=3.4.0->es-core-news-lg==3.4.0) (3.0.9)\n",
            "Requirement already satisfied: smart-open<6.0.0,>=5.2.1 in /usr/local/lib/python3.7/dist-packages (from pathy>=0.3.5->spacy<3.5.0,>=3.4.0->es-core-news-lg==3.4.0) (5.2.1)\n",
            "Requirement already satisfied: chardet<4,>=3.0.2 in /usr/local/lib/python3.7/dist-packages (from requests<3.0.0,>=2.13.0->spacy<3.5.0,>=3.4.0->es-core-news-lg==3.4.0) (3.0.4)\n",
            "Requirement already satisfied: urllib3!=1.25.0,!=1.25.1,<1.26,>=1.21.1 in /usr/local/lib/python3.7/dist-packages (from requests<3.0.0,>=2.13.0->spacy<3.5.0,>=3.4.0->es-core-news-lg==3.4.0) (1.24.3)\n",
            "Requirement already satisfied: idna<3,>=2.5 in /usr/local/lib/python3.7/dist-packages (from requests<3.0.0,>=2.13.0->spacy<3.5.0,>=3.4.0->es-core-news-lg==3.4.0) (2.10)\n",
            "Requirement already satisfied: certifi>=2017.4.17 in /usr/local/lib/python3.7/dist-packages (from requests<3.0.0,>=2.13.0->spacy<3.5.0,>=3.4.0->es-core-news-lg==3.4.0) (2022.6.15)\n",
            "Requirement already satisfied: blis<0.8.0,>=0.7.8 in /usr/local/lib/python3.7/dist-packages (from thinc<8.2.0,>=8.1.0->spacy<3.5.0,>=3.4.0->es-core-news-lg==3.4.0) (0.7.8)\n",
            "Requirement already satisfied: click<9.0.0,>=7.1.1 in /usr/local/lib/python3.7/dist-packages (from typer<0.5.0,>=0.3.0->spacy<3.5.0,>=3.4.0->es-core-news-lg==3.4.0) (7.1.2)\n",
            "Requirement already satisfied: MarkupSafe>=0.23 in /usr/local/lib/python3.7/dist-packages (from jinja2->spacy<3.5.0,>=3.4.0->es-core-news-lg==3.4.0) (2.0.1)\n",
            "Installing collected packages: es-core-news-lg\n",
            "Successfully installed es-core-news-lg-3.4.0\n",
            "\u001b[33mWARNING: Running pip as the 'root' user can result in broken permissions and conflicting behaviour with the system package manager. It is recommended to use a virtual environment instead: https://pip.pypa.io/warnings/venv\u001b[0m\u001b[33m\n",
            "\u001b[0m\u001b[38;5;2m✔ Download and installation successful\u001b[0m\n",
            "You can now load the package via spacy.load('es_core_news_lg')\n"
          ]
        }
      ]
    },
    {
      "cell_type": "markdown",
      "source": [
        "## 2. Importamos módulos requeridos"
      ],
      "metadata": {
        "id": "dpxCewGPgTu0"
      }
    },
    {
      "cell_type": "code",
      "source": [
        "from transformers import AutoTokenizer, AutoModel, AutoConfig\n",
        "from transformers import AutoModelForSequenceClassification, pipeline\n",
        "from wordcloud import WordCloud, STOPWORDS, ImageColorGenerator \n",
        "from transformers import TFAutoModelForSequenceClassification\n",
        "from scipy.special import softmax\n",
        "\n",
        "import numpy as np\n",
        "import pandas as pd\n",
        "import spacy\n",
        "from scipy.special import softmax\n",
        "from transformers import pipeline\n",
        "from scipy.spatial.distance import cosine\n",
        "from collections import defaultdict, Counter\n",
        "from sklearn.feature_extraction.text import CountVectorizer\n",
        "from sklearn.feature_extraction.text import TfidfVectorizer\n",
        "from sklearn.pipeline import make_pipeline\n",
        "\n",
        "import urllib\n",
        "from sklearn.model_selection import train_test_split\n",
        "from sklearn.metrics import classification_report\n",
        "import matplotlib.pyplot as plt\n",
        "import os\n",
        "import seaborn as sns \n",
        "import nltk\n",
        "import re \n",
        "import string\n",
        "from numpy import argmax\n",
        "from nltk.corpus import stopwords\n",
        "from nltk import word_tokenize\n",
        "nltk.download('stopwords')\n",
        "# essential entity models downloads\n",
        "nltk.downloader.download('maxent_ne_chunker')\n",
        "nltk.downloader.download('words')\n",
        "nltk.downloader.download('treebank')\n",
        "nltk.downloader.download('maxent_treebank_pos_tagger')\n",
        "nltk.downloader.download('punkt')\n",
        "nltk.download('averaged_perceptron_tagger')\n",
        "nlp = spacy.load(\"es_core_news_lg\")\n",
        "import warnings\n",
        "warnings.filterwarnings(\"ignore\")"
      ],
      "metadata": {
        "colab": {
          "base_uri": "https://localhost:8080/"
        },
        "id": "-wHQ-wOM8Ovz",
        "outputId": "8312f81f-5471-4ee9-db24-8c6ae7b5aa29"
      },
      "execution_count": 144,
      "outputs": [
        {
          "output_type": "stream",
          "name": "stderr",
          "text": [
            "[nltk_data] Downloading package stopwords to /root/nltk_data...\n",
            "[nltk_data]   Package stopwords is already up-to-date!\n",
            "[nltk_data] Downloading package maxent_ne_chunker to\n",
            "[nltk_data]     /root/nltk_data...\n",
            "[nltk_data]   Package maxent_ne_chunker is already up-to-date!\n",
            "[nltk_data] Downloading package words to /root/nltk_data...\n",
            "[nltk_data]   Package words is already up-to-date!\n",
            "[nltk_data] Downloading package treebank to /root/nltk_data...\n",
            "[nltk_data]   Package treebank is already up-to-date!\n",
            "[nltk_data] Downloading package maxent_treebank_pos_tagger to\n",
            "[nltk_data]     /root/nltk_data...\n",
            "[nltk_data]   Package maxent_treebank_pos_tagger is already up-to-\n",
            "[nltk_data]       date!\n",
            "[nltk_data] Downloading package punkt to /root/nltk_data...\n",
            "[nltk_data]   Package punkt is already up-to-date!\n",
            "[nltk_data] Downloading package averaged_perceptron_tagger to\n",
            "[nltk_data]     /root/nltk_data...\n",
            "[nltk_data]   Package averaged_perceptron_tagger is already up-to-\n",
            "[nltk_data]       date!\n"
          ]
        }
      ]
    },
    {
      "cell_type": "markdown",
      "source": [
        "## Cargamos datos de ejemplo"
      ],
      "metadata": {
        "id": "hjF2xsoxAnCB"
      }
    },
    {
      "cell_type": "code",
      "source": [
        "# Cargamos el archivo CSV previamente unificado con likes y comments\n",
        "from google.colab import drive\n",
        "drive.mount('/content/drive')"
      ],
      "metadata": {
        "id": "2h4NWv2ibwNa"
      },
      "execution_count": null,
      "outputs": []
    },
    {
      "cell_type": "code",
      "source": [
        "df = pd.read_csv('/content/drive/MyDrive/Colab Notebooks/SISTEMA REPUTACION ONLINE/bnpl.csv', low_memory=False) # For .csv files low_memory=False\n",
        "#df = pd.read_excel('/content/drive/MyDrive/Colab Notebooks/SISTEMA REPUTACION ONLINE/bnpl_excel.xlsx')"
      ],
      "metadata": {
        "id": "MRmqcFVrbyJy"
      },
      "execution_count": 95,
      "outputs": []
    },
    {
      "cell_type": "code",
      "source": [
        "# Limpiar dataset\n",
        "df.dropna(axis=0, inplace=True)\n",
        "df.reset_index()\n",
        "df.drop_duplicates(inplace = True)"
      ],
      "metadata": {
        "id": "GmBzaAD0cFoP"
      },
      "execution_count": 96,
      "outputs": []
    },
    {
      "cell_type": "markdown",
      "source": [
        "### Creamos dos nuevas columnas para almacenar longitud  y cantidad de palabras de cada noticia o tweet."
      ],
      "metadata": {
        "id": "iHGO02BXHLFN"
      }
    },
    {
      "cell_type": "code",
      "source": [
        "#Calculating tweet’s lenght and word count\n",
        "df['text_len'] = df['CONTENIDO'].astype(str).apply(len)\n",
        "df['text_word_count'] = df['CONTENIDO'].apply(lambda x: len(str(x).split()))"
      ],
      "metadata": {
        "id": "UAE7kcd3G0r0"
      },
      "execution_count": 97,
      "outputs": []
    },
    {
      "cell_type": "code",
      "source": [
        "df.head()"
      ],
      "metadata": {
        "colab": {
          "base_uri": "https://localhost:8080/",
          "height": 354
        },
        "id": "UjPKbuMDHcsY",
        "outputId": "93b8da76-94bf-425c-8e1a-ffd90c0a0766"
      },
      "execution_count": 98,
      "outputs": [
        {
          "output_type": "execute_result",
          "data": {
            "text/plain": [
              "                                                 URL  \\\n",
              "0  https://americasmi.com/insights/bnpl-buy-now-p...   \n",
              "1  https://www.valoraanalitik.com/2022/08/18/tarj...   \n",
              "2  https://www.linkedin.com/pulse/compra-ahora-pa...   \n",
              "3  https://www.sectorial.co/articulos-especiales/...   \n",
              "4  https://vtex.com/es/blog/tendencia-es/bnpl-la-...   \n",
              "\n",
              "                                              TITULO  \\\n",
              "0  EL MODELO “BUY NOW PAY LATER” Y SU POTENCIAL D...   \n",
              "1  Entrevista | Tarjeta virtual ‘buy now, pay lat...   \n",
              "2                         Compra ahora, Paga Después   \n",
              "3  Compra Ahora y Paga Después, Representará USD ...   \n",
              "4  BNPL: La revolución del «compra ahora y paga d...   \n",
              "\n",
              "                                           CONTENIDO FECHA DE PUBLICACION  \\\n",
              "0  El modelo Buy Now Pay Later (BNPL) que se trad...           30/03/2022   \n",
              "1  En medio de un contexto en el que los consumid...           18/08/2022   \n",
              "2  Para la mayoría de latinoamericanos, especialm...           21/02/2022   \n",
              "3  El efectivo sigue siendo el método de pago más...           26/07/2022   \n",
              "4  Cuando las soluciones de «compra ahora, paga d...           17/06/2022   \n",
              "\n",
              "   text_len  text_word_count  \n",
              "0      3152              522  \n",
              "1     12035             1908  \n",
              "2      7034             1115  \n",
              "3      6185             1037  \n",
              "4     12217             2004  "
            ],
            "text/html": [
              "\n",
              "  <div id=\"df-48339fb9-b71b-4076-b7f2-10cd28bc4a34\">\n",
              "    <div class=\"colab-df-container\">\n",
              "      <div>\n",
              "<style scoped>\n",
              "    .dataframe tbody tr th:only-of-type {\n",
              "        vertical-align: middle;\n",
              "    }\n",
              "\n",
              "    .dataframe tbody tr th {\n",
              "        vertical-align: top;\n",
              "    }\n",
              "\n",
              "    .dataframe thead th {\n",
              "        text-align: right;\n",
              "    }\n",
              "</style>\n",
              "<table border=\"1\" class=\"dataframe\">\n",
              "  <thead>\n",
              "    <tr style=\"text-align: right;\">\n",
              "      <th></th>\n",
              "      <th>URL</th>\n",
              "      <th>TITULO</th>\n",
              "      <th>CONTENIDO</th>\n",
              "      <th>FECHA DE PUBLICACION</th>\n",
              "      <th>text_len</th>\n",
              "      <th>text_word_count</th>\n",
              "    </tr>\n",
              "  </thead>\n",
              "  <tbody>\n",
              "    <tr>\n",
              "      <th>0</th>\n",
              "      <td>https://americasmi.com/insights/bnpl-buy-now-p...</td>\n",
              "      <td>EL MODELO “BUY NOW PAY LATER” Y SU POTENCIAL D...</td>\n",
              "      <td>El modelo Buy Now Pay Later (BNPL) que se trad...</td>\n",
              "      <td>30/03/2022</td>\n",
              "      <td>3152</td>\n",
              "      <td>522</td>\n",
              "    </tr>\n",
              "    <tr>\n",
              "      <th>1</th>\n",
              "      <td>https://www.valoraanalitik.com/2022/08/18/tarj...</td>\n",
              "      <td>Entrevista | Tarjeta virtual ‘buy now, pay lat...</td>\n",
              "      <td>En medio de un contexto en el que los consumid...</td>\n",
              "      <td>18/08/2022</td>\n",
              "      <td>12035</td>\n",
              "      <td>1908</td>\n",
              "    </tr>\n",
              "    <tr>\n",
              "      <th>2</th>\n",
              "      <td>https://www.linkedin.com/pulse/compra-ahora-pa...</td>\n",
              "      <td>Compra ahora, Paga Después</td>\n",
              "      <td>Para la mayoría de latinoamericanos, especialm...</td>\n",
              "      <td>21/02/2022</td>\n",
              "      <td>7034</td>\n",
              "      <td>1115</td>\n",
              "    </tr>\n",
              "    <tr>\n",
              "      <th>3</th>\n",
              "      <td>https://www.sectorial.co/articulos-especiales/...</td>\n",
              "      <td>Compra Ahora y Paga Después, Representará USD ...</td>\n",
              "      <td>El efectivo sigue siendo el método de pago más...</td>\n",
              "      <td>26/07/2022</td>\n",
              "      <td>6185</td>\n",
              "      <td>1037</td>\n",
              "    </tr>\n",
              "    <tr>\n",
              "      <th>4</th>\n",
              "      <td>https://vtex.com/es/blog/tendencia-es/bnpl-la-...</td>\n",
              "      <td>BNPL: La revolución del «compra ahora y paga d...</td>\n",
              "      <td>Cuando las soluciones de «compra ahora, paga d...</td>\n",
              "      <td>17/06/2022</td>\n",
              "      <td>12217</td>\n",
              "      <td>2004</td>\n",
              "    </tr>\n",
              "  </tbody>\n",
              "</table>\n",
              "</div>\n",
              "      <button class=\"colab-df-convert\" onclick=\"convertToInteractive('df-48339fb9-b71b-4076-b7f2-10cd28bc4a34')\"\n",
              "              title=\"Convert this dataframe to an interactive table.\"\n",
              "              style=\"display:none;\">\n",
              "        \n",
              "  <svg xmlns=\"http://www.w3.org/2000/svg\" height=\"24px\"viewBox=\"0 0 24 24\"\n",
              "       width=\"24px\">\n",
              "    <path d=\"M0 0h24v24H0V0z\" fill=\"none\"/>\n",
              "    <path d=\"M18.56 5.44l.94 2.06.94-2.06 2.06-.94-2.06-.94-.94-2.06-.94 2.06-2.06.94zm-11 1L8.5 8.5l.94-2.06 2.06-.94-2.06-.94L8.5 2.5l-.94 2.06-2.06.94zm10 10l.94 2.06.94-2.06 2.06-.94-2.06-.94-.94-2.06-.94 2.06-2.06.94z\"/><path d=\"M17.41 7.96l-1.37-1.37c-.4-.4-.92-.59-1.43-.59-.52 0-1.04.2-1.43.59L10.3 9.45l-7.72 7.72c-.78.78-.78 2.05 0 2.83L4 21.41c.39.39.9.59 1.41.59.51 0 1.02-.2 1.41-.59l7.78-7.78 2.81-2.81c.8-.78.8-2.07 0-2.86zM5.41 20L4 18.59l7.72-7.72 1.47 1.35L5.41 20z\"/>\n",
              "  </svg>\n",
              "      </button>\n",
              "      \n",
              "  <style>\n",
              "    .colab-df-container {\n",
              "      display:flex;\n",
              "      flex-wrap:wrap;\n",
              "      gap: 12px;\n",
              "    }\n",
              "\n",
              "    .colab-df-convert {\n",
              "      background-color: #E8F0FE;\n",
              "      border: none;\n",
              "      border-radius: 50%;\n",
              "      cursor: pointer;\n",
              "      display: none;\n",
              "      fill: #1967D2;\n",
              "      height: 32px;\n",
              "      padding: 0 0 0 0;\n",
              "      width: 32px;\n",
              "    }\n",
              "\n",
              "    .colab-df-convert:hover {\n",
              "      background-color: #E2EBFA;\n",
              "      box-shadow: 0px 1px 2px rgba(60, 64, 67, 0.3), 0px 1px 3px 1px rgba(60, 64, 67, 0.15);\n",
              "      fill: #174EA6;\n",
              "    }\n",
              "\n",
              "    [theme=dark] .colab-df-convert {\n",
              "      background-color: #3B4455;\n",
              "      fill: #D2E3FC;\n",
              "    }\n",
              "\n",
              "    [theme=dark] .colab-df-convert:hover {\n",
              "      background-color: #434B5C;\n",
              "      box-shadow: 0px 1px 3px 1px rgba(0, 0, 0, 0.15);\n",
              "      filter: drop-shadow(0px 1px 2px rgba(0, 0, 0, 0.3));\n",
              "      fill: #FFFFFF;\n",
              "    }\n",
              "  </style>\n",
              "\n",
              "      <script>\n",
              "        const buttonEl =\n",
              "          document.querySelector('#df-48339fb9-b71b-4076-b7f2-10cd28bc4a34 button.colab-df-convert');\n",
              "        buttonEl.style.display =\n",
              "          google.colab.kernel.accessAllowed ? 'block' : 'none';\n",
              "\n",
              "        async function convertToInteractive(key) {\n",
              "          const element = document.querySelector('#df-48339fb9-b71b-4076-b7f2-10cd28bc4a34');\n",
              "          const dataTable =\n",
              "            await google.colab.kernel.invokeFunction('convertToInteractive',\n",
              "                                                     [key], {});\n",
              "          if (!dataTable) return;\n",
              "\n",
              "          const docLinkHtml = 'Like what you see? Visit the ' +\n",
              "            '<a target=\"_blank\" href=https://colab.research.google.com/notebooks/data_table.ipynb>data table notebook</a>'\n",
              "            + ' to learn more about interactive tables.';\n",
              "          element.innerHTML = '';\n",
              "          dataTable['output_type'] = 'display_data';\n",
              "          await google.colab.output.renderOutput(dataTable, element);\n",
              "          const docLink = document.createElement('div');\n",
              "          docLink.innerHTML = docLinkHtml;\n",
              "          element.appendChild(docLink);\n",
              "        }\n",
              "      </script>\n",
              "    </div>\n",
              "  </div>\n",
              "  "
            ]
          },
          "metadata": {},
          "execution_count": 98
        }
      ]
    },
    {
      "cell_type": "code",
      "source": [
        "# Definimos la variable list de entrada para todos los modelos (Se extrae de la columna con los tweets o noticias, que espera se llame 'CONTENIDO')\n",
        "text = df['CONTENIDO'].values.astype(str)"
      ],
      "metadata": {
        "id": "clHUc50phRsa"
      },
      "execution_count": 99,
      "outputs": []
    },
    {
      "cell_type": "code",
      "source": [
        "# Llevamos el texto de entrada al formato String\n",
        "text = str(text)"
      ],
      "metadata": {
        "id": "bhbe2efmp7bY"
      },
      "execution_count": 48,
      "outputs": []
    },
    {
      "cell_type": "markdown",
      "source": [
        "## 3. Función para limpiar el texto de entrada"
      ],
      "metadata": {
        "id": "OSNAvD0Qh9Q2"
      }
    },
    {
      "cell_type": "code",
      "source": [
        "# Creamos la funcion 'transform_text' que va a remover stopwords y algunos caracteres peculiares de twitter\n",
        "\n",
        "# Definimos la lista de palabras Stop en español\n",
        "\n",
        "\n",
        "stoplist = set(stopwords.words('spanish'))\n",
        "\n",
        "def transform_text(text):\n",
        "  text = str(text)\n",
        "  text = re.sub(r'@[A-Za-z0-9]+', ' ', text) #Remover menciones @\n",
        "  text = re.sub(r'RT[|\\s]', ' ', text) # Remover RTs\n",
        "  text = re.sub(r'#', ' ', text) #Remover # en el tweet\n",
        "  text = re.sub(r'https?:\\/\\/\\S+', ' ', text) #Remover links\n",
        "  text = text.lstrip(' ') # Remover espacios delante del texto\n",
        "\n",
        "  pattern = r'''(?x)                    # set flag to allow verbose regexps\n",
        "              (?:[A-Z]\\.)+            # abbreviations, e.g. U.S.A\n",
        "              | \\w+(?:-\\w+)*          # Words with optional internal hyphens\n",
        "              | \\$?\\d+(?:\\.\\d+)?%?    # Currency and precentages, e.g. $12.40 82%\n",
        "              | \\.\\.\\.                # Ellipsis\n",
        "              | [][.,;\"'?():-_`]      #These are separate tokens; includes ],[\n",
        "              '''\n",
        "  words = nltk.regexp_tokenize(text, pattern)\n",
        "  re_punc = re.compile('[%s]' % re.escape(string.punctuation)) # Remover signos de puntuacion\n",
        "  stripped = [re_punc.sub('', w) for w in words]\n",
        "  no_garbage = [w for w in stripped if  w.lower() not in stoplist] # Remover stopwords\n",
        "\n",
        "  return (\" \".join(no_garbage))"
      ],
      "metadata": {
        "id": "MXo99BISh8gV"
      },
      "execution_count": 28,
      "outputs": []
    },
    {
      "cell_type": "code",
      "source": [
        "# Limpiamos el texto de entrada\n",
        "text = transform_text(text)"
      ],
      "metadata": {
        "id": "P8uqY4-eqU4k"
      },
      "execution_count": 49,
      "outputs": []
    },
    {
      "cell_type": "markdown",
      "source": [
        "## 4. Función para extraer entidades (Lugares, Personalidades, Organizaciones, misceláneos)"
      ],
      "metadata": {
        "id": "4p3GXzHa-XiV"
      }
    },
    {
      "cell_type": "code",
      "source": [
        "def entidades(text):\n",
        "  \"\"\" \n",
        "  Función que toma un texto (String), tweet o noticia, como entrada y devuelve \n",
        "  las siguientes cuatro listas: \n",
        "  1. Organizaciones (unique_orgs) \n",
        "  2. Localidades (unique_places)\n",
        "  3. Personalidades (unique_persons)\n",
        "  4. Misceláneos (unique_misc)\n",
        "  \"\"\"\n",
        "  # Cargamos el modelo\n",
        "  doc = nlp(text)\n",
        "\n",
        "  # Creamos las listas donde se guardarán los resultados\n",
        "  orgs = []\n",
        "  places = []\n",
        "  persons = []\n",
        "  misc = []\n",
        "\n",
        "  for ent in doc.ents:\n",
        "    org = [(e.text) for e in doc.ents if e.label_ == 'ORG']\n",
        "    orgs.append(org)\n",
        "    lugar = [(e.text) for e in doc.ents if e.label_ == 'LOC']\n",
        "    places.append(lugar)\n",
        "    pers = [(e.text) for e in doc.ents if e.label_ == 'PER']\n",
        "    persons.append(pers)\n",
        "    miscel = [(e.text) for e in doc.ents if e.label_ == 'MISC']\n",
        "    misc.append(miscel)\n",
        "\n",
        "  x = np.array(orgs)\n",
        "  unique_orgs = np.unique(x)\n",
        "  y = np.array(places)\n",
        "  unique_places = np.unique(y)\n",
        "  z= np.array(persons)\n",
        "  unique_persons = np.unique(z)\n",
        "  w= np.array(misc)\n",
        "  unique_misc = np.unique(w)\n",
        "  \n",
        "  # Habilitar sólo si queremos enviar salida por consola (print)\n",
        "  counter = 1\n",
        "  #print(\"Los organismos encontrados son: \\n\")\n",
        "  for item in unique_orgs:\n",
        "      #print(str(counter) + '- ' + f'{item}')\n",
        "      counter+=1\n",
        "\n",
        "  counter = 1\n",
        "  #print(\"\\n\")\n",
        "  #print(\"Los lugares encontrados son: \\n\")\n",
        "  for place in unique_places:\n",
        "      #print(str(counter) + '- ' + f'{place}')\n",
        "      counter+=1\n",
        "\n",
        "  counter = 1\n",
        "  #print(\"\\n\")\n",
        "  #print(\"Las Personalidades encontradas son: \\n\")\n",
        "  for p in unique_persons:\n",
        "      #print(str(counter) + '- ' + f'{p}')\n",
        "      counter+=1\n",
        "  #print(\"\\n\")\n",
        "  # ents = [(e.text, e.start_char, e.end_char, e.label_) for e in doc.ents]\n",
        "  return unique_orgs, unique_places, unique_persons, unique_misc\n",
        "\n",
        "  #print(\"Las entidades encontradas son: \\n\", ent.text+' -- '+ent.label_+' -- '\\\n",
        "           #+spacy.explain(ent.label_))\n",
        "  "
      ],
      "metadata": {
        "id": "G12EALu075aa"
      },
      "execution_count": 51,
      "outputs": []
    },
    {
      "cell_type": "code",
      "source": [
        "#for item in range(len(df)):\n",
        "unique_orgs, unique_places, unique_persons, unique_misc = entidades(text)"
      ],
      "metadata": {
        "id": "nlgqP-LadNf0"
      },
      "execution_count": 52,
      "outputs": []
    },
    {
      "cell_type": "markdown",
      "source": [
        "## 4. Función para el reconocimiento de tópicos"
      ],
      "metadata": {
        "id": "MEy0kOqODs8q"
      }
    },
    {
      "cell_type": "code",
      "source": [
        "def topicos(text, labels):\n",
        "  \"\"\"\n",
        "  Función que recibe el texto y una lista con los tópicos de referencia\n",
        "  Devuelve el % de cada tópico presente en el texto\n",
        "  \"\"\"\n",
        "  result = classifier(text, \n",
        "                      candidate_labels=labels,\n",
        "                      hypothesis_template= \"Este ejemplo es sobre {}.\")\n",
        "  return result\n"
      ],
      "metadata": {
        "id": "_m6Zfh7UDtVm"
      },
      "execution_count": 181,
      "outputs": []
    },
    {
      "cell_type": "code",
      "source": [
        "# Función para detectar tópicos en el texto\n",
        "# Cargamos el modelo\n",
        "classifier = pipeline(\"zero-shot-classification\", \n",
        "                       model=\"Recognai/bert-base-spanish-wwm-cased-xnli\")\n",
        "\n",
        "candidate_labels = ['cultura', 'sociedad', 'economia', 'salud', 'deportes', \\\n",
        "                    'politica', 'tecnologia', 'negocios', 'ecologia']\n",
        "\n",
        "def topic_detect(df):\n",
        "  \"\"\"\n",
        "  Función para detectar los tópicos presentes en un texto y clasificarlo de acuerdo\n",
        "  a la influencia de estos.\n",
        "  Esta función espera como entrada un dataframe con una columna llamada 'CONTENIDO'\n",
        "  \"\"\"\n",
        "  candidate_results = [0]*len(candidate_labels) # Lista para guardar resultados\n",
        "\n",
        "  for sent in df['CONTENIDO'].values:\n",
        "    # To do multi-class classification, simply pass multi_class=True.\n",
        "    # In this case, the scores will be independent, but each will fall between 0 and 1.\n",
        "    res = classifier(sent, candidate_labels)\n",
        "\n",
        "    SCORES = res[\"scores\"]\n",
        "    CLASSES = res[\"labels\"]\n",
        "    BEST_INDEX = argmax(SCORES)\n",
        "    predicted_class = CLASSES[BEST_INDEX]\n",
        "    predicted_score = SCORES[BEST_INDEX]\n",
        "    #print(predicted_class)\n",
        "    #print(predicted_score)\n",
        "\n",
        "  # Adecuar para que coincida con las etiquetas qeu se definan arriba en \"candidate_labels\"\n",
        "    if predicted_class == 'cultura':\n",
        "        candidate_results[0] = candidate_results[0] + 1\n",
        "    if predicted_class == 'sociedad':\n",
        "        candidate_results[1] = candidate_results[1] + 1\n",
        "    if predicted_class == 'economia':\n",
        "        candidate_results[2] = candidate_results[2] + 1\n",
        "    if predicted_class == 'salud':\n",
        "        candidate_results[3] = candidate_results[3] + 1\n",
        "    if predicted_class == 'deportes':\n",
        "        candidate_results[4] = candidate_results[4] + 1\n",
        "    if predicted_class == 'politica':\n",
        "        candidate_results[5] = candidate_results[5] + 1\n",
        "    if predicted_class == 'tecnologia':\n",
        "        candidate_results[6] = candidate_results[6] + 1\n",
        "    if predicted_class == 'negocios':\n",
        "        candidate_results[7] = candidate_results[7] + 1\n",
        "    if predicted_class == 'ecologia':\n",
        "        candidate_results[8] = candidate_results[8] + 1\n",
        "  return candidate_results\n"
      ],
      "metadata": {
        "id": "jgRVISYkj_if"
      },
      "execution_count": 57,
      "outputs": []
    },
    {
      "cell_type": "code",
      "source": [
        "candidate_results = topic_detect(df)"
      ],
      "metadata": {
        "id": "yyjiCFhJM0zc"
      },
      "execution_count": 61,
      "outputs": []
    },
    {
      "cell_type": "code",
      "source": [
        "print(candidate_results) # Sólo para visualizar cuando presentemos. No va en Back"
      ],
      "metadata": {
        "id": "rmzeWz-aMnwB",
        "colab": {
          "base_uri": "https://localhost:8080/"
        },
        "outputId": "b0886ae8-f49c-4dd0-d552-df9e0d44f0d1"
      },
      "execution_count": 62,
      "outputs": [
        {
          "output_type": "stream",
          "name": "stdout",
          "text": [
            "[0, 0, 2, 0, 0, 6, 6, 11, 0]\n"
          ]
        }
      ]
    },
    {
      "cell_type": "code",
      "source": [
        "# Sólo para visualizar cuando presentemos. No va en Back\n",
        "data = {'labels': candidate_labels,\n",
        "        'values': candidate_results}\n",
        "\n",
        "df_chart = pd.DataFrame(data, columns=['labels','values'])\n",
        "\n",
        "df_chart.head(10)"
      ],
      "metadata": {
        "colab": {
          "base_uri": "https://localhost:8080/",
          "height": 332
        },
        "id": "MjBlj0SJyRAg",
        "outputId": "9086e06d-c4b3-461f-f983-803a3719cfcf"
      },
      "execution_count": 63,
      "outputs": [
        {
          "output_type": "execute_result",
          "data": {
            "text/plain": [
              "       labels  values\n",
              "0     cultura       0\n",
              "1    sociedad       0\n",
              "2    economia       2\n",
              "3       salud       0\n",
              "4    deportes       0\n",
              "5    politica       6\n",
              "6  tecnologia       6\n",
              "7    negocios      11\n",
              "8    ecologia       0"
            ],
            "text/html": [
              "\n",
              "  <div id=\"df-04894f2d-a3e5-4464-a7cd-a072817660d3\">\n",
              "    <div class=\"colab-df-container\">\n",
              "      <div>\n",
              "<style scoped>\n",
              "    .dataframe tbody tr th:only-of-type {\n",
              "        vertical-align: middle;\n",
              "    }\n",
              "\n",
              "    .dataframe tbody tr th {\n",
              "        vertical-align: top;\n",
              "    }\n",
              "\n",
              "    .dataframe thead th {\n",
              "        text-align: right;\n",
              "    }\n",
              "</style>\n",
              "<table border=\"1\" class=\"dataframe\">\n",
              "  <thead>\n",
              "    <tr style=\"text-align: right;\">\n",
              "      <th></th>\n",
              "      <th>labels</th>\n",
              "      <th>values</th>\n",
              "    </tr>\n",
              "  </thead>\n",
              "  <tbody>\n",
              "    <tr>\n",
              "      <th>0</th>\n",
              "      <td>cultura</td>\n",
              "      <td>0</td>\n",
              "    </tr>\n",
              "    <tr>\n",
              "      <th>1</th>\n",
              "      <td>sociedad</td>\n",
              "      <td>0</td>\n",
              "    </tr>\n",
              "    <tr>\n",
              "      <th>2</th>\n",
              "      <td>economia</td>\n",
              "      <td>2</td>\n",
              "    </tr>\n",
              "    <tr>\n",
              "      <th>3</th>\n",
              "      <td>salud</td>\n",
              "      <td>0</td>\n",
              "    </tr>\n",
              "    <tr>\n",
              "      <th>4</th>\n",
              "      <td>deportes</td>\n",
              "      <td>0</td>\n",
              "    </tr>\n",
              "    <tr>\n",
              "      <th>5</th>\n",
              "      <td>politica</td>\n",
              "      <td>6</td>\n",
              "    </tr>\n",
              "    <tr>\n",
              "      <th>6</th>\n",
              "      <td>tecnologia</td>\n",
              "      <td>6</td>\n",
              "    </tr>\n",
              "    <tr>\n",
              "      <th>7</th>\n",
              "      <td>negocios</td>\n",
              "      <td>11</td>\n",
              "    </tr>\n",
              "    <tr>\n",
              "      <th>8</th>\n",
              "      <td>ecologia</td>\n",
              "      <td>0</td>\n",
              "    </tr>\n",
              "  </tbody>\n",
              "</table>\n",
              "</div>\n",
              "      <button class=\"colab-df-convert\" onclick=\"convertToInteractive('df-04894f2d-a3e5-4464-a7cd-a072817660d3')\"\n",
              "              title=\"Convert this dataframe to an interactive table.\"\n",
              "              style=\"display:none;\">\n",
              "        \n",
              "  <svg xmlns=\"http://www.w3.org/2000/svg\" height=\"24px\"viewBox=\"0 0 24 24\"\n",
              "       width=\"24px\">\n",
              "    <path d=\"M0 0h24v24H0V0z\" fill=\"none\"/>\n",
              "    <path d=\"M18.56 5.44l.94 2.06.94-2.06 2.06-.94-2.06-.94-.94-2.06-.94 2.06-2.06.94zm-11 1L8.5 8.5l.94-2.06 2.06-.94-2.06-.94L8.5 2.5l-.94 2.06-2.06.94zm10 10l.94 2.06.94-2.06 2.06-.94-2.06-.94-.94-2.06-.94 2.06-2.06.94z\"/><path d=\"M17.41 7.96l-1.37-1.37c-.4-.4-.92-.59-1.43-.59-.52 0-1.04.2-1.43.59L10.3 9.45l-7.72 7.72c-.78.78-.78 2.05 0 2.83L4 21.41c.39.39.9.59 1.41.59.51 0 1.02-.2 1.41-.59l7.78-7.78 2.81-2.81c.8-.78.8-2.07 0-2.86zM5.41 20L4 18.59l7.72-7.72 1.47 1.35L5.41 20z\"/>\n",
              "  </svg>\n",
              "      </button>\n",
              "      \n",
              "  <style>\n",
              "    .colab-df-container {\n",
              "      display:flex;\n",
              "      flex-wrap:wrap;\n",
              "      gap: 12px;\n",
              "    }\n",
              "\n",
              "    .colab-df-convert {\n",
              "      background-color: #E8F0FE;\n",
              "      border: none;\n",
              "      border-radius: 50%;\n",
              "      cursor: pointer;\n",
              "      display: none;\n",
              "      fill: #1967D2;\n",
              "      height: 32px;\n",
              "      padding: 0 0 0 0;\n",
              "      width: 32px;\n",
              "    }\n",
              "\n",
              "    .colab-df-convert:hover {\n",
              "      background-color: #E2EBFA;\n",
              "      box-shadow: 0px 1px 2px rgba(60, 64, 67, 0.3), 0px 1px 3px 1px rgba(60, 64, 67, 0.15);\n",
              "      fill: #174EA6;\n",
              "    }\n",
              "\n",
              "    [theme=dark] .colab-df-convert {\n",
              "      background-color: #3B4455;\n",
              "      fill: #D2E3FC;\n",
              "    }\n",
              "\n",
              "    [theme=dark] .colab-df-convert:hover {\n",
              "      background-color: #434B5C;\n",
              "      box-shadow: 0px 1px 3px 1px rgba(0, 0, 0, 0.15);\n",
              "      filter: drop-shadow(0px 1px 2px rgba(0, 0, 0, 0.3));\n",
              "      fill: #FFFFFF;\n",
              "    }\n",
              "  </style>\n",
              "\n",
              "      <script>\n",
              "        const buttonEl =\n",
              "          document.querySelector('#df-04894f2d-a3e5-4464-a7cd-a072817660d3 button.colab-df-convert');\n",
              "        buttonEl.style.display =\n",
              "          google.colab.kernel.accessAllowed ? 'block' : 'none';\n",
              "\n",
              "        async function convertToInteractive(key) {\n",
              "          const element = document.querySelector('#df-04894f2d-a3e5-4464-a7cd-a072817660d3');\n",
              "          const dataTable =\n",
              "            await google.colab.kernel.invokeFunction('convertToInteractive',\n",
              "                                                     [key], {});\n",
              "          if (!dataTable) return;\n",
              "\n",
              "          const docLinkHtml = 'Like what you see? Visit the ' +\n",
              "            '<a target=\"_blank\" href=https://colab.research.google.com/notebooks/data_table.ipynb>data table notebook</a>'\n",
              "            + ' to learn more about interactive tables.';\n",
              "          element.innerHTML = '';\n",
              "          dataTable['output_type'] = 'display_data';\n",
              "          await google.colab.output.renderOutput(dataTable, element);\n",
              "          const docLink = document.createElement('div');\n",
              "          docLink.innerHTML = docLinkHtml;\n",
              "          element.appendChild(docLink);\n",
              "        }\n",
              "      </script>\n",
              "    </div>\n",
              "  </div>\n",
              "  "
            ]
          },
          "metadata": {},
          "execution_count": 63
        }
      ]
    },
    {
      "cell_type": "markdown",
      "source": [
        "Plotting most frequent topics (Sólo para visualizar. No va en Back)"
      ],
      "metadata": {
        "id": "GcVt3J8h5kIE"
      }
    },
    {
      "cell_type": "code",
      "source": [
        "# Sólo para visualizar cuando presentemos. No va en Back\n",
        "ax = sns.barplot(data = df_chart\n",
        "            ,x = 'labels'\n",
        "            ,y = 'values'\n",
        "            )\n",
        "ax.figure.set_size_inches(10,10)"
      ],
      "metadata": {
        "colab": {
          "base_uri": "https://localhost:8080/",
          "height": 606
        },
        "id": "sXHOuNz-2-MF",
        "outputId": "582268a3-4ad0-4359-f5f3-d616f2c5f4a5"
      },
      "execution_count": 64,
      "outputs": [
        {
          "output_type": "display_data",
          "data": {
            "text/plain": [
              "<Figure size 720x720 with 1 Axes>"
            ],
            "image/png": "[encoded data removed]"
          },
          "metadata": {
            "needs_background": "light"
          }
        }
      ]
    },
    {
      "cell_type": "markdown",
      "source": [
        "## 5. Análisis de Sentimientos"
      ],
      "metadata": {
        "id": "R7xEHsb899Ua"
      }
    },
    {
      "cell_type": "code",
      "source": [
        "# Definimos configuración del Modelo\n",
        "MODEL = f\"cardiffnlp/twitter-xlm-roberta-base-sentiment\"\n",
        "\n",
        "tokenizer = AutoTokenizer.from_pretrained(MODEL)\n",
        "config = AutoConfig.from_pretrained(MODEL)\n",
        "model = AutoModelForSequenceClassification.from_pretrained(MODEL)\n"
      ],
      "metadata": {
        "id": "3x7OYWrv560o",
        "colab": {
          "base_uri": "https://localhost:8080/"
        },
        "outputId": "4310f148-7635-437c-cd03-de36539a3d32"
      },
      "execution_count": 165,
      "outputs": [
        {
          "output_type": "execute_result",
          "data": {
            "text/plain": [
              "[{'label': 'Positive', 'score': 0.6600582599639893}]"
            ]
          },
          "metadata": {},
          "execution_count": 165
        }
      ]
    },
    {
      "cell_type": "markdown",
      "source": [
        "### Guardar el modelo (Como respaldo)"
      ],
      "metadata": {
        "id": "wGbh_s92xxiL"
      }
    },
    {
      "cell_type": "code",
      "source": [
        "# Save the model\n",
        "#model.save_pretrained(MODEL)"
      ],
      "metadata": {
        "id": "OStXKxPD7Myz"
      },
      "execution_count": 72,
      "outputs": []
    },
    {
      "cell_type": "markdown",
      "source": [
        "### Función Análisis de Sentimientos"
      ],
      "metadata": {
        "id": "np3kGXbnanFN"
      }
    },
    {
      "cell_type": "code",
      "source": [
        "# Function to predict Sentiment\n",
        "def sentiment_task(text):\n",
        "  \"\"\"Función para analizar el sentimiento en un texto.\n",
        "  Espera una entrada tipo \"string\" y como Salida genera una lista con dos valores:\n",
        "  1. La etiqueta del sentimiento\n",
        "  2. La intensidad del sentimiento\"\"\"\n",
        "  #text = transform_text(text)\n",
        "  encoded_input = tokenizer(text, return_tensors='pt', max_length=512, truncation=True)\n",
        "  output = model(**encoded_input)\n",
        "  scores = output[0][0].detach().numpy()\n",
        "  scores = softmax(scores)\n",
        "  # Print labels and scores\n",
        "  ranking = np.argsort(scores)\n",
        "  ranking = ranking[::-1]\n",
        "  \n",
        "  for i in range(scores.shape[0]):\n",
        "    l = config.id2label[ranking[i]]\n",
        "    s = scores[ranking[i]]\n",
        "    #print(f\"{i+1}) {l} {np.round(float(s), 4)}\")\n",
        "\n",
        "  pred = config.id2label[ranking[0]]\n",
        "  intensidad = np.round(float(scores[ranking[0]]), 4)*100\n",
        "  results = [pred, intensidad]\n",
        "  return results"
      ],
      "metadata": {
        "id": "V78W3WStJSZA"
      },
      "execution_count": 173,
      "outputs": []
    },
    {
      "cell_type": "markdown",
      "source": [
        "### Función predecir tipo de Sentimiento en un tweet o noticia"
      ],
      "metadata": {
        "id": "niop3iCEy8je"
      }
    },
    {
      "cell_type": "code",
      "source": [
        "# Function to emsembler the resulting DataFrame\n",
        "def data_predicts(df):\n",
        "  \"\"\"\n",
        "  Función para predecir el tipo de sentimiento en un texto (Max 512 caracteres).\n",
        "  Espera una entrada en lotes o batchs tipo \"string\" (columna 'CONTENIDO' en un dataframe)\n",
        "  y como Salida genera un dataframe con cinco columnas:\n",
        "  1. Texto de la noticia o tweet\n",
        "  2. Longitud del texto en palabras\n",
        "  3. Cantidad de palabras en el texto\n",
        "  4. La etiqueta del sentimiento (Positivo, Neutral o Negativo)\n",
        "  5. La intensidad del sentimiento\n",
        "  \"\"\"\n",
        "\n",
        "  results_pred = []\n",
        "  results_inten = []\n",
        "  #configs = []\n",
        "  texto = []\n",
        "  try:\n",
        "    for i in range(0, len(df)):\n",
        "      long_text = df['text_len'].to_list()\n",
        "      num_words = df['text_word_count'].to_list()\n",
        "      text = df['CONTENIDO'][i][:512]\n",
        "      text = str(text)\n",
        "      pred = sentiment_task(text)\n",
        "      results_pred.append(pred[0]) # For sentiment_task func\n",
        "      #results_pred.append(pred[0]['label']) # For pipeline\n",
        "      #configs.append(configur)\n",
        "      results_inten.append(pred[1]) # For sentiment_task func\n",
        "      #results_inten.append(pred[0]['score']) # For pipeline\n",
        "      texto.append(text)\n",
        "  except KeyError:\n",
        "    pass\n",
        "  data = {'text': texto,\n",
        "          'longitud_texto': long_text,\n",
        "          'cantidad_palabras': num_words,  \n",
        "        'sentimiento': results_pred,\n",
        "        'intensidad':results_inten\n",
        "        }\n",
        "  resultados = pd.DataFrame(data)\n",
        "  return resultados\n",
        "  #print(dataset[tweet], '--->', config.id2label[pred])\n",
        "  #preds = np.argmax(scores, axis=-1)\n"
      ],
      "metadata": {
        "id": "toFlxuDuKm--"
      },
      "execution_count": 106,
      "outputs": []
    },
    {
      "cell_type": "code",
      "source": [
        "data_predicts = data_predicts(df)"
      ],
      "metadata": {
        "id": "QPUfR6ckdacQ"
      },
      "execution_count": 107,
      "outputs": []
    },
    {
      "cell_type": "code",
      "source": [
        "data_predicts.head()"
      ],
      "metadata": {
        "colab": {
          "base_uri": "https://localhost:8080/",
          "height": 206
        },
        "id": "8o9wbPnlKlyA",
        "outputId": "e67b022a-dddd-48cb-c4e2-b6b4614f78ff"
      },
      "execution_count": 108,
      "outputs": [
        {
          "output_type": "execute_result",
          "data": {
            "text/plain": [
              "                                                text  longitud_texto  \\\n",
              "0  El modelo Buy Now Pay Later (BNPL) que se trad...            3152   \n",
              "1  En medio de un contexto en el que los consumid...           12035   \n",
              "2  Para la mayoría de latinoamericanos, especialm...            7034   \n",
              "3  El efectivo sigue siendo el método de pago más...            6185   \n",
              "4  Cuando las soluciones de «compra ahora, paga d...           12217   \n",
              "\n",
              "   cantidad_palabras sentimiento  intensidad  \n",
              "0                522     Neutral       71.52  \n",
              "1               1908     Neutral       74.05  \n",
              "2               1115    Negative       52.05  \n",
              "3               1037     Neutral       79.91  \n",
              "4               2004     Neutral       43.93  "
            ],
            "text/html": [
              "\n",
              "  <div id=\"df-82145cf5-cd41-4553-8b39-c281fd706a27\">\n",
              "    <div class=\"colab-df-container\">\n",
              "      <div>\n",
              "<style scoped>\n",
              "    .dataframe tbody tr th:only-of-type {\n",
              "        vertical-align: middle;\n",
              "    }\n",
              "\n",
              "    .dataframe tbody tr th {\n",
              "        vertical-align: top;\n",
              "    }\n",
              "\n",
              "    .dataframe thead th {\n",
              "        text-align: right;\n",
              "    }\n",
              "</style>\n",
              "<table border=\"1\" class=\"dataframe\">\n",
              "  <thead>\n",
              "    <tr style=\"text-align: right;\">\n",
              "      <th></th>\n",
              "      <th>text</th>\n",
              "      <th>longitud_texto</th>\n",
              "      <th>cantidad_palabras</th>\n",
              "      <th>sentimiento</th>\n",
              "      <th>intensidad</th>\n",
              "    </tr>\n",
              "  </thead>\n",
              "  <tbody>\n",
              "    <tr>\n",
              "      <th>0</th>\n",
              "      <td>El modelo Buy Now Pay Later (BNPL) que se trad...</td>\n",
              "      <td>3152</td>\n",
              "      <td>522</td>\n",
              "      <td>Neutral</td>\n",
              "      <td>71.52</td>\n",
              "    </tr>\n",
              "    <tr>\n",
              "      <th>1</th>\n",
              "      <td>En medio de un contexto en el que los consumid...</td>\n",
              "      <td>12035</td>\n",
              "      <td>1908</td>\n",
              "      <td>Neutral</td>\n",
              "      <td>74.05</td>\n",
              "    </tr>\n",
              "    <tr>\n",
              "      <th>2</th>\n",
              "      <td>Para la mayoría de latinoamericanos, especialm...</td>\n",
              "      <td>7034</td>\n",
              "      <td>1115</td>\n",
              "      <td>Negative</td>\n",
              "      <td>52.05</td>\n",
              "    </tr>\n",
              "    <tr>\n",
              "      <th>3</th>\n",
              "      <td>El efectivo sigue siendo el método de pago más...</td>\n",
              "      <td>6185</td>\n",
              "      <td>1037</td>\n",
              "      <td>Neutral</td>\n",
              "      <td>79.91</td>\n",
              "    </tr>\n",
              "    <tr>\n",
              "      <th>4</th>\n",
              "      <td>Cuando las soluciones de «compra ahora, paga d...</td>\n",
              "      <td>12217</td>\n",
              "      <td>2004</td>\n",
              "      <td>Neutral</td>\n",
              "      <td>43.93</td>\n",
              "    </tr>\n",
              "  </tbody>\n",
              "</table>\n",
              "</div>\n",
              "      <button class=\"colab-df-convert\" onclick=\"convertToInteractive('df-82145cf5-cd41-4553-8b39-c281fd706a27')\"\n",
              "              title=\"Convert this dataframe to an interactive table.\"\n",
              "              style=\"display:none;\">\n",
              "        \n",
              "  <svg xmlns=\"http://www.w3.org/2000/svg\" height=\"24px\"viewBox=\"0 0 24 24\"\n",
              "       width=\"24px\">\n",
              "    <path d=\"M0 0h24v24H0V0z\" fill=\"none\"/>\n",
              "    <path d=\"M18.56 5.44l.94 2.06.94-2.06 2.06-.94-2.06-.94-.94-2.06-.94 2.06-2.06.94zm-11 1L8.5 8.5l.94-2.06 2.06-.94-2.06-.94L8.5 2.5l-.94 2.06-2.06.94zm10 10l.94 2.06.94-2.06 2.06-.94-2.06-.94-.94-2.06-.94 2.06-2.06.94z\"/><path d=\"M17.41 7.96l-1.37-1.37c-.4-.4-.92-.59-1.43-.59-.52 0-1.04.2-1.43.59L10.3 9.45l-7.72 7.72c-.78.78-.78 2.05 0 2.83L4 21.41c.39.39.9.59 1.41.59.51 0 1.02-.2 1.41-.59l7.78-7.78 2.81-2.81c.8-.78.8-2.07 0-2.86zM5.41 20L4 18.59l7.72-7.72 1.47 1.35L5.41 20z\"/>\n",
              "  </svg>\n",
              "      </button>\n",
              "      \n",
              "  <style>\n",
              "    .colab-df-container {\n",
              "      display:flex;\n",
              "      flex-wrap:wrap;\n",
              "      gap: 12px;\n",
              "    }\n",
              "\n",
              "    .colab-df-convert {\n",
              "      background-color: #E8F0FE;\n",
              "      border: none;\n",
              "      border-radius: 50%;\n",
              "      cursor: pointer;\n",
              "      display: none;\n",
              "      fill: #1967D2;\n",
              "      height: 32px;\n",
              "      padding: 0 0 0 0;\n",
              "      width: 32px;\n",
              "    }\n",
              "\n",
              "    .colab-df-convert:hover {\n",
              "      background-color: #E2EBFA;\n",
              "      box-shadow: 0px 1px 2px rgba(60, 64, 67, 0.3), 0px 1px 3px 1px rgba(60, 64, 67, 0.15);\n",
              "      fill: #174EA6;\n",
              "    }\n",
              "\n",
              "    [theme=dark] .colab-df-convert {\n",
              "      background-color: #3B4455;\n",
              "      fill: #D2E3FC;\n",
              "    }\n",
              "\n",
              "    [theme=dark] .colab-df-convert:hover {\n",
              "      background-color: #434B5C;\n",
              "      box-shadow: 0px 1px 3px 1px rgba(0, 0, 0, 0.15);\n",
              "      filter: drop-shadow(0px 1px 2px rgba(0, 0, 0, 0.3));\n",
              "      fill: #FFFFFF;\n",
              "    }\n",
              "  </style>\n",
              "\n",
              "      <script>\n",
              "        const buttonEl =\n",
              "          document.querySelector('#df-82145cf5-cd41-4553-8b39-c281fd706a27 button.colab-df-convert');\n",
              "        buttonEl.style.display =\n",
              "          google.colab.kernel.accessAllowed ? 'block' : 'none';\n",
              "\n",
              "        async function convertToInteractive(key) {\n",
              "          const element = document.querySelector('#df-82145cf5-cd41-4553-8b39-c281fd706a27');\n",
              "          const dataTable =\n",
              "            await google.colab.kernel.invokeFunction('convertToInteractive',\n",
              "                                                     [key], {});\n",
              "          if (!dataTable) return;\n",
              "\n",
              "          const docLinkHtml = 'Like what you see? Visit the ' +\n",
              "            '<a target=\"_blank\" href=https://colab.research.google.com/notebooks/data_table.ipynb>data table notebook</a>'\n",
              "            + ' to learn more about interactive tables.';\n",
              "          element.innerHTML = '';\n",
              "          dataTable['output_type'] = 'display_data';\n",
              "          await google.colab.output.renderOutput(dataTable, element);\n",
              "          const docLink = document.createElement('div');\n",
              "          docLink.innerHTML = docLinkHtml;\n",
              "          element.appendChild(docLink);\n",
              "        }\n",
              "      </script>\n",
              "    </div>\n",
              "  </div>\n",
              "  "
            ]
          },
          "metadata": {},
          "execution_count": 108
        }
      ]
    },
    {
      "cell_type": "markdown",
      "source": [
        "### Función para \"tokenizar\""
      ],
      "metadata": {
        "id": "XtdBkfjH2kNJ"
      }
    },
    {
      "cell_type": "code",
      "source": [
        "# tokenize helper function\n",
        "import string\n",
        "def text_process(raw_text):\n",
        "    \"\"\"\n",
        "    Takes in a string of text, then performs the following:\n",
        "    1. Remove all punctuation\n",
        "    2. Remove all stopwords\n",
        "    3. Returns a list of the cleaned text\n",
        "    \"\"\"\n",
        "    #stoplist = set(stopwords.words('spanish'))\n",
        "    # Check characters to see if they are in punctuation\n",
        "    nopunc = [char for char in list(raw_text) if char not in string.punctuation]\n",
        "\n",
        "    # Join the characters again to form the string.\n",
        "    nopunc = ''.join(nopunc)\n",
        "    \n",
        "    # Now just remove any stopwords\n",
        "    return [word for word in nopunc.lower().split() if word.lower() not in stoplist]"
      ],
      "metadata": {
        "id": "LQoxlV8JbhzA"
      },
      "execution_count": 85,
      "outputs": []
    },
    {
      "cell_type": "markdown",
      "source": [
        "### Extraemos todas las palabras asociadas a sentimiento \"Positivo\""
      ],
      "metadata": {
        "id": "FfrWdbOV2q49"
      }
    },
    {
      "cell_type": "code",
      "source": [
        "# Almacenamos las palabras asociadas a sentimiento positivo\n",
        "all_pos_words = []\n",
        "df_pos = data_predicts[data_predicts.sentimiento==\"Positive\"]\n",
        "df_pos['tokens'] = df_pos['text'].apply(text_process) # tokenize\n",
        "\n",
        "for line in df_pos['tokens']: # try 'tokens'\n",
        "    all_pos_words.extend(line)\n"
      ],
      "metadata": {
        "id": "nZ_sSsE3iV0-"
      },
      "execution_count": 90,
      "outputs": []
    },
    {
      "cell_type": "markdown",
      "source": [
        "### Extraemos todas las palabras asociadas a sentimiento \"Negativo\""
      ],
      "metadata": {
        "id": "XWuCxkXe2znb"
      }
    },
    {
      "cell_type": "code",
      "source": [
        "# Todas las palabras asociadas a sentimientos Negativos\n",
        "\n",
        "all_neg_words = []\n",
        "df_neg =data_predicts[data_predicts.sentimiento==\"Negative\"]\n",
        "df_neg['tokens'] =df_neg['text'].apply(text_process) # tokenize\n",
        "\n",
        "for line in df_neg['tokens']: # try 'tokens'\n",
        "    all_neg_words.extend(line)"
      ],
      "metadata": {
        "id": "qF-tkcuTfAIw"
      },
      "execution_count": 92,
      "outputs": []
    },
    {
      "cell_type": "markdown",
      "source": [
        "### Calculamos la longitud y cantidad de palabras promedio por noticia o tweet"
      ],
      "metadata": {
        "id": "gCHA72BRbJur"
      }
    },
    {
      "cell_type": "code",
      "source": [
        "text_len_mean = round(pd.DataFrame(data_predicts.groupby('sentimiento').longitud_texto.mean()),2)\n",
        "text_len_mean"
      ],
      "metadata": {
        "colab": {
          "base_uri": "https://localhost:8080/",
          "height": 143
        },
        "id": "3A9t85NgbKG5",
        "outputId": "642b0b65-feee-4998-f553-50e54c8a20de"
      },
      "execution_count": 109,
      "outputs": [
        {
          "output_type": "execute_result",
          "data": {
            "text/plain": [
              "             longitud_texto\n",
              "sentimiento                \n",
              "Negative            7034.00\n",
              "Neutral             5312.54"
            ],
            "text/html": [
              "\n",
              "  <div id=\"df-37aac1c2-5514-4588-97b8-01ff6cd01839\">\n",
              "    <div class=\"colab-df-container\">\n",
              "      <div>\n",
              "<style scoped>\n",
              "    .dataframe tbody tr th:only-of-type {\n",
              "        vertical-align: middle;\n",
              "    }\n",
              "\n",
              "    .dataframe tbody tr th {\n",
              "        vertical-align: top;\n",
              "    }\n",
              "\n",
              "    .dataframe thead th {\n",
              "        text-align: right;\n",
              "    }\n",
              "</style>\n",
              "<table border=\"1\" class=\"dataframe\">\n",
              "  <thead>\n",
              "    <tr style=\"text-align: right;\">\n",
              "      <th></th>\n",
              "      <th>longitud_texto</th>\n",
              "    </tr>\n",
              "    <tr>\n",
              "      <th>sentimiento</th>\n",
              "      <th></th>\n",
              "    </tr>\n",
              "  </thead>\n",
              "  <tbody>\n",
              "    <tr>\n",
              "      <th>Negative</th>\n",
              "      <td>7034.00</td>\n",
              "    </tr>\n",
              "    <tr>\n",
              "      <th>Neutral</th>\n",
              "      <td>5312.54</td>\n",
              "    </tr>\n",
              "  </tbody>\n",
              "</table>\n",
              "</div>\n",
              "      <button class=\"colab-df-convert\" onclick=\"convertToInteractive('df-37aac1c2-5514-4588-97b8-01ff6cd01839')\"\n",
              "              title=\"Convert this dataframe to an interactive table.\"\n",
              "              style=\"display:none;\">\n",
              "        \n",
              "  <svg xmlns=\"http://www.w3.org/2000/svg\" height=\"24px\"viewBox=\"0 0 24 24\"\n",
              "       width=\"24px\">\n",
              "    <path d=\"M0 0h24v24H0V0z\" fill=\"none\"/>\n",
              "    <path d=\"M18.56 5.44l.94 2.06.94-2.06 2.06-.94-2.06-.94-.94-2.06-.94 2.06-2.06.94zm-11 1L8.5 8.5l.94-2.06 2.06-.94-2.06-.94L8.5 2.5l-.94 2.06-2.06.94zm10 10l.94 2.06.94-2.06 2.06-.94-2.06-.94-.94-2.06-.94 2.06-2.06.94z\"/><path d=\"M17.41 7.96l-1.37-1.37c-.4-.4-.92-.59-1.43-.59-.52 0-1.04.2-1.43.59L10.3 9.45l-7.72 7.72c-.78.78-.78 2.05 0 2.83L4 21.41c.39.39.9.59 1.41.59.51 0 1.02-.2 1.41-.59l7.78-7.78 2.81-2.81c.8-.78.8-2.07 0-2.86zM5.41 20L4 18.59l7.72-7.72 1.47 1.35L5.41 20z\"/>\n",
              "  </svg>\n",
              "      </button>\n",
              "      \n",
              "  <style>\n",
              "    .colab-df-container {\n",
              "      display:flex;\n",
              "      flex-wrap:wrap;\n",
              "      gap: 12px;\n",
              "    }\n",
              "\n",
              "    .colab-df-convert {\n",
              "      background-color: #E8F0FE;\n",
              "      border: none;\n",
              "      border-radius: 50%;\n",
              "      cursor: pointer;\n",
              "      display: none;\n",
              "      fill: #1967D2;\n",
              "      height: 32px;\n",
              "      padding: 0 0 0 0;\n",
              "      width: 32px;\n",
              "    }\n",
              "\n",
              "    .colab-df-convert:hover {\n",
              "      background-color: #E2EBFA;\n",
              "      box-shadow: 0px 1px 2px rgba(60, 64, 67, 0.3), 0px 1px 3px 1px rgba(60, 64, 67, 0.15);\n",
              "      fill: #174EA6;\n",
              "    }\n",
              "\n",
              "    [theme=dark] .colab-df-convert {\n",
              "      background-color: #3B4455;\n",
              "      fill: #D2E3FC;\n",
              "    }\n",
              "\n",
              "    [theme=dark] .colab-df-convert:hover {\n",
              "      background-color: #434B5C;\n",
              "      box-shadow: 0px 1px 3px 1px rgba(0, 0, 0, 0.15);\n",
              "      filter: drop-shadow(0px 1px 2px rgba(0, 0, 0, 0.3));\n",
              "      fill: #FFFFFF;\n",
              "    }\n",
              "  </style>\n",
              "\n",
              "      <script>\n",
              "        const buttonEl =\n",
              "          document.querySelector('#df-37aac1c2-5514-4588-97b8-01ff6cd01839 button.colab-df-convert');\n",
              "        buttonEl.style.display =\n",
              "          google.colab.kernel.accessAllowed ? 'block' : 'none';\n",
              "\n",
              "        async function convertToInteractive(key) {\n",
              "          const element = document.querySelector('#df-37aac1c2-5514-4588-97b8-01ff6cd01839');\n",
              "          const dataTable =\n",
              "            await google.colab.kernel.invokeFunction('convertToInteractive',\n",
              "                                                     [key], {});\n",
              "          if (!dataTable) return;\n",
              "\n",
              "          const docLinkHtml = 'Like what you see? Visit the ' +\n",
              "            '<a target=\"_blank\" href=https://colab.research.google.com/notebooks/data_table.ipynb>data table notebook</a>'\n",
              "            + ' to learn more about interactive tables.';\n",
              "          element.innerHTML = '';\n",
              "          dataTable['output_type'] = 'display_data';\n",
              "          await google.colab.output.renderOutput(dataTable, element);\n",
              "          const docLink = document.createElement('div');\n",
              "          docLink.innerHTML = docLinkHtml;\n",
              "          element.appendChild(docLink);\n",
              "        }\n",
              "      </script>\n",
              "    </div>\n",
              "  </div>\n",
              "  "
            ]
          },
          "metadata": {},
          "execution_count": 109
        }
      ]
    },
    {
      "cell_type": "code",
      "source": [
        "word_count_mean = round(pd.DataFrame(data_predicts.groupby('sentimiento').cantidad_palabras.mean()),2)\n",
        "word_count_mean"
      ],
      "metadata": {
        "colab": {
          "base_uri": "https://localhost:8080/",
          "height": 143
        },
        "id": "BghB5AGNcNzo",
        "outputId": "582b73e6-fe3e-44fe-82e3-eeb4c950eaa7"
      },
      "execution_count": 111,
      "outputs": [
        {
          "output_type": "execute_result",
          "data": {
            "text/plain": [
              "             cantidad_palabras\n",
              "sentimiento                   \n",
              "Negative               1115.00\n",
              "Neutral                 857.71"
            ],
            "text/html": [
              "\n",
              "  <div id=\"df-564cf5ab-2453-47a0-8767-08444ef3836f\">\n",
              "    <div class=\"colab-df-container\">\n",
              "      <div>\n",
              "<style scoped>\n",
              "    .dataframe tbody tr th:only-of-type {\n",
              "        vertical-align: middle;\n",
              "    }\n",
              "\n",
              "    .dataframe tbody tr th {\n",
              "        vertical-align: top;\n",
              "    }\n",
              "\n",
              "    .dataframe thead th {\n",
              "        text-align: right;\n",
              "    }\n",
              "</style>\n",
              "<table border=\"1\" class=\"dataframe\">\n",
              "  <thead>\n",
              "    <tr style=\"text-align: right;\">\n",
              "      <th></th>\n",
              "      <th>cantidad_palabras</th>\n",
              "    </tr>\n",
              "    <tr>\n",
              "      <th>sentimiento</th>\n",
              "      <th></th>\n",
              "    </tr>\n",
              "  </thead>\n",
              "  <tbody>\n",
              "    <tr>\n",
              "      <th>Negative</th>\n",
              "      <td>1115.00</td>\n",
              "    </tr>\n",
              "    <tr>\n",
              "      <th>Neutral</th>\n",
              "      <td>857.71</td>\n",
              "    </tr>\n",
              "  </tbody>\n",
              "</table>\n",
              "</div>\n",
              "      <button class=\"colab-df-convert\" onclick=\"convertToInteractive('df-564cf5ab-2453-47a0-8767-08444ef3836f')\"\n",
              "              title=\"Convert this dataframe to an interactive table.\"\n",
              "              style=\"display:none;\">\n",
              "        \n",
              "  <svg xmlns=\"http://www.w3.org/2000/svg\" height=\"24px\"viewBox=\"0 0 24 24\"\n",
              "       width=\"24px\">\n",
              "    <path d=\"M0 0h24v24H0V0z\" fill=\"none\"/>\n",
              "    <path d=\"M18.56 5.44l.94 2.06.94-2.06 2.06-.94-2.06-.94-.94-2.06-.94 2.06-2.06.94zm-11 1L8.5 8.5l.94-2.06 2.06-.94-2.06-.94L8.5 2.5l-.94 2.06-2.06.94zm10 10l.94 2.06.94-2.06 2.06-.94-2.06-.94-.94-2.06-.94 2.06-2.06.94z\"/><path d=\"M17.41 7.96l-1.37-1.37c-.4-.4-.92-.59-1.43-.59-.52 0-1.04.2-1.43.59L10.3 9.45l-7.72 7.72c-.78.78-.78 2.05 0 2.83L4 21.41c.39.39.9.59 1.41.59.51 0 1.02-.2 1.41-.59l7.78-7.78 2.81-2.81c.8-.78.8-2.07 0-2.86zM5.41 20L4 18.59l7.72-7.72 1.47 1.35L5.41 20z\"/>\n",
              "  </svg>\n",
              "      </button>\n",
              "      \n",
              "  <style>\n",
              "    .colab-df-container {\n",
              "      display:flex;\n",
              "      flex-wrap:wrap;\n",
              "      gap: 12px;\n",
              "    }\n",
              "\n",
              "    .colab-df-convert {\n",
              "      background-color: #E8F0FE;\n",
              "      border: none;\n",
              "      border-radius: 50%;\n",
              "      cursor: pointer;\n",
              "      display: none;\n",
              "      fill: #1967D2;\n",
              "      height: 32px;\n",
              "      padding: 0 0 0 0;\n",
              "      width: 32px;\n",
              "    }\n",
              "\n",
              "    .colab-df-convert:hover {\n",
              "      background-color: #E2EBFA;\n",
              "      box-shadow: 0px 1px 2px rgba(60, 64, 67, 0.3), 0px 1px 3px 1px rgba(60, 64, 67, 0.15);\n",
              "      fill: #174EA6;\n",
              "    }\n",
              "\n",
              "    [theme=dark] .colab-df-convert {\n",
              "      background-color: #3B4455;\n",
              "      fill: #D2E3FC;\n",
              "    }\n",
              "\n",
              "    [theme=dark] .colab-df-convert:hover {\n",
              "      background-color: #434B5C;\n",
              "      box-shadow: 0px 1px 3px 1px rgba(0, 0, 0, 0.15);\n",
              "      filter: drop-shadow(0px 1px 2px rgba(0, 0, 0, 0.3));\n",
              "      fill: #FFFFFF;\n",
              "    }\n",
              "  </style>\n",
              "\n",
              "      <script>\n",
              "        const buttonEl =\n",
              "          document.querySelector('#df-564cf5ab-2453-47a0-8767-08444ef3836f button.colab-df-convert');\n",
              "        buttonEl.style.display =\n",
              "          google.colab.kernel.accessAllowed ? 'block' : 'none';\n",
              "\n",
              "        async function convertToInteractive(key) {\n",
              "          const element = document.querySelector('#df-564cf5ab-2453-47a0-8767-08444ef3836f');\n",
              "          const dataTable =\n",
              "            await google.colab.kernel.invokeFunction('convertToInteractive',\n",
              "                                                     [key], {});\n",
              "          if (!dataTable) return;\n",
              "\n",
              "          const docLinkHtml = 'Like what you see? Visit the ' +\n",
              "            '<a target=\"_blank\" href=https://colab.research.google.com/notebooks/data_table.ipynb>data table notebook</a>'\n",
              "            + ' to learn more about interactive tables.';\n",
              "          element.innerHTML = '';\n",
              "          dataTable['output_type'] = 'display_data';\n",
              "          await google.colab.output.renderOutput(dataTable, element);\n",
              "          const docLink = document.createElement('div');\n",
              "          docLink.innerHTML = docLinkHtml;\n",
              "          element.appendChild(docLink);\n",
              "        }\n",
              "      </script>\n",
              "    </div>\n",
              "  </div>\n",
              "  "
            ]
          },
          "metadata": {},
          "execution_count": 111
        }
      ]
    },
    {
      "cell_type": "markdown",
      "source": [
        "### Función para calcular frecuencia de palabras"
      ],
      "metadata": {
        "id": "gW9wk-b0VXC6"
      }
    },
    {
      "cell_type": "code",
      "source": [
        "def freq_palabras(lista):\n",
        "  wordfreq = Counter(lista)\n",
        "  return wordfreq"
      ],
      "metadata": {
        "id": "98eyWKqpVET7"
      },
      "execution_count": null,
      "outputs": []
    },
    {
      "cell_type": "markdown",
      "source": [
        "Seleccionamos sólo las palabras con frecuencia mayor a 3 veces"
      ],
      "metadata": {
        "id": "X4OrdbREdBnQ"
      }
    },
    {
      "cell_type": "code",
      "source": [
        "# create a word frequency dictionary for positive and negatives words \n",
        "wordfreq_pos = freq_palabras(all_pos_words)\n",
        "wordfreq_neg = freq_palabras(all_neg_words)"
      ],
      "metadata": {
        "id": "DIQMpt0BNah7"
      },
      "execution_count": 131,
      "outputs": []
    },
    {
      "cell_type": "code",
      "source": [
        "etiqs = [k for (k,v) in wordfreq_pos.items() if v > 3]"
      ],
      "metadata": {
        "id": "S7JLKxQQcjmK"
      },
      "execution_count": 132,
      "outputs": []
    },
    {
      "cell_type": "code",
      "source": [
        "vals = [v for (k,v) in wordfreq_pos.items() if v > 3]"
      ],
      "metadata": {
        "id": "hLRuPwdQdUvl"
      },
      "execution_count": 133,
      "outputs": []
    },
    {
      "cell_type": "code",
      "source": [
        "if etiqs !=[]:\n",
        "  # Let's get a Bar chart\n",
        "  keys = etiqs\n",
        "\n",
        "  # get values in the same order as keys, and parse percentage values\n",
        "  values = sorted(vals, reverse=True)\n",
        "\n",
        "  sns.barplot(x=keys, y=values)"
      ],
      "metadata": {
        "id": "OMLF7nT_VRqe"
      },
      "execution_count": 129,
      "outputs": []
    },
    {
      "cell_type": "markdown",
      "source": [
        "### Función para contar palabras en una columna y obtener el %"
      ],
      "metadata": {
        "id": "FD9cf6M6uwW2"
      }
    },
    {
      "cell_type": "code",
      "source": [
        "# Let’s count values for sentiment features and see total — percentage.\n",
        "\n",
        "#Function for count_values_in single columns\n",
        "def count_values_in_column(data,feature): \n",
        "  total=data.loc[:,feature].value_counts(dropna=False)\n",
        "  percentage=round(data.loc[:,feature].value_counts(dropna=False,normalize=True)*100,2)\n",
        "  return pd.concat([total,percentage],axis=1,keys=['Total','Percentage'])\n"
      ],
      "metadata": {
        "id": "QeCoNEILff17"
      },
      "execution_count": 182,
      "outputs": []
    },
    {
      "cell_type": "markdown",
      "source": [
        "### Plotting Pie chart  (Los gráficos que van en el Back debe definirlos Amílcar)"
      ],
      "metadata": {
        "id": "I_CNBde6mHNy"
      }
    },
    {
      "cell_type": "code",
      "source": [
        "# create data for Pie Chart\n",
        "def plot_pie(df, column):\n",
        "  pc = count_values_in_column(df,column)\n",
        "  names= pc.index\n",
        "  size=pc['Percentage']\n",
        "  colors=['red','blue','green']\n",
        "  colours = {'Negative': colors[0], 'Neutral': colors[1], 'Positive': colors[2]} \n",
        "  #labels = ['NEGATIVO', 'NEUTRAL', 'POSITIVO'] \n",
        "\n",
        "  # Create a circle for the center of the plot\n",
        "  my_circle=plt.Circle( (0,0), 0.5, color='white')\n",
        "  plt.pie(size, labels=names, colors=[colours[key] for key in names], autopct='%1.0f%%            ')\n",
        "  p=plt.gcf()\n",
        "  p.gca().add_artist(my_circle)\n",
        "  plt.show()"
      ],
      "metadata": {
        "id": "XaDKzBXsealT"
      },
      "execution_count": 183,
      "outputs": []
    },
    {
      "cell_type": "code",
      "source": [
        "plot_pie(data_predicts,'sentimiento')"
      ],
      "metadata": {
        "colab": {
          "base_uri": "https://localhost:8080/",
          "height": 248
        },
        "id": "88cdN3g-puOZ",
        "outputId": "c1a8dc5e-1995-4407-820b-2ca5e25e55b7"
      },
      "execution_count": 184,
      "outputs": [
        {
          "output_type": "display_data",
          "data": {
            "text/plain": [
              "<Figure size 432x288 with 1 Axes>"
            ],
            "image/png": "[encoded data removed]"
          },
          "metadata": {}
        }
      ]
    },
    {
      "cell_type": "markdown",
      "source": [
        "## 6. Análisis de Sentimientos de Bigram/Trigram (***Función que usaremos***)\n",
        "Let's explore some word associations. N-grams analyses are often used to see which words often show up together."
      ],
      "metadata": {
        "id": "uRRpu4TNpJeO"
      }
    },
    {
      "cell_type": "code",
      "source": [
        "def bigram(df):\n",
        "  #stoplist = set(stopwords.words('spanish'))\n",
        "  c_vec = CountVectorizer(stop_words=stoplist, ngram_range=(2,3))\n",
        "  # matrix of ngrams\n",
        "  ngrams = c_vec.fit_transform(df['CONTENIDO'])\n",
        "  # count frequency of ngrams\n",
        "  count_values = ngrams.toarray().sum(axis=0)\n",
        "  # list of ngrams\n",
        "  vocab = c_vec.vocabulary_\n",
        "  df_ngram = pd.DataFrame(sorted([(count_values[i],k) for k,i in vocab.items()], reverse=True)\n",
        "            ).rename(columns={0: 'frequency', 1:'bigram/trigram'})\n",
        "  return df_ngram"
      ],
      "metadata": {
        "id": "uOXC8HpApInw"
      },
      "execution_count": 150,
      "outputs": []
    },
    {
      "cell_type": "code",
      "source": [
        "df_ngram = bigram(df)"
      ],
      "metadata": {
        "id": "Q-9w5fuQiCAw"
      },
      "execution_count": 147,
      "outputs": []
    },
    {
      "cell_type": "markdown",
      "source": [
        "#### Definimos el tipo de Sentimiento y la intensidad del bigram/trigram."
      ],
      "metadata": {
        "id": "ZxWJLgVl9XKF"
      }
    },
    {
      "cell_type": "code",
      "source": [
        "df_ngram['polarity_intensity'] = df_ngram['bigram/trigram'].apply(sentiment_task)\n"
      ],
      "metadata": {
        "id": "iMkURlSs9VGE"
      },
      "execution_count": 174,
      "outputs": []
    },
    {
      "cell_type": "code",
      "source": [
        "df_ngram['polaridad'] = df_ngram['polarity_intensity'].apply(lambda x: x[0])\n",
        "df_ngram['intensidad'] = df_ngram['polarity_intensity'].apply(lambda x: x[1])"
      ],
      "metadata": {
        "id": "ph7mMD55rDmz"
      },
      "execution_count": 176,
      "outputs": []
    },
    {
      "cell_type": "markdown",
      "source": [
        "### Gráfico de anillo (Sólo para demostración, no va en Back)"
      ],
      "metadata": {
        "id": "L9ksgPXqrprd"
      }
    },
    {
      "cell_type": "code",
      "source": [
        "plot_pie(df_ngram, 'polaridad')"
      ],
      "metadata": {
        "colab": {
          "base_uri": "https://localhost:8080/",
          "height": 248
        },
        "id": "big3c69xttSV",
        "outputId": "6339d198-f0e8-4de4-b0a7-2b1bb4201701"
      },
      "execution_count": 180,
      "outputs": [
        {
          "output_type": "display_data",
          "data": {
            "text/plain": [
              "<Figure size 432x288 with 1 Axes>"
            ],
            "image/png": "[encoded data removed]"
          },
          "metadata": {}
        }
      ]
    },
    {
      "cell_type": "code",
      "source": [],
      "metadata": {
        "id": "L_pUF3gTxsAG"
      },
      "execution_count": null,
      "outputs": []
    }
  ]
}