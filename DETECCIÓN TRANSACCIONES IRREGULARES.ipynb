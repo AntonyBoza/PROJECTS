{
 "cells": [
  {
   "cell_type": "markdown",
   "metadata": {},
   "source": [
    "Este proyecto tiene como objetivo, realizar un análisis a profundidad de los datos de contribuyentes regulares durante el trimestre enero - marzo de 2020. \n",
    "Para ello, emplearemos técnicas de análisis estadístico descriptivo y técnicas de análisis predictivo con apoyo del aprendizaje automático."
   ]
  },
  {
   "cell_type": "code",
   "execution_count": 66,
   "metadata": {},
   "outputs": [],
   "source": [
    "from sklearn.model_selection import StratifiedShuffleSplit\n",
    "from sklearn.linear_model import LogisticRegression\n",
    "from sklearn.metrics import classification_report\n",
    "import matplotlib.pyplot as plt\n",
    "import seaborn as sns\n",
    "import pandas as pd\n",
    "import numpy as np"
   ]
  },
  {
   "cell_type": "markdown",
   "metadata": {},
   "source": [
    "# Análisis descriptivo"
   ]
  },
  {
   "cell_type": "code",
   "execution_count": 67,
   "metadata": {},
   "outputs": [],
   "source": [
    "df = pd.read_excel(r'E:\\ANTONIO_BOZA\\DATA_WAKU\\DETECCIÓN EVASORES SENIAT Vs SEDEMAT\\DETECCION FRAUDE\\AFOROS ENERO-FEB-MAR 2020_ML.xlsx')"
   ]
  },
  {
   "cell_type": "code",
   "execution_count": 68,
   "metadata": {},
   "outputs": [
    {
     "data": {
      "text/html": [
       "<div>\n",
       "<style scoped>\n",
       "    .dataframe tbody tr th:only-of-type {\n",
       "        vertical-align: middle;\n",
       "    }\n",
       "\n",
       "    .dataframe tbody tr th {\n",
       "        vertical-align: top;\n",
       "    }\n",
       "\n",
       "    .dataframe thead th {\n",
       "        text-align: right;\n",
       "    }\n",
       "</style>\n",
       "<table border=\"1\" class=\"dataframe\">\n",
       "  <thead>\n",
       "    <tr style=\"text-align: right;\">\n",
       "      <th></th>\n",
       "      <th>RIF</th>\n",
       "      <th>RIM</th>\n",
       "      <th>CONTRIBUYENTE</th>\n",
       "      <th>ACTIVIDAD</th>\n",
       "      <th>MONTO LIQUIDADO PAGADO</th>\n",
       "      <th>MONTO IMPUESTO</th>\n",
       "      <th>ALICUOTA</th>\n",
       "      <th>ALICUOTA_PCT</th>\n",
       "      <th>MONTO INGRESOS</th>\n",
       "      <th>CLASE</th>\n",
       "    </tr>\n",
       "  </thead>\n",
       "  <tbody>\n",
       "    <tr>\n",
       "      <td>0</td>\n",
       "      <td>J-314950134</td>\n",
       "      <td>7000000505</td>\n",
       "      <td>GESTION ESTRATEGIA LOGISTICA SERV. C.A</td>\n",
       "      <td>Servicios para la construcción o ejecución de ...</td>\n",
       "      <td>1200000.00</td>\n",
       "      <td>1.200000</td>\n",
       "      <td>2.817895</td>\n",
       "      <td>0.028179</td>\n",
       "      <td>4258.498319</td>\n",
       "      <td>0</td>\n",
       "    </tr>\n",
       "    <tr>\n",
       "      <td>1</td>\n",
       "      <td>J-303350623</td>\n",
       "      <td>7000001853</td>\n",
       "      <td>JOSE A MARTINEZ Y CIA, S.A</td>\n",
       "      <td>Arrendamiento de inmuebles.</td>\n",
       "      <td>3055500.09</td>\n",
       "      <td>3.055500</td>\n",
       "      <td>5.000000</td>\n",
       "      <td>0.050000</td>\n",
       "      <td>6111.000180</td>\n",
       "      <td>0</td>\n",
       "    </tr>\n",
       "    <tr>\n",
       "      <td>2</td>\n",
       "      <td>J-299169366</td>\n",
       "      <td>7000001743</td>\n",
       "      <td>COLORZULIANO,C.A(SUCURSAL COSTA VERDE)</td>\n",
       "      <td>Detal de pinturas, lacas, barnices y materiale...</td>\n",
       "      <td>22326356.55</td>\n",
       "      <td>22.326357</td>\n",
       "      <td>3.000000</td>\n",
       "      <td>0.030000</td>\n",
       "      <td>74421.188500</td>\n",
       "      <td>0</td>\n",
       "    </tr>\n",
       "    <tr>\n",
       "      <td>3</td>\n",
       "      <td>J-402535546</td>\n",
       "      <td>1900045628</td>\n",
       "      <td>LABORATORIO CLINICO SHA, C.A</td>\n",
       "      <td>Servicios de clínica, incluye: hotelería, farm...</td>\n",
       "      <td>6952234.10</td>\n",
       "      <td>6.952234</td>\n",
       "      <td>1.500000</td>\n",
       "      <td>0.015000</td>\n",
       "      <td>46348.227333</td>\n",
       "      <td>0</td>\n",
       "    </tr>\n",
       "    <tr>\n",
       "      <td>4</td>\n",
       "      <td>G-200091487</td>\n",
       "      <td>2900033795</td>\n",
       "      <td>BANCO BICENTENARIO, DEL PUEBLO, DE LA CLASE OB...</td>\n",
       "      <td>Bancos, empresas de seguros y reaseguros, casa...</td>\n",
       "      <td>960000.00</td>\n",
       "      <td>0.960000</td>\n",
       "      <td>6.000000</td>\n",
       "      <td>0.060000</td>\n",
       "      <td>1600.000000</td>\n",
       "      <td>0</td>\n",
       "    </tr>\n",
       "  </tbody>\n",
       "</table>\n",
       "</div>"
      ],
      "text/plain": [
       "           RIF         RIM                                      CONTRIBUYENTE  \\\n",
       "0  J-314950134  7000000505             GESTION ESTRATEGIA LOGISTICA SERV. C.A   \n",
       "1  J-303350623  7000001853                         JOSE A MARTINEZ Y CIA, S.A   \n",
       "2  J-299169366  7000001743             COLORZULIANO,C.A(SUCURSAL COSTA VERDE)   \n",
       "3  J-402535546  1900045628                       LABORATORIO CLINICO SHA, C.A   \n",
       "4  G-200091487  2900033795  BANCO BICENTENARIO, DEL PUEBLO, DE LA CLASE OB...   \n",
       "\n",
       "                                           ACTIVIDAD  MONTO LIQUIDADO PAGADO  \\\n",
       "0  Servicios para la construcción o ejecución de ...              1200000.00   \n",
       "1                        Arrendamiento de inmuebles.              3055500.09   \n",
       "2  Detal de pinturas, lacas, barnices y materiale...             22326356.55   \n",
       "3  Servicios de clínica, incluye: hotelería, farm...              6952234.10   \n",
       "4  Bancos, empresas de seguros y reaseguros, casa...               960000.00   \n",
       "\n",
       "   MONTO IMPUESTO  ALICUOTA  ALICUOTA_PCT  MONTO INGRESOS  CLASE  \n",
       "0        1.200000  2.817895      0.028179     4258.498319      0  \n",
       "1        3.055500  5.000000      0.050000     6111.000180      0  \n",
       "2       22.326357  3.000000      0.030000    74421.188500      0  \n",
       "3        6.952234  1.500000      0.015000    46348.227333      0  \n",
       "4        0.960000  6.000000      0.060000     1600.000000      0  "
      ]
     },
     "execution_count": 68,
     "metadata": {},
     "output_type": "execute_result"
    }
   ],
   "source": [
    "df.head()"
   ]
  },
  {
   "cell_type": "code",
   "execution_count": 69,
   "metadata": {},
   "outputs": [],
   "source": [
    "# Chequeamos información general de los datos"
   ]
  },
  {
   "cell_type": "code",
   "execution_count": 70,
   "metadata": {},
   "outputs": [
    {
     "name": "stdout",
     "output_type": "stream",
     "text": [
      "<class 'pandas.core.frame.DataFrame'>\n",
      "RangeIndex: 5952 entries, 0 to 5951\n",
      "Data columns (total 10 columns):\n",
      "RIF                       5952 non-null object\n",
      "RIM                       5951 non-null object\n",
      "CONTRIBUYENTE             5952 non-null object\n",
      "ACTIVIDAD                 5952 non-null object\n",
      "MONTO LIQUIDADO PAGADO    5952 non-null float64\n",
      "MONTO IMPUESTO            5952 non-null float64\n",
      "ALICUOTA                  5952 non-null float64\n",
      "ALICUOTA_PCT              5952 non-null float64\n",
      "MONTO INGRESOS            5952 non-null float64\n",
      "CLASE                     5952 non-null int64\n",
      "dtypes: float64(5), int64(1), object(4)\n",
      "memory usage: 465.1+ KB\n"
     ]
    }
   ],
   "source": [
    "df.info()"
   ]
  },
  {
   "cell_type": "code",
   "execution_count": 71,
   "metadata": {},
   "outputs": [
    {
     "name": "stdout",
     "output_type": "stream",
     "text": [
      "       MONTO LIQUIDADO PAGADO  MONTO IMPUESTO     ALICUOTA  ALICUOTA_PCT  \\\n",
      "count            5.952000e+03     5952.000000  5952.000000   5952.000000   \n",
      "mean             2.730239e+07       27.302390     2.892787      0.028928   \n",
      "std              3.119135e+08      311.913527     1.007718      0.010077   \n",
      "min              5.918840e+03        0.005919     1.000000      0.010000   \n",
      "25%              1.120000e+06        1.120000     2.000000      0.020000   \n",
      "50%              3.000000e+06        3.000000     2.817895      0.028179   \n",
      "75%              7.438521e+06        7.438521     3.000000      0.030000   \n",
      "max              1.549779e+10    15497.785493     6.000000      0.060000   \n",
      "\n",
      "       MONTO INGRESOS   CLASE  \n",
      "count    5.952000e+03  5952.0  \n",
      "mean     9.844579e+04     0.0  \n",
      "std      9.483552e+05     0.0  \n",
      "min      2.100448e+01     0.0  \n",
      "25%      4.000000e+03     0.0  \n",
      "50%      1.031055e+04     0.0  \n",
      "75%      2.879181e+04     0.0  \n",
      "max      5.165928e+07     0.0  \n"
     ]
    }
   ],
   "source": [
    "print(df.describe())"
   ]
  },
  {
   "cell_type": "code",
   "execution_count": 72,
   "metadata": {},
   "outputs": [],
   "source": [
    "# Validamos correlación entre variables"
   ]
  },
  {
   "cell_type": "code",
   "execution_count": 73,
   "metadata": {},
   "outputs": [
    {
     "data": {
      "text/html": [
       "<style  type=\"text/css\" >\n",
       "    #T_77263436_87f6_11ea_a873_64006a842217row0_col0 {\n",
       "            background-color:  #023858;\n",
       "            color:  #f1f1f1;\n",
       "        }    #T_77263436_87f6_11ea_a873_64006a842217row0_col1 {\n",
       "            background-color:  #023858;\n",
       "            color:  #f1f1f1;\n",
       "        }    #T_77263436_87f6_11ea_a873_64006a842217row0_col2 {\n",
       "            background-color:  #f8f1f8;\n",
       "            color:  #000000;\n",
       "        }    #T_77263436_87f6_11ea_a873_64006a842217row0_col3 {\n",
       "            background-color:  #f8f1f8;\n",
       "            color:  #000000;\n",
       "        }    #T_77263436_87f6_11ea_a873_64006a842217row0_col4 {\n",
       "            background-color:  #034165;\n",
       "            color:  #f1f1f1;\n",
       "        }    #T_77263436_87f6_11ea_a873_64006a842217row1_col0 {\n",
       "            background-color:  #023858;\n",
       "            color:  #f1f1f1;\n",
       "        }    #T_77263436_87f6_11ea_a873_64006a842217row1_col1 {\n",
       "            background-color:  #023858;\n",
       "            color:  #f1f1f1;\n",
       "        }    #T_77263436_87f6_11ea_a873_64006a842217row1_col2 {\n",
       "            background-color:  #f8f1f8;\n",
       "            color:  #000000;\n",
       "        }    #T_77263436_87f6_11ea_a873_64006a842217row1_col3 {\n",
       "            background-color:  #f8f1f8;\n",
       "            color:  #000000;\n",
       "        }    #T_77263436_87f6_11ea_a873_64006a842217row1_col4 {\n",
       "            background-color:  #034165;\n",
       "            color:  #f1f1f1;\n",
       "        }    #T_77263436_87f6_11ea_a873_64006a842217row2_col0 {\n",
       "            background-color:  #fff7fb;\n",
       "            color:  #000000;\n",
       "        }    #T_77263436_87f6_11ea_a873_64006a842217row2_col1 {\n",
       "            background-color:  #fff7fb;\n",
       "            color:  #000000;\n",
       "        }    #T_77263436_87f6_11ea_a873_64006a842217row2_col2 {\n",
       "            background-color:  #023858;\n",
       "            color:  #f1f1f1;\n",
       "        }    #T_77263436_87f6_11ea_a873_64006a842217row2_col3 {\n",
       "            background-color:  #023858;\n",
       "            color:  #f1f1f1;\n",
       "        }    #T_77263436_87f6_11ea_a873_64006a842217row2_col4 {\n",
       "            background-color:  #fff7fb;\n",
       "            color:  #000000;\n",
       "        }    #T_77263436_87f6_11ea_a873_64006a842217row3_col0 {\n",
       "            background-color:  #fff7fb;\n",
       "            color:  #000000;\n",
       "        }    #T_77263436_87f6_11ea_a873_64006a842217row3_col1 {\n",
       "            background-color:  #fff7fb;\n",
       "            color:  #000000;\n",
       "        }    #T_77263436_87f6_11ea_a873_64006a842217row3_col2 {\n",
       "            background-color:  #023858;\n",
       "            color:  #f1f1f1;\n",
       "        }    #T_77263436_87f6_11ea_a873_64006a842217row3_col3 {\n",
       "            background-color:  #023858;\n",
       "            color:  #f1f1f1;\n",
       "        }    #T_77263436_87f6_11ea_a873_64006a842217row3_col4 {\n",
       "            background-color:  #fff7fb;\n",
       "            color:  #000000;\n",
       "        }    #T_77263436_87f6_11ea_a873_64006a842217row4_col0 {\n",
       "            background-color:  #034165;\n",
       "            color:  #f1f1f1;\n",
       "        }    #T_77263436_87f6_11ea_a873_64006a842217row4_col1 {\n",
       "            background-color:  #034165;\n",
       "            color:  #f1f1f1;\n",
       "        }    #T_77263436_87f6_11ea_a873_64006a842217row4_col2 {\n",
       "            background-color:  #fff7fb;\n",
       "            color:  #000000;\n",
       "        }    #T_77263436_87f6_11ea_a873_64006a842217row4_col3 {\n",
       "            background-color:  #fff7fb;\n",
       "            color:  #000000;\n",
       "        }    #T_77263436_87f6_11ea_a873_64006a842217row4_col4 {\n",
       "            background-color:  #023858;\n",
       "            color:  #f1f1f1;\n",
       "        }</style><table id=\"T_77263436_87f6_11ea_a873_64006a842217\" ><thead>    <tr>        <th class=\"blank level0\" ></th>        <th class=\"col_heading level0 col0\" >MONTO LIQUIDADO PAGADO</th>        <th class=\"col_heading level0 col1\" >MONTO IMPUESTO</th>        <th class=\"col_heading level0 col2\" >ALICUOTA</th>        <th class=\"col_heading level0 col3\" >ALICUOTA_PCT</th>        <th class=\"col_heading level0 col4\" >MONTO INGRESOS</th>    </tr></thead><tbody>\n",
       "                <tr>\n",
       "                        <th id=\"T_77263436_87f6_11ea_a873_64006a842217level0_row0\" class=\"row_heading level0 row0\" >MONTO LIQUIDADO PAGADO</th>\n",
       "                        <td id=\"T_77263436_87f6_11ea_a873_64006a842217row0_col0\" class=\"data row0 col0\" >1</td>\n",
       "                        <td id=\"T_77263436_87f6_11ea_a873_64006a842217row0_col1\" class=\"data row0 col1\" >1</td>\n",
       "                        <td id=\"T_77263436_87f6_11ea_a873_64006a842217row0_col2\" class=\"data row0 col2\" >0.035</td>\n",
       "                        <td id=\"T_77263436_87f6_11ea_a873_64006a842217row0_col3\" class=\"data row0 col3\" >0.035</td>\n",
       "                        <td id=\"T_77263436_87f6_11ea_a873_64006a842217row0_col4\" class=\"data row0 col4\" >0.968</td>\n",
       "            </tr>\n",
       "            <tr>\n",
       "                        <th id=\"T_77263436_87f6_11ea_a873_64006a842217level0_row1\" class=\"row_heading level0 row1\" >MONTO IMPUESTO</th>\n",
       "                        <td id=\"T_77263436_87f6_11ea_a873_64006a842217row1_col0\" class=\"data row1 col0\" >1</td>\n",
       "                        <td id=\"T_77263436_87f6_11ea_a873_64006a842217row1_col1\" class=\"data row1 col1\" >1</td>\n",
       "                        <td id=\"T_77263436_87f6_11ea_a873_64006a842217row1_col2\" class=\"data row1 col2\" >0.035</td>\n",
       "                        <td id=\"T_77263436_87f6_11ea_a873_64006a842217row1_col3\" class=\"data row1 col3\" >0.035</td>\n",
       "                        <td id=\"T_77263436_87f6_11ea_a873_64006a842217row1_col4\" class=\"data row1 col4\" >0.968</td>\n",
       "            </tr>\n",
       "            <tr>\n",
       "                        <th id=\"T_77263436_87f6_11ea_a873_64006a842217level0_row2\" class=\"row_heading level0 row2\" >ALICUOTA</th>\n",
       "                        <td id=\"T_77263436_87f6_11ea_a873_64006a842217row2_col0\" class=\"data row2 col0\" >0.035</td>\n",
       "                        <td id=\"T_77263436_87f6_11ea_a873_64006a842217row2_col1\" class=\"data row2 col1\" >0.035</td>\n",
       "                        <td id=\"T_77263436_87f6_11ea_a873_64006a842217row2_col2\" class=\"data row2 col2\" >1</td>\n",
       "                        <td id=\"T_77263436_87f6_11ea_a873_64006a842217row2_col3\" class=\"data row2 col3\" >1</td>\n",
       "                        <td id=\"T_77263436_87f6_11ea_a873_64006a842217row2_col4\" class=\"data row2 col4\" >-0.012</td>\n",
       "            </tr>\n",
       "            <tr>\n",
       "                        <th id=\"T_77263436_87f6_11ea_a873_64006a842217level0_row3\" class=\"row_heading level0 row3\" >ALICUOTA_PCT</th>\n",
       "                        <td id=\"T_77263436_87f6_11ea_a873_64006a842217row3_col0\" class=\"data row3 col0\" >0.035</td>\n",
       "                        <td id=\"T_77263436_87f6_11ea_a873_64006a842217row3_col1\" class=\"data row3 col1\" >0.035</td>\n",
       "                        <td id=\"T_77263436_87f6_11ea_a873_64006a842217row3_col2\" class=\"data row3 col2\" >1</td>\n",
       "                        <td id=\"T_77263436_87f6_11ea_a873_64006a842217row3_col3\" class=\"data row3 col3\" >1</td>\n",
       "                        <td id=\"T_77263436_87f6_11ea_a873_64006a842217row3_col4\" class=\"data row3 col4\" >-0.012</td>\n",
       "            </tr>\n",
       "            <tr>\n",
       "                        <th id=\"T_77263436_87f6_11ea_a873_64006a842217level0_row4\" class=\"row_heading level0 row4\" >MONTO INGRESOS</th>\n",
       "                        <td id=\"T_77263436_87f6_11ea_a873_64006a842217row4_col0\" class=\"data row4 col0\" >0.968</td>\n",
       "                        <td id=\"T_77263436_87f6_11ea_a873_64006a842217row4_col1\" class=\"data row4 col1\" >0.968</td>\n",
       "                        <td id=\"T_77263436_87f6_11ea_a873_64006a842217row4_col2\" class=\"data row4 col2\" >-0.012</td>\n",
       "                        <td id=\"T_77263436_87f6_11ea_a873_64006a842217row4_col3\" class=\"data row4 col3\" >-0.012</td>\n",
       "                        <td id=\"T_77263436_87f6_11ea_a873_64006a842217row4_col4\" class=\"data row4 col4\" >1</td>\n",
       "            </tr>\n",
       "    </tbody></table>"
      ],
      "text/plain": [
       "<pandas.io.formats.style.Styler at 0x237316d2e08>"
      ]
     },
     "execution_count": 73,
     "metadata": {},
     "output_type": "execute_result"
    }
   ],
   "source": [
    "df.drop(inplace=True, columns= ['CLASE'])\n",
    "corr = round(df.corr(), 3)\n",
    "corr.style.background_gradient()"
   ]
  },
  {
   "cell_type": "code",
   "execution_count": 74,
   "metadata": {},
   "outputs": [
    {
     "name": "stdout",
     "output_type": "stream",
     "text": [
      "La varianza del Monto pagado es : 97273.7\n",
      "La desviación estandar del Monto pagado es : 311.89\n",
      "El promedio del Monto pagado es : 27.3\n",
      "El Monto total pagado es : 162503.82\n"
     ]
    }
   ],
   "source": [
    "varianza = np.var(df['MONTO IMPUESTO'])\n",
    "std = np.std(df['MONTO IMPUESTO'])\n",
    "mean = np.mean(df['MONTO IMPUESTO'])\n",
    "monto_total = df['MONTO IMPUESTO'].sum()\n",
    "print('La varianza del Monto pagado es :', round(varianza,2))\n",
    "print('La desviación estandar del Monto pagado es :', round(std,2))\n",
    "print('El promedio del Monto pagado es :', round(mean,2))\n",
    "print('El Monto total pagado es :', round(monto_total,2))"
   ]
  },
  {
   "cell_type": "code",
   "execution_count": 75,
   "metadata": {},
   "outputs": [],
   "source": [
    "# Definimos una función para graficar la curva del ECDF (Empirical Acumulative Distribution Function)\n",
    "def ecdf(data):\n",
    "    #Número de puntos a considerar\n",
    "    n = len(data)\n",
    "    # Datos para eje X\n",
    "    x = np.sort(data)\n",
    "    # Datos para eje Y\n",
    "    y = np.arange(1, 1+n)/n\n",
    "    return x,y"
   ]
  },
  {
   "cell_type": "code",
   "execution_count": 76,
   "metadata": {},
   "outputs": [],
   "source": [
    "# Graficamos el ECDF para \"Monto Impuestos\""
   ]
  },
  {
   "cell_type": "code",
   "execution_count": 77,
   "metadata": {},
   "outputs": [],
   "source": [
    "x_imp, y_imp = ecdf(df['MONTO IMPUESTO'])"
   ]
  },
  {
   "cell_type": "markdown",
   "metadata": {},
   "source": [
    "# Análisis de datos extremos (Outliers)"
   ]
  },
  {
   "cell_type": "code",
   "execution_count": 78,
   "metadata": {},
   "outputs": [],
   "source": [
    "# Calculamos los percentiles (quartiles) 25% y 75%"
   ]
  },
  {
   "cell_type": "code",
   "execution_count": 79,
   "metadata": {},
   "outputs": [
    {
     "data": {
      "image/png": "[encoded data removed]",
      "text/plain": [
       "<Figure size 432x288 with 1 Axes>"
      ]
     },
     "metadata": {
      "needs_background": "light"
     },
     "output_type": "display_data"
    }
   ],
   "source": [
    "x = df['MONTO IMPUESTO']\n",
    "percentiles = np.array([2.5, 25, 50, 75, 97.5])\n",
    "perct_imp = np.percentile(x, percentiles)\n",
    "\n",
    "plt.plot(x_imp, y_imp, marker = '.', linestyle='none')\n",
    "plt.xlabel('Impuestos pagados en MMBs')\n",
    "plt.ylabel('ECDF')\n",
    "plt.plot(perct_imp, percentiles/100, marker = 'D', color='red', linestyle = 'none')\n",
    "\n",
    "plt.show()\n",
    "\n",
    "#print(perct_imp)\n",
    "# Q1 = np.percentile(x, 25)\n",
    "# Q3 = np.percentile(x, 75)\n",
    "# print('Q1 es ', Q1)\n",
    "# print('Q3 es ', Q3)"
   ]
  },
  {
   "cell_type": "code",
   "execution_count": 80,
   "metadata": {},
   "outputs": [],
   "source": [
    "# Definimos los umbrales superior e inferior\n",
    "# Calculamos el rango interquartílico\n",
    "# rangointer = Q3-Q1\n",
    "# print(rangointer)\n",
    "# Q1 = np.percentile(x, 25)\n",
    "# Q3 = np.percentile(x, 75)\n",
    "# umbral_superior = Q3 + 1.5*rangointer\n",
    "# umbral_inferior = Q1\n",
    "\n",
    "# print('El umbral superior es ', umbral_superior)\n",
    "# print('El umbral inferior es ', umbral_inferior)"
   ]
  },
  {
   "cell_type": "code",
   "execution_count": 81,
   "metadata": {},
   "outputs": [],
   "source": [
    "# Comprobamos el porcentaje de casos hacia arriba y hacia abajo\n",
    "# np.mean(x>umbral_superior)"
   ]
  },
  {
   "cell_type": "code",
   "execution_count": 82,
   "metadata": {},
   "outputs": [],
   "source": [
    "# np.mean(x<umbral_inferior)"
   ]
  },
  {
   "cell_type": "markdown",
   "metadata": {},
   "source": [
    "# Normalización de valores en df\n",
    "def normalize(X):\n",
    "    \"\"\"\n",
    "    Make the distribution of the values of each variable similar by subtracting the mean and by dividing by the standard deviation.\n",
    "    \"\"\"\n",
    "    for feature in X.columns:\n",
    "        X[feature] -= X[feature].mean()\n",
    "        X[feature] /= X[feature].std()\n",
    "    return X"
   ]
  },
  {
   "cell_type": "code",
   "execution_count": 83,
   "metadata": {},
   "outputs": [
    {
     "data": {
      "image/png": "[encoded data removed]",
      "text/plain": [
       "<Figure size 432x288 with 1 Axes>"
      ]
     },
     "metadata": {
      "needs_background": "light"
     },
     "output_type": "display_data"
    }
   ],
   "source": [
    "sns.distplot(x, hist=False, rug=True);"
   ]
  },
  {
   "cell_type": "code",
   "execution_count": 84,
   "metadata": {},
   "outputs": [],
   "source": [
    "# Escalamos la Data (centrada a cero y con desviación estandar = 1)\n",
    "from sklearn import preprocessing\n",
    "\n",
    "X_scaled = preprocessing.scale(x)"
   ]
  },
  {
   "cell_type": "code",
   "execution_count": 85,
   "metadata": {},
   "outputs": [
    {
     "data": {
      "text/plain": [
       "9.55030558817339e-18"
      ]
     },
     "execution_count": 85,
     "metadata": {},
     "output_type": "execute_result"
    }
   ],
   "source": [
    "X_scaled.mean(axis=0)"
   ]
  },
  {
   "cell_type": "code",
   "execution_count": 86,
   "metadata": {},
   "outputs": [
    {
     "data": {
      "text/plain": [
       "0.9999999999999998"
      ]
     },
     "execution_count": 86,
     "metadata": {},
     "output_type": "execute_result"
    }
   ],
   "source": [
    "X_scaled.std(axis=0)"
   ]
  },
  {
   "cell_type": "code",
   "execution_count": 87,
   "metadata": {},
   "outputs": [
    {
     "data": {
      "image/png": "[encoded data removed]",
      "text/plain": [
       "<Figure size 432x288 with 1 Axes>"
      ]
     },
     "metadata": {
      "needs_background": "light"
     },
     "output_type": "display_data"
    }
   ],
   "source": [
    "sns.distplot(X_scaled, hist=False, rug=True);"
   ]
  },
  {
   "cell_type": "code",
   "execution_count": 88,
   "metadata": {},
   "outputs": [],
   "source": [
    "from sklearn.covariance import EllipticEnvelope\n",
    "outliers = EllipticEnvelope(contamination = 0.05)\n",
    "X_outliers = np.array(X_scaled).reshape(-1, 1)"
   ]
  },
  {
   "cell_type": "code",
   "execution_count": 89,
   "metadata": {},
   "outputs": [
    {
     "data": {
      "text/plain": [
       "EllipticEnvelope(assume_centered=False, contamination=0.05, random_state=None,\n",
       "                 store_precision=True, support_fraction=None)"
      ]
     },
     "execution_count": 89,
     "metadata": {},
     "output_type": "execute_result"
    }
   ],
   "source": [
    "# Entrenamos nuestro modelo\n",
    "outliers.fit(X_outliers)"
   ]
  },
  {
   "cell_type": "code",
   "execution_count": 90,
   "metadata": {},
   "outputs": [],
   "source": [
    "# Hacemos nuestra predicción, cuáles valores entran dentro del 5% que queremos detectar.\n",
    "pred = outliers.predict(X_outliers)"
   ]
  },
  {
   "cell_type": "code",
   "execution_count": 91,
   "metadata": {},
   "outputs": [
    {
     "data": {
      "text/plain": [
       "array([1, 1, 1, ..., 1, 1, 1])"
      ]
     },
     "execution_count": 91,
     "metadata": {},
     "output_type": "execute_result"
    }
   ],
   "source": [
    "pred"
   ]
  },
  {
   "cell_type": "code",
   "execution_count": 92,
   "metadata": {},
   "outputs": [],
   "source": [
    "# Detectamos cuántos -1 hay en el array (Los outliers)\n",
    "elips_outliers = np.where(pred==-1)[0]"
   ]
  },
  {
   "cell_type": "code",
   "execution_count": 93,
   "metadata": {},
   "outputs": [
    {
     "data": {
      "text/plain": [
       "RIF                                   J-070083786\n",
       "RIM                                    2000051312\n",
       "CONTRIBUYENTE             INDUSTRIAS SALINERAS CA\n",
       "ACTIVIDAD                       Industria de sal.\n",
       "MONTO LIQUIDADO PAGADO                1.52478e+08\n",
       "MONTO IMPUESTO                            152.478\n",
       "ALICUOTA                                  2.81789\n",
       "ALICUOTA_PCT                            0.0281789\n",
       "MONTO INGRESOS                             541107\n",
       "Name: 65, dtype: object"
      ]
     },
     "execution_count": 93,
     "metadata": {},
     "output_type": "execute_result"
    }
   ],
   "source": [
    "df.iloc[65]"
   ]
  },
  {
   "cell_type": "code",
   "execution_count": 94,
   "metadata": {},
   "outputs": [
    {
     "name": "stdout",
     "output_type": "stream",
     "text": [
      "[  52   65   66   70  165  181  191  218  232  237  252  253  289  311\n",
      "  326  329  338  345  369  379  387  389  392  419  463  495  498  512\n",
      "  521  545  551  562  575  580  581  582  592  619  658  667  668  692\n",
      "  720  743  778  783  800  814  826  873  881  883  884  901  918  926\n",
      "  975 1107 1148 1166 1171 1194 1196 1200 1232 1235 1238 1239 1240 1252\n",
      " 1253 1257 1259 1273 1287 1291 1299 1305 1348 1350 1355 1363 1365 1367\n",
      " 1369 1370 1412 1438 1479 1486 1504 1510 1516 1524 1528 1542 1581 1583\n",
      " 1608 1612 1631 1635 1653 1654 1732 1751 1753 1811 1817 1851 1852 1862\n",
      " 1879 1889 1892 1903 1913 1922 1924 1931 1966 1969 1970 1978 1979 1984\n",
      " 1990 2006 2020 2027 2054 2090 2097 2105 2106 2118 2119 2136 2158 2162\n",
      " 2163 2164 2166 2169 2196 2197 2209 2226 2228 2231 2237 2239 2271 2282\n",
      " 2317 2322 2331 2335 2367 2384 2489 2512 2513 2563 2574 2590 2602 2611\n",
      " 2613 2614 2617 2643 2646 2649 2679 2697 2703 2719 2741 2754 2760 2789\n",
      " 2801 2802 2807 2813 2824 2855 2857 2877 2890 2980 3051 3065 3075 3077\n",
      " 3128 3132 3168 3175 3202 3205 3216 3274 3307 3346 3348 3363 3370 3386\n",
      " 3426 3427 3432 3441 3454 3468 3477 3491 3501 3502 3503 3504 3508 3516\n",
      " 3537 3547 3579 3607 3633 3680 3693 3804 3880 3891 3930 3937 4096 4115\n",
      " 4157 4168 4182 4235 4236 4241 4252 4289 4301 4306 4334 4461 4500 4560\n",
      " 4577 4604 4648 4699 4702 4738 4770 4782 4818 4881 4921 4922 4930 4933\n",
      " 4964 4976 4983 4984 5016 5024 5055 5102 5103 5139 5164 5233 5286 5360\n",
      " 5361 5459 5467 5473 5481 5495 5531 5637 5703 5751 5817 5846 5852 5869\n",
      " 5874 5882 5899 5910]\n"
     ]
    }
   ],
   "source": [
    "print(elips_outliers)"
   ]
  },
  {
   "cell_type": "code",
   "execution_count": 95,
   "metadata": {},
   "outputs": [
    {
     "data": {
      "text/plain": [
       "298"
      ]
     },
     "execution_count": 95,
     "metadata": {},
     "output_type": "execute_result"
    }
   ],
   "source": [
    "len(elips_outliers)"
   ]
  },
  {
   "cell_type": "code",
   "execution_count": 96,
   "metadata": {},
   "outputs": [
    {
     "data": {
      "text/html": [
       "<div>\n",
       "<style scoped>\n",
       "    .dataframe tbody tr th:only-of-type {\n",
       "        vertical-align: middle;\n",
       "    }\n",
       "\n",
       "    .dataframe tbody tr th {\n",
       "        vertical-align: top;\n",
       "    }\n",
       "\n",
       "    .dataframe thead th {\n",
       "        text-align: right;\n",
       "    }\n",
       "</style>\n",
       "<table border=\"1\" class=\"dataframe\">\n",
       "  <thead>\n",
       "    <tr style=\"text-align: right;\">\n",
       "      <th></th>\n",
       "      <th>RIF</th>\n",
       "      <th>RIM</th>\n",
       "      <th>CONTRIBUYENTE</th>\n",
       "      <th>ACTIVIDAD</th>\n",
       "      <th>MONTO LIQUIDADO PAGADO</th>\n",
       "      <th>MONTO IMPUESTO</th>\n",
       "      <th>ALICUOTA</th>\n",
       "      <th>ALICUOTA_PCT</th>\n",
       "      <th>MONTO INGRESOS</th>\n",
       "    </tr>\n",
       "  </thead>\n",
       "  <tbody>\n",
       "    <tr>\n",
       "      <td>52</td>\n",
       "      <td>J-300619460</td>\n",
       "      <td>2000021932</td>\n",
       "      <td>BANCO OCCIDENTAL DE DESCUENTO, BANCO UNIVERSAL...</td>\n",
       "      <td>Bancos, empresas de seguros y reaseguros, casa...</td>\n",
       "      <td>8.795181e+07</td>\n",
       "      <td>87.951813</td>\n",
       "      <td>6.000000</td>\n",
       "      <td>0.060000</td>\n",
       "      <td>1.465864e+05</td>\n",
       "    </tr>\n",
       "    <tr>\n",
       "      <td>65</td>\n",
       "      <td>J-070083786</td>\n",
       "      <td>2000051312</td>\n",
       "      <td>INDUSTRIAS SALINERAS CA</td>\n",
       "      <td>Industria de sal.</td>\n",
       "      <td>1.524783e+08</td>\n",
       "      <td>152.478334</td>\n",
       "      <td>2.817895</td>\n",
       "      <td>0.028179</td>\n",
       "      <td>5.411073e+05</td>\n",
       "    </tr>\n",
       "    <tr>\n",
       "      <td>66</td>\n",
       "      <td>J-070558393</td>\n",
       "      <td>2000080707</td>\n",
       "      <td>SUPER ENNE 2000 72, C.A</td>\n",
       "      <td>Cadenas de supermercados, hipermercados, megat...</td>\n",
       "      <td>4.502377e+08</td>\n",
       "      <td>450.237744</td>\n",
       "      <td>1.500000</td>\n",
       "      <td>0.015000</td>\n",
       "      <td>3.001585e+06</td>\n",
       "    </tr>\n",
       "    <tr>\n",
       "      <td>70</td>\n",
       "      <td>J-000389233</td>\n",
       "      <td>2000080007</td>\n",
       "      <td>SEGUROS CARACAS DE LIBERTY MUTUAL C.A.</td>\n",
       "      <td>Bancos, empresas de seguros y reaseguros, casa...</td>\n",
       "      <td>2.207416e+09</td>\n",
       "      <td>2207.415541</td>\n",
       "      <td>6.000000</td>\n",
       "      <td>0.060000</td>\n",
       "      <td>3.679026e+06</td>\n",
       "    </tr>\n",
       "    <tr>\n",
       "      <td>165</td>\n",
       "      <td>J-406327840</td>\n",
       "      <td>2900050168</td>\n",
       "      <td>ALIMENTOS COMERCIAL LA GRAN FORTUNA, C.A</td>\n",
       "      <td>Abastos, bodegas y pequeños detales de víveres.</td>\n",
       "      <td>1.124796e+08</td>\n",
       "      <td>112.479598</td>\n",
       "      <td>2.000000</td>\n",
       "      <td>0.020000</td>\n",
       "      <td>5.623980e+05</td>\n",
       "    </tr>\n",
       "    <tr>\n",
       "      <td>...</td>\n",
       "      <td>...</td>\n",
       "      <td>...</td>\n",
       "      <td>...</td>\n",
       "      <td>...</td>\n",
       "      <td>...</td>\n",
       "      <td>...</td>\n",
       "      <td>...</td>\n",
       "      <td>...</td>\n",
       "      <td>...</td>\n",
       "    </tr>\n",
       "    <tr>\n",
       "      <td>5869</td>\n",
       "      <td>J-403194181</td>\n",
       "      <td>2900043577</td>\n",
       "      <td>DISTRIBUIDORA SANCHEZ ORDOÑEZ, C.A</td>\n",
       "      <td>Cosméticos, perfumes y artículos de tocador.</td>\n",
       "      <td>6.902885e+07</td>\n",
       "      <td>69.028849</td>\n",
       "      <td>3.000000</td>\n",
       "      <td>0.030000</td>\n",
       "      <td>2.300962e+05</td>\n",
       "    </tr>\n",
       "    <tr>\n",
       "      <td>5874</td>\n",
       "      <td>J-302938929</td>\n",
       "      <td>2000813225</td>\n",
       "      <td>DA VINCI BARRA RISTORANTE C.A.</td>\n",
       "      <td>Restaurantes, fuentes de soda, pizzerías, hela...</td>\n",
       "      <td>1.503091e+08</td>\n",
       "      <td>150.309071</td>\n",
       "      <td>2.000000</td>\n",
       "      <td>0.020000</td>\n",
       "      <td>7.515454e+05</td>\n",
       "    </tr>\n",
       "    <tr>\n",
       "      <td>5882</td>\n",
       "      <td>J-309233831</td>\n",
       "      <td>207P000709</td>\n",
       "      <td>MARIU INVERSIONES C.A.</td>\n",
       "      <td>Distribución de pinturas, lacas, barnices y ma...</td>\n",
       "      <td>1.050161e+08</td>\n",
       "      <td>105.016079</td>\n",
       "      <td>2.817895</td>\n",
       "      <td>0.028179</td>\n",
       "      <td>3.726757e+05</td>\n",
       "    </tr>\n",
       "    <tr>\n",
       "      <td>5899</td>\n",
       "      <td>J-301609573</td>\n",
       "      <td>2000813875</td>\n",
       "      <td>ABADIA DE LAS MERCEDES C.A</td>\n",
       "      <td>Agencias Funerarias y Capillas Velatorias.</td>\n",
       "      <td>2.174781e+08</td>\n",
       "      <td>217.478131</td>\n",
       "      <td>2.817895</td>\n",
       "      <td>0.028179</td>\n",
       "      <td>7.717752e+05</td>\n",
       "    </tr>\n",
       "    <tr>\n",
       "      <td>5910</td>\n",
       "      <td>J-411496812</td>\n",
       "      <td>7000000873</td>\n",
       "      <td>NST STORE MARACAIBO, C.A</td>\n",
       "      <td>Ventas de electrodomésticos.</td>\n",
       "      <td>1.541426e+08</td>\n",
       "      <td>154.142645</td>\n",
       "      <td>2.000000</td>\n",
       "      <td>0.020000</td>\n",
       "      <td>7.707132e+05</td>\n",
       "    </tr>\n",
       "  </tbody>\n",
       "</table>\n",
       "<p>298 rows × 9 columns</p>\n",
       "</div>"
      ],
      "text/plain": [
       "              RIF         RIM  \\\n",
       "52    J-300619460  2000021932   \n",
       "65    J-070083786  2000051312   \n",
       "66    J-070558393  2000080707   \n",
       "70    J-000389233  2000080007   \n",
       "165   J-406327840  2900050168   \n",
       "...           ...         ...   \n",
       "5869  J-403194181  2900043577   \n",
       "5874  J-302938929  2000813225   \n",
       "5882  J-309233831  207P000709   \n",
       "5899  J-301609573  2000813875   \n",
       "5910  J-411496812  7000000873   \n",
       "\n",
       "                                          CONTRIBUYENTE  \\\n",
       "52    BANCO OCCIDENTAL DE DESCUENTO, BANCO UNIVERSAL...   \n",
       "65                              INDUSTRIAS SALINERAS CA   \n",
       "66                              SUPER ENNE 2000 72, C.A   \n",
       "70               SEGUROS CARACAS DE LIBERTY MUTUAL C.A.   \n",
       "165            ALIMENTOS COMERCIAL LA GRAN FORTUNA, C.A   \n",
       "...                                                 ...   \n",
       "5869                 DISTRIBUIDORA SANCHEZ ORDOÑEZ, C.A   \n",
       "5874                     DA VINCI BARRA RISTORANTE C.A.   \n",
       "5882                             MARIU INVERSIONES C.A.   \n",
       "5899                         ABADIA DE LAS MERCEDES C.A   \n",
       "5910                           NST STORE MARACAIBO, C.A   \n",
       "\n",
       "                                              ACTIVIDAD  \\\n",
       "52    Bancos, empresas de seguros y reaseguros, casa...   \n",
       "65                                    Industria de sal.   \n",
       "66    Cadenas de supermercados, hipermercados, megat...   \n",
       "70    Bancos, empresas de seguros y reaseguros, casa...   \n",
       "165     Abastos, bodegas y pequeños detales de víveres.   \n",
       "...                                                 ...   \n",
       "5869       Cosméticos, perfumes y artículos de tocador.   \n",
       "5874  Restaurantes, fuentes de soda, pizzerías, hela...   \n",
       "5882  Distribución de pinturas, lacas, barnices y ma...   \n",
       "5899         Agencias Funerarias y Capillas Velatorias.   \n",
       "5910                       Ventas de electrodomésticos.   \n",
       "\n",
       "      MONTO LIQUIDADO PAGADO  MONTO IMPUESTO  ALICUOTA  ALICUOTA_PCT  \\\n",
       "52              8.795181e+07       87.951813  6.000000      0.060000   \n",
       "65              1.524783e+08      152.478334  2.817895      0.028179   \n",
       "66              4.502377e+08      450.237744  1.500000      0.015000   \n",
       "70              2.207416e+09     2207.415541  6.000000      0.060000   \n",
       "165             1.124796e+08      112.479598  2.000000      0.020000   \n",
       "...                      ...             ...       ...           ...   \n",
       "5869            6.902885e+07       69.028849  3.000000      0.030000   \n",
       "5874            1.503091e+08      150.309071  2.000000      0.020000   \n",
       "5882            1.050161e+08      105.016079  2.817895      0.028179   \n",
       "5899            2.174781e+08      217.478131  2.817895      0.028179   \n",
       "5910            1.541426e+08      154.142645  2.000000      0.020000   \n",
       "\n",
       "      MONTO INGRESOS  \n",
       "52      1.465864e+05  \n",
       "65      5.411073e+05  \n",
       "66      3.001585e+06  \n",
       "70      3.679026e+06  \n",
       "165     5.623980e+05  \n",
       "...              ...  \n",
       "5869    2.300962e+05  \n",
       "5874    7.515454e+05  \n",
       "5882    3.726757e+05  \n",
       "5899    7.717752e+05  \n",
       "5910    7.707132e+05  \n",
       "\n",
       "[298 rows x 9 columns]"
      ]
     },
     "execution_count": 96,
     "metadata": {},
     "output_type": "execute_result"
    }
   ],
   "source": [
    "df.iloc[elips_outliers,:]"
   ]
  },
  {
   "cell_type": "code",
   "execution_count": 97,
   "metadata": {},
   "outputs": [],
   "source": [
    "datos_atipicos = df.iloc[elips_outliers,:]"
   ]
  },
  {
   "cell_type": "code",
   "execution_count": 102,
   "metadata": {},
   "outputs": [
    {
     "name": "stderr",
     "output_type": "stream",
     "text": [
      "C:\\Users\\WAKU\\Anaconda3\\lib\\site-packages\\pandas\\core\\frame.py:4102: SettingWithCopyWarning: \n",
      "A value is trying to be set on a copy of a slice from a DataFrame\n",
      "\n",
      "See the caveats in the documentation: http://pandas.pydata.org/pandas-docs/stable/user_guide/indexing.html#returning-a-view-versus-a-copy\n",
      "  errors=errors,\n"
     ]
    }
   ],
   "source": [
    "# Retiramos a Industrias Salinas\n",
    "# df.drop([1,2])\n",
    "datos_atipicos.drop([65], inplace=True)"
   ]
  },
  {
   "cell_type": "code",
   "execution_count": 107,
   "metadata": {},
   "outputs": [
    {
     "data": {
      "text/html": [
       "<div>\n",
       "<style scoped>\n",
       "    .dataframe tbody tr th:only-of-type {\n",
       "        vertical-align: middle;\n",
       "    }\n",
       "\n",
       "    .dataframe tbody tr th {\n",
       "        vertical-align: top;\n",
       "    }\n",
       "\n",
       "    .dataframe thead th {\n",
       "        text-align: right;\n",
       "    }\n",
       "</style>\n",
       "<table border=\"1\" class=\"dataframe\">\n",
       "  <thead>\n",
       "    <tr style=\"text-align: right;\">\n",
       "      <th></th>\n",
       "      <th>RIF</th>\n",
       "      <th>RIM</th>\n",
       "      <th>CONTRIBUYENTE</th>\n",
       "      <th>ACTIVIDAD</th>\n",
       "      <th>MONTO LIQUIDADO PAGADO</th>\n",
       "      <th>MONTO IMPUESTO</th>\n",
       "      <th>ALICUOTA</th>\n",
       "      <th>ALICUOTA_PCT</th>\n",
       "      <th>MONTO INGRESOS</th>\n",
       "    </tr>\n",
       "  </thead>\n",
       "  <tbody>\n",
       "    <tr>\n",
       "      <td>52</td>\n",
       "      <td>J-300619460</td>\n",
       "      <td>2000021932</td>\n",
       "      <td>BANCO OCCIDENTAL DE DESCUENTO, BANCO UNIVERSAL...</td>\n",
       "      <td>Bancos, empresas de seguros y reaseguros, casa...</td>\n",
       "      <td>8.795181e+07</td>\n",
       "      <td>87.951813</td>\n",
       "      <td>6.000000</td>\n",
       "      <td>0.060000</td>\n",
       "      <td>1.465864e+05</td>\n",
       "    </tr>\n",
       "    <tr>\n",
       "      <td>66</td>\n",
       "      <td>J-070558393</td>\n",
       "      <td>2000080707</td>\n",
       "      <td>SUPER ENNE 2000 72, C.A</td>\n",
       "      <td>Cadenas de supermercados, hipermercados, megat...</td>\n",
       "      <td>4.502377e+08</td>\n",
       "      <td>450.237744</td>\n",
       "      <td>1.500000</td>\n",
       "      <td>0.015000</td>\n",
       "      <td>3.001585e+06</td>\n",
       "    </tr>\n",
       "    <tr>\n",
       "      <td>70</td>\n",
       "      <td>J-000389233</td>\n",
       "      <td>2000080007</td>\n",
       "      <td>SEGUROS CARACAS DE LIBERTY MUTUAL C.A.</td>\n",
       "      <td>Bancos, empresas de seguros y reaseguros, casa...</td>\n",
       "      <td>2.207416e+09</td>\n",
       "      <td>2207.415541</td>\n",
       "      <td>6.000000</td>\n",
       "      <td>0.060000</td>\n",
       "      <td>3.679026e+06</td>\n",
       "    </tr>\n",
       "    <tr>\n",
       "      <td>165</td>\n",
       "      <td>J-406327840</td>\n",
       "      <td>2900050168</td>\n",
       "      <td>ALIMENTOS COMERCIAL LA GRAN FORTUNA, C.A</td>\n",
       "      <td>Abastos, bodegas y pequeños detales de víveres.</td>\n",
       "      <td>1.124796e+08</td>\n",
       "      <td>112.479598</td>\n",
       "      <td>2.000000</td>\n",
       "      <td>0.020000</td>\n",
       "      <td>5.623980e+05</td>\n",
       "    </tr>\n",
       "    <tr>\n",
       "      <td>181</td>\n",
       "      <td>J-308381233</td>\n",
       "      <td>2900013526</td>\n",
       "      <td>ZAPATERIA GASOLINA EXTRA C.A. (SUCURSAL)</td>\n",
       "      <td>Distribución y venta de calzados, carteras y o...</td>\n",
       "      <td>7.539444e+07</td>\n",
       "      <td>75.394438</td>\n",
       "      <td>3.000000</td>\n",
       "      <td>0.030000</td>\n",
       "      <td>2.513148e+05</td>\n",
       "    </tr>\n",
       "    <tr>\n",
       "      <td>...</td>\n",
       "      <td>...</td>\n",
       "      <td>...</td>\n",
       "      <td>...</td>\n",
       "      <td>...</td>\n",
       "      <td>...</td>\n",
       "      <td>...</td>\n",
       "      <td>...</td>\n",
       "      <td>...</td>\n",
       "      <td>...</td>\n",
       "    </tr>\n",
       "    <tr>\n",
       "      <td>5869</td>\n",
       "      <td>J-403194181</td>\n",
       "      <td>2900043577</td>\n",
       "      <td>DISTRIBUIDORA SANCHEZ ORDOÑEZ, C.A</td>\n",
       "      <td>Cosméticos, perfumes y artículos de tocador.</td>\n",
       "      <td>6.902885e+07</td>\n",
       "      <td>69.028849</td>\n",
       "      <td>3.000000</td>\n",
       "      <td>0.030000</td>\n",
       "      <td>2.300962e+05</td>\n",
       "    </tr>\n",
       "    <tr>\n",
       "      <td>5874</td>\n",
       "      <td>J-302938929</td>\n",
       "      <td>2000813225</td>\n",
       "      <td>DA VINCI BARRA RISTORANTE C.A.</td>\n",
       "      <td>Restaurantes, fuentes de soda, pizzerías, hela...</td>\n",
       "      <td>1.503091e+08</td>\n",
       "      <td>150.309071</td>\n",
       "      <td>2.000000</td>\n",
       "      <td>0.020000</td>\n",
       "      <td>7.515454e+05</td>\n",
       "    </tr>\n",
       "    <tr>\n",
       "      <td>5882</td>\n",
       "      <td>J-309233831</td>\n",
       "      <td>207P000709</td>\n",
       "      <td>MARIU INVERSIONES C.A.</td>\n",
       "      <td>Distribución de pinturas, lacas, barnices y ma...</td>\n",
       "      <td>1.050161e+08</td>\n",
       "      <td>105.016079</td>\n",
       "      <td>2.817895</td>\n",
       "      <td>0.028179</td>\n",
       "      <td>3.726757e+05</td>\n",
       "    </tr>\n",
       "    <tr>\n",
       "      <td>5899</td>\n",
       "      <td>J-301609573</td>\n",
       "      <td>2000813875</td>\n",
       "      <td>ABADIA DE LAS MERCEDES C.A</td>\n",
       "      <td>Agencias Funerarias y Capillas Velatorias.</td>\n",
       "      <td>2.174781e+08</td>\n",
       "      <td>217.478131</td>\n",
       "      <td>2.817895</td>\n",
       "      <td>0.028179</td>\n",
       "      <td>7.717752e+05</td>\n",
       "    </tr>\n",
       "    <tr>\n",
       "      <td>5910</td>\n",
       "      <td>J-411496812</td>\n",
       "      <td>7000000873</td>\n",
       "      <td>NST STORE MARACAIBO, C.A</td>\n",
       "      <td>Ventas de electrodomésticos.</td>\n",
       "      <td>1.541426e+08</td>\n",
       "      <td>154.142645</td>\n",
       "      <td>2.000000</td>\n",
       "      <td>0.020000</td>\n",
       "      <td>7.707132e+05</td>\n",
       "    </tr>\n",
       "  </tbody>\n",
       "</table>\n",
       "<p>297 rows × 9 columns</p>\n",
       "</div>"
      ],
      "text/plain": [
       "              RIF         RIM  \\\n",
       "52    J-300619460  2000021932   \n",
       "66    J-070558393  2000080707   \n",
       "70    J-000389233  2000080007   \n",
       "165   J-406327840  2900050168   \n",
       "181   J-308381233  2900013526   \n",
       "...           ...         ...   \n",
       "5869  J-403194181  2900043577   \n",
       "5874  J-302938929  2000813225   \n",
       "5882  J-309233831  207P000709   \n",
       "5899  J-301609573  2000813875   \n",
       "5910  J-411496812  7000000873   \n",
       "\n",
       "                                          CONTRIBUYENTE  \\\n",
       "52    BANCO OCCIDENTAL DE DESCUENTO, BANCO UNIVERSAL...   \n",
       "66                              SUPER ENNE 2000 72, C.A   \n",
       "70               SEGUROS CARACAS DE LIBERTY MUTUAL C.A.   \n",
       "165            ALIMENTOS COMERCIAL LA GRAN FORTUNA, C.A   \n",
       "181            ZAPATERIA GASOLINA EXTRA C.A. (SUCURSAL)   \n",
       "...                                                 ...   \n",
       "5869                 DISTRIBUIDORA SANCHEZ ORDOÑEZ, C.A   \n",
       "5874                     DA VINCI BARRA RISTORANTE C.A.   \n",
       "5882                             MARIU INVERSIONES C.A.   \n",
       "5899                         ABADIA DE LAS MERCEDES C.A   \n",
       "5910                           NST STORE MARACAIBO, C.A   \n",
       "\n",
       "                                              ACTIVIDAD  \\\n",
       "52    Bancos, empresas de seguros y reaseguros, casa...   \n",
       "66    Cadenas de supermercados, hipermercados, megat...   \n",
       "70    Bancos, empresas de seguros y reaseguros, casa...   \n",
       "165     Abastos, bodegas y pequeños detales de víveres.   \n",
       "181   Distribución y venta de calzados, carteras y o...   \n",
       "...                                                 ...   \n",
       "5869       Cosméticos, perfumes y artículos de tocador.   \n",
       "5874  Restaurantes, fuentes de soda, pizzerías, hela...   \n",
       "5882  Distribución de pinturas, lacas, barnices y ma...   \n",
       "5899         Agencias Funerarias y Capillas Velatorias.   \n",
       "5910                       Ventas de electrodomésticos.   \n",
       "\n",
       "      MONTO LIQUIDADO PAGADO  MONTO IMPUESTO  ALICUOTA  ALICUOTA_PCT  \\\n",
       "52              8.795181e+07       87.951813  6.000000      0.060000   \n",
       "66              4.502377e+08      450.237744  1.500000      0.015000   \n",
       "70              2.207416e+09     2207.415541  6.000000      0.060000   \n",
       "165             1.124796e+08      112.479598  2.000000      0.020000   \n",
       "181             7.539444e+07       75.394438  3.000000      0.030000   \n",
       "...                      ...             ...       ...           ...   \n",
       "5869            6.902885e+07       69.028849  3.000000      0.030000   \n",
       "5874            1.503091e+08      150.309071  2.000000      0.020000   \n",
       "5882            1.050161e+08      105.016079  2.817895      0.028179   \n",
       "5899            2.174781e+08      217.478131  2.817895      0.028179   \n",
       "5910            1.541426e+08      154.142645  2.000000      0.020000   \n",
       "\n",
       "      MONTO INGRESOS  \n",
       "52      1.465864e+05  \n",
       "66      3.001585e+06  \n",
       "70      3.679026e+06  \n",
       "165     5.623980e+05  \n",
       "181     2.513148e+05  \n",
       "...              ...  \n",
       "5869    2.300962e+05  \n",
       "5874    7.515454e+05  \n",
       "5882    3.726757e+05  \n",
       "5899    7.717752e+05  \n",
       "5910    7.707132e+05  \n",
       "\n",
       "[297 rows x 9 columns]"
      ]
     },
     "execution_count": 107,
     "metadata": {},
     "output_type": "execute_result"
    }
   ],
   "source": [
    "datos_atipicos"
   ]
  },
  {
   "cell_type": "code",
   "execution_count": 108,
   "metadata": {},
   "outputs": [],
   "source": [
    "# Exportamos el archivo a excel\n",
    "archivo = datos_atipicos.to_excel('Atipicos_Trimestre_Enero_Marzo_2020_Rev.xlsx', index=False)"
   ]
  },
  {
   "cell_type": "markdown",
   "metadata": {},
   "source": [
    "# Enfoque basado en agrupamiento para la detección de anomalías"
   ]
  },
  {
   "cell_type": "code",
   "execution_count": 95,
   "metadata": {},
   "outputs": [],
   "source": [
    "# Vamos a utilizar la agrupación de K-Means que nos ayudará a agrupar los puntos de datos (Monto Impuesto)"
   ]
  },
  {
   "cell_type": "code",
   "execution_count": 153,
   "metadata": {},
   "outputs": [],
   "source": [
    "import pandas as pd\n",
    "import numpy as np\n",
    "import matplotlib.pyplot as plt\n",
    "import seaborn as sns\n",
    "from scipy.cluster.vq import kmeans\n",
    "from scipy import cluster\n",
    "from sklearn.cluster import KMeans"
   ]
  },
  {
   "cell_type": "code",
   "execution_count": 154,
   "metadata": {},
   "outputs": [],
   "source": [
    "df = pd.read_excel(r'E:\\ANTONIO_BOZA\\DATA_WAKU\\DETECCIÓN EVASORES SENIAT Vs SEDEMAT\\DETECCION FRAUDE\\AFOROS ENERO-FEB-MAR 2020_ML.xlsx')"
   ]
  },
  {
   "cell_type": "code",
   "execution_count": 155,
   "metadata": {},
   "outputs": [
    {
     "data": {
      "text/html": [
       "<div>\n",
       "<style scoped>\n",
       "    .dataframe tbody tr th:only-of-type {\n",
       "        vertical-align: middle;\n",
       "    }\n",
       "\n",
       "    .dataframe tbody tr th {\n",
       "        vertical-align: top;\n",
       "    }\n",
       "\n",
       "    .dataframe thead th {\n",
       "        text-align: right;\n",
       "    }\n",
       "</style>\n",
       "<table border=\"1\" class=\"dataframe\">\n",
       "  <thead>\n",
       "    <tr style=\"text-align: right;\">\n",
       "      <th></th>\n",
       "      <th>RIF</th>\n",
       "      <th>RIM</th>\n",
       "      <th>CONTRIBUYENTE</th>\n",
       "      <th>ACTIVIDAD</th>\n",
       "      <th>MONTO LIQUIDADO PAGADO</th>\n",
       "      <th>MONTO IMPUESTO</th>\n",
       "      <th>ALICUOTA</th>\n",
       "      <th>ALICUOTA_PCT</th>\n",
       "      <th>MONTO INGRESOS</th>\n",
       "      <th>CLASE</th>\n",
       "    </tr>\n",
       "  </thead>\n",
       "  <tbody>\n",
       "    <tr>\n",
       "      <td>0</td>\n",
       "      <td>J-314950134</td>\n",
       "      <td>7000000505</td>\n",
       "      <td>GESTION ESTRATEGIA LOGISTICA SERV. C.A</td>\n",
       "      <td>Servicios para la construcción o ejecución de ...</td>\n",
       "      <td>1200000.00</td>\n",
       "      <td>1.200000</td>\n",
       "      <td>2.817895</td>\n",
       "      <td>0.028179</td>\n",
       "      <td>4258.498319</td>\n",
       "      <td>0</td>\n",
       "    </tr>\n",
       "    <tr>\n",
       "      <td>1</td>\n",
       "      <td>J-303350623</td>\n",
       "      <td>7000001853</td>\n",
       "      <td>JOSE A MARTINEZ Y CIA, S.A</td>\n",
       "      <td>Arrendamiento de inmuebles.</td>\n",
       "      <td>3055500.09</td>\n",
       "      <td>3.055500</td>\n",
       "      <td>5.000000</td>\n",
       "      <td>0.050000</td>\n",
       "      <td>6111.000180</td>\n",
       "      <td>0</td>\n",
       "    </tr>\n",
       "    <tr>\n",
       "      <td>2</td>\n",
       "      <td>J-299169366</td>\n",
       "      <td>7000001743</td>\n",
       "      <td>COLORZULIANO,C.A(SUCURSAL COSTA VERDE)</td>\n",
       "      <td>Detal de pinturas, lacas, barnices y materiale...</td>\n",
       "      <td>22326356.55</td>\n",
       "      <td>22.326357</td>\n",
       "      <td>3.000000</td>\n",
       "      <td>0.030000</td>\n",
       "      <td>74421.188500</td>\n",
       "      <td>0</td>\n",
       "    </tr>\n",
       "    <tr>\n",
       "      <td>3</td>\n",
       "      <td>J-402535546</td>\n",
       "      <td>1900045628</td>\n",
       "      <td>LABORATORIO CLINICO SHA, C.A</td>\n",
       "      <td>Servicios de clínica, incluye: hotelería, farm...</td>\n",
       "      <td>6952234.10</td>\n",
       "      <td>6.952234</td>\n",
       "      <td>1.500000</td>\n",
       "      <td>0.015000</td>\n",
       "      <td>46348.227333</td>\n",
       "      <td>0</td>\n",
       "    </tr>\n",
       "    <tr>\n",
       "      <td>4</td>\n",
       "      <td>G-200091487</td>\n",
       "      <td>2900033795</td>\n",
       "      <td>BANCO BICENTENARIO, DEL PUEBLO, DE LA CLASE OB...</td>\n",
       "      <td>Bancos, empresas de seguros y reaseguros, casa...</td>\n",
       "      <td>960000.00</td>\n",
       "      <td>0.960000</td>\n",
       "      <td>6.000000</td>\n",
       "      <td>0.060000</td>\n",
       "      <td>1600.000000</td>\n",
       "      <td>0</td>\n",
       "    </tr>\n",
       "  </tbody>\n",
       "</table>\n",
       "</div>"
      ],
      "text/plain": [
       "           RIF         RIM                                      CONTRIBUYENTE  \\\n",
       "0  J-314950134  7000000505             GESTION ESTRATEGIA LOGISTICA SERV. C.A   \n",
       "1  J-303350623  7000001853                         JOSE A MARTINEZ Y CIA, S.A   \n",
       "2  J-299169366  7000001743             COLORZULIANO,C.A(SUCURSAL COSTA VERDE)   \n",
       "3  J-402535546  1900045628                       LABORATORIO CLINICO SHA, C.A   \n",
       "4  G-200091487  2900033795  BANCO BICENTENARIO, DEL PUEBLO, DE LA CLASE OB...   \n",
       "\n",
       "                                           ACTIVIDAD  MONTO LIQUIDADO PAGADO  \\\n",
       "0  Servicios para la construcción o ejecución de ...              1200000.00   \n",
       "1                        Arrendamiento de inmuebles.              3055500.09   \n",
       "2  Detal de pinturas, lacas, barnices y materiale...             22326356.55   \n",
       "3  Servicios de clínica, incluye: hotelería, farm...              6952234.10   \n",
       "4  Bancos, empresas de seguros y reaseguros, casa...               960000.00   \n",
       "\n",
       "   MONTO IMPUESTO  ALICUOTA  ALICUOTA_PCT  MONTO INGRESOS  CLASE  \n",
       "0        1.200000  2.817895      0.028179     4258.498319      0  \n",
       "1        3.055500  5.000000      0.050000     6111.000180      0  \n",
       "2       22.326357  3.000000      0.030000    74421.188500      0  \n",
       "3        6.952234  1.500000      0.015000    46348.227333      0  \n",
       "4        0.960000  6.000000      0.060000     1600.000000      0  "
      ]
     },
     "execution_count": 155,
     "metadata": {},
     "output_type": "execute_result"
    }
   ],
   "source": [
    "df.head()"
   ]
  },
  {
   "cell_type": "code",
   "execution_count": 156,
   "metadata": {},
   "outputs": [
    {
     "data": {
      "text/plain": [
       "0.00591884"
      ]
     },
     "execution_count": 156,
     "metadata": {},
     "output_type": "execute_result"
    }
   ],
   "source": [
    "df['MONTO IMPUESTO'].min()"
   ]
  },
  {
   "cell_type": "code",
   "execution_count": 157,
   "metadata": {},
   "outputs": [
    {
     "data": {
      "text/plain": [
       "15497.785493309999"
      ]
     },
     "execution_count": 157,
     "metadata": {},
     "output_type": "execute_result"
    }
   ],
   "source": [
    "df['MONTO IMPUESTO'].max()"
   ]
  },
  {
   "cell_type": "code",
   "execution_count": 47,
   "metadata": {},
   "outputs": [],
   "source": [
    "df['STDV']= df['MONTO IMPUESTO'].std()"
   ]
  },
  {
   "cell_type": "code",
   "execution_count": 48,
   "metadata": {},
   "outputs": [
    {
     "data": {
      "text/plain": [
       "(5952,)"
      ]
     },
     "execution_count": 48,
     "metadata": {},
     "output_type": "execute_result"
    }
   ],
   "source": [
    "df['STDV'].shape"
   ]
  },
  {
   "cell_type": "code",
   "execution_count": 49,
   "metadata": {},
   "outputs": [
    {
     "data": {
      "text/plain": [
       "(5952,)"
      ]
     },
     "execution_count": 49,
     "metadata": {},
     "output_type": "execute_result"
    }
   ],
   "source": [
    "df['MONTO IMPUESTO'].shape"
   ]
  },
  {
   "cell_type": "code",
   "execution_count": 54,
   "metadata": {},
   "outputs": [],
   "source": [
    "df['stdv_dif'] = df['MONTO IMPUESTO']-df['STDV']"
   ]
  },
  {
   "cell_type": "code",
   "execution_count": 55,
   "metadata": {},
   "outputs": [
    {
     "data": {
      "text/plain": [
       "(5952,)"
      ]
     },
     "execution_count": 55,
     "metadata": {},
     "output_type": "execute_result"
    }
   ],
   "source": [
    "df['stdv_dif'].shape"
   ]
  },
  {
   "cell_type": "code",
   "execution_count": 42,
   "metadata": {},
   "outputs": [],
   "source": [
    "# Graficamos el monto Vs la desviación estándar"
   ]
  },
  {
   "cell_type": "code",
   "execution_count": 57,
   "metadata": {},
   "outputs": [
    {
     "data": {
      "image/png": "[encoded data removed]",
      "text/plain": [
       "<Figure size 432x288 with 1 Axes>"
      ]
     },
     "metadata": {
      "needs_background": "light"
     },
     "output_type": "display_data"
    }
   ],
   "source": [
    "plt.scatter(df['stdv_dif'], df['MONTO IMPUESTO'])\n",
    "plt.xlabel('Diferencia con la Desviación Estándar')\n",
    "plt.ylabel('MONTO IMPUESTO')\n",
    "plt.title(\"Distribución de Contribuyentes según su Desviación Estándar\")\n",
    "sns.despine()"
   ]
  },
  {
   "cell_type": "code",
   "execution_count": 158,
   "metadata": {},
   "outputs": [],
   "source": [
    "data = np.array(df['MONTO IMPUESTO']).reshape(-1, 1)"
   ]
  },
  {
   "cell_type": "code",
   "execution_count": 159,
   "metadata": {},
   "outputs": [],
   "source": [
    "# Definimos el número de clústers o grupos óptimo"
   ]
  },
  {
   "cell_type": "code",
   "execution_count": 160,
   "metadata": {},
   "outputs": [],
   "source": [
    "ks = range(1,6)\n",
    "inertias = []\n",
    "for k in ks:\n",
    "    #Creamos una instancia de KMeans con k clústers\n",
    "    model = KMeans(n_clusters=k)\n",
    "    \n",
    "    #Entrenamos el modelo con la data\n",
    "    model.fit(data)\n",
    "    \n",
    "    #Agregamos la inercia a la lista \"inertias\"\n",
    "    inertias.append(model.inertia_)    "
   ]
  },
  {
   "cell_type": "code",
   "execution_count": 161,
   "metadata": {},
   "outputs": [],
   "source": [
    "#Graficamos Clústers Vs Inercia"
   ]
  },
  {
   "cell_type": "code",
   "execution_count": 162,
   "metadata": {},
   "outputs": [
    {
     "data": {
      "image/png": "[encoded data removed]",
      "text/plain": [
       "<Figure size 432x288 with 1 Axes>"
      ]
     },
     "metadata": {
      "needs_background": "light"
     },
     "output_type": "display_data"
    }
   ],
   "source": [
    "plt.plot(ks, inertias, '-o')\n",
    "plt.xlabel('Número de Clústers (K)')\n",
    "plt.ylabel('Inercia')\n",
    "plt.xticks(ks)\n",
    "plt.show()"
   ]
  },
  {
   "cell_type": "code",
   "execution_count": 163,
   "metadata": {},
   "outputs": [],
   "source": [
    "# Del gráfico anterior deducimos que el número óptimo de Clústers es 3"
   ]
  },
  {
   "cell_type": "code",
   "execution_count": 164,
   "metadata": {},
   "outputs": [],
   "source": [
    "# Nos aseguramos que la data esté en formato numérico adecuado\n",
    "data = data.astype('float64')"
   ]
  },
  {
   "cell_type": "code",
   "execution_count": 165,
   "metadata": {},
   "outputs": [],
   "source": [
    "# Aplicamos kmeans con n_clusters = 3\n",
    "centroids, avg_distance = kmeans(data, 3)"
   ]
  },
  {
   "cell_type": "code",
   "execution_count": 167,
   "metadata": {},
   "outputs": [],
   "source": [
    "# Obtenemos los grupos (groups) y las distancias (cdist)\n",
    "groups, cdist = cluster.vq.vq(data, centroids)"
   ]
  },
  {
   "cell_type": "code",
   "execution_count": 169,
   "metadata": {},
   "outputs": [
    {
     "data": {
      "text/plain": [
       "(5952, 1)"
      ]
     },
     "execution_count": 169,
     "metadata": {},
     "output_type": "execute_result"
    }
   ],
   "source": [
    "data.shape"
   ]
  },
  {
   "cell_type": "code",
   "execution_count": 170,
   "metadata": {},
   "outputs": [
    {
     "data": {
      "image/png": "[encoded data removed]",
      "text/plain": [
       "<Figure size 432x288 with 1 Axes>"
      ]
     },
     "metadata": {
      "needs_background": "light"
     },
     "output_type": "display_data"
    }
   ],
   "source": [
    "# Graficamos \n",
    "plt.scatter(data, np.arange(0,5952), c=groups)\n",
    "plt.xlabel('MONTO IMPUESTO (MMBs)')\n",
    "plt.ylabel('Indices')\n",
    "plt.show()"
   ]
  },
  {
   "cell_type": "code",
   "execution_count": null,
   "metadata": {},
   "outputs": [],
   "source": []
  },
  {
   "cell_type": "code",
   "execution_count": null,
   "metadata": {},
   "outputs": [],
   "source": []
  }
 ],
 "metadata": {
  "kernelspec": {
   "display_name": "Python 3",
   "language": "python",
   "name": "python3"
  },
  "language_info": {
   "codemirror_mode": {
    "name": "ipython",
    "version": 3
   },
   "file_extension": ".py",
   "mimetype": "text/x-python",
   "name": "python",
   "nbconvert_exporter": "python",
   "pygments_lexer": "ipython3",
   "version": "3.7.4"
  }
 },
 "nbformat": 4,
 "nbformat_minor": 2
}
