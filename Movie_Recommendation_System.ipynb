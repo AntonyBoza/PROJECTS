{
  "nbformat": 4,
  "nbformat_minor": 0,
  "metadata": {
    "colab": {
      "name": "Movie_Recommendation_System.ipynb",
      "provenance": [],
      "private_outputs": true,
      "collapsed_sections": [],
      "include_colab_link": true
    },
    "kernelspec": {
      "name": "python3",
      "display_name": "Python 3"
    },
    "accelerator": "GPU"
  },
  "cells": [
    {
      "cell_type": "markdown",
      "metadata": {
        "id": "view-in-github",
        "colab_type": "text"
      },
      "source": [
        "<a href=\"https://colab.research.google.com/github/AntonyBoza/PROJECTS/blob/master/Movie_Recommendation_System.ipynb\" target=\"_parent\"><img src=\"https://colab.research.google.com/assets/colab-badge.svg\" alt=\"Open In Colab\"/></a>"
      ]
    },
    {
      "cell_type": "markdown",
      "metadata": {
        "id": "sR2IAq-uHXQy",
        "colab_type": "text"
      },
      "source": [
        "#Hola amigos.\n",
        "\n",
        "Please follow these basic conventions while working:\n",
        "<br><ul>\n",
        "<li> Comment what you are doing right before your piece of code.</li>\n",
        "<li> Add your name in <i>italics</i> at the end of the comment</li>\n",
        "<li> Do not delete / change someone elses code </li>\n",
        "<li> if you feel like something should change / be deleted, leave a comment in before the code and raise your issue on the Whatsapp / slack group.</li>\n",
        "</ul>"
      ]
    },
    {
      "cell_type": "markdown",
      "metadata": {
        "id": "LDHSafpUGsGD",
        "colab_type": "text"
      },
      "source": [
        "##**Project goal:** \n",
        "To build a machine learning system that takes the history of what movies a person has watched and comparing with the preferences of other persons, their similarities, to make suggestions to each one in a personalized way\n",
        "\n",
        "##**Approach:**\n",
        "The first step is to find similar users or items. The second step is to predict the ratings of the items that are not yet rated by a user. So, we will need the answers to these questions:\n",
        "\n",
        "*   How do we determine which users or items are similar to one another?\n",
        "*   Given that we know which users are similar, how do we determine the rating that a user would give to an item based on the ratings of similar users?\n",
        "*   How do we measure the accuracy of the ratings you calculate? \n",
        "\n",
        "Then, we'll use SVD algorithm, this approach is the most widely used today in some form in various companies like Amazon, Netflix, etc. Also, we are going to use the Python package \"SURPRISE\". See http://surprise.readthedocs.io/en/stable/matrix_factorization.html for more information\n",
        "\n",
        "Dataset acknowledgment: \n",
        "*F. Maxwell Harper and Joseph A. Konstan. 2015. The MovieLens Datasets: History and Context. ACM Transactions on Interactive Intelligent Systems (TiiS) 5, 4: 19:1–19:19. <https://doi.org/10.1145/2827872>*\n",
        "\n",
        "*Antonio*\n",
        "\n",
        "\n"
      ]
    },
    {
      "cell_type": "markdown",
      "metadata": {
        "id": "HquW7R87IOyM",
        "colab_type": "text"
      },
      "source": [
        "### Let's first import necesary packages and use Python SURPRISE package for recommendation systems. *http://surpriselib.com/* \n",
        "\n",
        "*Antonio*"
      ]
    },
    {
      "cell_type": "markdown",
      "metadata": {
        "id": "96hlFmszwF4U",
        "colab_type": "text"
      },
      "source": [
        ""
      ]
    },
    {
      "cell_type": "code",
      "metadata": {
        "id": "SPU7f6SFUwba",
        "colab_type": "code",
        "colab": {
          "base_uri": "https://localhost:8080/",
          "height": 119
        },
        "outputId": "08af850c-60c4-4c62-9044-4d841bec22cd"
      },
      "source": [
        "!pip install surprise"
      ],
      "execution_count": 1,
      "outputs": [
        {
          "output_type": "stream",
          "text": [
            "Requirement already satisfied: surprise in /usr/local/lib/python3.6/dist-packages (0.1)\n",
            "Requirement already satisfied: scikit-surprise in /usr/local/lib/python3.6/dist-packages (from surprise) (1.1.0)\n",
            "Requirement already satisfied: scipy>=1.0.0 in /usr/local/lib/python3.6/dist-packages (from scikit-surprise->surprise) (1.4.1)\n",
            "Requirement already satisfied: numpy>=1.11.2 in /usr/local/lib/python3.6/dist-packages (from scikit-surprise->surprise) (1.18.5)\n",
            "Requirement already satisfied: joblib>=0.11 in /usr/local/lib/python3.6/dist-packages (from scikit-surprise->surprise) (0.15.1)\n",
            "Requirement already satisfied: six>=1.10.0 in /usr/local/lib/python3.6/dist-packages (from scikit-surprise->surprise) (1.12.0)\n"
          ],
          "name": "stdout"
        }
      ]
    },
    {
      "cell_type": "code",
      "metadata": {
        "id": "oFzOfE9ZQftv",
        "colab_type": "code",
        "colab": {}
      },
      "source": [
        "import pandas as pd\n",
        "import numpy as np\n",
        "from __future__ import (absolute_import, division, print_function,\n",
        "                        unicode_literals)\n",
        "from surprise import SVDpp\n",
        "from surprise import SVD\n",
        "from surprise import Dataset\n",
        "from surprise import accuracy\n",
        "from surprise.model_selection import train_test_split\n",
        "from surprise.model_selection import GridSearchCV\n",
        "from surprise.model_selection import cross_validate"
      ],
      "execution_count": 3,
      "outputs": []
    },
    {
      "cell_type": "markdown",
      "metadata": {
        "id": "S14A2oGkT4us",
        "colab_type": "text"
      },
      "source": [
        "## Load and check the data. *Antonio*"
      ]
    },
    {
      "cell_type": "code",
      "metadata": {
        "id": "jPs-c0-QQEvG",
        "colab_type": "code",
        "colab": {}
      },
      "source": [
        "# Load the movielens-100k dataset from Github repository and from built-in SURPRISE dataset. The first is to take a look at the data, the second for \n",
        "# the model definition, training and testing.\n",
        "\n",
        "url1 = 'https://raw.githubusercontent.com/AntonyBoza/PROJECTS/master/.github/workflows/movies.csv'\n",
        "url2 = 'https://raw.githubusercontent.com/AntonyBoza/PROJECTS/master/.github/workflows/ratings.csv'\n",
        "movies = pd.read_csv(url1)\n",
        "ratings = pd.read_csv(url2)\n",
        "# data = Dataset.load_builtin('ml-100k') # This is a more straightforward way to loading dataset\n"
      ],
      "execution_count": 29,
      "outputs": []
    },
    {
      "cell_type": "code",
      "metadata": {
        "id": "5mGxy5AdgXos",
        "colab_type": "code",
        "colab": {
          "base_uri": "https://localhost:8080/",
          "height": 204
        },
        "outputId": "e8710cf7-3af8-4341-91ca-c0dc32511255"
      },
      "source": [
        "movies.head()"
      ],
      "execution_count": 5,
      "outputs": [
        {
          "output_type": "execute_result",
          "data": {
            "text/html": [
              "<div>\n",
              "<style scoped>\n",
              "    .dataframe tbody tr th:only-of-type {\n",
              "        vertical-align: middle;\n",
              "    }\n",
              "\n",
              "    .dataframe tbody tr th {\n",
              "        vertical-align: top;\n",
              "    }\n",
              "\n",
              "    .dataframe thead th {\n",
              "        text-align: right;\n",
              "    }\n",
              "</style>\n",
              "<table border=\"1\" class=\"dataframe\">\n",
              "  <thead>\n",
              "    <tr style=\"text-align: right;\">\n",
              "      <th></th>\n",
              "      <th>movieId</th>\n",
              "      <th>title</th>\n",
              "      <th>genres</th>\n",
              "    </tr>\n",
              "  </thead>\n",
              "  <tbody>\n",
              "    <tr>\n",
              "      <th>0</th>\n",
              "      <td>1</td>\n",
              "      <td>Toy Story (1995)</td>\n",
              "      <td>Adventure|Animation|Children|Comedy|Fantasy</td>\n",
              "    </tr>\n",
              "    <tr>\n",
              "      <th>1</th>\n",
              "      <td>2</td>\n",
              "      <td>Jumanji (1995)</td>\n",
              "      <td>Adventure|Children|Fantasy</td>\n",
              "    </tr>\n",
              "    <tr>\n",
              "      <th>2</th>\n",
              "      <td>3</td>\n",
              "      <td>Grumpier Old Men (1995)</td>\n",
              "      <td>Comedy|Romance</td>\n",
              "    </tr>\n",
              "    <tr>\n",
              "      <th>3</th>\n",
              "      <td>4</td>\n",
              "      <td>Waiting to Exhale (1995)</td>\n",
              "      <td>Comedy|Drama|Romance</td>\n",
              "    </tr>\n",
              "    <tr>\n",
              "      <th>4</th>\n",
              "      <td>5</td>\n",
              "      <td>Father of the Bride Part II (1995)</td>\n",
              "      <td>Comedy</td>\n",
              "    </tr>\n",
              "  </tbody>\n",
              "</table>\n",
              "</div>"
            ],
            "text/plain": [
              "   movieId  ...                                       genres\n",
              "0        1  ...  Adventure|Animation|Children|Comedy|Fantasy\n",
              "1        2  ...                   Adventure|Children|Fantasy\n",
              "2        3  ...                               Comedy|Romance\n",
              "3        4  ...                         Comedy|Drama|Romance\n",
              "4        5  ...                                       Comedy\n",
              "\n",
              "[5 rows x 3 columns]"
            ]
          },
          "metadata": {
            "tags": []
          },
          "execution_count": 5
        }
      ]
    },
    {
      "cell_type": "code",
      "metadata": {
        "id": "B72Uqf71hUDs",
        "colab_type": "code",
        "colab": {
          "base_uri": "https://localhost:8080/",
          "height": 204
        },
        "outputId": "d3c0ac7d-f066-4e40-edf5-4993dbb9547c"
      },
      "source": [
        "ratings.head()"
      ],
      "execution_count": 6,
      "outputs": [
        {
          "output_type": "execute_result",
          "data": {
            "text/html": [
              "<div>\n",
              "<style scoped>\n",
              "    .dataframe tbody tr th:only-of-type {\n",
              "        vertical-align: middle;\n",
              "    }\n",
              "\n",
              "    .dataframe tbody tr th {\n",
              "        vertical-align: top;\n",
              "    }\n",
              "\n",
              "    .dataframe thead th {\n",
              "        text-align: right;\n",
              "    }\n",
              "</style>\n",
              "<table border=\"1\" class=\"dataframe\">\n",
              "  <thead>\n",
              "    <tr style=\"text-align: right;\">\n",
              "      <th></th>\n",
              "      <th>userId</th>\n",
              "      <th>movieId</th>\n",
              "      <th>rating</th>\n",
              "      <th>timestamp</th>\n",
              "    </tr>\n",
              "  </thead>\n",
              "  <tbody>\n",
              "    <tr>\n",
              "      <th>0</th>\n",
              "      <td>1</td>\n",
              "      <td>1</td>\n",
              "      <td>4.0</td>\n",
              "      <td>964982703</td>\n",
              "    </tr>\n",
              "    <tr>\n",
              "      <th>1</th>\n",
              "      <td>1</td>\n",
              "      <td>3</td>\n",
              "      <td>4.0</td>\n",
              "      <td>964981247</td>\n",
              "    </tr>\n",
              "    <tr>\n",
              "      <th>2</th>\n",
              "      <td>1</td>\n",
              "      <td>6</td>\n",
              "      <td>4.0</td>\n",
              "      <td>964982224</td>\n",
              "    </tr>\n",
              "    <tr>\n",
              "      <th>3</th>\n",
              "      <td>1</td>\n",
              "      <td>47</td>\n",
              "      <td>5.0</td>\n",
              "      <td>964983815</td>\n",
              "    </tr>\n",
              "    <tr>\n",
              "      <th>4</th>\n",
              "      <td>1</td>\n",
              "      <td>50</td>\n",
              "      <td>5.0</td>\n",
              "      <td>964982931</td>\n",
              "    </tr>\n",
              "  </tbody>\n",
              "</table>\n",
              "</div>"
            ],
            "text/plain": [
              "   userId  movieId  rating  timestamp\n",
              "0       1        1     4.0  964982703\n",
              "1       1        3     4.0  964981247\n",
              "2       1        6     4.0  964982224\n",
              "3       1       47     5.0  964983815\n",
              "4       1       50     5.0  964982931"
            ]
          },
          "metadata": {
            "tags": []
          },
          "execution_count": 6
        }
      ]
    },
    {
      "cell_type": "code",
      "metadata": {
        "id": "qwGDUJK0uGpy",
        "colab_type": "code",
        "colab": {}
      },
      "source": [
        "# Merge two dataframes...Antonio\n",
        "movie_data = pd.merge(ratings, movies, on='movieId')"
      ],
      "execution_count": 7,
      "outputs": []
    },
    {
      "cell_type": "code",
      "metadata": {
        "id": "SnQkAdr6uZco",
        "colab_type": "code",
        "colab": {
          "base_uri": "https://localhost:8080/",
          "height": 204
        },
        "outputId": "25c90dad-3cfb-4326-a569-7f301fd8dc1a"
      },
      "source": [
        "# Check the new dataframe. Antonio\n",
        "movie_data.head()"
      ],
      "execution_count": 8,
      "outputs": [
        {
          "output_type": "execute_result",
          "data": {
            "text/html": [
              "<div>\n",
              "<style scoped>\n",
              "    .dataframe tbody tr th:only-of-type {\n",
              "        vertical-align: middle;\n",
              "    }\n",
              "\n",
              "    .dataframe tbody tr th {\n",
              "        vertical-align: top;\n",
              "    }\n",
              "\n",
              "    .dataframe thead th {\n",
              "        text-align: right;\n",
              "    }\n",
              "</style>\n",
              "<table border=\"1\" class=\"dataframe\">\n",
              "  <thead>\n",
              "    <tr style=\"text-align: right;\">\n",
              "      <th></th>\n",
              "      <th>userId</th>\n",
              "      <th>movieId</th>\n",
              "      <th>rating</th>\n",
              "      <th>timestamp</th>\n",
              "      <th>title</th>\n",
              "      <th>genres</th>\n",
              "    </tr>\n",
              "  </thead>\n",
              "  <tbody>\n",
              "    <tr>\n",
              "      <th>0</th>\n",
              "      <td>1</td>\n",
              "      <td>1</td>\n",
              "      <td>4.0</td>\n",
              "      <td>964982703</td>\n",
              "      <td>Toy Story (1995)</td>\n",
              "      <td>Adventure|Animation|Children|Comedy|Fantasy</td>\n",
              "    </tr>\n",
              "    <tr>\n",
              "      <th>1</th>\n",
              "      <td>5</td>\n",
              "      <td>1</td>\n",
              "      <td>4.0</td>\n",
              "      <td>847434962</td>\n",
              "      <td>Toy Story (1995)</td>\n",
              "      <td>Adventure|Animation|Children|Comedy|Fantasy</td>\n",
              "    </tr>\n",
              "    <tr>\n",
              "      <th>2</th>\n",
              "      <td>7</td>\n",
              "      <td>1</td>\n",
              "      <td>4.5</td>\n",
              "      <td>1106635946</td>\n",
              "      <td>Toy Story (1995)</td>\n",
              "      <td>Adventure|Animation|Children|Comedy|Fantasy</td>\n",
              "    </tr>\n",
              "    <tr>\n",
              "      <th>3</th>\n",
              "      <td>15</td>\n",
              "      <td>1</td>\n",
              "      <td>2.5</td>\n",
              "      <td>1510577970</td>\n",
              "      <td>Toy Story (1995)</td>\n",
              "      <td>Adventure|Animation|Children|Comedy|Fantasy</td>\n",
              "    </tr>\n",
              "    <tr>\n",
              "      <th>4</th>\n",
              "      <td>17</td>\n",
              "      <td>1</td>\n",
              "      <td>4.5</td>\n",
              "      <td>1305696483</td>\n",
              "      <td>Toy Story (1995)</td>\n",
              "      <td>Adventure|Animation|Children|Comedy|Fantasy</td>\n",
              "    </tr>\n",
              "  </tbody>\n",
              "</table>\n",
              "</div>"
            ],
            "text/plain": [
              "   userId  ...                                       genres\n",
              "0       1  ...  Adventure|Animation|Children|Comedy|Fantasy\n",
              "1       5  ...  Adventure|Animation|Children|Comedy|Fantasy\n",
              "2       7  ...  Adventure|Animation|Children|Comedy|Fantasy\n",
              "3      15  ...  Adventure|Animation|Children|Comedy|Fantasy\n",
              "4      17  ...  Adventure|Animation|Children|Comedy|Fantasy\n",
              "\n",
              "[5 rows x 6 columns]"
            ]
          },
          "metadata": {
            "tags": []
          },
          "execution_count": 8
        }
      ]
    },
    {
      "cell_type": "markdown",
      "metadata": {
        "id": "k54KhgJod2iv",
        "colab_type": "text"
      },
      "source": [
        "Let's split the data into Train and Test. *Antonio*"
      ]
    },
    {
      "cell_type": "code",
      "metadata": {
        "id": "MXr3-leRuu5w",
        "colab_type": "code",
        "colab": {}
      },
      "source": [
        "trainset, testset = train_test_split(data, test_size=.2)"
      ],
      "execution_count": 9,
      "outputs": []
    },
    {
      "cell_type": "code",
      "metadata": {
        "id": "JNMi0oq6Dy1Y",
        "colab_type": "code",
        "colab": {}
      },
      "source": [
        "print(testset)"
      ],
      "execution_count": null,
      "outputs": []
    },
    {
      "cell_type": "markdown",
      "metadata": {
        "id": "Ew_XW00eVTT_",
        "colab_type": "text"
      },
      "source": [
        "### Create the model & Check the algorithm. \n",
        "The famous singular vector decomposition (SVD) algoritm shown here employs the use of gradient descent to minimize the squared error between predicted rating and actual rating, eventually getting the best model...This algorithm has been sucessfully used by Amazon and Netflix....*Antonio*"
      ]
    },
    {
      "cell_type": "code",
      "metadata": {
        "id": "E8vF37yZ-wLn",
        "colab_type": "code",
        "colab": {}
      },
      "source": [
        "# Use the optimal parameters with the train data\n",
        "algo = SVD(n_factors=160, n_epochs=100, lr_all=0.005, reg_all=0.1)\n",
        "algo.fit(trainset)\n",
        "test_pred = algo.test(testset)\n",
        "print(\"SVD : Test Set\")\n",
        "accuracy.rmse(test_pred, verbose=True)"
      ],
      "execution_count": null,
      "outputs": []
    },
    {
      "cell_type": "code",
      "metadata": {
        "id": "cCV-09vSGh-s",
        "colab_type": "code",
        "colab": {}
      },
      "source": [
        "print(test_pred)"
      ],
      "execution_count": null,
      "outputs": []
    },
    {
      "cell_type": "code",
      "metadata": {
        "id": "PylbpQ7qGkqS",
        "colab_type": "code",
        "colab": {}
      },
      "source": [
        "# Check the first userId from de above results (uid=417). It was suggested the MovieId=384 with a predicted rating of 4.0.\n",
        "movie_data[movie_data['userId']==417]"
      ],
      "execution_count": null,
      "outputs": []
    },
    {
      "cell_type": "markdown",
      "metadata": {
        "id": "tq1ygzvUUtGy",
        "colab_type": "text"
      },
      "source": [
        "## Now, let's save the model for further use. We're going to use Joblib Module from Scikit Learn."
      ]
    },
    {
      "cell_type": "code",
      "metadata": {
        "id": "tssTngxRUJWa",
        "colab_type": "code",
        "colab": {}
      },
      "source": [
        "from sklearn.externals import joblib"
      ],
      "execution_count": null,
      "outputs": []
    },
    {
      "cell_type": "code",
      "metadata": {
        "id": "PtG-GIWTV38B",
        "colab_type": "code",
        "colab": {}
      },
      "source": [
        "# Save RL_Model to file in the current working directory\n",
        "\n",
        "joblib_file = \"joblib_Rec_Model.pkl\"  \n",
        "joblib.dump(algo, joblib_file)"
      ],
      "execution_count": null,
      "outputs": []
    },
    {
      "cell_type": "code",
      "metadata": {
        "id": "_2_Z27R9ckYX",
        "colab_type": "code",
        "colab": {}
      },
      "source": [
        "# Reload the Saved Model using Joblib\n",
        "joblib_Rec_model = joblib.load(joblib_file)\n",
        "\n",
        "\n",
        "joblib_Rec_model"
      ],
      "execution_count": null,
      "outputs": []
    },
    {
      "cell_type": "markdown",
      "metadata": {
        "id": "VmuRyVa_eo5V",
        "colab_type": "text"
      },
      "source": [
        "## **TO BE DONE**.... *Antonio*"
      ]
    },
    {
      "cell_type": "code",
      "metadata": {
        "id": "AogYSFgodZP1",
        "colab_type": "code",
        "colab": {}
      },
      "source": [
        "# Calculate the accuracy score and predict target values\n",
        "# Calculate the Score \n",
        "# score = joblib_Rec_model.score(Xtest, Ytest) \n",
        "\n",
        "# Print the Score\n",
        "# print(\"Test score: {0:.2f} %\".format(100 * score))  \n",
        "\n",
        "# Predict the Labels using the reloaded Model\n",
        "# Ypredict = joblib_Rec_model.predict(Xtest)  \n",
        "\n",
        "# Ypredict"
      ],
      "execution_count": null,
      "outputs": []
    },
    {
      "cell_type": "markdown",
      "metadata": {
        "id": "J4VEtq2jd_Zf",
        "colab_type": "text"
      },
      "source": [
        "---\n",
        "\n",
        "**# P.S: NIDHI please let's do the cloud deployment!**\n",
        "\n",
        "---\n",
        "\n"
      ]
    }
  ]
}