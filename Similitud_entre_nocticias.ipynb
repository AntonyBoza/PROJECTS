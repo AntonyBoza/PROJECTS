{
  "nbformat": 4,
  "nbformat_minor": 0,
  "metadata": {
    "colab": {
      "name": "Similitud entre nocticias.ipynb",
      "provenance": [],
      "collapsed_sections": []
    },
    "kernelspec": {
      "name": "python3",
      "display_name": "Python 3"
    },
    "language_info": {
      "name": "python"
    }
  },
  "cells": [
    {
      "cell_type": "markdown",
      "source": [
        "## Proyecto de identificación de tópicos en texto (Procesamiento del Lenguaje Natural - topic modeling con Gensim)"
      ],
      "metadata": {
        "id": "F0MvRH3SsU76"
      }
    },
    {
      "cell_type": "markdown",
      "source": [
        "El topic modeling es una técnica no supervisada de NLP, capaz de detectar y extraer de manera automática relaciones semánticas latentes de grandes volúmenes de información.\n",
        "\n",
        "Estas relaciones son los llamados tópicos, que son un conjunto de palabras que suelen aparecer juntas en los mismos contextos y nos permiten observar relaciones que seríamos incapaces de observar a simple vista.\n",
        "\n",
        "Existen diversas técnicas que pueden ser usadas para obtener estos tópicos. El principal algoritmo y que además será el que utilizaremos en esta publicación, es el modelo **\"Latent Dirichlet Allocation\" (LDA)**, propuesto por David Blei en 2011, que nos devuelve por un lado los diferentes tópicos que componen la colección de documentos y por otro lado cuánto de cada tópico está presente en cada documento."
      ],
      "metadata": {
        "id": "sZ4p6MnUs0Si"
      }
    },
    {
      "cell_type": "code",
      "source": [
        "# Importamos las librerías que utilizaremos\n",
        "import json, re\n",
        "import pandas as pd\n",
        "import nltk\n",
        "from nltk.corpus import stopwords\n",
        "from nltk.stem import SnowballStemmer\n",
        "from nltk.tokenize import ToktokTokenizer"
      ],
      "metadata": {
        "id": "7RErSMURshYW"
      },
      "execution_count": 8,
      "outputs": []
    },
    {
      "cell_type": "code",
      "source": [
        "#Importamos el archivo txt con las noticias que vamos a analizar\n",
        "from google.colab import files\n",
        "uploaded = files.upload()"
      ],
      "metadata": {
        "colab": {
          "resources": {
            "http://localhost:8080/nbextensions/google.colab/files.js": {
              "data": "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",
              "ok": true,
              "headers": [
                [
                  "content-type",
                  "application/javascript"
                ]
              ],
              "status": 200,
              "status_text": ""
            }
          },
          "base_uri": "https://localhost:8080/",
          "height": 74
        },
        "id": "KudncoF-tGyL",
        "outputId": "4ffca8f2-1c9e-4ebc-d522-f878a3a05c53"
      },
      "execution_count": 2,
      "outputs": [
        {
          "output_type": "display_data",
          "data": {
            "text/plain": [
              "<IPython.core.display.HTML object>"
            ],
            "text/html": [
              "\n",
              "     <input type=\"file\" id=\"files-1f1f6501-70ca-48a1-8378-d74186f6cae3\" name=\"files[]\" multiple disabled\n",
              "        style=\"border:none\" />\n",
              "     <output id=\"result-1f1f6501-70ca-48a1-8378-d74186f6cae3\">\n",
              "      Upload widget is only available when the cell has been executed in the\n",
              "      current browser session. Please rerun this cell to enable.\n",
              "      </output>\n",
              "      <script src=\"/nbextensions/google.colab/files.js\"></script> "
            ]
          },
          "metadata": {}
        },
        {
          "output_type": "stream",
          "name": "stdout",
          "text": [
            "Saving noticias.txt to noticias.txt\n"
          ]
        }
      ]
    },
    {
      "cell_type": "code",
      "source": [
        "with open('noticias.txt') as json_file:\n",
        "    datos = json.load(json_file)\n",
        "tuplas = list(zip([noticia.get(\"titular\") for noticia in datos],\n",
        "                  [noticia.get(\"texto\") for noticia in datos]))\n",
        "df = pd.DataFrame(tuplas, columns =['Titular', 'Noticia'])\n",
        "print(df.shape)\n",
        "df.head()"
      ],
      "metadata": {
        "colab": {
          "base_uri": "https://localhost:8080/",
          "height": 223
        },
        "id": "FSNuPTC3tqBV",
        "outputId": "d2382d58-1b61-4241-c6c9-1ded59d85de2"
      },
      "execution_count": 3,
      "outputs": [
        {
          "output_type": "stream",
          "name": "stdout",
          "text": [
            "(5665, 2)\n"
          ]
        },
        {
          "output_type": "execute_result",
          "data": {
            "text/plain": [
              "                                             Titular  \\\n",
              "0  Un estudio impulsado por la Universidad de San...   \n",
              "1      Las claves: qué es Montai y quién está detrás   \n",
              "2  Robots entregan domicilios en Medellín durante...   \n",
              "3  Grazón insiste en que un nuevo estado de alarm...   \n",
              "4  Vox se sube a la ola de la extrema derecha eur...   \n",
              "\n",
              "                                             Noticia  \n",
              "0  El virus SARS-Cov-2 entró en España por la ciu...  \n",
              "1  ¿Qué es Montai? ¿Qué relación guarda con las o...  \n",
              "2  Unos 15 robots recorren las calles de Medellín...  \n",
              "3  En una entrevista en Radio Euskadi, recogida p...  \n",
              "4  \"España ha dejado de ser católica\", decía Manu...  "
            ],
            "text/html": [
              "\n",
              "  <div id=\"df-4662dd47-38d4-4923-994e-3f4cd88163a9\">\n",
              "    <div class=\"colab-df-container\">\n",
              "      <div>\n",
              "<style scoped>\n",
              "    .dataframe tbody tr th:only-of-type {\n",
              "        vertical-align: middle;\n",
              "    }\n",
              "\n",
              "    .dataframe tbody tr th {\n",
              "        vertical-align: top;\n",
              "    }\n",
              "\n",
              "    .dataframe thead th {\n",
              "        text-align: right;\n",
              "    }\n",
              "</style>\n",
              "<table border=\"1\" class=\"dataframe\">\n",
              "  <thead>\n",
              "    <tr style=\"text-align: right;\">\n",
              "      <th></th>\n",
              "      <th>Titular</th>\n",
              "      <th>Noticia</th>\n",
              "    </tr>\n",
              "  </thead>\n",
              "  <tbody>\n",
              "    <tr>\n",
              "      <th>0</th>\n",
              "      <td>Un estudio impulsado por la Universidad de San...</td>\n",
              "      <td>El virus SARS-Cov-2 entró en España por la ciu...</td>\n",
              "    </tr>\n",
              "    <tr>\n",
              "      <th>1</th>\n",
              "      <td>Las claves: qué es Montai y quién está detrás</td>\n",
              "      <td>¿Qué es Montai? ¿Qué relación guarda con las o...</td>\n",
              "    </tr>\n",
              "    <tr>\n",
              "      <th>2</th>\n",
              "      <td>Robots entregan domicilios en Medellín durante...</td>\n",
              "      <td>Unos 15 robots recorren las calles de Medellín...</td>\n",
              "    </tr>\n",
              "    <tr>\n",
              "      <th>3</th>\n",
              "      <td>Grazón insiste en que un nuevo estado de alarm...</td>\n",
              "      <td>En una entrevista en Radio Euskadi, recogida p...</td>\n",
              "    </tr>\n",
              "    <tr>\n",
              "      <th>4</th>\n",
              "      <td>Vox se sube a la ola de la extrema derecha eur...</td>\n",
              "      <td>\"España ha dejado de ser católica\", decía Manu...</td>\n",
              "    </tr>\n",
              "  </tbody>\n",
              "</table>\n",
              "</div>\n",
              "      <button class=\"colab-df-convert\" onclick=\"convertToInteractive('df-4662dd47-38d4-4923-994e-3f4cd88163a9')\"\n",
              "              title=\"Convert this dataframe to an interactive table.\"\n",
              "              style=\"display:none;\">\n",
              "        \n",
              "  <svg xmlns=\"http://www.w3.org/2000/svg\" height=\"24px\"viewBox=\"0 0 24 24\"\n",
              "       width=\"24px\">\n",
              "    <path d=\"M0 0h24v24H0V0z\" fill=\"none\"/>\n",
              "    <path d=\"M18.56 5.44l.94 2.06.94-2.06 2.06-.94-2.06-.94-.94-2.06-.94 2.06-2.06.94zm-11 1L8.5 8.5l.94-2.06 2.06-.94-2.06-.94L8.5 2.5l-.94 2.06-2.06.94zm10 10l.94 2.06.94-2.06 2.06-.94-2.06-.94-.94-2.06-.94 2.06-2.06.94z\"/><path d=\"M17.41 7.96l-1.37-1.37c-.4-.4-.92-.59-1.43-.59-.52 0-1.04.2-1.43.59L10.3 9.45l-7.72 7.72c-.78.78-.78 2.05 0 2.83L4 21.41c.39.39.9.59 1.41.59.51 0 1.02-.2 1.41-.59l7.78-7.78 2.81-2.81c.8-.78.8-2.07 0-2.86zM5.41 20L4 18.59l7.72-7.72 1.47 1.35L5.41 20z\"/>\n",
              "  </svg>\n",
              "      </button>\n",
              "      \n",
              "  <style>\n",
              "    .colab-df-container {\n",
              "      display:flex;\n",
              "      flex-wrap:wrap;\n",
              "      gap: 12px;\n",
              "    }\n",
              "\n",
              "    .colab-df-convert {\n",
              "      background-color: #E8F0FE;\n",
              "      border: none;\n",
              "      border-radius: 50%;\n",
              "      cursor: pointer;\n",
              "      display: none;\n",
              "      fill: #1967D2;\n",
              "      height: 32px;\n",
              "      padding: 0 0 0 0;\n",
              "      width: 32px;\n",
              "    }\n",
              "\n",
              "    .colab-df-convert:hover {\n",
              "      background-color: #E2EBFA;\n",
              "      box-shadow: 0px 1px 2px rgba(60, 64, 67, 0.3), 0px 1px 3px 1px rgba(60, 64, 67, 0.15);\n",
              "      fill: #174EA6;\n",
              "    }\n",
              "\n",
              "    [theme=dark] .colab-df-convert {\n",
              "      background-color: #3B4455;\n",
              "      fill: #D2E3FC;\n",
              "    }\n",
              "\n",
              "    [theme=dark] .colab-df-convert:hover {\n",
              "      background-color: #434B5C;\n",
              "      box-shadow: 0px 1px 3px 1px rgba(0, 0, 0, 0.15);\n",
              "      filter: drop-shadow(0px 1px 2px rgba(0, 0, 0, 0.3));\n",
              "      fill: #FFFFFF;\n",
              "    }\n",
              "  </style>\n",
              "\n",
              "      <script>\n",
              "        const buttonEl =\n",
              "          document.querySelector('#df-4662dd47-38d4-4923-994e-3f4cd88163a9 button.colab-df-convert');\n",
              "        buttonEl.style.display =\n",
              "          google.colab.kernel.accessAllowed ? 'block' : 'none';\n",
              "\n",
              "        async function convertToInteractive(key) {\n",
              "          const element = document.querySelector('#df-4662dd47-38d4-4923-994e-3f4cd88163a9');\n",
              "          const dataTable =\n",
              "            await google.colab.kernel.invokeFunction('convertToInteractive',\n",
              "                                                     [key], {});\n",
              "          if (!dataTable) return;\n",
              "\n",
              "          const docLinkHtml = 'Like what you see? Visit the ' +\n",
              "            '<a target=\"_blank\" href=https://colab.research.google.com/notebooks/data_table.ipynb>data table notebook</a>'\n",
              "            + ' to learn more about interactive tables.';\n",
              "          element.innerHTML = '';\n",
              "          dataTable['output_type'] = 'display_data';\n",
              "          await google.colab.output.renderOutput(dataTable, element);\n",
              "          const docLink = document.createElement('div');\n",
              "          docLink.innerHTML = docLinkHtml;\n",
              "          element.appendChild(docLink);\n",
              "        }\n",
              "      </script>\n",
              "    </div>\n",
              "  </div>\n",
              "  "
            ]
          },
          "metadata": {},
          "execution_count": 3
        }
      ]
    },
    {
      "cell_type": "code",
      "source": [
        "# Eliminamos los caracteres especiales como ¿ o ¡, las palabras con un solo carácter que normalmente no contienen \n",
        "# información útil y convertimos todo a minúsculas entre otras tareas.\n",
        "# En el siguiente código implementamos un método que se encarga de realizar esta limpieza inicial de los textos\n",
        "def limpiar_texto(texto):\n",
        "    \"\"\"\n",
        "    Función para realizar la limpieza de un texto dado.\n",
        "    \"\"\"\n",
        "    # Eliminamos los caracteres especiales\n",
        "    texto = re.sub(r'\\W', ' ', str(texto))\n",
        "    # Eliminado las palabras que tengo un solo caracter\n",
        "    texto = re.sub(r'\\s+[a-zA-Z]\\s+', ' ', texto)\n",
        "    # Sustituir los espacios en blanco en uno solo\n",
        "    texto = re.sub(r'\\s+', ' ', texto, flags=re.I)\n",
        "    # Convertimos textos a minusculas\n",
        "    texto = texto.lower()\n",
        "\n",
        "    #texto = texto.split()\n",
        "    return texto\n"
      ],
      "metadata": {
        "id": "CsVCsDDkz3wZ"
      },
      "execution_count": 18,
      "outputs": []
    },
    {
      "cell_type": "code",
      "source": [
        "# Seguidamente aplicamos la función a cada noticia contenida en nuestro objeto y mostramos de nuevo las 5 primeras"
      ],
      "metadata": {
        "id": "Y1opufwK0RTJ"
      },
      "execution_count": 19,
      "outputs": []
    },
    {
      "cell_type": "code",
      "source": [
        "df[\"Tokens\"] = df.Noticia.apply(limpiar_texto)\n",
        "df.head()"
      ],
      "metadata": {
        "colab": {
          "base_uri": "https://localhost:8080/",
          "height": 206
        },
        "id": "pY7q6Hs30XIm",
        "outputId": "100e0a3f-2009-4b34-9060-01e87af68f87"
      },
      "execution_count": 20,
      "outputs": [
        {
          "output_type": "execute_result",
          "data": {
            "text/plain": [
              "                                             Titular  \\\n",
              "0  Un estudio impulsado por la Universidad de San...   \n",
              "1      Las claves: qué es Montai y quién está detrás   \n",
              "2  Robots entregan domicilios en Medellín durante...   \n",
              "3  Grazón insiste en que un nuevo estado de alarm...   \n",
              "4  Vox se sube a la ola de la extrema derecha eur...   \n",
              "\n",
              "                                             Noticia  \\\n",
              "0  El virus SARS-Cov-2 entró en España por la ciu...   \n",
              "1  ¿Qué es Montai? ¿Qué relación guarda con las o...   \n",
              "2  Unos 15 robots recorren las calles de Medellín...   \n",
              "3  En una entrevista en Radio Euskadi, recogida p...   \n",
              "4  \"España ha dejado de ser católica\", decía Manu...   \n",
              "\n",
              "                                              Tokens  \n",
              "0  el virus sars cov 2 entró en españa por la ciu...  \n",
              "1   qué es montai qué relación guarda con las otr...  \n",
              "2  unos 15 robots recorren las calles de medellín...  \n",
              "3  en una entrevista en radio euskadi recogida po...  \n",
              "4   españa ha dejado de ser católica decía manuel...  "
            ],
            "text/html": [
              "\n",
              "  <div id=\"df-bd9bf26f-1228-4bc8-bf61-a999359ffe49\">\n",
              "    <div class=\"colab-df-container\">\n",
              "      <div>\n",
              "<style scoped>\n",
              "    .dataframe tbody tr th:only-of-type {\n",
              "        vertical-align: middle;\n",
              "    }\n",
              "\n",
              "    .dataframe tbody tr th {\n",
              "        vertical-align: top;\n",
              "    }\n",
              "\n",
              "    .dataframe thead th {\n",
              "        text-align: right;\n",
              "    }\n",
              "</style>\n",
              "<table border=\"1\" class=\"dataframe\">\n",
              "  <thead>\n",
              "    <tr style=\"text-align: right;\">\n",
              "      <th></th>\n",
              "      <th>Titular</th>\n",
              "      <th>Noticia</th>\n",
              "      <th>Tokens</th>\n",
              "    </tr>\n",
              "  </thead>\n",
              "  <tbody>\n",
              "    <tr>\n",
              "      <th>0</th>\n",
              "      <td>Un estudio impulsado por la Universidad de San...</td>\n",
              "      <td>El virus SARS-Cov-2 entró en España por la ciu...</td>\n",
              "      <td>el virus sars cov 2 entró en españa por la ciu...</td>\n",
              "    </tr>\n",
              "    <tr>\n",
              "      <th>1</th>\n",
              "      <td>Las claves: qué es Montai y quién está detrás</td>\n",
              "      <td>¿Qué es Montai? ¿Qué relación guarda con las o...</td>\n",
              "      <td>qué es montai qué relación guarda con las otr...</td>\n",
              "    </tr>\n",
              "    <tr>\n",
              "      <th>2</th>\n",
              "      <td>Robots entregan domicilios en Medellín durante...</td>\n",
              "      <td>Unos 15 robots recorren las calles de Medellín...</td>\n",
              "      <td>unos 15 robots recorren las calles de medellín...</td>\n",
              "    </tr>\n",
              "    <tr>\n",
              "      <th>3</th>\n",
              "      <td>Grazón insiste en que un nuevo estado de alarm...</td>\n",
              "      <td>En una entrevista en Radio Euskadi, recogida p...</td>\n",
              "      <td>en una entrevista en radio euskadi recogida po...</td>\n",
              "    </tr>\n",
              "    <tr>\n",
              "      <th>4</th>\n",
              "      <td>Vox se sube a la ola de la extrema derecha eur...</td>\n",
              "      <td>\"España ha dejado de ser católica\", decía Manu...</td>\n",
              "      <td>españa ha dejado de ser católica decía manuel...</td>\n",
              "    </tr>\n",
              "  </tbody>\n",
              "</table>\n",
              "</div>\n",
              "      <button class=\"colab-df-convert\" onclick=\"convertToInteractive('df-bd9bf26f-1228-4bc8-bf61-a999359ffe49')\"\n",
              "              title=\"Convert this dataframe to an interactive table.\"\n",
              "              style=\"display:none;\">\n",
              "        \n",
              "  <svg xmlns=\"http://www.w3.org/2000/svg\" height=\"24px\"viewBox=\"0 0 24 24\"\n",
              "       width=\"24px\">\n",
              "    <path d=\"M0 0h24v24H0V0z\" fill=\"none\"/>\n",
              "    <path d=\"M18.56 5.44l.94 2.06.94-2.06 2.06-.94-2.06-.94-.94-2.06-.94 2.06-2.06.94zm-11 1L8.5 8.5l.94-2.06 2.06-.94-2.06-.94L8.5 2.5l-.94 2.06-2.06.94zm10 10l.94 2.06.94-2.06 2.06-.94-2.06-.94-.94-2.06-.94 2.06-2.06.94z\"/><path d=\"M17.41 7.96l-1.37-1.37c-.4-.4-.92-.59-1.43-.59-.52 0-1.04.2-1.43.59L10.3 9.45l-7.72 7.72c-.78.78-.78 2.05 0 2.83L4 21.41c.39.39.9.59 1.41.59.51 0 1.02-.2 1.41-.59l7.78-7.78 2.81-2.81c.8-.78.8-2.07 0-2.86zM5.41 20L4 18.59l7.72-7.72 1.47 1.35L5.41 20z\"/>\n",
              "  </svg>\n",
              "      </button>\n",
              "      \n",
              "  <style>\n",
              "    .colab-df-container {\n",
              "      display:flex;\n",
              "      flex-wrap:wrap;\n",
              "      gap: 12px;\n",
              "    }\n",
              "\n",
              "    .colab-df-convert {\n",
              "      background-color: #E8F0FE;\n",
              "      border: none;\n",
              "      border-radius: 50%;\n",
              "      cursor: pointer;\n",
              "      display: none;\n",
              "      fill: #1967D2;\n",
              "      height: 32px;\n",
              "      padding: 0 0 0 0;\n",
              "      width: 32px;\n",
              "    }\n",
              "\n",
              "    .colab-df-convert:hover {\n",
              "      background-color: #E2EBFA;\n",
              "      box-shadow: 0px 1px 2px rgba(60, 64, 67, 0.3), 0px 1px 3px 1px rgba(60, 64, 67, 0.15);\n",
              "      fill: #174EA6;\n",
              "    }\n",
              "\n",
              "    [theme=dark] .colab-df-convert {\n",
              "      background-color: #3B4455;\n",
              "      fill: #D2E3FC;\n",
              "    }\n",
              "\n",
              "    [theme=dark] .colab-df-convert:hover {\n",
              "      background-color: #434B5C;\n",
              "      box-shadow: 0px 1px 3px 1px rgba(0, 0, 0, 0.15);\n",
              "      filter: drop-shadow(0px 1px 2px rgba(0, 0, 0, 0.3));\n",
              "      fill: #FFFFFF;\n",
              "    }\n",
              "  </style>\n",
              "\n",
              "      <script>\n",
              "        const buttonEl =\n",
              "          document.querySelector('#df-bd9bf26f-1228-4bc8-bf61-a999359ffe49 button.colab-df-convert');\n",
              "        buttonEl.style.display =\n",
              "          google.colab.kernel.accessAllowed ? 'block' : 'none';\n",
              "\n",
              "        async function convertToInteractive(key) {\n",
              "          const element = document.querySelector('#df-bd9bf26f-1228-4bc8-bf61-a999359ffe49');\n",
              "          const dataTable =\n",
              "            await google.colab.kernel.invokeFunction('convertToInteractive',\n",
              "                                                     [key], {});\n",
              "          if (!dataTable) return;\n",
              "\n",
              "          const docLinkHtml = 'Like what you see? Visit the ' +\n",
              "            '<a target=\"_blank\" href=https://colab.research.google.com/notebooks/data_table.ipynb>data table notebook</a>'\n",
              "            + ' to learn more about interactive tables.';\n",
              "          element.innerHTML = '';\n",
              "          dataTable['output_type'] = 'display_data';\n",
              "          await google.colab.output.renderOutput(dataTable, element);\n",
              "          const docLink = document.createElement('div');\n",
              "          docLink.innerHTML = docLinkHtml;\n",
              "          element.appendChild(docLink);\n",
              "        }\n",
              "      </script>\n",
              "    </div>\n",
              "  </div>\n",
              "  "
            ]
          },
          "metadata": {},
          "execution_count": 20
        }
      ]
    },
    {
      "cell_type": "code",
      "source": [
        "# Luego llega el turno del proceso de tokenización, que consiste en dividir los textos en tokens o palabras individuales. \n",
        "# Para ello, la librería  NLTK nos proporciona el objeto ToktokTokenizer con la función tokenize() para tokenizar nuestros textos.\n",
        "tokenizer = ToktokTokenizer() \n",
        "df[\"Tokens\"] = df.Tokens.apply(tokenizer.tokenize)\n",
        "df.head()"
      ],
      "metadata": {
        "colab": {
          "base_uri": "https://localhost:8080/",
          "height": 206
        },
        "id": "_kt9_IMH5Hz_",
        "outputId": "936a24a0-f4a3-46ee-f656-d3f5d66d2666"
      },
      "execution_count": 21,
      "outputs": [
        {
          "output_type": "execute_result",
          "data": {
            "text/plain": [
              "                                             Titular  \\\n",
              "0  Un estudio impulsado por la Universidad de San...   \n",
              "1      Las claves: qué es Montai y quién está detrás   \n",
              "2  Robots entregan domicilios en Medellín durante...   \n",
              "3  Grazón insiste en que un nuevo estado de alarm...   \n",
              "4  Vox se sube a la ola de la extrema derecha eur...   \n",
              "\n",
              "                                             Noticia  \\\n",
              "0  El virus SARS-Cov-2 entró en España por la ciu...   \n",
              "1  ¿Qué es Montai? ¿Qué relación guarda con las o...   \n",
              "2  Unos 15 robots recorren las calles de Medellín...   \n",
              "3  En una entrevista en Radio Euskadi, recogida p...   \n",
              "4  \"España ha dejado de ser católica\", decía Manu...   \n",
              "\n",
              "                                              Tokens  \n",
              "0  [el, virus, sars, cov, 2, entró, en, españa, p...  \n",
              "1  [qué, es, montai, qué, relación, guarda, con, ...  \n",
              "2  [unos, 15, robots, recorren, las, calles, de, ...  \n",
              "3  [en, una, entrevista, en, radio, euskadi, reco...  \n",
              "4  [españa, ha, dejado, de, ser, católica, decía,...  "
            ],
            "text/html": [
              "\n",
              "  <div id=\"df-2cae9d76-20b9-415b-bbae-c8d15323e6f2\">\n",
              "    <div class=\"colab-df-container\">\n",
              "      <div>\n",
              "<style scoped>\n",
              "    .dataframe tbody tr th:only-of-type {\n",
              "        vertical-align: middle;\n",
              "    }\n",
              "\n",
              "    .dataframe tbody tr th {\n",
              "        vertical-align: top;\n",
              "    }\n",
              "\n",
              "    .dataframe thead th {\n",
              "        text-align: right;\n",
              "    }\n",
              "</style>\n",
              "<table border=\"1\" class=\"dataframe\">\n",
              "  <thead>\n",
              "    <tr style=\"text-align: right;\">\n",
              "      <th></th>\n",
              "      <th>Titular</th>\n",
              "      <th>Noticia</th>\n",
              "      <th>Tokens</th>\n",
              "    </tr>\n",
              "  </thead>\n",
              "  <tbody>\n",
              "    <tr>\n",
              "      <th>0</th>\n",
              "      <td>Un estudio impulsado por la Universidad de San...</td>\n",
              "      <td>El virus SARS-Cov-2 entró en España por la ciu...</td>\n",
              "      <td>[el, virus, sars, cov, 2, entró, en, españa, p...</td>\n",
              "    </tr>\n",
              "    <tr>\n",
              "      <th>1</th>\n",
              "      <td>Las claves: qué es Montai y quién está detrás</td>\n",
              "      <td>¿Qué es Montai? ¿Qué relación guarda con las o...</td>\n",
              "      <td>[qué, es, montai, qué, relación, guarda, con, ...</td>\n",
              "    </tr>\n",
              "    <tr>\n",
              "      <th>2</th>\n",
              "      <td>Robots entregan domicilios en Medellín durante...</td>\n",
              "      <td>Unos 15 robots recorren las calles de Medellín...</td>\n",
              "      <td>[unos, 15, robots, recorren, las, calles, de, ...</td>\n",
              "    </tr>\n",
              "    <tr>\n",
              "      <th>3</th>\n",
              "      <td>Grazón insiste en que un nuevo estado de alarm...</td>\n",
              "      <td>En una entrevista en Radio Euskadi, recogida p...</td>\n",
              "      <td>[en, una, entrevista, en, radio, euskadi, reco...</td>\n",
              "    </tr>\n",
              "    <tr>\n",
              "      <th>4</th>\n",
              "      <td>Vox se sube a la ola de la extrema derecha eur...</td>\n",
              "      <td>\"España ha dejado de ser católica\", decía Manu...</td>\n",
              "      <td>[españa, ha, dejado, de, ser, católica, decía,...</td>\n",
              "    </tr>\n",
              "  </tbody>\n",
              "</table>\n",
              "</div>\n",
              "      <button class=\"colab-df-convert\" onclick=\"convertToInteractive('df-2cae9d76-20b9-415b-bbae-c8d15323e6f2')\"\n",
              "              title=\"Convert this dataframe to an interactive table.\"\n",
              "              style=\"display:none;\">\n",
              "        \n",
              "  <svg xmlns=\"http://www.w3.org/2000/svg\" height=\"24px\"viewBox=\"0 0 24 24\"\n",
              "       width=\"24px\">\n",
              "    <path d=\"M0 0h24v24H0V0z\" fill=\"none\"/>\n",
              "    <path d=\"M18.56 5.44l.94 2.06.94-2.06 2.06-.94-2.06-.94-.94-2.06-.94 2.06-2.06.94zm-11 1L8.5 8.5l.94-2.06 2.06-.94-2.06-.94L8.5 2.5l-.94 2.06-2.06.94zm10 10l.94 2.06.94-2.06 2.06-.94-2.06-.94-.94-2.06-.94 2.06-2.06.94z\"/><path d=\"M17.41 7.96l-1.37-1.37c-.4-.4-.92-.59-1.43-.59-.52 0-1.04.2-1.43.59L10.3 9.45l-7.72 7.72c-.78.78-.78 2.05 0 2.83L4 21.41c.39.39.9.59 1.41.59.51 0 1.02-.2 1.41-.59l7.78-7.78 2.81-2.81c.8-.78.8-2.07 0-2.86zM5.41 20L4 18.59l7.72-7.72 1.47 1.35L5.41 20z\"/>\n",
              "  </svg>\n",
              "      </button>\n",
              "      \n",
              "  <style>\n",
              "    .colab-df-container {\n",
              "      display:flex;\n",
              "      flex-wrap:wrap;\n",
              "      gap: 12px;\n",
              "    }\n",
              "\n",
              "    .colab-df-convert {\n",
              "      background-color: #E8F0FE;\n",
              "      border: none;\n",
              "      border-radius: 50%;\n",
              "      cursor: pointer;\n",
              "      display: none;\n",
              "      fill: #1967D2;\n",
              "      height: 32px;\n",
              "      padding: 0 0 0 0;\n",
              "      width: 32px;\n",
              "    }\n",
              "\n",
              "    .colab-df-convert:hover {\n",
              "      background-color: #E2EBFA;\n",
              "      box-shadow: 0px 1px 2px rgba(60, 64, 67, 0.3), 0px 1px 3px 1px rgba(60, 64, 67, 0.15);\n",
              "      fill: #174EA6;\n",
              "    }\n",
              "\n",
              "    [theme=dark] .colab-df-convert {\n",
              "      background-color: #3B4455;\n",
              "      fill: #D2E3FC;\n",
              "    }\n",
              "\n",
              "    [theme=dark] .colab-df-convert:hover {\n",
              "      background-color: #434B5C;\n",
              "      box-shadow: 0px 1px 3px 1px rgba(0, 0, 0, 0.15);\n",
              "      filter: drop-shadow(0px 1px 2px rgba(0, 0, 0, 0.3));\n",
              "      fill: #FFFFFF;\n",
              "    }\n",
              "  </style>\n",
              "\n",
              "      <script>\n",
              "        const buttonEl =\n",
              "          document.querySelector('#df-2cae9d76-20b9-415b-bbae-c8d15323e6f2 button.colab-df-convert');\n",
              "        buttonEl.style.display =\n",
              "          google.colab.kernel.accessAllowed ? 'block' : 'none';\n",
              "\n",
              "        async function convertToInteractive(key) {\n",
              "          const element = document.querySelector('#df-2cae9d76-20b9-415b-bbae-c8d15323e6f2');\n",
              "          const dataTable =\n",
              "            await google.colab.kernel.invokeFunction('convertToInteractive',\n",
              "                                                     [key], {});\n",
              "          if (!dataTable) return;\n",
              "\n",
              "          const docLinkHtml = 'Like what you see? Visit the ' +\n",
              "            '<a target=\"_blank\" href=https://colab.research.google.com/notebooks/data_table.ipynb>data table notebook</a>'\n",
              "            + ' to learn more about interactive tables.';\n",
              "          element.innerHTML = '';\n",
              "          dataTable['output_type'] = 'display_data';\n",
              "          await google.colab.output.renderOutput(dataTable, element);\n",
              "          const docLink = document.createElement('div');\n",
              "          docLink.innerHTML = docLinkHtml;\n",
              "          element.appendChild(docLink);\n",
              "        }\n",
              "      </script>\n",
              "    </div>\n",
              "  </div>\n",
              "  "
            ]
          },
          "metadata": {},
          "execution_count": 21
        }
      ]
    },
    {
      "cell_type": "markdown",
      "source": [
        "###  A continuación, eliminamos las stopwords que componen los textos, es decir, las palabras comunes que no aportan significado. Previamente debemos descargar la lista de stopwords en castellano mediante el comando stopwords.words(\"spanish\")."
      ],
      "metadata": {
        "id": "K9yS3Z152HCV"
      }
    },
    {
      "cell_type": "code",
      "source": [
        "nltk.download('stopwords')"
      ],
      "metadata": {
        "colab": {
          "base_uri": "https://localhost:8080/"
        },
        "id": "1ikyqDOT3S1j",
        "outputId": "31729059-dc17-45d3-bf30-57e64dd85f28"
      },
      "execution_count": 22,
      "outputs": [
        {
          "output_type": "stream",
          "name": "stderr",
          "text": [
            "[nltk_data] Downloading package stopwords to /root/nltk_data...\n",
            "[nltk_data]   Package stopwords is already up-to-date!\n"
          ]
        },
        {
          "output_type": "execute_result",
          "data": {
            "text/plain": [
              "True"
            ]
          },
          "metadata": {},
          "execution_count": 22
        }
      ]
    },
    {
      "cell_type": "code",
      "source": [
        "# En el siguiente código vemos como construir y aplicar a nuestros datos una función para filtrar fuera de los textos las stopwords y los dígitos\n",
        "\n",
        "STOPWORDS = set(stopwords.words(\"spanish\"))\n",
        "\n",
        "def filtrar_stopword_digitos(tokens):\n",
        "    \"\"\"\n",
        "    Filtra stopwords y digitos de una lista de tokens.\n",
        "    \"\"\"\n",
        "    return [token for token in tokens if token not in STOPWORDS \n",
        "            and not token.isdigit()]\n",
        "\n",
        "df[\"Tokens\"] = df.Tokens.apply(filtrar_stopword_digitos)\n",
        "df.head()"
      ],
      "metadata": {
        "colab": {
          "base_uri": "https://localhost:8080/",
          "height": 206
        },
        "id": "nbDswwXB0e7V",
        "outputId": "db186952-33e7-4f03-f215-5a04ec22cddb"
      },
      "execution_count": 23,
      "outputs": [
        {
          "output_type": "execute_result",
          "data": {
            "text/plain": [
              "                                             Titular  \\\n",
              "0  Un estudio impulsado por la Universidad de San...   \n",
              "1      Las claves: qué es Montai y quién está detrás   \n",
              "2  Robots entregan domicilios en Medellín durante...   \n",
              "3  Grazón insiste en que un nuevo estado de alarm...   \n",
              "4  Vox se sube a la ola de la extrema derecha eur...   \n",
              "\n",
              "                                             Noticia  \\\n",
              "0  El virus SARS-Cov-2 entró en España por la ciu...   \n",
              "1  ¿Qué es Montai? ¿Qué relación guarda con las o...   \n",
              "2  Unos 15 robots recorren las calles de Medellín...   \n",
              "3  En una entrevista en Radio Euskadi, recogida p...   \n",
              "4  \"España ha dejado de ser católica\", decía Manu...   \n",
              "\n",
              "                                              Tokens  \n",
              "0  [virus, sars, cov, entró, españa, ciudad, vito...  \n",
              "1  [montai, relación, guarda, empresas, quién, de...  \n",
              "2  [robots, recorren, calles, medellín, realizar,...  \n",
              "3  [entrevista, radio, euskadi, recogida, europa,...  \n",
              "4  [españa, dejado, ser, católica, decía, manuel,...  "
            ],
            "text/html": [
              "\n",
              "  <div id=\"df-487281d0-0d72-44b5-9989-cace151c3f6e\">\n",
              "    <div class=\"colab-df-container\">\n",
              "      <div>\n",
              "<style scoped>\n",
              "    .dataframe tbody tr th:only-of-type {\n",
              "        vertical-align: middle;\n",
              "    }\n",
              "\n",
              "    .dataframe tbody tr th {\n",
              "        vertical-align: top;\n",
              "    }\n",
              "\n",
              "    .dataframe thead th {\n",
              "        text-align: right;\n",
              "    }\n",
              "</style>\n",
              "<table border=\"1\" class=\"dataframe\">\n",
              "  <thead>\n",
              "    <tr style=\"text-align: right;\">\n",
              "      <th></th>\n",
              "      <th>Titular</th>\n",
              "      <th>Noticia</th>\n",
              "      <th>Tokens</th>\n",
              "    </tr>\n",
              "  </thead>\n",
              "  <tbody>\n",
              "    <tr>\n",
              "      <th>0</th>\n",
              "      <td>Un estudio impulsado por la Universidad de San...</td>\n",
              "      <td>El virus SARS-Cov-2 entró en España por la ciu...</td>\n",
              "      <td>[virus, sars, cov, entró, españa, ciudad, vito...</td>\n",
              "    </tr>\n",
              "    <tr>\n",
              "      <th>1</th>\n",
              "      <td>Las claves: qué es Montai y quién está detrás</td>\n",
              "      <td>¿Qué es Montai? ¿Qué relación guarda con las o...</td>\n",
              "      <td>[montai, relación, guarda, empresas, quién, de...</td>\n",
              "    </tr>\n",
              "    <tr>\n",
              "      <th>2</th>\n",
              "      <td>Robots entregan domicilios en Medellín durante...</td>\n",
              "      <td>Unos 15 robots recorren las calles de Medellín...</td>\n",
              "      <td>[robots, recorren, calles, medellín, realizar,...</td>\n",
              "    </tr>\n",
              "    <tr>\n",
              "      <th>3</th>\n",
              "      <td>Grazón insiste en que un nuevo estado de alarm...</td>\n",
              "      <td>En una entrevista en Radio Euskadi, recogida p...</td>\n",
              "      <td>[entrevista, radio, euskadi, recogida, europa,...</td>\n",
              "    </tr>\n",
              "    <tr>\n",
              "      <th>4</th>\n",
              "      <td>Vox se sube a la ola de la extrema derecha eur...</td>\n",
              "      <td>\"España ha dejado de ser católica\", decía Manu...</td>\n",
              "      <td>[españa, dejado, ser, católica, decía, manuel,...</td>\n",
              "    </tr>\n",
              "  </tbody>\n",
              "</table>\n",
              "</div>\n",
              "      <button class=\"colab-df-convert\" onclick=\"convertToInteractive('df-487281d0-0d72-44b5-9989-cace151c3f6e')\"\n",
              "              title=\"Convert this dataframe to an interactive table.\"\n",
              "              style=\"display:none;\">\n",
              "        \n",
              "  <svg xmlns=\"http://www.w3.org/2000/svg\" height=\"24px\"viewBox=\"0 0 24 24\"\n",
              "       width=\"24px\">\n",
              "    <path d=\"M0 0h24v24H0V0z\" fill=\"none\"/>\n",
              "    <path d=\"M18.56 5.44l.94 2.06.94-2.06 2.06-.94-2.06-.94-.94-2.06-.94 2.06-2.06.94zm-11 1L8.5 8.5l.94-2.06 2.06-.94-2.06-.94L8.5 2.5l-.94 2.06-2.06.94zm10 10l.94 2.06.94-2.06 2.06-.94-2.06-.94-.94-2.06-.94 2.06-2.06.94z\"/><path d=\"M17.41 7.96l-1.37-1.37c-.4-.4-.92-.59-1.43-.59-.52 0-1.04.2-1.43.59L10.3 9.45l-7.72 7.72c-.78.78-.78 2.05 0 2.83L4 21.41c.39.39.9.59 1.41.59.51 0 1.02-.2 1.41-.59l7.78-7.78 2.81-2.81c.8-.78.8-2.07 0-2.86zM5.41 20L4 18.59l7.72-7.72 1.47 1.35L5.41 20z\"/>\n",
              "  </svg>\n",
              "      </button>\n",
              "      \n",
              "  <style>\n",
              "    .colab-df-container {\n",
              "      display:flex;\n",
              "      flex-wrap:wrap;\n",
              "      gap: 12px;\n",
              "    }\n",
              "\n",
              "    .colab-df-convert {\n",
              "      background-color: #E8F0FE;\n",
              "      border: none;\n",
              "      border-radius: 50%;\n",
              "      cursor: pointer;\n",
              "      display: none;\n",
              "      fill: #1967D2;\n",
              "      height: 32px;\n",
              "      padding: 0 0 0 0;\n",
              "      width: 32px;\n",
              "    }\n",
              "\n",
              "    .colab-df-convert:hover {\n",
              "      background-color: #E2EBFA;\n",
              "      box-shadow: 0px 1px 2px rgba(60, 64, 67, 0.3), 0px 1px 3px 1px rgba(60, 64, 67, 0.15);\n",
              "      fill: #174EA6;\n",
              "    }\n",
              "\n",
              "    [theme=dark] .colab-df-convert {\n",
              "      background-color: #3B4455;\n",
              "      fill: #D2E3FC;\n",
              "    }\n",
              "\n",
              "    [theme=dark] .colab-df-convert:hover {\n",
              "      background-color: #434B5C;\n",
              "      box-shadow: 0px 1px 3px 1px rgba(0, 0, 0, 0.15);\n",
              "      filter: drop-shadow(0px 1px 2px rgba(0, 0, 0, 0.3));\n",
              "      fill: #FFFFFF;\n",
              "    }\n",
              "  </style>\n",
              "\n",
              "      <script>\n",
              "        const buttonEl =\n",
              "          document.querySelector('#df-487281d0-0d72-44b5-9989-cace151c3f6e button.colab-df-convert');\n",
              "        buttonEl.style.display =\n",
              "          google.colab.kernel.accessAllowed ? 'block' : 'none';\n",
              "\n",
              "        async function convertToInteractive(key) {\n",
              "          const element = document.querySelector('#df-487281d0-0d72-44b5-9989-cace151c3f6e');\n",
              "          const dataTable =\n",
              "            await google.colab.kernel.invokeFunction('convertToInteractive',\n",
              "                                                     [key], {});\n",
              "          if (!dataTable) return;\n",
              "\n",
              "          const docLinkHtml = 'Like what you see? Visit the ' +\n",
              "            '<a target=\"_blank\" href=https://colab.research.google.com/notebooks/data_table.ipynb>data table notebook</a>'\n",
              "            + ' to learn more about interactive tables.';\n",
              "          element.innerHTML = '';\n",
              "          dataTable['output_type'] = 'display_data';\n",
              "          await google.colab.output.renderOutput(dataTable, element);\n",
              "          const docLink = document.createElement('div');\n",
              "          docLink.innerHTML = docLinkHtml;\n",
              "          element.appendChild(docLink);\n",
              "        }\n",
              "      </script>\n",
              "    </div>\n",
              "  </div>\n",
              "  "
            ]
          },
          "metadata": {},
          "execution_count": 23
        }
      ]
    },
    {
      "cell_type": "markdown",
      "source": [
        "En la esta fase final reducimos cada palabra a su raíz mediante el proceso de stemming. Por ejemplo, este algoritmo reduciría las palabras escribir, escribiendo y escribió a escrib. Para este ejemplo usaré el algoritmo de Porter incluido en la librería NLTK y compatible con el idioma castellano. Para utilizarlo, simplemente creamos un objeto SnowballStemmer y usamos la función stem() como podemos ver en el siguiente código."
      ],
      "metadata": {
        "id": "A84apwbU6FBl"
      }
    },
    {
      "cell_type": "code",
      "source": [
        "stemmer = SnowballStemmer(\"spanish\")\n",
        "\n",
        "def stem_palabras(tokens):\n",
        "    \"\"\"\n",
        "    Reduce cada palabra de una lista dada a su raíz.\n",
        "    \"\"\"\n",
        "    return [stemmer.stem(token) for token in tokens]\n",
        "\n",
        "df[\"Tokens\"] = df.Tokens.apply(stem_palabras)\n",
        "\n",
        "df.head()"
      ],
      "metadata": {
        "colab": {
          "base_uri": "https://localhost:8080/",
          "height": 206
        },
        "id": "eHV4dHdw2k_E",
        "outputId": "368026a3-53b8-4edb-e1bd-3a6bef82c676"
      },
      "execution_count": 24,
      "outputs": [
        {
          "output_type": "execute_result",
          "data": {
            "text/plain": [
              "                                             Titular  \\\n",
              "0  Un estudio impulsado por la Universidad de San...   \n",
              "1      Las claves: qué es Montai y quién está detrás   \n",
              "2  Robots entregan domicilios en Medellín durante...   \n",
              "3  Grazón insiste en que un nuevo estado de alarm...   \n",
              "4  Vox se sube a la ola de la extrema derecha eur...   \n",
              "\n",
              "                                             Noticia  \\\n",
              "0  El virus SARS-Cov-2 entró en España por la ciu...   \n",
              "1  ¿Qué es Montai? ¿Qué relación guarda con las o...   \n",
              "2  Unos 15 robots recorren las calles de Medellín...   \n",
              "3  En una entrevista en Radio Euskadi, recogida p...   \n",
              "4  \"España ha dejado de ser católica\", decía Manu...   \n",
              "\n",
              "                                              Tokens  \n",
              "0  [virus, sars, cov, entro, españ, ciud, vitori,...  \n",
              "1  [montai, relacion, guard, empres, quien, detra...  \n",
              "2  [robots, recorr, call, medellin, realiz, entre...  \n",
              "3  [entrev, radi, euskadi, recog, europ, press, g...  \n",
              "4  [españ, dej, ser, catol, dec, manuel, azañ, co...  "
            ],
            "text/html": [
              "\n",
              "  <div id=\"df-fda8fc10-e2ca-4b9e-a238-61f87b8e0890\">\n",
              "    <div class=\"colab-df-container\">\n",
              "      <div>\n",
              "<style scoped>\n",
              "    .dataframe tbody tr th:only-of-type {\n",
              "        vertical-align: middle;\n",
              "    }\n",
              "\n",
              "    .dataframe tbody tr th {\n",
              "        vertical-align: top;\n",
              "    }\n",
              "\n",
              "    .dataframe thead th {\n",
              "        text-align: right;\n",
              "    }\n",
              "</style>\n",
              "<table border=\"1\" class=\"dataframe\">\n",
              "  <thead>\n",
              "    <tr style=\"text-align: right;\">\n",
              "      <th></th>\n",
              "      <th>Titular</th>\n",
              "      <th>Noticia</th>\n",
              "      <th>Tokens</th>\n",
              "    </tr>\n",
              "  </thead>\n",
              "  <tbody>\n",
              "    <tr>\n",
              "      <th>0</th>\n",
              "      <td>Un estudio impulsado por la Universidad de San...</td>\n",
              "      <td>El virus SARS-Cov-2 entró en España por la ciu...</td>\n",
              "      <td>[virus, sars, cov, entro, españ, ciud, vitori,...</td>\n",
              "    </tr>\n",
              "    <tr>\n",
              "      <th>1</th>\n",
              "      <td>Las claves: qué es Montai y quién está detrás</td>\n",
              "      <td>¿Qué es Montai? ¿Qué relación guarda con las o...</td>\n",
              "      <td>[montai, relacion, guard, empres, quien, detra...</td>\n",
              "    </tr>\n",
              "    <tr>\n",
              "      <th>2</th>\n",
              "      <td>Robots entregan domicilios en Medellín durante...</td>\n",
              "      <td>Unos 15 robots recorren las calles de Medellín...</td>\n",
              "      <td>[robots, recorr, call, medellin, realiz, entre...</td>\n",
              "    </tr>\n",
              "    <tr>\n",
              "      <th>3</th>\n",
              "      <td>Grazón insiste en que un nuevo estado de alarm...</td>\n",
              "      <td>En una entrevista en Radio Euskadi, recogida p...</td>\n",
              "      <td>[entrev, radi, euskadi, recog, europ, press, g...</td>\n",
              "    </tr>\n",
              "    <tr>\n",
              "      <th>4</th>\n",
              "      <td>Vox se sube a la ola de la extrema derecha eur...</td>\n",
              "      <td>\"España ha dejado de ser católica\", decía Manu...</td>\n",
              "      <td>[españ, dej, ser, catol, dec, manuel, azañ, co...</td>\n",
              "    </tr>\n",
              "  </tbody>\n",
              "</table>\n",
              "</div>\n",
              "      <button class=\"colab-df-convert\" onclick=\"convertToInteractive('df-fda8fc10-e2ca-4b9e-a238-61f87b8e0890')\"\n",
              "              title=\"Convert this dataframe to an interactive table.\"\n",
              "              style=\"display:none;\">\n",
              "        \n",
              "  <svg xmlns=\"http://www.w3.org/2000/svg\" height=\"24px\"viewBox=\"0 0 24 24\"\n",
              "       width=\"24px\">\n",
              "    <path d=\"M0 0h24v24H0V0z\" fill=\"none\"/>\n",
              "    <path d=\"M18.56 5.44l.94 2.06.94-2.06 2.06-.94-2.06-.94-.94-2.06-.94 2.06-2.06.94zm-11 1L8.5 8.5l.94-2.06 2.06-.94-2.06-.94L8.5 2.5l-.94 2.06-2.06.94zm10 10l.94 2.06.94-2.06 2.06-.94-2.06-.94-.94-2.06-.94 2.06-2.06.94z\"/><path d=\"M17.41 7.96l-1.37-1.37c-.4-.4-.92-.59-1.43-.59-.52 0-1.04.2-1.43.59L10.3 9.45l-7.72 7.72c-.78.78-.78 2.05 0 2.83L4 21.41c.39.39.9.59 1.41.59.51 0 1.02-.2 1.41-.59l7.78-7.78 2.81-2.81c.8-.78.8-2.07 0-2.86zM5.41 20L4 18.59l7.72-7.72 1.47 1.35L5.41 20z\"/>\n",
              "  </svg>\n",
              "      </button>\n",
              "      \n",
              "  <style>\n",
              "    .colab-df-container {\n",
              "      display:flex;\n",
              "      flex-wrap:wrap;\n",
              "      gap: 12px;\n",
              "    }\n",
              "\n",
              "    .colab-df-convert {\n",
              "      background-color: #E8F0FE;\n",
              "      border: none;\n",
              "      border-radius: 50%;\n",
              "      cursor: pointer;\n",
              "      display: none;\n",
              "      fill: #1967D2;\n",
              "      height: 32px;\n",
              "      padding: 0 0 0 0;\n",
              "      width: 32px;\n",
              "    }\n",
              "\n",
              "    .colab-df-convert:hover {\n",
              "      background-color: #E2EBFA;\n",
              "      box-shadow: 0px 1px 2px rgba(60, 64, 67, 0.3), 0px 1px 3px 1px rgba(60, 64, 67, 0.15);\n",
              "      fill: #174EA6;\n",
              "    }\n",
              "\n",
              "    [theme=dark] .colab-df-convert {\n",
              "      background-color: #3B4455;\n",
              "      fill: #D2E3FC;\n",
              "    }\n",
              "\n",
              "    [theme=dark] .colab-df-convert:hover {\n",
              "      background-color: #434B5C;\n",
              "      box-shadow: 0px 1px 3px 1px rgba(0, 0, 0, 0.15);\n",
              "      filter: drop-shadow(0px 1px 2px rgba(0, 0, 0, 0.3));\n",
              "      fill: #FFFFFF;\n",
              "    }\n",
              "  </style>\n",
              "\n",
              "      <script>\n",
              "        const buttonEl =\n",
              "          document.querySelector('#df-fda8fc10-e2ca-4b9e-a238-61f87b8e0890 button.colab-df-convert');\n",
              "        buttonEl.style.display =\n",
              "          google.colab.kernel.accessAllowed ? 'block' : 'none';\n",
              "\n",
              "        async function convertToInteractive(key) {\n",
              "          const element = document.querySelector('#df-fda8fc10-e2ca-4b9e-a238-61f87b8e0890');\n",
              "          const dataTable =\n",
              "            await google.colab.kernel.invokeFunction('convertToInteractive',\n",
              "                                                     [key], {});\n",
              "          if (!dataTable) return;\n",
              "\n",
              "          const docLinkHtml = 'Like what you see? Visit the ' +\n",
              "            '<a target=\"_blank\" href=https://colab.research.google.com/notebooks/data_table.ipynb>data table notebook</a>'\n",
              "            + ' to learn more about interactive tables.';\n",
              "          element.innerHTML = '';\n",
              "          dataTable['output_type'] = 'display_data';\n",
              "          await google.colab.output.renderOutput(dataTable, element);\n",
              "          const docLink = document.createElement('div');\n",
              "          docLink.innerHTML = docLinkHtml;\n",
              "          element.appendChild(docLink);\n",
              "        }\n",
              "      </script>\n",
              "    </div>\n",
              "  </div>\n",
              "  "
            ]
          },
          "metadata": {},
          "execution_count": 24
        }
      ]
    },
    {
      "cell_type": "markdown",
      "source": [
        "A continuación mostramos las primeras diez palabras procesadas de una noticia de nuestra colección a modo de ejemplo"
      ],
      "metadata": {
        "id": "j8V38e-n6rHW"
      }
    },
    {
      "cell_type": "code",
      "source": [
        "print(df.Tokens[0][0:10])"
      ],
      "metadata": {
        "colab": {
          "base_uri": "https://localhost:8080/"
        },
        "id": "jnVY-tF-6Oiz",
        "outputId": "8ac3e18a-42b2-423c-bdb3-8f30eab6d02c"
      },
      "execution_count": 25,
      "outputs": [
        {
          "output_type": "stream",
          "name": "stdout",
          "text": [
            "['virus', 'sars', 'cov', 'entro', 'españ', 'ciud', 'vitori', 'torn', 'febrer', 'conclusion']\n"
          ]
        }
      ]
    },
    {
      "cell_type": "markdown",
      "source": [
        "Vamos a construir un diccionario con todas las palabras y un corpus con la frecuencia de las palabras en cada documento. Así, estos dos serán las principales entradas de nuestro modelo LDA. Veamos en primer lugar cómo podemos obtenerlos."
      ],
      "metadata": {
        "id": "dv64dyjo8bzn"
      }
    },
    {
      "cell_type": "code",
      "source": [
        "# Generación del diccionario y corpus, principales entradas del modelo LDA\n",
        "from gensim.corpora import Dictionary\n",
        "from gensim.models import LdaModel\n",
        "import random\n",
        "import numpy as np\n",
        "import matplotlib.pyplot as plt\n",
        "from wordcloud import WordCloud\n",
        "%matplotlib inline"
      ],
      "metadata": {
        "id": "zsBcIXw47A-Z"
      },
      "execution_count": 26,
      "outputs": []
    },
    {
      "cell_type": "code",
      "source": [
        "# Creamos un diccionario con nuestra lista de palabras almacenadas en df.Tokens\n",
        "diccionario = Dictionary(df.Tokens)\n",
        "print(f'Número de tokens: {len(diccionario)}')"
      ],
      "metadata": {
        "colab": {
          "base_uri": "https://localhost:8080/"
        },
        "id": "2poJsYkD-b_3",
        "outputId": "9cad9ce6-0d63-43a4-dcc4-7e27783fc0b8"
      },
      "execution_count": 27,
      "outputs": [
        {
          "output_type": "stream",
          "name": "stdout",
          "text": [
            "Número de tokens: 47388\n"
          ]
        }
      ]
    },
    {
      "cell_type": "markdown",
      "source": [
        "Después, reducimos el diccionario filtrando las palabras más raras o demasiado frecuentes. Para ello haremos uso de la función filter_extremes, que nos proporciona el objeto Dictionary y que nos servirá para mantener únicamente aquellos tokens que se encuentran en al menos 2 documentos (no_below) y los que están contenidos en no más del 80% de documentos (no_above)."
      ],
      "metadata": {
        "id": "lOVSGbLc_PP9"
      }
    },
    {
      "cell_type": "code",
      "source": [
        "diccionario.filter_extremes(no_below=2, no_above = 0.8)\n",
        "print(f'Número de tokens: {len(diccionario)}')"
      ],
      "metadata": {
        "colab": {
          "base_uri": "https://localhost:8080/"
        },
        "id": "V_Hyz1Zo_UtX",
        "outputId": "90136f66-f863-48f9-b11e-09ecf2bd06da"
      },
      "execution_count": 28,
      "outputs": [
        {
          "output_type": "stream",
          "name": "stdout",
          "text": [
            "Número de tokens: 25522\n"
          ]
        }
      ]
    },
    {
      "cell_type": "markdown",
      "source": [
        "Luego, inicializamos el corpus en base al diccionario que acabamos de crear. Cada documento se transformará en una bolsa de palabras (BOW del inglés bag-of-words) con las frecuencias de aparición.\n",
        "\n",
        "Tras aplicar esta técnica veremos que cada documento está representado como una lista de tuplas donde el primer elemento es el identificador numérico de la palabra y el segundo es el número de veces que esa palabra aparece en el documento.\n",
        "\n",
        "A continuación se muestra como construimos el corpus aplicando la función doc2bow del diccionario a cada lista de palabras:"
      ],
      "metadata": {
        "id": "rVh1NOKeAK6o"
      }
    },
    {
      "cell_type": "code",
      "source": [
        "# Creamos el corpus \n",
        "corpus = [diccionario.doc2bow(noticia) for noticia in df.Tokens]\n",
        "\n",
        "# Mostramos el BOW de una noticia\n",
        "print(corpus[6])"
      ],
      "metadata": {
        "colab": {
          "base_uri": "https://localhost:8080/"
        },
        "id": "2BKafKbm_zyq",
        "outputId": "d89aae95-ea7e-4260-a8e6-199937bc933f"
      },
      "execution_count": 29,
      "outputs": [
        {
          "output_type": "stream",
          "name": "stdout",
          "text": [
            "[(3, 1), (25, 1), (26, 6), (29, 1), (40, 1), (41, 3), (44, 1), (48, 7), (52, 2), (67, 1), (68, 1), (77, 1), (86, 1), (94, 1), (96, 1), (108, 4), (116, 1), (118, 1), (121, 1), (131, 2), (146, 2), (149, 2), (164, 1), (172, 1), (176, 2), (178, 1), (193, 1), (204, 1), (210, 1), (222, 1), (235, 3), (236, 4), (238, 1), (245, 1), (268, 1), (276, 1), (283, 1), (295, 1), (299, 1), (311, 3), (312, 2), (339, 1), (349, 1), (367, 11), (372, 1), (394, 12), (407, 1), (413, 1), (431, 1), (436, 2), (439, 1), (440, 1), (450, 1), (454, 2), (462, 2), (475, 3), (478, 2), (492, 1), (498, 1), (502, 2), (513, 2), (525, 1), (531, 3), (549, 1), (561, 1), (574, 1), (587, 2), (615, 1), (631, 1), (640, 1), (650, 3), (653, 2), (656, 1), (660, 1), (677, 1), (680, 1), (683, 1), (684, 1), (686, 2), (694, 1), (732, 1), (784, 2), (793, 2), (794, 1), (804, 2), (817, 3), (830, 1), (839, 1), (840, 1), (842, 1), (852, 1), (866, 2), (913, 1), (915, 1), (917, 2), (921, 2), (933, 1), (958, 1), (1055, 1), (1057, 1), (1060, 1), (1073, 1), (1122, 1), (1140, 1), (1141, 1), (1142, 1), (1143, 1), (1144, 1), (1145, 1), (1146, 1), (1147, 1), (1148, 1), (1149, 1), (1150, 6), (1151, 1), (1152, 1), (1153, 1), (1154, 13), (1155, 1), (1156, 1), (1157, 1), (1158, 3), (1159, 1), (1160, 1), (1161, 1), (1162, 1), (1163, 1), (1164, 1), (1165, 1), (1166, 2), (1167, 3), (1168, 1), (1169, 1), (1170, 1), (1171, 1), (1172, 1), (1173, 1), (1174, 1), (1175, 1), (1176, 2), (1177, 2), (1178, 1), (1179, 1), (1180, 1), (1181, 1), (1182, 1), (1183, 1), (1184, 1), (1185, 1), (1186, 1), (1187, 1), (1188, 1), (1189, 1), (1190, 1), (1191, 1), (1192, 1), (1193, 1), (1194, 1), (1195, 1), (1196, 1), (1197, 2), (1198, 1), (1199, 1), (1200, 1), (1201, 1), (1202, 1), (1203, 2), (1204, 3), (1205, 1), (1206, 1), (1207, 1), (1208, 1), (1209, 1), (1210, 2), (1211, 1), (1212, 1), (1213, 1), (1214, 1), (1215, 10), (1216, 1), (1217, 1), (1218, 1), (1219, 1), (1220, 1), (1221, 1), (1222, 1), (1223, 1), (1224, 1), (1225, 1), (1226, 3), (1227, 1), (1228, 2), (1229, 1), (1230, 3)]\n"
          ]
        }
      ]
    },
    {
      "cell_type": "markdown",
      "source": [
        "En el resultado se muestra la representación BOW de una noticia cualquiera (print(corpus[6])) en la que los primeros 5 elementos son: [(3, 1), (25, 1), (26, 6), (29, 1), (40, 1) …].\n",
        "Así, la primera tupla (3, 1) indica que, para el primer documento, la palabra con el identificador 3 aparece una vez. Mediante el comando (diccionario[3]) se puede ver que el identificador 3 corresponde al token afirm."
      ],
      "metadata": {
        "id": "fTpz0-lBB4NO"
      }
    },
    {
      "cell_type": "markdown",
      "source": [
        "## Construyendo el modelo LDA"
      ],
      "metadata": {
        "id": "Zp8p5xWUCETq"
      }
    },
    {
      "cell_type": "markdown",
      "source": [
        "Para construir el modelo LDA simplemente creamos un objeto LdaModel de la librería Gensim pasándole como argumento el corpus y el diccionario y le indicamos adicionalmente los siguientes parámetros:\n",
        "\n",
        "*   num_topics: número de tópicos. Para este tutorial extraeremos 50 tópicos.\n",
        "*   random_state: parámetro para controlar la aleatoriedad del proceso de entrenamiento y que nos devuelva siempre los mismos resultados.\n",
        "*   chunksize: número de documentos que será utilizado en cada pasada de entrenamiento.\n",
        "*   passes: número de pasadas por el corpus durante el entrenamiento.\n",
        "*   alpha: representa la densidad de tópicos por documento. Un mayor valor de este parámetro implica que los documentos estén compuestos de más tópicos. En este caso, fijamos el valor en auto.\n"
      ],
      "metadata": {
        "id": "-nIkeHJ9CGx0"
      }
    },
    {
      "cell_type": "code",
      "source": [
        "diccionario[3]"
      ],
      "metadata": {
        "colab": {
          "base_uri": "https://localhost:8080/",
          "height": 36
        },
        "id": "aM-Kh3-vBjdj",
        "outputId": "5255b2a3-1c3b-48f3-f4ee-1828aff7672f"
      },
      "execution_count": 30,
      "outputs": [
        {
          "output_type": "execute_result",
          "data": {
            "text/plain": [
              "'afirm'"
            ],
            "application/vnd.google.colaboratory.intrinsic+json": {
              "type": "string"
            }
          },
          "metadata": {},
          "execution_count": 30
        }
      ]
    },
    {
      "cell_type": "code",
      "source": [
        "lda = LdaModel(corpus=corpus, id2word=diccionario, \n",
        "               num_topics=50, random_state=42, \n",
        "               chunksize=1000, passes=10, alpha='auto')"
      ],
      "metadata": {
        "id": "T_li4ww9B_hY"
      },
      "execution_count": 31,
      "outputs": []
    },
    {
      "cell_type": "code",
      "source": [
        "# Para visualizar los tópicos extraídos podemos utilizar la función print_topics indicándole el número de tópicos y el número de palabras por tópico que queremos que se muestre\n",
        "topicos = lda.print_topics(num_words=5, num_topics=20)\n",
        "for topico in topicos:\n",
        "    print(topico)"
      ],
      "metadata": {
        "colab": {
          "base_uri": "https://localhost:8080/"
        },
        "id": "xyVtmfqeDZEM",
        "outputId": "bb71b56f-760d-42c0-da0f-58d88f863988"
      },
      "execution_count": 33,
      "outputs": [
        {
          "output_type": "stream",
          "name": "stdout",
          "text": [
            "(32, '0.039*\"azul\" + 0.036*\"luz\" + 0.031*\"velasc\" + 0.029*\"sueñ\" + 0.021*\"eloy\"')\n",
            "(10, '0.025*\"respir\" + 0.025*\"bail\" + 0.024*\"perr\" + 0.021*\"jon\" + 0.018*\"street\"')\n",
            "(34, '0.108*\"cantabri\" + 0.077*\"santand\" + 0.044*\"cantabr\" + 0.025*\"miguel\" + 0.020*\"mar\"')\n",
            "(29, '0.048*\"dependent\" + 0.026*\"punic\" + 0.025*\"servici\" + 0.024*\"enfermer\" + 0.021*\"list\"')\n",
            "(20, '0.057*\"israel\" + 0.030*\"palestin\" + 0.020*\"brasil\" + 0.016*\"bolsonar\" + 0.015*\"trump\"')\n",
            "(38, '0.166*\"galici\" + 0.092*\"galleg\" + 0.080*\"feijo\" + 0.072*\"xunt\" + 0.033*\"nuñez\"')\n",
            "(24, '0.023*\"efect\" + 0.021*\"incendi\" + 0.014*\"estres\" + 0.014*\"estudi\" + 0.012*\"quem\"')\n",
            "(9, '0.036*\"miguel\" + 0.023*\"cas\" + 0.015*\"conden\" + 0.012*\"pnv\" + 0.011*\"corrupcion\"')\n",
            "(3, '0.044*\"valencian\" + 0.025*\"per\" + 0.018*\"valenci\" + 0.016*\"cuenc\" + 0.015*\"valènci\"')\n",
            "(4, '0.035*\"cas\" + 0.030*\"univers\" + 0.026*\"mast\" + 0.019*\"cifuent\" + 0.014*\"curs\"')\n",
            "(26, '0.031*\"millon\" + 0.023*\"eur\" + 0.019*\"econom\" + 0.014*\"año\" + 0.009*\"banc\"')\n",
            "(31, '0.044*\"trabaj\" + 0.016*\"emple\" + 0.015*\"social\" + 0.014*\"empres\" + 0.012*\"laboral\"')\n",
            "(35, '0.010*\"proyect\" + 0.008*\"agu\" + 0.007*\"desarroll\" + 0.007*\"medi\" + 0.006*\"cambi\"')\n",
            "(48, '0.015*\"person\" + 0.013*\"call\" + 0.012*\"viv\" + 0.012*\"social\" + 0.011*\"barri\"')\n",
            "(43, '0.019*\"pp\" + 0.019*\"gobiern\" + 0.019*\"part\" + 0.012*\"polit\" + 0.011*\"ciudadan\"')\n",
            "(46, '0.009*\"histori\" + 0.007*\"libr\" + 0.007*\"pelicul\" + 0.006*\"cin\" + 0.005*\"años\"')\n",
            "(11, '0.012*\"años\" + 0.010*\"cas\" + 0.010*\"pas\" + 0.008*\"dos\" + 0.008*\"hac\"')\n",
            "(49, '0.013*\"tribunal\" + 0.008*\"judicial\" + 0.008*\"fiscal\" + 0.007*\"justici\" + 0.006*\"derech\"')\n",
            "(1, '0.018*\"gobiern\" + 0.016*\"comun\" + 0.012*\"sanitari\" + 0.010*\"salud\" + 0.009*\"med\"')\n",
            "(19, '0.021*\"hac\" + 0.016*\"si\" + 0.013*\"pued\" + 0.011*\"cre\" + 0.011*\"ser\"')\n"
          ]
        }
      ]
    },
    {
      "cell_type": "markdown",
      "source": [
        "Por cada tópico podemos ver las cinco palabras que más contribuyen a ese tópico y sus pesos en el mismo. El peso nos indica como de importante es la palabra en ese tópico. Esto significa que, por ejemplo, las cinco principales palabras en el tópico 32 son: azul, eolic, sueñ, arroy y luz. Por lo tanto, esta claro que este tópico se centra en el medio ambiente y la energía renovable.\n",
        "Es fácil también interpretar que el tópico 26 tiene relación con la economía al contener palabras como millón, eur y banc y el tópico 38 se centra en elecciones, ya que sus palabras más significativas son encuest, votant y dat."
      ],
      "metadata": {
        "id": "awQ030vmEwrp"
      }
    },
    {
      "cell_type": "markdown",
      "source": [
        "También podemos visualizar las palabras más importantes de cada tópico mediante nube de palabras, donde el tamaño de cada palabra corresponde con su contribución en el tópico. En el siguiente código construimos un gráfico de nube de palabras gracias a la librería wordcloud"
      ],
      "metadata": {
        "id": "7-knjzPiFL6F"
      }
    },
    {
      "cell_type": "code",
      "source": [
        "for i in range(1, 5):\n",
        "    plt.figure()\n",
        "    plt.imshow(WordCloud(background_color='white', prefer_horizontal=1.0)\n",
        "               .fit_words(dict(lda.show_topic(i, 20))))\n",
        "    plt.axis(\"off\")\n",
        "    plt.title(\"Tópico \" + str(i))\n",
        "    plt.show()"
      ],
      "metadata": {
        "colab": {
          "base_uri": "https://localhost:8080/",
          "height": 805
        },
        "id": "l23mKy3SEXAn",
        "outputId": "4a0d00e8-e142-4076-f42d-6322482bb984"
      },
      "execution_count": 35,
      "outputs": [
        {
          "output_type": "display_data",
          "data": {
            "text/plain": [
              "<Figure size 432x288 with 1 Axes>"
            ],
            "image/png": "[encoded data removed]"
          },
          "metadata": {
            "needs_background": "light"
          }
        },
        {
          "output_type": "display_data",
          "data": {
            "text/plain": [
              "<Figure size 432x288 with 1 Axes>"
            ],
            "image/png": "[encoded data removed]"
          },
          "metadata": {
            "needs_background": "light"
          }
        },
        {
          "output_type": "display_data",
          "data": {
            "text/plain": [
              "<Figure size 432x288 with 1 Axes>"
            ],
            "image/png": "[encoded data removed]"
          },
          "metadata": {
            "needs_background": "light"
          }
        },
        {
          "output_type": "display_data",
          "data": {
            "text/plain": [
              "<Figure size 432x288 with 1 Axes>"
            ],
            "image/png": "[encoded data removed]"
          },
          "metadata": {
            "needs_background": "light"
          }
        }
      ]
    },
    {
      "cell_type": "markdown",
      "source": [
        "## Evaluación del modelo"
      ],
      "metadata": {
        "id": "gsJmcceqG29z"
      }
    },
    {
      "cell_type": "markdown",
      "source": [
        "Para evaluar el rendimiento del modelo, estimaremos los tópicos en dos documentos diferentes. En el primer caso, escogeremos un documento de entre las noticias utilizadas en el corpus para entrenar el modelo y para la segunda prueba utilizaremos una nueva noticia.\n",
        "\n",
        "Así, empezamos escogiendo una noticia del corpus al azar y mostramos su contenido y titular."
      ],
      "metadata": {
        "id": "QiehrVriG_H-"
      }
    },
    {
      "cell_type": "code",
      "source": [
        "indice_noticia = random.randint(0,len(df))\n",
        "noticia = df.iloc[indice_noticia]\n",
        "print(\"Titular: \" + noticia.Titular)\n",
        "print(noticia.Noticia)"
      ],
      "metadata": {
        "colab": {
          "base_uri": "https://localhost:8080/"
        },
        "id": "PctZySxTGB6F",
        "outputId": "c4eeb865-d4d6-46ca-8d45-648da5390129"
      },
      "execution_count": 36,
      "outputs": [
        {
          "output_type": "stream",
          "name": "stdout",
          "text": [
            "Titular: Carrizosa (Cs) a Torra: \"Trabajemos juntos y dejen los cuentos de siempre\"\n",
            "En un apunte en Twitter recogido por Europa Press, Carrizosa ha respondido a la crítica de Torra sobre que el Gobierno \"confisque\" competencias de la Generalitat en el marco del estado de alarma por el coronavirus.                  \"Algunos se empeñan en poner las cosas difíciles. No importa quién ejerce las competencias para salvar vidas, sino trabajar bien y salvarlas\", ha afirmado Carrizosa, que ha añadido que ya habrá tiempo para valorar cómo afrontó la crisis del coronavirus cada gobierno.            Etiquetas    /   Política\n"
          ]
        }
      ]
    },
    {
      "cell_type": "code",
      "source": [
        "bow_noticia = corpus[indice_noticia]\n",
        "distribucion_noticia = lda[bow_noticia]"
      ],
      "metadata": {
        "id": "iNlu0jE1HMIs"
      },
      "execution_count": 37,
      "outputs": []
    },
    {
      "cell_type": "code",
      "source": [
        "# Después, sacamos los índices y la contribución (proporción) de los tópicos más significativos para nuestra noticia \n",
        "# y los mostramos en un gráfico de barras para un mejor entendimiento.\n",
        "\n",
        "# Indices de los topicos mas significativos\n",
        "dist_indices = [topico[0] for topico in lda[bow_noticia]]\n",
        "\n",
        "# Contribución de los topicos mas significativos\n",
        "dist_contrib = [topico[1] for topico in lda[bow_noticia]]"
      ],
      "metadata": {
        "id": "9nTTnheQHjq-"
      },
      "execution_count": 38,
      "outputs": []
    },
    {
      "cell_type": "code",
      "source": [
        "distribucion_topicos = pd.DataFrame({'Topico':dist_indices,\n",
        "                                     'Contribucion':dist_contrib })\n",
        "distribucion_topicos.sort_values('Contribucion', \n",
        "                                 ascending=False, inplace=True)\n",
        "ax = distribucion_topicos.plot.bar(y='Contribucion',x='Topico', \n",
        "                                   rot=0, color=\"orange\",\n",
        "                                   title = 'Tópicos mas importantes'\n",
        "                                   'de noticia ' + str(indice_noticia))"
      ],
      "metadata": {
        "colab": {
          "base_uri": "https://localhost:8080/",
          "height": 295
        },
        "id": "WYqY5jjyH4HR",
        "outputId": "7e025713-838b-4c9a-ca1f-055faac831c9"
      },
      "execution_count": 39,
      "outputs": [
        {
          "output_type": "display_data",
          "data": {
            "text/plain": [
              "<Figure size 432x288 with 1 Axes>"
            ],
            "image/png": "[encoded data removed]"
          },
          "metadata": {
            "needs_background": "light"
          }
        }
      ]
    },
    {
      "cell_type": "code",
      "source": [
        "# El tópico más predominante en la noticia es el 1, seguido de los tópicos 19 y 43. Seguidamente, imprimimos las palabras más significativas de estos.\n",
        "\n",
        "for ind, topico in distribucion_topicos.iterrows():\n",
        "    print(\"*** Tópico: \" + str(int(topico.Topico)) + \" ***\")\n",
        "    palabras = [palabra[0] for palabra in lda.show_topic(\n",
        "        topicid=int(topico.Topico))]\n",
        "    palabras = ', '.join(palabras)\n",
        "    print(palabras, \"\\n\")"
      ],
      "metadata": {
        "colab": {
          "base_uri": "https://localhost:8080/"
        },
        "id": "S46XI1FgH-de",
        "outputId": "d2078032-0864-4b6f-a20a-c7f7d6e7d1f1"
      },
      "execution_count": 40,
      "outputs": [
        {
          "output_type": "stream",
          "name": "stdout",
          "text": [
            "*** Tópico: 1 ***\n",
            "gobiern, comun, sanitari, salud, med, sanid, situacion, autonom, pandemi, public \n",
            "\n",
            "*** Tópico: 19 ***\n",
            "hac, si, pued, cre, ser, pod, sol, habl, cos, pas \n",
            "\n",
            "*** Tópico: 43 ***\n",
            "pp, gobiern, part, polit, ciudadan, pod, sanchez, pso, cas, president \n",
            "\n",
            "*** Tópico: 33 ***\n",
            "twitt, red, vide, polic, agent, protest, mensaj, manifest, trump, com \n",
            "\n"
          ]
        }
      ]
    },
    {
      "cell_type": "markdown",
      "source": [
        "Para la segunda prueba, asignaremos los tópicos a un nuevo documento no utilizado en el entrenamiento del modelo LDA. La noticia escogida trata sobre la violencia de género en Cantabria.\n",
        "\n",
        "Antes de nada abrimos la noticia que esta en formato texto."
      ],
      "metadata": {
        "id": "0NSCr3_9KKoa"
      }
    },
    {
      "cell_type": "code",
      "source": [
        "from google.colab import files\n",
        "uploaded = files.upload()"
      ],
      "metadata": {
        "colab": {
          "resources": {
            "http://localhost:8080/nbextensions/google.colab/files.js": {
              "data": "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",
              "ok": true,
              "headers": [
                [
                  "content-type",
                  "application/javascript"
                ]
              ],
              "status": 200,
              "status_text": ""
            }
          },
          "base_uri": "https://localhost:8080/",
          "height": 74
        },
        "id": "2vKk6werKLwS",
        "outputId": "0bdabd0c-2c00-47ac-c4a0-fb71b75bd001"
      },
      "execution_count": 41,
      "outputs": [
        {
          "output_type": "display_data",
          "data": {
            "text/plain": [
              "<IPython.core.display.HTML object>"
            ],
            "text/html": [
              "\n",
              "     <input type=\"file\" id=\"files-8207f0d9-5663-4119-a056-15a7072bcc4b\" name=\"files[]\" multiple disabled\n",
              "        style=\"border:none\" />\n",
              "     <output id=\"result-8207f0d9-5663-4119-a056-15a7072bcc4b\">\n",
              "      Upload widget is only available when the cell has been executed in the\n",
              "      current browser session. Please rerun this cell to enable.\n",
              "      </output>\n",
              "      <script src=\"/nbextensions/google.colab/files.js\"></script> "
            ]
          },
          "metadata": {}
        },
        {
          "output_type": "stream",
          "name": "stdout",
          "text": [
            "Saving noticia1.txt to noticia1.txt\n"
          ]
        }
      ]
    },
    {
      "cell_type": "code",
      "source": [
        "texto_articulo = open(\"noticia1.txt\")\n",
        "articulo_nuevo = texto_articulo.read().replace(\"\\n\", \" \")\n",
        "texto_articulo.close()"
      ],
      "metadata": {
        "id": "UDRbNZS0KRhX"
      },
      "execution_count": 42,
      "outputs": []
    },
    {
      "cell_type": "code",
      "source": [
        "articulo_nuevo = limpiar_texto(articulo_nuevo)\n",
        "articulo_nuevo = tokenizer.tokenize(articulo_nuevo)\n",
        "articulo_nuevo = filtrar_stopword_digitos(articulo_nuevo)\n",
        "articulo_nuevo = stem_palabras(articulo_nuevo)\n",
        "articulo_nuevo"
      ],
      "metadata": {
        "colab": {
          "base_uri": "https://localhost:8080/"
        },
        "id": "98enj3gnKbA3",
        "outputId": "1c2355dc-68e9-49f4-c290-8870c26cd791"
      },
      "execution_count": 43,
      "outputs": [
        {
          "output_type": "execute_result",
          "data": {
            "text/plain": [
              "['cantabri',\n",
              " 'viv',\n",
              " 'año',\n",
              " 'negr',\n",
              " 'refier',\n",
              " 'violenci',\n",
              " 'gener',\n",
              " 'doc',\n",
              " 'mes',\n",
              " 'comun',\n",
              " 'acumul',\n",
              " 'total',\n",
              " 'denunci',\n",
              " 'mujer',\n",
              " 'victim',\n",
              " 'violenci',\n",
              " 'machist',\n",
              " 'año',\n",
              " 'sald',\n",
              " 'dos',\n",
              " 'asesin',\n",
              " 'man',\n",
              " 'parej',\n",
              " 'unas',\n",
              " 'cifr',\n",
              " 'sobrecog',\n",
              " 'marc',\n",
              " 'hoj',\n",
              " 'rut',\n",
              " 'segun',\n",
              " 'reconoc',\n",
              " 'viern',\n",
              " 'portavoz',\n",
              " 'gobiern',\n",
              " 'autonom',\n",
              " 'pabl',\n",
              " 'zuloag',\n",
              " 'present',\n",
              " 'memori',\n",
              " 'anual',\n",
              " 'mal',\n",
              " 'dat',\n",
              " 'par',\n",
              " 'ahi',\n",
              " 'inform',\n",
              " 'recog',\n",
              " 'numer',\n",
              " 'denunci',\n",
              " 'present',\n",
              " 'cantabri',\n",
              " 'año',\n",
              " 'pas',\n",
              " 'supon',\n",
              " 'cifr',\n",
              " 'alta',\n",
              " 'registr',\n",
              " 'ahor',\n",
              " 'dict',\n",
              " 'total',\n",
              " 'orden',\n",
              " 'alej',\n",
              " 'acus',\n",
              " 'conden',\n",
              " 'firm',\n",
              " 'tribunal',\n",
              " 'registr',\n",
              " 'avergüenz',\n",
              " 'socied',\n",
              " 'expres',\n",
              " 'vicepresident',\n",
              " 'cantabri',\n",
              " 'present',\n",
              " 'segun',\n",
              " 'memori',\n",
              " 'centr',\n",
              " 'inform',\n",
              " 'atencion',\n",
              " 'integral',\n",
              " 'gobiern',\n",
              " 'cantabri',\n",
              " 'asesor',\n",
              " 'mujer',\n",
              " 'acud',\n",
              " 'primer',\n",
              " 'vez',\n",
              " 'are',\n",
              " 'mal',\n",
              " 'trat',\n",
              " 'mujer',\n",
              " 'asist',\n",
              " 'menor',\n",
              " 'total',\n",
              " 'person',\n",
              " 'ingres',\n",
              " 'centr',\n",
              " 'emergent',\n",
              " 'cual',\n",
              " 'mujer',\n",
              " 'person',\n",
              " 'dependient',\n",
              " 'ademas',\n",
              " 'centr',\n",
              " 'acog',\n",
              " 'permanec',\n",
              " 'victim',\n",
              " 'mujer',\n",
              " 'person',\n",
              " 'dependient',\n",
              " 'mujer',\n",
              " 'pis',\n",
              " 'tutel',\n",
              " 'acog',\n",
              " 'mujer',\n",
              " 'menor',\n",
              " 'victim',\n",
              " 'violenci',\n",
              " 'gener',\n",
              " 'año',\n",
              " 'maruchi',\n",
              " 'rebec',\n",
              " 'asesin',\n",
              " 'cantabri',\n",
              " 'año',\n",
              " 'cantabr',\n",
              " 'present',\n",
              " 'denunci',\n",
              " 'violenci',\n",
              " 'gener',\n",
              " 'dict',\n",
              " 'orden',\n",
              " 'alej',\n",
              " 'juzg',\n",
              " 'violenci',\n",
              " 'muj',\n",
              " 'conden',\n",
              " 'hombr',\n",
              " 'acus',\n",
              " 'violenci',\n",
              " 'gener',\n",
              " 'resum',\n",
              " 'zuloag',\n",
              " 'cifr',\n",
              " 'sobrecog',\n",
              " 'marc',\n",
              " 'hoj',\n",
              " 'rut',\n",
              " 'insist',\n",
              " 'vicepresident',\n",
              " 'defend',\n",
              " 'administr',\n",
              " 'institu',\n",
              " 'respons',\n",
              " 'afront',\n",
              " 'ret',\n",
              " 'luch',\n",
              " 'violenci',\n",
              " 'gener',\n",
              " 'camin',\n",
              " 'señal',\n",
              " 'avanc',\n",
              " 'import',\n",
              " 'ambit',\n",
              " 'normat',\n",
              " 'aprob',\n",
              " 'ley',\n",
              " 'iguald',\n",
              " 'colabor',\n",
              " 'institu',\n",
              " 'zuloag',\n",
              " 'record',\n",
              " 'gobiern',\n",
              " 'increment',\n",
              " 'recurs',\n",
              " 'asistencial',\n",
              " 'especial',\n",
              " 'entrad',\n",
              " 'funcion',\n",
              " 'part',\n",
              " 'mes',\n",
              " 'juli',\n",
              " 'dos',\n",
              " 'nuev',\n",
              " 'centr',\n",
              " 'atencion',\n",
              " 'integral',\n",
              " 'intensific',\n",
              " 'actuacion',\n",
              " 'formacion',\n",
              " 'sensibiliz',\n",
              " 'med',\n",
              " 'prevencion',\n",
              " 'alert',\n",
              " 'form',\n",
              " 'violenci',\n",
              " 'muj',\n",
              " 'conviv',\n",
              " 'maner',\n",
              " 'ordinari',\n",
              " 'referent',\n",
              " 'prostitu',\n",
              " 'llam',\n",
              " 'despert',\n",
              " 'club',\n",
              " 'pis',\n",
              " 'cantabri',\n",
              " 'esclavitud',\n",
              " 'violenci',\n",
              " 'mujer',\n",
              " 'ademas',\n",
              " 'poc',\n",
              " 'medi',\n",
              " 'defend',\n",
              " 'destac',\n",
              " 'compromis',\n",
              " 'gobiern',\n",
              " 'españ',\n",
              " 'futur',\n",
              " 'ley',\n",
              " 'integral',\n",
              " 'trat',\n",
              " 'confirm',\n",
              " 'ejecut',\n",
              " 'cantabr',\n",
              " 'va',\n",
              " 'segu',\n",
              " 'impuls',\n",
              " 'elabor',\n",
              " 'norm',\n",
              " 'estatal',\n",
              " 'ocho',\n",
              " 'años',\n",
              " 'denunci',\n",
              " 'part',\n",
              " 'director',\n",
              " 'general',\n",
              " 'iguald',\n",
              " 'muj',\n",
              " 'consuel',\n",
              " 'gutierrez',\n",
              " 'aunqu',\n",
              " 'consider',\n",
              " 'posit',\n",
              " 'increment',\n",
              " 'denunci',\n",
              " 'dad',\n",
              " 'supon',\n",
              " 'mayor',\n",
              " 'concienci',\n",
              " 'llam',\n",
              " 'atencion',\n",
              " 'tiemp',\n",
              " 'tard',\n",
              " 'mujer',\n",
              " 'denunci',\n",
              " 'cantabri',\n",
              " 'ocho',\n",
              " 'ocho',\n",
              " 'años',\n",
              " 'señal',\n",
              " 'mujer',\n",
              " 'victim',\n",
              " 'mayor',\n",
              " 'años',\n",
              " 'present',\n",
              " 'period',\n",
              " 'maltrat',\n",
              " 'superior',\n",
              " 'años',\n",
              " 'cas',\n",
              " 'period',\n",
              " 'situ',\n",
              " 'años',\n",
              " 'caus',\n",
              " 'combin',\n",
              " 'llev',\n",
              " 'mujer',\n",
              " 'denunci',\n",
              " 'situacion',\n",
              " 'violenci',\n",
              " 'gener',\n",
              " 'consuel',\n",
              " 'gutierrez',\n",
              " 'cit',\n",
              " 'mied',\n",
              " 'cas',\n",
              " 'vergüenz',\n",
              " 'sensacion',\n",
              " 'pod',\n",
              " 'sal',\n",
              " 'sol',\n",
              " 'situacion',\n",
              " 'maltrat',\n",
              " 'creenci',\n",
              " 'pod',\n",
              " 'cambi',\n",
              " 'revert',\n",
              " 'situacion',\n",
              " 'matern',\n",
              " 'existent',\n",
              " 'menor',\n",
              " 'carg']"
            ]
          },
          "metadata": {},
          "execution_count": 43
        }
      ]
    },
    {
      "cell_type": "code",
      "source": [
        "bow_articulo_nuevo = diccionario.doc2bow(articulo_nuevo)"
      ],
      "metadata": {
        "id": "7AFgYQsYKfvJ"
      },
      "execution_count": 47,
      "outputs": []
    },
    {
      "cell_type": "code",
      "source": [
        "# Una vez tenemos la representación BOW, solo nos queda mostrar los resultados\n",
        "# Indices de los topicos mas significativos\n",
        "dist_indices = [topico[0] for topico in lda[bow_articulo_nuevo]]\n",
        "# Contribucion de los topicos mas significativos\n",
        "dist_contrib = [topico[1] for topico in lda[bow_articulo_nuevo]]"
      ],
      "metadata": {
        "id": "SbEv7AP3Kqdw"
      },
      "execution_count": 48,
      "outputs": []
    },
    {
      "cell_type": "code",
      "source": [
        "distribucion_topicos = pd.DataFrame({'Topico':dist_indices,\n",
        "                                     'Contribucion':dist_contrib })\n",
        "distribucion_topicos.sort_values('Contribucion', \n",
        "                                 ascending=False, inplace=True)\n",
        "ax = distribucion_topicos.plot.bar(y='Contribucion',x='Topico', \n",
        "                                   rot=0, color=\"green\",\n",
        "                                   title = 'Tópicos más importantes' \n",
        "                                   'para documento nuevo')"
      ],
      "metadata": {
        "colab": {
          "base_uri": "https://localhost:8080/",
          "height": 295
        },
        "id": "trept4LVKx_p",
        "outputId": "ea6a4a1a-67e7-428a-b3ba-b451ed19ff4b"
      },
      "execution_count": 49,
      "outputs": [
        {
          "output_type": "display_data",
          "data": {
            "text/plain": [
              "<Figure size 432x288 with 1 Axes>"
            ],
            "image/png": "[encoded data removed]"
          },
          "metadata": {
            "needs_background": "light"
          }
        }
      ]
    },
    {
      "cell_type": "markdown",
      "source": [
        "El tópico 7 es el más significante con diferencia en la noticia. Imprimimos de nuevo las palabras más significativas"
      ],
      "metadata": {
        "id": "UIMZDs59LoCl"
      }
    },
    {
      "cell_type": "code",
      "source": [
        "for ind, topico in distribucion_topicos.iterrows():\n",
        "    print(\"*** Tópico: \" + str(int(topico.Topico)) + \" ***\")\n",
        "    palabras = [palabra[0] for palabra in lda.show_topic(\n",
        "        topicid=int(topico.Topico))]\n",
        "    palabras = ', '.join(palabras)\n",
        "    print(palabras, \"\\n\")"
      ],
      "metadata": {
        "colab": {
          "base_uri": "https://localhost:8080/"
        },
        "id": "GjwjbADeK1a0",
        "outputId": "20a2c441-1ad3-404e-d7da-63d159c9513f"
      },
      "execution_count": 50,
      "outputs": [
        {
          "output_type": "stream",
          "name": "stdout",
          "text": [
            "*** Tópico: 7 ***\n",
            "mujer, sexual, violenci, gener, hombr, muj, person, femin, victim, iguald \n",
            "\n",
            "*** Tópico: 1 ***\n",
            "gobiern, comun, sanitari, salud, med, sanid, situacion, autonom, pandemi, public \n",
            "\n",
            "*** Tópico: 0 ***\n",
            "cas, resident, posit, person, centr, fallec, dat, ultim, cov, coronavirus \n",
            "\n",
            "*** Tópico: 49 ***\n",
            "tribunal, judicial, fiscal, justici, derech, suprem, delit, sentenci, ley, cas \n",
            "\n",
            "*** Tópico: 11 ***\n",
            "años, cas, pas, dos, hac, dia, llev, sal, trabaj, lleg \n",
            "\n",
            "*** Tópico: 35 ***\n",
            "proyect, agu, desarroll, medi, cambi, form, zon, climat, ciud, ecolog \n",
            "\n",
            "*** Tópico: 34 ***\n",
            "cantabri, santand, cantabr, miguel, mar, salmeron, torrelaveg, ceip, menendez, altamir \n",
            "\n",
            "*** Tópico: 18 ***\n",
            "contrat, eur, empres, montai, adjud, grup, concurs, public, trabaj, factur \n",
            "\n",
            "*** Tópico: 46 ***\n",
            "histori, libr, pelicul, cin, años, vid, mund, personaj, obra, autor \n",
            "\n",
            "*** Tópico: 43 ***\n",
            "pp, gobiern, part, polit, ciudadan, pod, sanchez, pso, cas, president \n",
            "\n",
            "*** Tópico: 23 ***\n",
            "canari, navarr, barcelon, foral, palm, apoy, pamplon, gobiern, islas, gran \n",
            "\n",
            "*** Tópico: 41 ***\n",
            "victim, franc, español, derech, españ, civil, memori, muert, polit, años \n",
            "\n"
          ]
        }
      ]
    },
    {
      "cell_type": "markdown",
      "source": [
        "Finalmente guardamos el modelo y el diccionario para utilizarlo más adelante. Para ello usamos la función save() en ambos casos."
      ],
      "metadata": {
        "id": "XDseousiL54c"
      }
    },
    {
      "cell_type": "code",
      "source": [
        "lda.save(\"articulos.model\")\n",
        "diccionario.save(\"articulos.dictionary\")"
      ],
      "metadata": {
        "id": "6fLv7vZ8LuEO"
      },
      "execution_count": 51,
      "outputs": []
    },
    {
      "cell_type": "markdown",
      "source": [
        "## Usando la métrica Jensen Shannon para calcular la distancia entre textos"
      ],
      "metadata": {
        "id": "GV-CiFh-N_2x"
      }
    },
    {
      "cell_type": "markdown",
      "source": [
        "Una de estas técnicas consiste en representar los textos como bolsas de palabras (BOW) y aplicar la similitud de coseno para comparar la similitud entre dos documentos. En este caso, la semejanza entre los dos textos dependerá del número de palabras que compartan.\n",
        "\n",
        "Hay varios problemas evidentes con este tipo de técnicas. Por ejemplo, una palabra puede tener varios significados completamente diferentes y, al carecer de contexto estos métodos, no pueden saber a que significado se refiere. Además, es posible que dos frases que no compartan ninguna palabra tengan un significado muy similar, como, por ejemplo: “Fui en coche a su casa y compramos algo para comer” y “El otro día conduje hacia su piso y pedimos unas hamburguesas». Mirando solamente las palabras de las frases anteriores, concluiríamos que esas frases no tienen nada que ver. Sin embargo, las dos frases tienen un alto grado de similitud y el modelo que utilizamos debería ser capaz de detectarlo.\n",
        "\n",
        "Por ello, es importante que los modelos tengan también en cuenta la similitud semántica, es decir, que puedan entender el significado real de las palabras o de la frase en cada contexto. Existen varios métodos para extraer esta similitud semántica de los textos, como los ampliamente utilizados modelos de word embeddings que permiten representar cada palabra como un vector de números reales y capturar de esta forma su información semántica."
      ],
      "metadata": {
        "id": "NyUSEP3tOEzK"
      }
    },
    {
      "cell_type": "markdown",
      "source": [
        "El procedimiento a seguir es sencillo. Primero obtenemos la distribución de tópicos del texto nuevo del cual queremos obtener los textos más similares. Después, solo nos queda calcular la distancia entre ese texto nuevo y el resto comparando sus distribuciones de tópicos.\n",
        "\n",
        "Para calcular la distancia entre dos distribuciones utilizaremos la métrica de distancia de Jensen-Shannon, una medida de distancia estadística entre distribuciones de probabilidad. Esta métrica nos devolverá un valor comprendido entre 0 y 1, donde cuanto menor sea este valor significa una mayor similitud entre las dos distribuciones."
      ],
      "metadata": {
        "id": "oYI3wUfTO0lz"
      }
    },
    {
      "cell_type": "code",
      "source": [
        "from gensim.matutils import jensen_shannon"
      ],
      "metadata": {
        "id": "dOK45btaL-7Y"
      },
      "execution_count": 52,
      "outputs": []
    },
    {
      "cell_type": "code",
      "source": [
        "# Después, le aplicamos el modelo LDA a una nueva noticia para obtener su distribución de tópicos con las proporciones de pertenencia de cada tópico en el documento.\n",
        "# Para la obtención de los tópicos debemos realizar el preprocesamiento al texto de la noticia y obtener su representación BOW. \n",
        "\n",
        "texto_articulo = open(\"noticia1.txt\")\n",
        "articulo_nuevo = texto_articulo.read().replace(\"\\\\n\", \" \")\n",
        "texto_articulo.close()"
      ],
      "metadata": {
        "id": "z6Hc4XeHPKcK"
      },
      "execution_count": 53,
      "outputs": []
    },
    {
      "cell_type": "code",
      "source": [
        "articulo_nuevo = limpiar_texto(articulo_nuevo)\n",
        "articulo_nuevo = tokenizer.tokenize(articulo_nuevo)\n",
        "articulo_nuevo = filtrar_stopword_digitos(articulo_nuevo)\n",
        "articulo_nuevo = stem_palabras(articulo_nuevo)"
      ],
      "metadata": {
        "id": "oT-3k1XrQv2w"
      },
      "execution_count": 54,
      "outputs": []
    },
    {
      "cell_type": "code",
      "source": [
        "bow_articulo_nuevo = diccionario.doc2bow(articulo_nuevo)"
      ],
      "metadata": {
        "id": "GackW15tQ0iD"
      },
      "execution_count": 55,
      "outputs": []
    },
    {
      "cell_type": "markdown",
      "source": [
        "Con el método get_document_topics de Gensim obtenemos la distribución de tópicos y ajustando el parámetro minimum_probability a 0 nos aseguraremos de que ningún tópico sea descartado."
      ],
      "metadata": {
        "id": "2XaMieuoQ75W"
      }
    },
    {
      "cell_type": "code",
      "source": [
        "distribucion_noticia = lda.get_document_topics(bow_articulo_nuevo, \n",
        "                                               minimum_probability=0)"
      ],
      "metadata": {
        "id": "u5qSdehpQ3j_"
      },
      "execution_count": 56,
      "outputs": []
    },
    {
      "cell_type": "markdown",
      "source": [
        "Esa será la distribución que necesitamos para comparar las noticias. Seguidamente creamos un método que se encarga de calcular la distancia entre dos distribuciones. De nuevo gensim nos facilitará el trabajo al contar con la función jensen_shannon que hará este cálculo por nosotros."
      ],
      "metadata": {
        "id": "FMABuKW1RHiM"
      }
    },
    {
      "cell_type": "code",
      "source": [
        "def calcular_jensen_shannon_sim_doc_doc(doc_dist1, doc_dist2):\n",
        "    \"\"\"Calcula la distancia Jensen Shannon entre dos documentos.\n",
        "    \"\"\"\n",
        "    return jensen_shannon(doc_dist1, doc_dist2)"
      ],
      "metadata": {
        "id": "Jh3kvyJGRGmJ"
      },
      "execution_count": 57,
      "outputs": []
    },
    {
      "cell_type": "markdown",
      "source": [
        "También implementamos un método que se encarga de calcular las distancias entre las distribuciones de tópicos de nuestra noticia con las del resto y mostrar el titular de aquellas más similares, es decir, las que tengan la distancia más baja, junto con el valor de esta."
      ],
      "metadata": {
        "id": "YFW5-uV0RdEE"
      }
    },
    {
      "cell_type": "code",
      "source": [
        "def mostrar_n_mas_similares(distribucion_noticia, n):\n",
        "    \"\"\"Muestra las n noticias mas similares a partir \n",
        "       de una distribucion de tópicos.\n",
        "    \"\"\"\n",
        "    distancias = [calcular_jensen_shannon_sim_doc_doc(\n",
        "        distribucion_noticia, lda[noticia]) for noticia in corpus]\n",
        "    mas_similares = np.argsort(distancias)\n",
        "    for i in range(0,n):\n",
        "        titular = df.iloc[int(mas_similares[i])].Titular\n",
        "        print(f'{i + 1}: {titular} ({distancias[mas_similares[i]]})')"
      ],
      "metadata": {
        "id": "4z30NC1PRZzH"
      },
      "execution_count": 58,
      "outputs": []
    },
    {
      "cell_type": "markdown",
      "source": [
        "Ahora simplemente usamos el método implementado pasándole como entrada la distribución de nuestra noticia y el número de noticias más similares que queremos mostrar."
      ],
      "metadata": {
        "id": "WrCMkqPdRqp0"
      }
    },
    {
      "cell_type": "code",
      "source": [
        "mostrar_n_mas_similares(distribucion_noticia, 10)"
      ],
      "metadata": {
        "colab": {
          "base_uri": "https://localhost:8080/"
        },
        "id": "8KGPMh24Ri7p",
        "outputId": "e07257cf-e462-487d-d08f-5b3c6827dbba"
      },
      "execution_count": 59,
      "outputs": [
        {
          "output_type": "stream",
          "name": "stdout",
          "text": [
            "1: El año arranca con el reto de reconocer la violencia machista fuera de la pareja tras los 47 asesinatos contabilizados en 2018 (0.1377231627702713)\n",
            "2: La violencia machista deja mil mujeres asesinadas por hombres en los últimos dieciséis años (0.14652910828590393)\n",
            "3: La atención sanitaria a las personas trans en Catalunya dejará de estar basada en un diagnóstico psiquiátrico (0.17757654190063477)\n",
            "4: Obligan a una niña argentina de 11 años violada a someterse a una cesárea en lugar de un aborto (0.17987649142742157)\n",
            "5: El Parlamento de Navarra solicita por unanimidad medios para esclarecer los casos de abusos en la Iglesia (0.1818767637014389)\n",
            "6: Aumentan significativamente las denuncias de abuso sexual a menores en Panamá (0.1858239769935608)\n",
            "7: El Gobierno central homenajea a una víctima de maltrato que lleva más de un año esperando un indulto (0.18650855123996735)\n",
            "8: La Fiscalía no probó ninguna denuncia falsa por violencia de género el año pasado (0.18988889455795288)\n",
            "9: España sigue concibiendo la transexualidad como una enfermedad mental (0.1899184286594391)\n",
            "10: El 57,3% de las mujeres mayores de 16 años que viven en España ha sufrido algún tipo de violencia machista en su vida (0.1943274885416031)\n"
          ]
        }
      ]
    },
    {
      "cell_type": "code",
      "source": [
        ""
      ],
      "metadata": {
        "id": "hLZheKwDRu1N"
      },
      "execution_count": null,
      "outputs": []
    }
  ]
}